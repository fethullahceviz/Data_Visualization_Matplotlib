{
 "cells": [
  {
   "cell_type": "markdown",
   "id": "d156797c",
   "metadata": {
    "papermill": {
     "duration": 0.093752,
     "end_time": "2022-07-27T20:00:32.703375",
     "exception": false,
     "start_time": "2022-07-27T20:00:32.609623",
     "status": "completed"
    },
    "tags": []
   },
   "source": [
    "# Plotly tutorial - 120 years of Olympic games"
   ]
  },
  {
   "cell_type": "code",
   "execution_count": 1,
   "id": "26ab924a",
   "metadata": {
    "_uuid": "652bb234884ca9c582b0667d81b808ff56575b46",
    "execution": {
     "iopub.execute_input": "2022-07-27T20:00:32.805397Z",
     "iopub.status.busy": "2022-07-27T20:00:32.804802Z",
     "iopub.status.idle": "2022-07-27T20:00:38.056786Z",
     "shell.execute_reply": "2022-07-27T20:00:38.054864Z"
    },
    "papermill": {
     "duration": 5.311679,
     "end_time": "2022-07-27T20:00:38.060509",
     "exception": false,
     "start_time": "2022-07-27T20:00:32.748830",
     "status": "completed"
    },
    "tags": []
   },
   "outputs": [
    {
     "name": "stderr",
     "output_type": "stream",
     "text": [
      "/opt/conda/lib/python3.7/site-packages/geopandas/_compat.py:115: UserWarning: The Shapely GEOS version (3.9.1-CAPI-1.14.2) is incompatible with the GEOS version PyGEOS was compiled with (3.10.1-CAPI-1.16.0). Conversions between both will be slow.\n",
      "  shapely_geos_version, geos_capi_version_string\n"
     ]
    },
    {
     "data": {
      "text/html": [
       "        <script type=\"text/javascript\">\n",
       "        window.PlotlyConfig = {MathJaxConfig: 'local'};\n",
       "        if (window.MathJax && window.MathJax.Hub && window.MathJax.Hub.Config) {window.MathJax.Hub.Config({SVG: {font: \"STIX-Web\"}});}\n",
       "        if (typeof require !== 'undefined') {\n",
       "        require.undef(\"plotly\");\n",
       "        requirejs.config({\n",
       "            paths: {\n",
       "                'plotly': ['https://cdn.plot.ly/plotly-2.12.1.min']\n",
       "            }\n",
       "        });\n",
       "        require(['plotly'], function(Plotly) {\n",
       "            window._Plotly = Plotly;\n",
       "        });\n",
       "        }\n",
       "        </script>\n",
       "        "
      ]
     },
     "metadata": {},
     "output_type": "display_data"
    },
    {
     "name": "stdout",
     "output_type": "stream",
     "text": [
      "/kaggle/input/120-years-of-olympic-history-athletes-and-results/noc_regions.csv\n",
      "/kaggle/input/120-years-of-olympic-history-athletes-and-results/athlete_events.csv\n"
     ]
    }
   ],
   "source": [
    "import pandas as pd \n",
    "import numpy as np\n",
    "import matplotlib\n",
    "import matplotlib.pyplot as plt\n",
    "import seaborn as sns\n",
    "%matplotlib inline \n",
    "#from bubbly.bubbly import bubbleplot \n",
    "#from __future__ import division\n",
    "import plotly.graph_objs as go\n",
    "import plotly.figure_factory as ff\n",
    "from plotly import tools\n",
    "from plotly.offline import download_plotlyjs, init_notebook_mode, plot, iplot\n",
    "init_notebook_mode(connected=True)\n",
    "\n",
    "import os\n",
    "for dirname, _, filenames in os.walk('/kaggle/input'):\n",
    "    for filename in filenames:\n",
    "        print(os.path.join(dirname, filename))"
   ]
  },
  {
   "cell_type": "markdown",
   "id": "5c4f14ad",
   "metadata": {
    "papermill": {
     "duration": 0.015904,
     "end_time": "2022-07-27T20:00:38.090258",
     "exception": false,
     "start_time": "2022-07-27T20:00:38.074354",
     "status": "completed"
    },
    "tags": []
   },
   "source": [
    "# 1. Read in kaggle \"120 years of Olympic games\" data and analyse."
   ]
  },
  {
   "cell_type": "code",
   "execution_count": 2,
   "id": "ee25dbb5",
   "metadata": {
    "execution": {
     "iopub.execute_input": "2022-07-27T20:00:38.118738Z",
     "iopub.status.busy": "2022-07-27T20:00:38.118328Z",
     "iopub.status.idle": "2022-07-27T20:00:39.450772Z",
     "shell.execute_reply": "2022-07-27T20:00:39.449373Z"
    },
    "papermill": {
     "duration": 1.349874,
     "end_time": "2022-07-27T20:00:39.453545",
     "exception": false,
     "start_time": "2022-07-27T20:00:38.103671",
     "status": "completed"
    },
    "tags": []
   },
   "outputs": [
    {
     "data": {
      "text/html": [
       "<div>\n",
       "<style scoped>\n",
       "    .dataframe tbody tr th:only-of-type {\n",
       "        vertical-align: middle;\n",
       "    }\n",
       "\n",
       "    .dataframe tbody tr th {\n",
       "        vertical-align: top;\n",
       "    }\n",
       "\n",
       "    .dataframe thead th {\n",
       "        text-align: right;\n",
       "    }\n",
       "</style>\n",
       "<table border=\"1\" class=\"dataframe\">\n",
       "  <thead>\n",
       "    <tr style=\"text-align: right;\">\n",
       "      <th></th>\n",
       "      <th>ID</th>\n",
       "      <th>Name</th>\n",
       "      <th>Sex</th>\n",
       "      <th>Age</th>\n",
       "      <th>Height</th>\n",
       "      <th>Weight</th>\n",
       "      <th>Team</th>\n",
       "      <th>NOC</th>\n",
       "      <th>Games</th>\n",
       "      <th>Year</th>\n",
       "      <th>Season</th>\n",
       "      <th>City</th>\n",
       "      <th>Sport</th>\n",
       "      <th>Event</th>\n",
       "      <th>Medal</th>\n",
       "    </tr>\n",
       "  </thead>\n",
       "  <tbody>\n",
       "    <tr>\n",
       "      <th>0</th>\n",
       "      <td>1</td>\n",
       "      <td>A Dijiang</td>\n",
       "      <td>M</td>\n",
       "      <td>24.0</td>\n",
       "      <td>180.0</td>\n",
       "      <td>80.0</td>\n",
       "      <td>China</td>\n",
       "      <td>CHN</td>\n",
       "      <td>1992 Summer</td>\n",
       "      <td>1992</td>\n",
       "      <td>Summer</td>\n",
       "      <td>Barcelona</td>\n",
       "      <td>Basketball</td>\n",
       "      <td>Basketball Men's Basketball</td>\n",
       "      <td>NaN</td>\n",
       "    </tr>\n",
       "    <tr>\n",
       "      <th>1</th>\n",
       "      <td>2</td>\n",
       "      <td>A Lamusi</td>\n",
       "      <td>M</td>\n",
       "      <td>23.0</td>\n",
       "      <td>170.0</td>\n",
       "      <td>60.0</td>\n",
       "      <td>China</td>\n",
       "      <td>CHN</td>\n",
       "      <td>2012 Summer</td>\n",
       "      <td>2012</td>\n",
       "      <td>Summer</td>\n",
       "      <td>London</td>\n",
       "      <td>Judo</td>\n",
       "      <td>Judo Men's Extra-Lightweight</td>\n",
       "      <td>NaN</td>\n",
       "    </tr>\n",
       "    <tr>\n",
       "      <th>2</th>\n",
       "      <td>3</td>\n",
       "      <td>Gunnar Nielsen Aaby</td>\n",
       "      <td>M</td>\n",
       "      <td>24.0</td>\n",
       "      <td>NaN</td>\n",
       "      <td>NaN</td>\n",
       "      <td>Denmark</td>\n",
       "      <td>DEN</td>\n",
       "      <td>1920 Summer</td>\n",
       "      <td>1920</td>\n",
       "      <td>Summer</td>\n",
       "      <td>Antwerpen</td>\n",
       "      <td>Football</td>\n",
       "      <td>Football Men's Football</td>\n",
       "      <td>NaN</td>\n",
       "    </tr>\n",
       "    <tr>\n",
       "      <th>3</th>\n",
       "      <td>4</td>\n",
       "      <td>Edgar Lindenau Aabye</td>\n",
       "      <td>M</td>\n",
       "      <td>34.0</td>\n",
       "      <td>NaN</td>\n",
       "      <td>NaN</td>\n",
       "      <td>Denmark/Sweden</td>\n",
       "      <td>DEN</td>\n",
       "      <td>1900 Summer</td>\n",
       "      <td>1900</td>\n",
       "      <td>Summer</td>\n",
       "      <td>Paris</td>\n",
       "      <td>Tug-Of-War</td>\n",
       "      <td>Tug-Of-War Men's Tug-Of-War</td>\n",
       "      <td>Gold</td>\n",
       "    </tr>\n",
       "    <tr>\n",
       "      <th>4</th>\n",
       "      <td>5</td>\n",
       "      <td>Christine Jacoba Aaftink</td>\n",
       "      <td>F</td>\n",
       "      <td>21.0</td>\n",
       "      <td>185.0</td>\n",
       "      <td>82.0</td>\n",
       "      <td>Netherlands</td>\n",
       "      <td>NED</td>\n",
       "      <td>1988 Winter</td>\n",
       "      <td>1988</td>\n",
       "      <td>Winter</td>\n",
       "      <td>Calgary</td>\n",
       "      <td>Speed Skating</td>\n",
       "      <td>Speed Skating Women's 500 metres</td>\n",
       "      <td>NaN</td>\n",
       "    </tr>\n",
       "  </tbody>\n",
       "</table>\n",
       "</div>"
      ],
      "text/plain": [
       "   ID                      Name Sex   Age  Height  Weight            Team  \\\n",
       "0   1                 A Dijiang   M  24.0   180.0    80.0           China   \n",
       "1   2                  A Lamusi   M  23.0   170.0    60.0           China   \n",
       "2   3       Gunnar Nielsen Aaby   M  24.0     NaN     NaN         Denmark   \n",
       "3   4      Edgar Lindenau Aabye   M  34.0     NaN     NaN  Denmark/Sweden   \n",
       "4   5  Christine Jacoba Aaftink   F  21.0   185.0    82.0     Netherlands   \n",
       "\n",
       "   NOC        Games  Year  Season       City          Sport  \\\n",
       "0  CHN  1992 Summer  1992  Summer  Barcelona     Basketball   \n",
       "1  CHN  2012 Summer  2012  Summer     London           Judo   \n",
       "2  DEN  1920 Summer  1920  Summer  Antwerpen       Football   \n",
       "3  DEN  1900 Summer  1900  Summer      Paris     Tug-Of-War   \n",
       "4  NED  1988 Winter  1988  Winter    Calgary  Speed Skating   \n",
       "\n",
       "                              Event Medal  \n",
       "0       Basketball Men's Basketball   NaN  \n",
       "1      Judo Men's Extra-Lightweight   NaN  \n",
       "2           Football Men's Football   NaN  \n",
       "3       Tug-Of-War Men's Tug-Of-War  Gold  \n",
       "4  Speed Skating Women's 500 metres   NaN  "
      ]
     },
     "execution_count": 2,
     "metadata": {},
     "output_type": "execute_result"
    }
   ],
   "source": [
    "athlete_events_df = pd.read_csv('../input/120-years-of-olympic-history-athletes-and-results/athlete_events.csv')\n",
    "athlete_events_df.head(5)"
   ]
  },
  {
   "cell_type": "code",
   "execution_count": 3,
   "id": "5bd78d03",
   "metadata": {
    "_uuid": "a4299a1b59cc8a71090a61c880e83d45d59c727d",
    "execution": {
     "iopub.execute_input": "2022-07-27T20:00:39.483833Z",
     "iopub.status.busy": "2022-07-27T20:00:39.482046Z",
     "iopub.status.idle": "2022-07-27T20:00:39.501532Z",
     "shell.execute_reply": "2022-07-27T20:00:39.500223Z"
    },
    "papermill": {
     "duration": 0.037094,
     "end_time": "2022-07-27T20:00:39.504146",
     "exception": false,
     "start_time": "2022-07-27T20:00:39.467052",
     "status": "completed"
    },
    "tags": []
   },
   "outputs": [
    {
     "data": {
      "text/html": [
       "<div>\n",
       "<style scoped>\n",
       "    .dataframe tbody tr th:only-of-type {\n",
       "        vertical-align: middle;\n",
       "    }\n",
       "\n",
       "    .dataframe tbody tr th {\n",
       "        vertical-align: top;\n",
       "    }\n",
       "\n",
       "    .dataframe thead th {\n",
       "        text-align: right;\n",
       "    }\n",
       "</style>\n",
       "<table border=\"1\" class=\"dataframe\">\n",
       "  <thead>\n",
       "    <tr style=\"text-align: right;\">\n",
       "      <th></th>\n",
       "      <th>NOC</th>\n",
       "      <th>region</th>\n",
       "      <th>notes</th>\n",
       "    </tr>\n",
       "  </thead>\n",
       "  <tbody>\n",
       "    <tr>\n",
       "      <th>0</th>\n",
       "      <td>AFG</td>\n",
       "      <td>Afghanistan</td>\n",
       "      <td>NaN</td>\n",
       "    </tr>\n",
       "    <tr>\n",
       "      <th>1</th>\n",
       "      <td>AHO</td>\n",
       "      <td>Curacao</td>\n",
       "      <td>Netherlands Antilles</td>\n",
       "    </tr>\n",
       "    <tr>\n",
       "      <th>2</th>\n",
       "      <td>ALB</td>\n",
       "      <td>Albania</td>\n",
       "      <td>NaN</td>\n",
       "    </tr>\n",
       "    <tr>\n",
       "      <th>3</th>\n",
       "      <td>ALG</td>\n",
       "      <td>Algeria</td>\n",
       "      <td>NaN</td>\n",
       "    </tr>\n",
       "    <tr>\n",
       "      <th>4</th>\n",
       "      <td>AND</td>\n",
       "      <td>Andorra</td>\n",
       "      <td>NaN</td>\n",
       "    </tr>\n",
       "  </tbody>\n",
       "</table>\n",
       "</div>"
      ],
      "text/plain": [
       "   NOC       region                 notes\n",
       "0  AFG  Afghanistan                   NaN\n",
       "1  AHO      Curacao  Netherlands Antilles\n",
       "2  ALB      Albania                   NaN\n",
       "3  ALG      Algeria                   NaN\n",
       "4  AND      Andorra                   NaN"
      ]
     },
     "execution_count": 3,
     "metadata": {},
     "output_type": "execute_result"
    }
   ],
   "source": [
    "noc_regions_df = pd.read_csv('../input/120-years-of-olympic-history-athletes-and-results/noc_regions.csv')\n",
    "noc_regions_df.head(5)"
   ]
  },
  {
   "cell_type": "code",
   "execution_count": 4,
   "id": "7e4f1a28",
   "metadata": {
    "execution": {
     "iopub.execute_input": "2022-07-27T20:00:39.533249Z",
     "iopub.status.busy": "2022-07-27T20:00:39.532871Z",
     "iopub.status.idle": "2022-07-27T20:00:39.541854Z",
     "shell.execute_reply": "2022-07-27T20:00:39.540600Z"
    },
    "papermill": {
     "duration": 0.026313,
     "end_time": "2022-07-27T20:00:39.544289",
     "exception": false,
     "start_time": "2022-07-27T20:00:39.517976",
     "status": "completed"
    },
    "tags": []
   },
   "outputs": [
    {
     "data": {
      "text/plain": [
       "(271116, 15)"
      ]
     },
     "execution_count": 4,
     "metadata": {},
     "output_type": "execute_result"
    }
   ],
   "source": [
    "athlete_events_df.shape"
   ]
  },
  {
   "cell_type": "code",
   "execution_count": 5,
   "id": "669302ac",
   "metadata": {
    "execution": {
     "iopub.execute_input": "2022-07-27T20:00:39.575639Z",
     "iopub.status.busy": "2022-07-27T20:00:39.573455Z",
     "iopub.status.idle": "2022-07-27T20:00:39.582632Z",
     "shell.execute_reply": "2022-07-27T20:00:39.581163Z"
    },
    "papermill": {
     "duration": 0.027567,
     "end_time": "2022-07-27T20:00:39.585644",
     "exception": false,
     "start_time": "2022-07-27T20:00:39.558077",
     "status": "completed"
    },
    "tags": []
   },
   "outputs": [
    {
     "data": {
      "text/plain": [
       "(230, 3)"
      ]
     },
     "execution_count": 5,
     "metadata": {},
     "output_type": "execute_result"
    }
   ],
   "source": [
    "noc_regions_df.shape"
   ]
  },
  {
   "cell_type": "code",
   "execution_count": 6,
   "id": "7dd6c7ab",
   "metadata": {
    "execution": {
     "iopub.execute_input": "2022-07-27T20:00:39.615504Z",
     "iopub.status.busy": "2022-07-27T20:00:39.615082Z",
     "iopub.status.idle": "2022-07-27T20:00:39.852587Z",
     "shell.execute_reply": "2022-07-27T20:00:39.851280Z"
    },
    "papermill": {
     "duration": 0.256365,
     "end_time": "2022-07-27T20:00:39.856259",
     "exception": false,
     "start_time": "2022-07-27T20:00:39.599894",
     "status": "completed"
    },
    "tags": []
   },
   "outputs": [
    {
     "data": {
      "text/plain": [
       "Medal     231333\n",
       "Weight     62875\n",
       "Height     60171\n",
       "Age         9474\n",
       "ID             0\n",
       "Name           0\n",
       "Sex            0\n",
       "Team           0\n",
       "NOC            0\n",
       "Games          0\n",
       "Year           0\n",
       "Season         0\n",
       "City           0\n",
       "Sport          0\n",
       "Event          0\n",
       "dtype: int64"
      ]
     },
     "execution_count": 6,
     "metadata": {},
     "output_type": "execute_result"
    }
   ],
   "source": [
    "athlete_events_df.isnull().sum().sort_values(ascending = False)"
   ]
  },
  {
   "cell_type": "code",
   "execution_count": 7,
   "id": "65ce770f",
   "metadata": {
    "execution": {
     "iopub.execute_input": "2022-07-27T20:00:39.886551Z",
     "iopub.status.busy": "2022-07-27T20:00:39.886123Z",
     "iopub.status.idle": "2022-07-27T20:00:39.898720Z",
     "shell.execute_reply": "2022-07-27T20:00:39.897532Z"
    },
    "papermill": {
     "duration": 0.030746,
     "end_time": "2022-07-27T20:00:39.901503",
     "exception": false,
     "start_time": "2022-07-27T20:00:39.870757",
     "status": "completed"
    },
    "tags": []
   },
   "outputs": [
    {
     "data": {
      "text/plain": [
       "notes     209\n",
       "region      3\n",
       "NOC         0\n",
       "dtype: int64"
      ]
     },
     "execution_count": 7,
     "metadata": {},
     "output_type": "execute_result"
    }
   ],
   "source": [
    "noc_regions_df.isnull().sum().sort_values(ascending = False)"
   ]
  },
  {
   "cell_type": "code",
   "execution_count": 8,
   "id": "117bd7d1",
   "metadata": {
    "_uuid": "49453813a193a4bcabea8fb712100d4707178f9c",
    "execution": {
     "iopub.execute_input": "2022-07-27T20:00:39.931345Z",
     "iopub.status.busy": "2022-07-27T20:00:39.930971Z",
     "iopub.status.idle": "2022-07-27T20:00:40.036787Z",
     "shell.execute_reply": "2022-07-27T20:00:40.035515Z"
    },
    "papermill": {
     "duration": 0.123927,
     "end_time": "2022-07-27T20:00:40.039602",
     "exception": false,
     "start_time": "2022-07-27T20:00:39.915675",
     "status": "completed"
    },
    "tags": []
   },
   "outputs": [],
   "source": [
    "tmp = athlete_events_df.groupby(['Year', 'City'])['Season'].value_counts()\n",
    "df = pd.DataFrame(data={'Athlets': tmp.values}, index=tmp.index).reset_index()"
   ]
  },
  {
   "cell_type": "code",
   "execution_count": 9,
   "id": "bc6c2441",
   "metadata": {
    "_uuid": "e73d5a6e95649531a3951cebb5bf5b24388d57fe",
    "execution": {
     "iopub.execute_input": "2022-07-27T20:00:40.071172Z",
     "iopub.status.busy": "2022-07-27T20:00:40.070405Z",
     "iopub.status.idle": "2022-07-27T20:00:40.083098Z",
     "shell.execute_reply": "2022-07-27T20:00:40.081823Z"
    },
    "papermill": {
     "duration": 0.031486,
     "end_time": "2022-07-27T20:00:40.085667",
     "exception": false,
     "start_time": "2022-07-27T20:00:40.054181",
     "status": "completed"
    },
    "tags": []
   },
   "outputs": [
    {
     "data": {
      "text/html": [
       "<div>\n",
       "<style scoped>\n",
       "    .dataframe tbody tr th:only-of-type {\n",
       "        vertical-align: middle;\n",
       "    }\n",
       "\n",
       "    .dataframe tbody tr th {\n",
       "        vertical-align: top;\n",
       "    }\n",
       "\n",
       "    .dataframe thead th {\n",
       "        text-align: right;\n",
       "    }\n",
       "</style>\n",
       "<table border=\"1\" class=\"dataframe\">\n",
       "  <thead>\n",
       "    <tr style=\"text-align: right;\">\n",
       "      <th></th>\n",
       "      <th>Year</th>\n",
       "      <th>City</th>\n",
       "      <th>Season</th>\n",
       "      <th>Athlets</th>\n",
       "    </tr>\n",
       "  </thead>\n",
       "  <tbody>\n",
       "    <tr>\n",
       "      <th>0</th>\n",
       "      <td>1896</td>\n",
       "      <td>Athina</td>\n",
       "      <td>Summer</td>\n",
       "      <td>380</td>\n",
       "    </tr>\n",
       "    <tr>\n",
       "      <th>1</th>\n",
       "      <td>1900</td>\n",
       "      <td>Paris</td>\n",
       "      <td>Summer</td>\n",
       "      <td>1936</td>\n",
       "    </tr>\n",
       "    <tr>\n",
       "      <th>2</th>\n",
       "      <td>1904</td>\n",
       "      <td>St. Louis</td>\n",
       "      <td>Summer</td>\n",
       "      <td>1301</td>\n",
       "    </tr>\n",
       "    <tr>\n",
       "      <th>3</th>\n",
       "      <td>1906</td>\n",
       "      <td>Athina</td>\n",
       "      <td>Summer</td>\n",
       "      <td>1733</td>\n",
       "    </tr>\n",
       "    <tr>\n",
       "      <th>4</th>\n",
       "      <td>1908</td>\n",
       "      <td>London</td>\n",
       "      <td>Summer</td>\n",
       "      <td>3101</td>\n",
       "    </tr>\n",
       "  </tbody>\n",
       "</table>\n",
       "</div>"
      ],
      "text/plain": [
       "   Year       City  Season  Athlets\n",
       "0  1896     Athina  Summer      380\n",
       "1  1900      Paris  Summer     1936\n",
       "2  1904  St. Louis  Summer     1301\n",
       "3  1906     Athina  Summer     1733\n",
       "4  1908     London  Summer     3101"
      ]
     },
     "execution_count": 9,
     "metadata": {},
     "output_type": "execute_result"
    }
   ],
   "source": [
    "df.head()"
   ]
  },
  {
   "cell_type": "markdown",
   "id": "3fc4ee21",
   "metadata": {
    "papermill": {
     "duration": 0.013817,
     "end_time": "2022-07-27T20:00:40.114875",
     "exception": false,
     "start_time": "2022-07-27T20:00:40.101058",
     "status": "completed"
    },
    "tags": []
   },
   "source": [
    "# 2. Plot Year & Athlets in scatter graph; use markers or markers+lines."
   ]
  },
  {
   "cell_type": "code",
   "execution_count": 10,
   "id": "da596e99",
   "metadata": {
    "_uuid": "7d1cf7fbce70210d2a57cf119a6df9884c62fee0",
    "execution": {
     "iopub.execute_input": "2022-07-27T20:00:40.145108Z",
     "iopub.status.busy": "2022-07-27T20:00:40.144722Z",
     "iopub.status.idle": "2022-07-27T20:00:40.880749Z",
     "shell.execute_reply": "2022-07-27T20:00:40.879505Z"
    },
    "papermill": {
     "duration": 0.754407,
     "end_time": "2022-07-27T20:00:40.883364",
     "exception": false,
     "start_time": "2022-07-27T20:00:40.128957",
     "status": "completed"
    },
    "tags": []
   },
   "outputs": [
    {
     "data": {
      "application/vnd.plotly.v1+json": {
       "config": {
        "linkText": "Export to plot.ly",
        "plotlyServerURL": "https://plot.ly",
        "showLink": false
       },
       "data": [
        {
         "marker": {
          "color": "rgba(152, 0, 0, .8)",
          "size": 14
         },
         "mode": "markers",
         "name": "Athlets per Olympic game",
         "type": "scatter",
         "x": [
          1896,
          1900,
          1904,
          1906,
          1908,
          1912,
          1920,
          1924,
          1924,
          1928,
          1928,
          1932,
          1932,
          1936,
          1936,
          1948,
          1948,
          1952,
          1952,
          1956,
          1956,
          1956,
          1960,
          1960,
          1964,
          1964,
          1968,
          1968,
          1972,
          1972,
          1976,
          1976,
          1980,
          1980,
          1984,
          1984,
          1988,
          1988,
          1992,
          1992,
          1994,
          1996,
          1998,
          2000,
          2002,
          2004,
          2006,
          2008,
          2010,
          2012,
          2014,
          2016
         ],
         "y": [
          380,
          1936,
          1301,
          1733,
          3101,
          4040,
          4292,
          460,
          5233,
          4992,
          582,
          352,
          2969,
          6506,
          895,
          6405,
          1075,
          8270,
          1088,
          1307,
          4829,
          298,
          8119,
          1116,
          1778,
          7702,
          1891,
          8588,
          10304,
          1655,
          1861,
          8641,
          1746,
          7191,
          9454,
          2134,
          2639,
          12037,
          3436,
          12977,
          3160,
          13780,
          3605,
          13821,
          4109,
          13443,
          4382,
          13602,
          4402,
          12920,
          4891,
          13688
         ]
        }
       ],
       "layout": {
        "hovermode": "closest",
        "template": {
         "data": {
          "bar": [
           {
            "error_x": {
             "color": "#2a3f5f"
            },
            "error_y": {
             "color": "#2a3f5f"
            },
            "marker": {
             "line": {
              "color": "#E5ECF6",
              "width": 0.5
             },
             "pattern": {
              "fillmode": "overlay",
              "size": 10,
              "solidity": 0.2
             }
            },
            "type": "bar"
           }
          ],
          "barpolar": [
           {
            "marker": {
             "line": {
              "color": "#E5ECF6",
              "width": 0.5
             },
             "pattern": {
              "fillmode": "overlay",
              "size": 10,
              "solidity": 0.2
             }
            },
            "type": "barpolar"
           }
          ],
          "carpet": [
           {
            "aaxis": {
             "endlinecolor": "#2a3f5f",
             "gridcolor": "white",
             "linecolor": "white",
             "minorgridcolor": "white",
             "startlinecolor": "#2a3f5f"
            },
            "baxis": {
             "endlinecolor": "#2a3f5f",
             "gridcolor": "white",
             "linecolor": "white",
             "minorgridcolor": "white",
             "startlinecolor": "#2a3f5f"
            },
            "type": "carpet"
           }
          ],
          "choropleth": [
           {
            "colorbar": {
             "outlinewidth": 0,
             "ticks": ""
            },
            "type": "choropleth"
           }
          ],
          "contour": [
           {
            "colorbar": {
             "outlinewidth": 0,
             "ticks": ""
            },
            "colorscale": [
             [
              0.0,
              "#0d0887"
             ],
             [
              0.1111111111111111,
              "#46039f"
             ],
             [
              0.2222222222222222,
              "#7201a8"
             ],
             [
              0.3333333333333333,
              "#9c179e"
             ],
             [
              0.4444444444444444,
              "#bd3786"
             ],
             [
              0.5555555555555556,
              "#d8576b"
             ],
             [
              0.6666666666666666,
              "#ed7953"
             ],
             [
              0.7777777777777778,
              "#fb9f3a"
             ],
             [
              0.8888888888888888,
              "#fdca26"
             ],
             [
              1.0,
              "#f0f921"
             ]
            ],
            "type": "contour"
           }
          ],
          "contourcarpet": [
           {
            "colorbar": {
             "outlinewidth": 0,
             "ticks": ""
            },
            "type": "contourcarpet"
           }
          ],
          "heatmap": [
           {
            "colorbar": {
             "outlinewidth": 0,
             "ticks": ""
            },
            "colorscale": [
             [
              0.0,
              "#0d0887"
             ],
             [
              0.1111111111111111,
              "#46039f"
             ],
             [
              0.2222222222222222,
              "#7201a8"
             ],
             [
              0.3333333333333333,
              "#9c179e"
             ],
             [
              0.4444444444444444,
              "#bd3786"
             ],
             [
              0.5555555555555556,
              "#d8576b"
             ],
             [
              0.6666666666666666,
              "#ed7953"
             ],
             [
              0.7777777777777778,
              "#fb9f3a"
             ],
             [
              0.8888888888888888,
              "#fdca26"
             ],
             [
              1.0,
              "#f0f921"
             ]
            ],
            "type": "heatmap"
           }
          ],
          "heatmapgl": [
           {
            "colorbar": {
             "outlinewidth": 0,
             "ticks": ""
            },
            "colorscale": [
             [
              0.0,
              "#0d0887"
             ],
             [
              0.1111111111111111,
              "#46039f"
             ],
             [
              0.2222222222222222,
              "#7201a8"
             ],
             [
              0.3333333333333333,
              "#9c179e"
             ],
             [
              0.4444444444444444,
              "#bd3786"
             ],
             [
              0.5555555555555556,
              "#d8576b"
             ],
             [
              0.6666666666666666,
              "#ed7953"
             ],
             [
              0.7777777777777778,
              "#fb9f3a"
             ],
             [
              0.8888888888888888,
              "#fdca26"
             ],
             [
              1.0,
              "#f0f921"
             ]
            ],
            "type": "heatmapgl"
           }
          ],
          "histogram": [
           {
            "marker": {
             "pattern": {
              "fillmode": "overlay",
              "size": 10,
              "solidity": 0.2
             }
            },
            "type": "histogram"
           }
          ],
          "histogram2d": [
           {
            "colorbar": {
             "outlinewidth": 0,
             "ticks": ""
            },
            "colorscale": [
             [
              0.0,
              "#0d0887"
             ],
             [
              0.1111111111111111,
              "#46039f"
             ],
             [
              0.2222222222222222,
              "#7201a8"
             ],
             [
              0.3333333333333333,
              "#9c179e"
             ],
             [
              0.4444444444444444,
              "#bd3786"
             ],
             [
              0.5555555555555556,
              "#d8576b"
             ],
             [
              0.6666666666666666,
              "#ed7953"
             ],
             [
              0.7777777777777778,
              "#fb9f3a"
             ],
             [
              0.8888888888888888,
              "#fdca26"
             ],
             [
              1.0,
              "#f0f921"
             ]
            ],
            "type": "histogram2d"
           }
          ],
          "histogram2dcontour": [
           {
            "colorbar": {
             "outlinewidth": 0,
             "ticks": ""
            },
            "colorscale": [
             [
              0.0,
              "#0d0887"
             ],
             [
              0.1111111111111111,
              "#46039f"
             ],
             [
              0.2222222222222222,
              "#7201a8"
             ],
             [
              0.3333333333333333,
              "#9c179e"
             ],
             [
              0.4444444444444444,
              "#bd3786"
             ],
             [
              0.5555555555555556,
              "#d8576b"
             ],
             [
              0.6666666666666666,
              "#ed7953"
             ],
             [
              0.7777777777777778,
              "#fb9f3a"
             ],
             [
              0.8888888888888888,
              "#fdca26"
             ],
             [
              1.0,
              "#f0f921"
             ]
            ],
            "type": "histogram2dcontour"
           }
          ],
          "mesh3d": [
           {
            "colorbar": {
             "outlinewidth": 0,
             "ticks": ""
            },
            "type": "mesh3d"
           }
          ],
          "parcoords": [
           {
            "line": {
             "colorbar": {
              "outlinewidth": 0,
              "ticks": ""
             }
            },
            "type": "parcoords"
           }
          ],
          "pie": [
           {
            "automargin": true,
            "type": "pie"
           }
          ],
          "scatter": [
           {
            "fillpattern": {
             "fillmode": "overlay",
             "size": 10,
             "solidity": 0.2
            },
            "type": "scatter"
           }
          ],
          "scatter3d": [
           {
            "line": {
             "colorbar": {
              "outlinewidth": 0,
              "ticks": ""
             }
            },
            "marker": {
             "colorbar": {
              "outlinewidth": 0,
              "ticks": ""
             }
            },
            "type": "scatter3d"
           }
          ],
          "scattercarpet": [
           {
            "marker": {
             "colorbar": {
              "outlinewidth": 0,
              "ticks": ""
             }
            },
            "type": "scattercarpet"
           }
          ],
          "scattergeo": [
           {
            "marker": {
             "colorbar": {
              "outlinewidth": 0,
              "ticks": ""
             }
            },
            "type": "scattergeo"
           }
          ],
          "scattergl": [
           {
            "marker": {
             "colorbar": {
              "outlinewidth": 0,
              "ticks": ""
             }
            },
            "type": "scattergl"
           }
          ],
          "scattermapbox": [
           {
            "marker": {
             "colorbar": {
              "outlinewidth": 0,
              "ticks": ""
             }
            },
            "type": "scattermapbox"
           }
          ],
          "scatterpolar": [
           {
            "marker": {
             "colorbar": {
              "outlinewidth": 0,
              "ticks": ""
             }
            },
            "type": "scatterpolar"
           }
          ],
          "scatterpolargl": [
           {
            "marker": {
             "colorbar": {
              "outlinewidth": 0,
              "ticks": ""
             }
            },
            "type": "scatterpolargl"
           }
          ],
          "scatterternary": [
           {
            "marker": {
             "colorbar": {
              "outlinewidth": 0,
              "ticks": ""
             }
            },
            "type": "scatterternary"
           }
          ],
          "surface": [
           {
            "colorbar": {
             "outlinewidth": 0,
             "ticks": ""
            },
            "colorscale": [
             [
              0.0,
              "#0d0887"
             ],
             [
              0.1111111111111111,
              "#46039f"
             ],
             [
              0.2222222222222222,
              "#7201a8"
             ],
             [
              0.3333333333333333,
              "#9c179e"
             ],
             [
              0.4444444444444444,
              "#bd3786"
             ],
             [
              0.5555555555555556,
              "#d8576b"
             ],
             [
              0.6666666666666666,
              "#ed7953"
             ],
             [
              0.7777777777777778,
              "#fb9f3a"
             ],
             [
              0.8888888888888888,
              "#fdca26"
             ],
             [
              1.0,
              "#f0f921"
             ]
            ],
            "type": "surface"
           }
          ],
          "table": [
           {
            "cells": {
             "fill": {
              "color": "#EBF0F8"
             },
             "line": {
              "color": "white"
             }
            },
            "header": {
             "fill": {
              "color": "#C8D4E3"
             },
             "line": {
              "color": "white"
             }
            },
            "type": "table"
           }
          ]
         },
         "layout": {
          "annotationdefaults": {
           "arrowcolor": "#2a3f5f",
           "arrowhead": 0,
           "arrowwidth": 1
          },
          "autotypenumbers": "strict",
          "coloraxis": {
           "colorbar": {
            "outlinewidth": 0,
            "ticks": ""
           }
          },
          "colorscale": {
           "diverging": [
            [
             0,
             "#8e0152"
            ],
            [
             0.1,
             "#c51b7d"
            ],
            [
             0.2,
             "#de77ae"
            ],
            [
             0.3,
             "#f1b6da"
            ],
            [
             0.4,
             "#fde0ef"
            ],
            [
             0.5,
             "#f7f7f7"
            ],
            [
             0.6,
             "#e6f5d0"
            ],
            [
             0.7,
             "#b8e186"
            ],
            [
             0.8,
             "#7fbc41"
            ],
            [
             0.9,
             "#4d9221"
            ],
            [
             1,
             "#276419"
            ]
           ],
           "sequential": [
            [
             0.0,
             "#0d0887"
            ],
            [
             0.1111111111111111,
             "#46039f"
            ],
            [
             0.2222222222222222,
             "#7201a8"
            ],
            [
             0.3333333333333333,
             "#9c179e"
            ],
            [
             0.4444444444444444,
             "#bd3786"
            ],
            [
             0.5555555555555556,
             "#d8576b"
            ],
            [
             0.6666666666666666,
             "#ed7953"
            ],
            [
             0.7777777777777778,
             "#fb9f3a"
            ],
            [
             0.8888888888888888,
             "#fdca26"
            ],
            [
             1.0,
             "#f0f921"
            ]
           ],
           "sequentialminus": [
            [
             0.0,
             "#0d0887"
            ],
            [
             0.1111111111111111,
             "#46039f"
            ],
            [
             0.2222222222222222,
             "#7201a8"
            ],
            [
             0.3333333333333333,
             "#9c179e"
            ],
            [
             0.4444444444444444,
             "#bd3786"
            ],
            [
             0.5555555555555556,
             "#d8576b"
            ],
            [
             0.6666666666666666,
             "#ed7953"
            ],
            [
             0.7777777777777778,
             "#fb9f3a"
            ],
            [
             0.8888888888888888,
             "#fdca26"
            ],
            [
             1.0,
             "#f0f921"
            ]
           ]
          },
          "colorway": [
           "#636efa",
           "#EF553B",
           "#00cc96",
           "#ab63fa",
           "#FFA15A",
           "#19d3f3",
           "#FF6692",
           "#B6E880",
           "#FF97FF",
           "#FECB52"
          ],
          "font": {
           "color": "#2a3f5f"
          },
          "geo": {
           "bgcolor": "white",
           "lakecolor": "white",
           "landcolor": "#E5ECF6",
           "showlakes": true,
           "showland": true,
           "subunitcolor": "white"
          },
          "hoverlabel": {
           "align": "left"
          },
          "hovermode": "closest",
          "mapbox": {
           "style": "light"
          },
          "paper_bgcolor": "white",
          "plot_bgcolor": "#E5ECF6",
          "polar": {
           "angularaxis": {
            "gridcolor": "white",
            "linecolor": "white",
            "ticks": ""
           },
           "bgcolor": "#E5ECF6",
           "radialaxis": {
            "gridcolor": "white",
            "linecolor": "white",
            "ticks": ""
           }
          },
          "scene": {
           "xaxis": {
            "backgroundcolor": "#E5ECF6",
            "gridcolor": "white",
            "gridwidth": 2,
            "linecolor": "white",
            "showbackground": true,
            "ticks": "",
            "zerolinecolor": "white"
           },
           "yaxis": {
            "backgroundcolor": "#E5ECF6",
            "gridcolor": "white",
            "gridwidth": 2,
            "linecolor": "white",
            "showbackground": true,
            "ticks": "",
            "zerolinecolor": "white"
           },
           "zaxis": {
            "backgroundcolor": "#E5ECF6",
            "gridcolor": "white",
            "gridwidth": 2,
            "linecolor": "white",
            "showbackground": true,
            "ticks": "",
            "zerolinecolor": "white"
           }
          },
          "shapedefaults": {
           "line": {
            "color": "#2a3f5f"
           }
          },
          "ternary": {
           "aaxis": {
            "gridcolor": "white",
            "linecolor": "white",
            "ticks": ""
           },
           "baxis": {
            "gridcolor": "white",
            "linecolor": "white",
            "ticks": ""
           },
           "bgcolor": "#E5ECF6",
           "caxis": {
            "gridcolor": "white",
            "linecolor": "white",
            "ticks": ""
           }
          },
          "title": {
           "x": 0.05
          },
          "xaxis": {
           "automargin": true,
           "gridcolor": "white",
           "linecolor": "white",
           "ticks": "",
           "title": {
            "standoff": 15
           },
           "zerolinecolor": "white",
           "zerolinewidth": 2
          },
          "yaxis": {
           "automargin": true,
           "gridcolor": "white",
           "linecolor": "white",
           "ticks": "",
           "title": {
            "standoff": 15
           },
           "zerolinecolor": "white",
           "zerolinewidth": 2
          }
         }
        },
        "title": {
         "text": "Athlets per Olympic game"
        },
        "xaxis": {
         "showticklabels": true,
         "title": {
          "text": "Year"
         }
        },
        "yaxis": {
         "title": {
          "text": "Number of athlets"
         }
        }
       }
      },
      "text/html": [
       "<div>                            <div id=\"1b343058-d057-4caf-bb53-623a84fd8906\" class=\"plotly-graph-div\" style=\"height:525px; width:100%;\"></div>            <script type=\"text/javascript\">                require([\"plotly\"], function(Plotly) {                    window.PLOTLYENV=window.PLOTLYENV || {};                                    if (document.getElementById(\"1b343058-d057-4caf-bb53-623a84fd8906\")) {                    Plotly.newPlot(                        \"1b343058-d057-4caf-bb53-623a84fd8906\",                        [{\"marker\":{\"color\":\"rgba(152, 0, 0, .8)\",\"size\":14},\"mode\":\"markers\",\"name\":\"Athlets per Olympic game\",\"x\":[1896,1900,1904,1906,1908,1912,1920,1924,1924,1928,1928,1932,1932,1936,1936,1948,1948,1952,1952,1956,1956,1956,1960,1960,1964,1964,1968,1968,1972,1972,1976,1976,1980,1980,1984,1984,1988,1988,1992,1992,1994,1996,1998,2000,2002,2004,2006,2008,2010,2012,2014,2016],\"y\":[380,1936,1301,1733,3101,4040,4292,460,5233,4992,582,352,2969,6506,895,6405,1075,8270,1088,1307,4829,298,8119,1116,1778,7702,1891,8588,10304,1655,1861,8641,1746,7191,9454,2134,2639,12037,3436,12977,3160,13780,3605,13821,4109,13443,4382,13602,4402,12920,4891,13688],\"type\":\"scatter\"}],                        {\"hovermode\":\"closest\",\"template\":{\"data\":{\"barpolar\":[{\"marker\":{\"line\":{\"color\":\"#E5ECF6\",\"width\":0.5},\"pattern\":{\"fillmode\":\"overlay\",\"size\":10,\"solidity\":0.2}},\"type\":\"barpolar\"}],\"bar\":[{\"error_x\":{\"color\":\"#2a3f5f\"},\"error_y\":{\"color\":\"#2a3f5f\"},\"marker\":{\"line\":{\"color\":\"#E5ECF6\",\"width\":0.5},\"pattern\":{\"fillmode\":\"overlay\",\"size\":10,\"solidity\":0.2}},\"type\":\"bar\"}],\"carpet\":[{\"aaxis\":{\"endlinecolor\":\"#2a3f5f\",\"gridcolor\":\"white\",\"linecolor\":\"white\",\"minorgridcolor\":\"white\",\"startlinecolor\":\"#2a3f5f\"},\"baxis\":{\"endlinecolor\":\"#2a3f5f\",\"gridcolor\":\"white\",\"linecolor\":\"white\",\"minorgridcolor\":\"white\",\"startlinecolor\":\"#2a3f5f\"},\"type\":\"carpet\"}],\"choropleth\":[{\"colorbar\":{\"outlinewidth\":0,\"ticks\":\"\"},\"type\":\"choropleth\"}],\"contourcarpet\":[{\"colorbar\":{\"outlinewidth\":0,\"ticks\":\"\"},\"type\":\"contourcarpet\"}],\"contour\":[{\"colorbar\":{\"outlinewidth\":0,\"ticks\":\"\"},\"colorscale\":[[0.0,\"#0d0887\"],[0.1111111111111111,\"#46039f\"],[0.2222222222222222,\"#7201a8\"],[0.3333333333333333,\"#9c179e\"],[0.4444444444444444,\"#bd3786\"],[0.5555555555555556,\"#d8576b\"],[0.6666666666666666,\"#ed7953\"],[0.7777777777777778,\"#fb9f3a\"],[0.8888888888888888,\"#fdca26\"],[1.0,\"#f0f921\"]],\"type\":\"contour\"}],\"heatmapgl\":[{\"colorbar\":{\"outlinewidth\":0,\"ticks\":\"\"},\"colorscale\":[[0.0,\"#0d0887\"],[0.1111111111111111,\"#46039f\"],[0.2222222222222222,\"#7201a8\"],[0.3333333333333333,\"#9c179e\"],[0.4444444444444444,\"#bd3786\"],[0.5555555555555556,\"#d8576b\"],[0.6666666666666666,\"#ed7953\"],[0.7777777777777778,\"#fb9f3a\"],[0.8888888888888888,\"#fdca26\"],[1.0,\"#f0f921\"]],\"type\":\"heatmapgl\"}],\"heatmap\":[{\"colorbar\":{\"outlinewidth\":0,\"ticks\":\"\"},\"colorscale\":[[0.0,\"#0d0887\"],[0.1111111111111111,\"#46039f\"],[0.2222222222222222,\"#7201a8\"],[0.3333333333333333,\"#9c179e\"],[0.4444444444444444,\"#bd3786\"],[0.5555555555555556,\"#d8576b\"],[0.6666666666666666,\"#ed7953\"],[0.7777777777777778,\"#fb9f3a\"],[0.8888888888888888,\"#fdca26\"],[1.0,\"#f0f921\"]],\"type\":\"heatmap\"}],\"histogram2dcontour\":[{\"colorbar\":{\"outlinewidth\":0,\"ticks\":\"\"},\"colorscale\":[[0.0,\"#0d0887\"],[0.1111111111111111,\"#46039f\"],[0.2222222222222222,\"#7201a8\"],[0.3333333333333333,\"#9c179e\"],[0.4444444444444444,\"#bd3786\"],[0.5555555555555556,\"#d8576b\"],[0.6666666666666666,\"#ed7953\"],[0.7777777777777778,\"#fb9f3a\"],[0.8888888888888888,\"#fdca26\"],[1.0,\"#f0f921\"]],\"type\":\"histogram2dcontour\"}],\"histogram2d\":[{\"colorbar\":{\"outlinewidth\":0,\"ticks\":\"\"},\"colorscale\":[[0.0,\"#0d0887\"],[0.1111111111111111,\"#46039f\"],[0.2222222222222222,\"#7201a8\"],[0.3333333333333333,\"#9c179e\"],[0.4444444444444444,\"#bd3786\"],[0.5555555555555556,\"#d8576b\"],[0.6666666666666666,\"#ed7953\"],[0.7777777777777778,\"#fb9f3a\"],[0.8888888888888888,\"#fdca26\"],[1.0,\"#f0f921\"]],\"type\":\"histogram2d\"}],\"histogram\":[{\"marker\":{\"pattern\":{\"fillmode\":\"overlay\",\"size\":10,\"solidity\":0.2}},\"type\":\"histogram\"}],\"mesh3d\":[{\"colorbar\":{\"outlinewidth\":0,\"ticks\":\"\"},\"type\":\"mesh3d\"}],\"parcoords\":[{\"line\":{\"colorbar\":{\"outlinewidth\":0,\"ticks\":\"\"}},\"type\":\"parcoords\"}],\"pie\":[{\"automargin\":true,\"type\":\"pie\"}],\"scatter3d\":[{\"line\":{\"colorbar\":{\"outlinewidth\":0,\"ticks\":\"\"}},\"marker\":{\"colorbar\":{\"outlinewidth\":0,\"ticks\":\"\"}},\"type\":\"scatter3d\"}],\"scattercarpet\":[{\"marker\":{\"colorbar\":{\"outlinewidth\":0,\"ticks\":\"\"}},\"type\":\"scattercarpet\"}],\"scattergeo\":[{\"marker\":{\"colorbar\":{\"outlinewidth\":0,\"ticks\":\"\"}},\"type\":\"scattergeo\"}],\"scattergl\":[{\"marker\":{\"colorbar\":{\"outlinewidth\":0,\"ticks\":\"\"}},\"type\":\"scattergl\"}],\"scattermapbox\":[{\"marker\":{\"colorbar\":{\"outlinewidth\":0,\"ticks\":\"\"}},\"type\":\"scattermapbox\"}],\"scatterpolargl\":[{\"marker\":{\"colorbar\":{\"outlinewidth\":0,\"ticks\":\"\"}},\"type\":\"scatterpolargl\"}],\"scatterpolar\":[{\"marker\":{\"colorbar\":{\"outlinewidth\":0,\"ticks\":\"\"}},\"type\":\"scatterpolar\"}],\"scatter\":[{\"fillpattern\":{\"fillmode\":\"overlay\",\"size\":10,\"solidity\":0.2},\"type\":\"scatter\"}],\"scatterternary\":[{\"marker\":{\"colorbar\":{\"outlinewidth\":0,\"ticks\":\"\"}},\"type\":\"scatterternary\"}],\"surface\":[{\"colorbar\":{\"outlinewidth\":0,\"ticks\":\"\"},\"colorscale\":[[0.0,\"#0d0887\"],[0.1111111111111111,\"#46039f\"],[0.2222222222222222,\"#7201a8\"],[0.3333333333333333,\"#9c179e\"],[0.4444444444444444,\"#bd3786\"],[0.5555555555555556,\"#d8576b\"],[0.6666666666666666,\"#ed7953\"],[0.7777777777777778,\"#fb9f3a\"],[0.8888888888888888,\"#fdca26\"],[1.0,\"#f0f921\"]],\"type\":\"surface\"}],\"table\":[{\"cells\":{\"fill\":{\"color\":\"#EBF0F8\"},\"line\":{\"color\":\"white\"}},\"header\":{\"fill\":{\"color\":\"#C8D4E3\"},\"line\":{\"color\":\"white\"}},\"type\":\"table\"}]},\"layout\":{\"annotationdefaults\":{\"arrowcolor\":\"#2a3f5f\",\"arrowhead\":0,\"arrowwidth\":1},\"autotypenumbers\":\"strict\",\"coloraxis\":{\"colorbar\":{\"outlinewidth\":0,\"ticks\":\"\"}},\"colorscale\":{\"diverging\":[[0,\"#8e0152\"],[0.1,\"#c51b7d\"],[0.2,\"#de77ae\"],[0.3,\"#f1b6da\"],[0.4,\"#fde0ef\"],[0.5,\"#f7f7f7\"],[0.6,\"#e6f5d0\"],[0.7,\"#b8e186\"],[0.8,\"#7fbc41\"],[0.9,\"#4d9221\"],[1,\"#276419\"]],\"sequential\":[[0.0,\"#0d0887\"],[0.1111111111111111,\"#46039f\"],[0.2222222222222222,\"#7201a8\"],[0.3333333333333333,\"#9c179e\"],[0.4444444444444444,\"#bd3786\"],[0.5555555555555556,\"#d8576b\"],[0.6666666666666666,\"#ed7953\"],[0.7777777777777778,\"#fb9f3a\"],[0.8888888888888888,\"#fdca26\"],[1.0,\"#f0f921\"]],\"sequentialminus\":[[0.0,\"#0d0887\"],[0.1111111111111111,\"#46039f\"],[0.2222222222222222,\"#7201a8\"],[0.3333333333333333,\"#9c179e\"],[0.4444444444444444,\"#bd3786\"],[0.5555555555555556,\"#d8576b\"],[0.6666666666666666,\"#ed7953\"],[0.7777777777777778,\"#fb9f3a\"],[0.8888888888888888,\"#fdca26\"],[1.0,\"#f0f921\"]]},\"colorway\":[\"#636efa\",\"#EF553B\",\"#00cc96\",\"#ab63fa\",\"#FFA15A\",\"#19d3f3\",\"#FF6692\",\"#B6E880\",\"#FF97FF\",\"#FECB52\"],\"font\":{\"color\":\"#2a3f5f\"},\"geo\":{\"bgcolor\":\"white\",\"lakecolor\":\"white\",\"landcolor\":\"#E5ECF6\",\"showlakes\":true,\"showland\":true,\"subunitcolor\":\"white\"},\"hoverlabel\":{\"align\":\"left\"},\"hovermode\":\"closest\",\"mapbox\":{\"style\":\"light\"},\"paper_bgcolor\":\"white\",\"plot_bgcolor\":\"#E5ECF6\",\"polar\":{\"angularaxis\":{\"gridcolor\":\"white\",\"linecolor\":\"white\",\"ticks\":\"\"},\"bgcolor\":\"#E5ECF6\",\"radialaxis\":{\"gridcolor\":\"white\",\"linecolor\":\"white\",\"ticks\":\"\"}},\"scene\":{\"xaxis\":{\"backgroundcolor\":\"#E5ECF6\",\"gridcolor\":\"white\",\"gridwidth\":2,\"linecolor\":\"white\",\"showbackground\":true,\"ticks\":\"\",\"zerolinecolor\":\"white\"},\"yaxis\":{\"backgroundcolor\":\"#E5ECF6\",\"gridcolor\":\"white\",\"gridwidth\":2,\"linecolor\":\"white\",\"showbackground\":true,\"ticks\":\"\",\"zerolinecolor\":\"white\"},\"zaxis\":{\"backgroundcolor\":\"#E5ECF6\",\"gridcolor\":\"white\",\"gridwidth\":2,\"linecolor\":\"white\",\"showbackground\":true,\"ticks\":\"\",\"zerolinecolor\":\"white\"}},\"shapedefaults\":{\"line\":{\"color\":\"#2a3f5f\"}},\"ternary\":{\"aaxis\":{\"gridcolor\":\"white\",\"linecolor\":\"white\",\"ticks\":\"\"},\"baxis\":{\"gridcolor\":\"white\",\"linecolor\":\"white\",\"ticks\":\"\"},\"bgcolor\":\"#E5ECF6\",\"caxis\":{\"gridcolor\":\"white\",\"linecolor\":\"white\",\"ticks\":\"\"}},\"title\":{\"x\":0.05},\"xaxis\":{\"automargin\":true,\"gridcolor\":\"white\",\"linecolor\":\"white\",\"ticks\":\"\",\"title\":{\"standoff\":15},\"zerolinecolor\":\"white\",\"zerolinewidth\":2},\"yaxis\":{\"automargin\":true,\"gridcolor\":\"white\",\"linecolor\":\"white\",\"ticks\":\"\",\"title\":{\"standoff\":15},\"zerolinecolor\":\"white\",\"zerolinewidth\":2}}},\"title\":{\"text\":\"Athlets per Olympic game\"},\"xaxis\":{\"showticklabels\":true,\"title\":{\"text\":\"Year\"}},\"yaxis\":{\"title\":{\"text\":\"Number of athlets\"}}},                        {\"responsive\": true}                    ).then(function(){\n",
       "                            \n",
       "var gd = document.getElementById('1b343058-d057-4caf-bb53-623a84fd8906');\n",
       "var x = new MutationObserver(function (mutations, observer) {{\n",
       "        var display = window.getComputedStyle(gd).display;\n",
       "        if (!display || display === 'none') {{\n",
       "            console.log([gd, 'removed!']);\n",
       "            Plotly.purge(gd);\n",
       "            observer.disconnect();\n",
       "        }}\n",
       "}});\n",
       "\n",
       "// Listen for the removal of the full notebook cells\n",
       "var notebookContainer = gd.closest('#notebook-container');\n",
       "if (notebookContainer) {{\n",
       "    x.observe(notebookContainer, {childList: true});\n",
       "}}\n",
       "\n",
       "// Listen for the clearing of the current output cell\n",
       "var outputEl = gd.closest('.output');\n",
       "if (outputEl) {{\n",
       "    x.observe(outputEl, {childList: true});\n",
       "}}\n",
       "\n",
       "                        })                };                });            </script>        </div>"
      ]
     },
     "metadata": {},
     "output_type": "display_data"
    }
   ],
   "source": [
    "trace = go.Scatter(\n",
    "    x = df['Year'],\n",
    "    y = df['Athlets'],\n",
    "    name=\"Athlets per Olympic game\",\n",
    "    marker=dict(size=14,\n",
    "                color='rgba(152, 0, 0, .8)',\n",
    "    ),\n",
    "    mode = \"markers\"\n",
    ")\n",
    "data = [trace]\n",
    "\n",
    "layout = dict(title = 'Athlets per Olympic game',\n",
    "          xaxis = dict(title = 'Year', showticklabels=True), \n",
    "          yaxis = dict(title = 'Number of athlets'),\n",
    "          hovermode = 'closest'\n",
    "         )\n",
    "fig = dict(data=data, layout=layout)\n",
    "iplot(fig, filename='events-athlets1')"
   ]
  },
  {
   "cell_type": "markdown",
   "id": "192e24af",
   "metadata": {
    "papermill": {
     "duration": 0.020483,
     "end_time": "2022-07-27T20:00:40.924805",
     "exception": false,
     "start_time": "2022-07-27T20:00:40.904322",
     "status": "completed"
    },
    "tags": []
   },
   "source": [
    "# 3. Plot Year & Athlets in scatter plot, but showing now the Summer and Winter games with diferent colors, on the same plot, in two different traces."
   ]
  },
  {
   "cell_type": "code",
   "execution_count": 11,
   "id": "c79df5c8",
   "metadata": {
    "_uuid": "5fd4a2137ee46c715c2149ea3458a8d4b6d82202",
    "execution": {
     "iopub.execute_input": "2022-07-27T20:00:40.967216Z",
     "iopub.status.busy": "2022-07-27T20:00:40.966817Z",
     "iopub.status.idle": "2022-07-27T20:00:41.011622Z",
     "shell.execute_reply": "2022-07-27T20:00:41.010155Z"
    },
    "papermill": {
     "duration": 0.07058,
     "end_time": "2022-07-27T20:00:41.015728",
     "exception": false,
     "start_time": "2022-07-27T20:00:40.945148",
     "status": "completed"
    },
    "tags": []
   },
   "outputs": [
    {
     "data": {
      "application/vnd.plotly.v1+json": {
       "config": {
        "linkText": "Export to plot.ly",
        "plotlyServerURL": "https://plot.ly",
        "showLink": false
       },
       "data": [
        {
         "marker": {
          "color": "Red"
         },
         "mode": "markers+lines",
         "name": "Summer Games",
         "type": "scatter",
         "x": [
          1896,
          1900,
          1904,
          1906,
          1908,
          1912,
          1920,
          1924,
          1928,
          1932,
          1936,
          1948,
          1952,
          1956,
          1956,
          1960,
          1964,
          1968,
          1972,
          1976,
          1980,
          1984,
          1988,
          1992,
          1996,
          2000,
          2004,
          2008,
          2012,
          2016
         ],
         "y": [
          380,
          1936,
          1301,
          1733,
          3101,
          4040,
          4292,
          5233,
          4992,
          2969,
          6506,
          6405,
          8270,
          4829,
          298,
          8119,
          7702,
          8588,
          10304,
          8641,
          7191,
          9454,
          12037,
          12977,
          13780,
          13821,
          13443,
          13602,
          12920,
          13688
         ]
        },
        {
         "marker": {
          "color": "rgba(0, 0, 112, 1)"
         },
         "mode": "markers+lines",
         "name": "Winter Games",
         "type": "scatter",
         "x": [
          1924,
          1928,
          1932,
          1936,
          1948,
          1952,
          1956,
          1960,
          1964,
          1968,
          1972,
          1976,
          1980,
          1984,
          1988,
          1992,
          1994,
          1998,
          2002,
          2006,
          2010,
          2014
         ],
         "y": [
          460,
          582,
          352,
          895,
          1075,
          1088,
          1307,
          1116,
          1778,
          1891,
          1655,
          1861,
          1746,
          2134,
          2639,
          3436,
          3160,
          3605,
          4109,
          4382,
          4402,
          4891
         ]
        }
       ],
       "layout": {
        "hovermode": "closest",
        "template": {
         "data": {
          "bar": [
           {
            "error_x": {
             "color": "#2a3f5f"
            },
            "error_y": {
             "color": "#2a3f5f"
            },
            "marker": {
             "line": {
              "color": "#E5ECF6",
              "width": 0.5
             },
             "pattern": {
              "fillmode": "overlay",
              "size": 10,
              "solidity": 0.2
             }
            },
            "type": "bar"
           }
          ],
          "barpolar": [
           {
            "marker": {
             "line": {
              "color": "#E5ECF6",
              "width": 0.5
             },
             "pattern": {
              "fillmode": "overlay",
              "size": 10,
              "solidity": 0.2
             }
            },
            "type": "barpolar"
           }
          ],
          "carpet": [
           {
            "aaxis": {
             "endlinecolor": "#2a3f5f",
             "gridcolor": "white",
             "linecolor": "white",
             "minorgridcolor": "white",
             "startlinecolor": "#2a3f5f"
            },
            "baxis": {
             "endlinecolor": "#2a3f5f",
             "gridcolor": "white",
             "linecolor": "white",
             "minorgridcolor": "white",
             "startlinecolor": "#2a3f5f"
            },
            "type": "carpet"
           }
          ],
          "choropleth": [
           {
            "colorbar": {
             "outlinewidth": 0,
             "ticks": ""
            },
            "type": "choropleth"
           }
          ],
          "contour": [
           {
            "colorbar": {
             "outlinewidth": 0,
             "ticks": ""
            },
            "colorscale": [
             [
              0.0,
              "#0d0887"
             ],
             [
              0.1111111111111111,
              "#46039f"
             ],
             [
              0.2222222222222222,
              "#7201a8"
             ],
             [
              0.3333333333333333,
              "#9c179e"
             ],
             [
              0.4444444444444444,
              "#bd3786"
             ],
             [
              0.5555555555555556,
              "#d8576b"
             ],
             [
              0.6666666666666666,
              "#ed7953"
             ],
             [
              0.7777777777777778,
              "#fb9f3a"
             ],
             [
              0.8888888888888888,
              "#fdca26"
             ],
             [
              1.0,
              "#f0f921"
             ]
            ],
            "type": "contour"
           }
          ],
          "contourcarpet": [
           {
            "colorbar": {
             "outlinewidth": 0,
             "ticks": ""
            },
            "type": "contourcarpet"
           }
          ],
          "heatmap": [
           {
            "colorbar": {
             "outlinewidth": 0,
             "ticks": ""
            },
            "colorscale": [
             [
              0.0,
              "#0d0887"
             ],
             [
              0.1111111111111111,
              "#46039f"
             ],
             [
              0.2222222222222222,
              "#7201a8"
             ],
             [
              0.3333333333333333,
              "#9c179e"
             ],
             [
              0.4444444444444444,
              "#bd3786"
             ],
             [
              0.5555555555555556,
              "#d8576b"
             ],
             [
              0.6666666666666666,
              "#ed7953"
             ],
             [
              0.7777777777777778,
              "#fb9f3a"
             ],
             [
              0.8888888888888888,
              "#fdca26"
             ],
             [
              1.0,
              "#f0f921"
             ]
            ],
            "type": "heatmap"
           }
          ],
          "heatmapgl": [
           {
            "colorbar": {
             "outlinewidth": 0,
             "ticks": ""
            },
            "colorscale": [
             [
              0.0,
              "#0d0887"
             ],
             [
              0.1111111111111111,
              "#46039f"
             ],
             [
              0.2222222222222222,
              "#7201a8"
             ],
             [
              0.3333333333333333,
              "#9c179e"
             ],
             [
              0.4444444444444444,
              "#bd3786"
             ],
             [
              0.5555555555555556,
              "#d8576b"
             ],
             [
              0.6666666666666666,
              "#ed7953"
             ],
             [
              0.7777777777777778,
              "#fb9f3a"
             ],
             [
              0.8888888888888888,
              "#fdca26"
             ],
             [
              1.0,
              "#f0f921"
             ]
            ],
            "type": "heatmapgl"
           }
          ],
          "histogram": [
           {
            "marker": {
             "pattern": {
              "fillmode": "overlay",
              "size": 10,
              "solidity": 0.2
             }
            },
            "type": "histogram"
           }
          ],
          "histogram2d": [
           {
            "colorbar": {
             "outlinewidth": 0,
             "ticks": ""
            },
            "colorscale": [
             [
              0.0,
              "#0d0887"
             ],
             [
              0.1111111111111111,
              "#46039f"
             ],
             [
              0.2222222222222222,
              "#7201a8"
             ],
             [
              0.3333333333333333,
              "#9c179e"
             ],
             [
              0.4444444444444444,
              "#bd3786"
             ],
             [
              0.5555555555555556,
              "#d8576b"
             ],
             [
              0.6666666666666666,
              "#ed7953"
             ],
             [
              0.7777777777777778,
              "#fb9f3a"
             ],
             [
              0.8888888888888888,
              "#fdca26"
             ],
             [
              1.0,
              "#f0f921"
             ]
            ],
            "type": "histogram2d"
           }
          ],
          "histogram2dcontour": [
           {
            "colorbar": {
             "outlinewidth": 0,
             "ticks": ""
            },
            "colorscale": [
             [
              0.0,
              "#0d0887"
             ],
             [
              0.1111111111111111,
              "#46039f"
             ],
             [
              0.2222222222222222,
              "#7201a8"
             ],
             [
              0.3333333333333333,
              "#9c179e"
             ],
             [
              0.4444444444444444,
              "#bd3786"
             ],
             [
              0.5555555555555556,
              "#d8576b"
             ],
             [
              0.6666666666666666,
              "#ed7953"
             ],
             [
              0.7777777777777778,
              "#fb9f3a"
             ],
             [
              0.8888888888888888,
              "#fdca26"
             ],
             [
              1.0,
              "#f0f921"
             ]
            ],
            "type": "histogram2dcontour"
           }
          ],
          "mesh3d": [
           {
            "colorbar": {
             "outlinewidth": 0,
             "ticks": ""
            },
            "type": "mesh3d"
           }
          ],
          "parcoords": [
           {
            "line": {
             "colorbar": {
              "outlinewidth": 0,
              "ticks": ""
             }
            },
            "type": "parcoords"
           }
          ],
          "pie": [
           {
            "automargin": true,
            "type": "pie"
           }
          ],
          "scatter": [
           {
            "fillpattern": {
             "fillmode": "overlay",
             "size": 10,
             "solidity": 0.2
            },
            "type": "scatter"
           }
          ],
          "scatter3d": [
           {
            "line": {
             "colorbar": {
              "outlinewidth": 0,
              "ticks": ""
             }
            },
            "marker": {
             "colorbar": {
              "outlinewidth": 0,
              "ticks": ""
             }
            },
            "type": "scatter3d"
           }
          ],
          "scattercarpet": [
           {
            "marker": {
             "colorbar": {
              "outlinewidth": 0,
              "ticks": ""
             }
            },
            "type": "scattercarpet"
           }
          ],
          "scattergeo": [
           {
            "marker": {
             "colorbar": {
              "outlinewidth": 0,
              "ticks": ""
             }
            },
            "type": "scattergeo"
           }
          ],
          "scattergl": [
           {
            "marker": {
             "colorbar": {
              "outlinewidth": 0,
              "ticks": ""
             }
            },
            "type": "scattergl"
           }
          ],
          "scattermapbox": [
           {
            "marker": {
             "colorbar": {
              "outlinewidth": 0,
              "ticks": ""
             }
            },
            "type": "scattermapbox"
           }
          ],
          "scatterpolar": [
           {
            "marker": {
             "colorbar": {
              "outlinewidth": 0,
              "ticks": ""
             }
            },
            "type": "scatterpolar"
           }
          ],
          "scatterpolargl": [
           {
            "marker": {
             "colorbar": {
              "outlinewidth": 0,
              "ticks": ""
             }
            },
            "type": "scatterpolargl"
           }
          ],
          "scatterternary": [
           {
            "marker": {
             "colorbar": {
              "outlinewidth": 0,
              "ticks": ""
             }
            },
            "type": "scatterternary"
           }
          ],
          "surface": [
           {
            "colorbar": {
             "outlinewidth": 0,
             "ticks": ""
            },
            "colorscale": [
             [
              0.0,
              "#0d0887"
             ],
             [
              0.1111111111111111,
              "#46039f"
             ],
             [
              0.2222222222222222,
              "#7201a8"
             ],
             [
              0.3333333333333333,
              "#9c179e"
             ],
             [
              0.4444444444444444,
              "#bd3786"
             ],
             [
              0.5555555555555556,
              "#d8576b"
             ],
             [
              0.6666666666666666,
              "#ed7953"
             ],
             [
              0.7777777777777778,
              "#fb9f3a"
             ],
             [
              0.8888888888888888,
              "#fdca26"
             ],
             [
              1.0,
              "#f0f921"
             ]
            ],
            "type": "surface"
           }
          ],
          "table": [
           {
            "cells": {
             "fill": {
              "color": "#EBF0F8"
             },
             "line": {
              "color": "white"
             }
            },
            "header": {
             "fill": {
              "color": "#C8D4E3"
             },
             "line": {
              "color": "white"
             }
            },
            "type": "table"
           }
          ]
         },
         "layout": {
          "annotationdefaults": {
           "arrowcolor": "#2a3f5f",
           "arrowhead": 0,
           "arrowwidth": 1
          },
          "autotypenumbers": "strict",
          "coloraxis": {
           "colorbar": {
            "outlinewidth": 0,
            "ticks": ""
           }
          },
          "colorscale": {
           "diverging": [
            [
             0,
             "#8e0152"
            ],
            [
             0.1,
             "#c51b7d"
            ],
            [
             0.2,
             "#de77ae"
            ],
            [
             0.3,
             "#f1b6da"
            ],
            [
             0.4,
             "#fde0ef"
            ],
            [
             0.5,
             "#f7f7f7"
            ],
            [
             0.6,
             "#e6f5d0"
            ],
            [
             0.7,
             "#b8e186"
            ],
            [
             0.8,
             "#7fbc41"
            ],
            [
             0.9,
             "#4d9221"
            ],
            [
             1,
             "#276419"
            ]
           ],
           "sequential": [
            [
             0.0,
             "#0d0887"
            ],
            [
             0.1111111111111111,
             "#46039f"
            ],
            [
             0.2222222222222222,
             "#7201a8"
            ],
            [
             0.3333333333333333,
             "#9c179e"
            ],
            [
             0.4444444444444444,
             "#bd3786"
            ],
            [
             0.5555555555555556,
             "#d8576b"
            ],
            [
             0.6666666666666666,
             "#ed7953"
            ],
            [
             0.7777777777777778,
             "#fb9f3a"
            ],
            [
             0.8888888888888888,
             "#fdca26"
            ],
            [
             1.0,
             "#f0f921"
            ]
           ],
           "sequentialminus": [
            [
             0.0,
             "#0d0887"
            ],
            [
             0.1111111111111111,
             "#46039f"
            ],
            [
             0.2222222222222222,
             "#7201a8"
            ],
            [
             0.3333333333333333,
             "#9c179e"
            ],
            [
             0.4444444444444444,
             "#bd3786"
            ],
            [
             0.5555555555555556,
             "#d8576b"
            ],
            [
             0.6666666666666666,
             "#ed7953"
            ],
            [
             0.7777777777777778,
             "#fb9f3a"
            ],
            [
             0.8888888888888888,
             "#fdca26"
            ],
            [
             1.0,
             "#f0f921"
            ]
           ]
          },
          "colorway": [
           "#636efa",
           "#EF553B",
           "#00cc96",
           "#ab63fa",
           "#FFA15A",
           "#19d3f3",
           "#FF6692",
           "#B6E880",
           "#FF97FF",
           "#FECB52"
          ],
          "font": {
           "color": "#2a3f5f"
          },
          "geo": {
           "bgcolor": "white",
           "lakecolor": "white",
           "landcolor": "#E5ECF6",
           "showlakes": true,
           "showland": true,
           "subunitcolor": "white"
          },
          "hoverlabel": {
           "align": "left"
          },
          "hovermode": "closest",
          "mapbox": {
           "style": "light"
          },
          "paper_bgcolor": "white",
          "plot_bgcolor": "#E5ECF6",
          "polar": {
           "angularaxis": {
            "gridcolor": "white",
            "linecolor": "white",
            "ticks": ""
           },
           "bgcolor": "#E5ECF6",
           "radialaxis": {
            "gridcolor": "white",
            "linecolor": "white",
            "ticks": ""
           }
          },
          "scene": {
           "xaxis": {
            "backgroundcolor": "#E5ECF6",
            "gridcolor": "white",
            "gridwidth": 2,
            "linecolor": "white",
            "showbackground": true,
            "ticks": "",
            "zerolinecolor": "white"
           },
           "yaxis": {
            "backgroundcolor": "#E5ECF6",
            "gridcolor": "white",
            "gridwidth": 2,
            "linecolor": "white",
            "showbackground": true,
            "ticks": "",
            "zerolinecolor": "white"
           },
           "zaxis": {
            "backgroundcolor": "#E5ECF6",
            "gridcolor": "white",
            "gridwidth": 2,
            "linecolor": "white",
            "showbackground": true,
            "ticks": "",
            "zerolinecolor": "white"
           }
          },
          "shapedefaults": {
           "line": {
            "color": "#2a3f5f"
           }
          },
          "ternary": {
           "aaxis": {
            "gridcolor": "white",
            "linecolor": "white",
            "ticks": ""
           },
           "baxis": {
            "gridcolor": "white",
            "linecolor": "white",
            "ticks": ""
           },
           "bgcolor": "#E5ECF6",
           "caxis": {
            "gridcolor": "white",
            "linecolor": "white",
            "ticks": ""
           }
          },
          "title": {
           "x": 0.05
          },
          "xaxis": {
           "automargin": true,
           "gridcolor": "white",
           "linecolor": "white",
           "ticks": "",
           "title": {
            "standoff": 15
           },
           "zerolinecolor": "white",
           "zerolinewidth": 2
          },
          "yaxis": {
           "automargin": true,
           "gridcolor": "white",
           "linecolor": "white",
           "ticks": "",
           "title": {
            "standoff": 15
           },
           "zerolinecolor": "white",
           "zerolinewidth": 2
          }
         }
        },
        "title": {
         "text": "Athlets per Olympic game"
        },
        "xaxis": {
         "showticklabels": true,
         "title": {
          "text": "Year"
         }
        },
        "yaxis": {
         "title": {
          "text": "Number of athlets"
         }
        }
       }
      },
      "text/html": [
       "<div>                            <div id=\"cbf2f297-9036-4185-8540-761c2aa37bae\" class=\"plotly-graph-div\" style=\"height:525px; width:100%;\"></div>            <script type=\"text/javascript\">                require([\"plotly\"], function(Plotly) {                    window.PLOTLYENV=window.PLOTLYENV || {};                                    if (document.getElementById(\"cbf2f297-9036-4185-8540-761c2aa37bae\")) {                    Plotly.newPlot(                        \"cbf2f297-9036-4185-8540-761c2aa37bae\",                        [{\"marker\":{\"color\":\"Red\"},\"mode\":\"markers+lines\",\"name\":\"Summer Games\",\"x\":[1896,1900,1904,1906,1908,1912,1920,1924,1928,1932,1936,1948,1952,1956,1956,1960,1964,1968,1972,1976,1980,1984,1988,1992,1996,2000,2004,2008,2012,2016],\"y\":[380,1936,1301,1733,3101,4040,4292,5233,4992,2969,6506,6405,8270,4829,298,8119,7702,8588,10304,8641,7191,9454,12037,12977,13780,13821,13443,13602,12920,13688],\"type\":\"scatter\"},{\"marker\":{\"color\":\"rgba(0, 0, 112, 1)\"},\"mode\":\"markers+lines\",\"name\":\"Winter Games\",\"x\":[1924,1928,1932,1936,1948,1952,1956,1960,1964,1968,1972,1976,1980,1984,1988,1992,1994,1998,2002,2006,2010,2014],\"y\":[460,582,352,895,1075,1088,1307,1116,1778,1891,1655,1861,1746,2134,2639,3436,3160,3605,4109,4382,4402,4891],\"type\":\"scatter\"}],                        {\"hovermode\":\"closest\",\"template\":{\"data\":{\"barpolar\":[{\"marker\":{\"line\":{\"color\":\"#E5ECF6\",\"width\":0.5},\"pattern\":{\"fillmode\":\"overlay\",\"size\":10,\"solidity\":0.2}},\"type\":\"barpolar\"}],\"bar\":[{\"error_x\":{\"color\":\"#2a3f5f\"},\"error_y\":{\"color\":\"#2a3f5f\"},\"marker\":{\"line\":{\"color\":\"#E5ECF6\",\"width\":0.5},\"pattern\":{\"fillmode\":\"overlay\",\"size\":10,\"solidity\":0.2}},\"type\":\"bar\"}],\"carpet\":[{\"aaxis\":{\"endlinecolor\":\"#2a3f5f\",\"gridcolor\":\"white\",\"linecolor\":\"white\",\"minorgridcolor\":\"white\",\"startlinecolor\":\"#2a3f5f\"},\"baxis\":{\"endlinecolor\":\"#2a3f5f\",\"gridcolor\":\"white\",\"linecolor\":\"white\",\"minorgridcolor\":\"white\",\"startlinecolor\":\"#2a3f5f\"},\"type\":\"carpet\"}],\"choropleth\":[{\"colorbar\":{\"outlinewidth\":0,\"ticks\":\"\"},\"type\":\"choropleth\"}],\"contourcarpet\":[{\"colorbar\":{\"outlinewidth\":0,\"ticks\":\"\"},\"type\":\"contourcarpet\"}],\"contour\":[{\"colorbar\":{\"outlinewidth\":0,\"ticks\":\"\"},\"colorscale\":[[0.0,\"#0d0887\"],[0.1111111111111111,\"#46039f\"],[0.2222222222222222,\"#7201a8\"],[0.3333333333333333,\"#9c179e\"],[0.4444444444444444,\"#bd3786\"],[0.5555555555555556,\"#d8576b\"],[0.6666666666666666,\"#ed7953\"],[0.7777777777777778,\"#fb9f3a\"],[0.8888888888888888,\"#fdca26\"],[1.0,\"#f0f921\"]],\"type\":\"contour\"}],\"heatmapgl\":[{\"colorbar\":{\"outlinewidth\":0,\"ticks\":\"\"},\"colorscale\":[[0.0,\"#0d0887\"],[0.1111111111111111,\"#46039f\"],[0.2222222222222222,\"#7201a8\"],[0.3333333333333333,\"#9c179e\"],[0.4444444444444444,\"#bd3786\"],[0.5555555555555556,\"#d8576b\"],[0.6666666666666666,\"#ed7953\"],[0.7777777777777778,\"#fb9f3a\"],[0.8888888888888888,\"#fdca26\"],[1.0,\"#f0f921\"]],\"type\":\"heatmapgl\"}],\"heatmap\":[{\"colorbar\":{\"outlinewidth\":0,\"ticks\":\"\"},\"colorscale\":[[0.0,\"#0d0887\"],[0.1111111111111111,\"#46039f\"],[0.2222222222222222,\"#7201a8\"],[0.3333333333333333,\"#9c179e\"],[0.4444444444444444,\"#bd3786\"],[0.5555555555555556,\"#d8576b\"],[0.6666666666666666,\"#ed7953\"],[0.7777777777777778,\"#fb9f3a\"],[0.8888888888888888,\"#fdca26\"],[1.0,\"#f0f921\"]],\"type\":\"heatmap\"}],\"histogram2dcontour\":[{\"colorbar\":{\"outlinewidth\":0,\"ticks\":\"\"},\"colorscale\":[[0.0,\"#0d0887\"],[0.1111111111111111,\"#46039f\"],[0.2222222222222222,\"#7201a8\"],[0.3333333333333333,\"#9c179e\"],[0.4444444444444444,\"#bd3786\"],[0.5555555555555556,\"#d8576b\"],[0.6666666666666666,\"#ed7953\"],[0.7777777777777778,\"#fb9f3a\"],[0.8888888888888888,\"#fdca26\"],[1.0,\"#f0f921\"]],\"type\":\"histogram2dcontour\"}],\"histogram2d\":[{\"colorbar\":{\"outlinewidth\":0,\"ticks\":\"\"},\"colorscale\":[[0.0,\"#0d0887\"],[0.1111111111111111,\"#46039f\"],[0.2222222222222222,\"#7201a8\"],[0.3333333333333333,\"#9c179e\"],[0.4444444444444444,\"#bd3786\"],[0.5555555555555556,\"#d8576b\"],[0.6666666666666666,\"#ed7953\"],[0.7777777777777778,\"#fb9f3a\"],[0.8888888888888888,\"#fdca26\"],[1.0,\"#f0f921\"]],\"type\":\"histogram2d\"}],\"histogram\":[{\"marker\":{\"pattern\":{\"fillmode\":\"overlay\",\"size\":10,\"solidity\":0.2}},\"type\":\"histogram\"}],\"mesh3d\":[{\"colorbar\":{\"outlinewidth\":0,\"ticks\":\"\"},\"type\":\"mesh3d\"}],\"parcoords\":[{\"line\":{\"colorbar\":{\"outlinewidth\":0,\"ticks\":\"\"}},\"type\":\"parcoords\"}],\"pie\":[{\"automargin\":true,\"type\":\"pie\"}],\"scatter3d\":[{\"line\":{\"colorbar\":{\"outlinewidth\":0,\"ticks\":\"\"}},\"marker\":{\"colorbar\":{\"outlinewidth\":0,\"ticks\":\"\"}},\"type\":\"scatter3d\"}],\"scattercarpet\":[{\"marker\":{\"colorbar\":{\"outlinewidth\":0,\"ticks\":\"\"}},\"type\":\"scattercarpet\"}],\"scattergeo\":[{\"marker\":{\"colorbar\":{\"outlinewidth\":0,\"ticks\":\"\"}},\"type\":\"scattergeo\"}],\"scattergl\":[{\"marker\":{\"colorbar\":{\"outlinewidth\":0,\"ticks\":\"\"}},\"type\":\"scattergl\"}],\"scattermapbox\":[{\"marker\":{\"colorbar\":{\"outlinewidth\":0,\"ticks\":\"\"}},\"type\":\"scattermapbox\"}],\"scatterpolargl\":[{\"marker\":{\"colorbar\":{\"outlinewidth\":0,\"ticks\":\"\"}},\"type\":\"scatterpolargl\"}],\"scatterpolar\":[{\"marker\":{\"colorbar\":{\"outlinewidth\":0,\"ticks\":\"\"}},\"type\":\"scatterpolar\"}],\"scatter\":[{\"fillpattern\":{\"fillmode\":\"overlay\",\"size\":10,\"solidity\":0.2},\"type\":\"scatter\"}],\"scatterternary\":[{\"marker\":{\"colorbar\":{\"outlinewidth\":0,\"ticks\":\"\"}},\"type\":\"scatterternary\"}],\"surface\":[{\"colorbar\":{\"outlinewidth\":0,\"ticks\":\"\"},\"colorscale\":[[0.0,\"#0d0887\"],[0.1111111111111111,\"#46039f\"],[0.2222222222222222,\"#7201a8\"],[0.3333333333333333,\"#9c179e\"],[0.4444444444444444,\"#bd3786\"],[0.5555555555555556,\"#d8576b\"],[0.6666666666666666,\"#ed7953\"],[0.7777777777777778,\"#fb9f3a\"],[0.8888888888888888,\"#fdca26\"],[1.0,\"#f0f921\"]],\"type\":\"surface\"}],\"table\":[{\"cells\":{\"fill\":{\"color\":\"#EBF0F8\"},\"line\":{\"color\":\"white\"}},\"header\":{\"fill\":{\"color\":\"#C8D4E3\"},\"line\":{\"color\":\"white\"}},\"type\":\"table\"}]},\"layout\":{\"annotationdefaults\":{\"arrowcolor\":\"#2a3f5f\",\"arrowhead\":0,\"arrowwidth\":1},\"autotypenumbers\":\"strict\",\"coloraxis\":{\"colorbar\":{\"outlinewidth\":0,\"ticks\":\"\"}},\"colorscale\":{\"diverging\":[[0,\"#8e0152\"],[0.1,\"#c51b7d\"],[0.2,\"#de77ae\"],[0.3,\"#f1b6da\"],[0.4,\"#fde0ef\"],[0.5,\"#f7f7f7\"],[0.6,\"#e6f5d0\"],[0.7,\"#b8e186\"],[0.8,\"#7fbc41\"],[0.9,\"#4d9221\"],[1,\"#276419\"]],\"sequential\":[[0.0,\"#0d0887\"],[0.1111111111111111,\"#46039f\"],[0.2222222222222222,\"#7201a8\"],[0.3333333333333333,\"#9c179e\"],[0.4444444444444444,\"#bd3786\"],[0.5555555555555556,\"#d8576b\"],[0.6666666666666666,\"#ed7953\"],[0.7777777777777778,\"#fb9f3a\"],[0.8888888888888888,\"#fdca26\"],[1.0,\"#f0f921\"]],\"sequentialminus\":[[0.0,\"#0d0887\"],[0.1111111111111111,\"#46039f\"],[0.2222222222222222,\"#7201a8\"],[0.3333333333333333,\"#9c179e\"],[0.4444444444444444,\"#bd3786\"],[0.5555555555555556,\"#d8576b\"],[0.6666666666666666,\"#ed7953\"],[0.7777777777777778,\"#fb9f3a\"],[0.8888888888888888,\"#fdca26\"],[1.0,\"#f0f921\"]]},\"colorway\":[\"#636efa\",\"#EF553B\",\"#00cc96\",\"#ab63fa\",\"#FFA15A\",\"#19d3f3\",\"#FF6692\",\"#B6E880\",\"#FF97FF\",\"#FECB52\"],\"font\":{\"color\":\"#2a3f5f\"},\"geo\":{\"bgcolor\":\"white\",\"lakecolor\":\"white\",\"landcolor\":\"#E5ECF6\",\"showlakes\":true,\"showland\":true,\"subunitcolor\":\"white\"},\"hoverlabel\":{\"align\":\"left\"},\"hovermode\":\"closest\",\"mapbox\":{\"style\":\"light\"},\"paper_bgcolor\":\"white\",\"plot_bgcolor\":\"#E5ECF6\",\"polar\":{\"angularaxis\":{\"gridcolor\":\"white\",\"linecolor\":\"white\",\"ticks\":\"\"},\"bgcolor\":\"#E5ECF6\",\"radialaxis\":{\"gridcolor\":\"white\",\"linecolor\":\"white\",\"ticks\":\"\"}},\"scene\":{\"xaxis\":{\"backgroundcolor\":\"#E5ECF6\",\"gridcolor\":\"white\",\"gridwidth\":2,\"linecolor\":\"white\",\"showbackground\":true,\"ticks\":\"\",\"zerolinecolor\":\"white\"},\"yaxis\":{\"backgroundcolor\":\"#E5ECF6\",\"gridcolor\":\"white\",\"gridwidth\":2,\"linecolor\":\"white\",\"showbackground\":true,\"ticks\":\"\",\"zerolinecolor\":\"white\"},\"zaxis\":{\"backgroundcolor\":\"#E5ECF6\",\"gridcolor\":\"white\",\"gridwidth\":2,\"linecolor\":\"white\",\"showbackground\":true,\"ticks\":\"\",\"zerolinecolor\":\"white\"}},\"shapedefaults\":{\"line\":{\"color\":\"#2a3f5f\"}},\"ternary\":{\"aaxis\":{\"gridcolor\":\"white\",\"linecolor\":\"white\",\"ticks\":\"\"},\"baxis\":{\"gridcolor\":\"white\",\"linecolor\":\"white\",\"ticks\":\"\"},\"bgcolor\":\"#E5ECF6\",\"caxis\":{\"gridcolor\":\"white\",\"linecolor\":\"white\",\"ticks\":\"\"}},\"title\":{\"x\":0.05},\"xaxis\":{\"automargin\":true,\"gridcolor\":\"white\",\"linecolor\":\"white\",\"ticks\":\"\",\"title\":{\"standoff\":15},\"zerolinecolor\":\"white\",\"zerolinewidth\":2},\"yaxis\":{\"automargin\":true,\"gridcolor\":\"white\",\"linecolor\":\"white\",\"ticks\":\"\",\"title\":{\"standoff\":15},\"zerolinecolor\":\"white\",\"zerolinewidth\":2}}},\"title\":{\"text\":\"Athlets per Olympic game\"},\"xaxis\":{\"showticklabels\":true,\"title\":{\"text\":\"Year\"}},\"yaxis\":{\"title\":{\"text\":\"Number of athlets\"}}},                        {\"responsive\": true}                    ).then(function(){\n",
       "                            \n",
       "var gd = document.getElementById('cbf2f297-9036-4185-8540-761c2aa37bae');\n",
       "var x = new MutationObserver(function (mutations, observer) {{\n",
       "        var display = window.getComputedStyle(gd).display;\n",
       "        if (!display || display === 'none') {{\n",
       "            console.log([gd, 'removed!']);\n",
       "            Plotly.purge(gd);\n",
       "            observer.disconnect();\n",
       "        }}\n",
       "}});\n",
       "\n",
       "// Listen for the removal of the full notebook cells\n",
       "var notebookContainer = gd.closest('#notebook-container');\n",
       "if (notebookContainer) {{\n",
       "    x.observe(notebookContainer, {childList: true});\n",
       "}}\n",
       "\n",
       "// Listen for the clearing of the current output cell\n",
       "var outputEl = gd.closest('.output');\n",
       "if (outputEl) {{\n",
       "    x.observe(outputEl, {childList: true});\n",
       "}}\n",
       "\n",
       "                        })                };                });            </script>        </div>"
      ]
     },
     "metadata": {},
     "output_type": "display_data"
    }
   ],
   "source": [
    "dfS = df[df['Season'] =='Summer']; dfW = df[df['Season'] =='Winter']\n",
    "\n",
    "traceS = go.Scatter(\n",
    "    x = dfS['Year'],y = dfS['Athlets'],\n",
    "    name=\"Summer Games\",\n",
    "    marker=dict(color=\"Red\"),\n",
    "    mode = \"markers+lines\"\n",
    ")\n",
    "traceW = go.Scatter(\n",
    "    x = dfW['Year'],y = dfW['Athlets'],\n",
    "    name=\"Winter Games\",\n",
    "    marker=dict(color=\"rgba(0, 0, 112, 1)\"),\n",
    "    mode = \"markers+lines\"\n",
    ")\n",
    "\n",
    "data = [traceS, traceW]\n",
    "layout = dict(title = 'Athlets per Olympic game',\n",
    "          xaxis = dict(title = 'Year', showticklabels=True), \n",
    "          yaxis = dict(title = 'Number of athlets'),\n",
    "          hovermode = 'closest'\n",
    "         )\n",
    "fig = dict(data=data, layout=layout)\n",
    "iplot(fig, filename='events-athlets2')"
   ]
  },
  {
   "cell_type": "markdown",
   "id": "7aba986b",
   "metadata": {
    "papermill": {
     "duration": 0.026312,
     "end_time": "2022-07-27T20:00:41.068910",
     "exception": false,
     "start_time": "2022-07-27T20:00:41.042598",
     "status": "completed"
    },
    "tags": []
   },
   "source": [
    "# 4. Show in subplots and display the previous variables side-by-side, on two colums."
   ]
  },
  {
   "cell_type": "code",
   "execution_count": 12,
   "id": "3ba57072",
   "metadata": {
    "_uuid": "fa9ad38b135f6e6c34436b00505d3180cae1b169",
    "execution": {
     "iopub.execute_input": "2022-07-27T20:00:41.124419Z",
     "iopub.status.busy": "2022-07-27T20:00:41.124033Z",
     "iopub.status.idle": "2022-07-27T20:00:41.295289Z",
     "shell.execute_reply": "2022-07-27T20:00:41.293750Z"
    },
    "papermill": {
     "duration": 0.205281,
     "end_time": "2022-07-27T20:00:41.300861",
     "exception": false,
     "start_time": "2022-07-27T20:00:41.095580",
     "status": "completed"
    },
    "tags": []
   },
   "outputs": [
    {
     "name": "stderr",
     "output_type": "stream",
     "text": [
      "/opt/conda/lib/python3.7/site-packages/plotly/tools.py:464: DeprecationWarning:\n",
      "\n",
      "plotly.tools.make_subplots is deprecated, please use plotly.subplots.make_subplots instead\n",
      "\n"
     ]
    },
    {
     "data": {
      "application/vnd.plotly.v1+json": {
       "config": {
        "linkText": "Export to plot.ly",
        "plotlyServerURL": "https://plot.ly",
        "showLink": false
       },
       "data": [
        {
         "marker": {
          "color": "Red"
         },
         "mode": "markers+lines",
         "name": "Summer Games",
         "text": [
          "Athina",
          "Paris",
          "St. Louis",
          "Athina",
          "London",
          "Stockholm",
          "Antwerpen",
          "Paris",
          "Amsterdam",
          "Los Angeles",
          "Berlin",
          "London",
          "Helsinki",
          "Melbourne",
          "Stockholm",
          "Roma",
          "Tokyo",
          "Mexico City",
          "Munich",
          "Montreal",
          "Moskva",
          "Los Angeles",
          "Seoul",
          "Barcelona",
          "Atlanta",
          "Sydney",
          "Athina",
          "Beijing",
          "London",
          "Rio de Janeiro"
         ],
         "type": "scatter",
         "x": [
          1896,
          1900,
          1904,
          1906,
          1908,
          1912,
          1920,
          1924,
          1928,
          1932,
          1936,
          1948,
          1952,
          1956,
          1956,
          1960,
          1964,
          1968,
          1972,
          1976,
          1980,
          1984,
          1988,
          1992,
          1996,
          2000,
          2004,
          2008,
          2012,
          2016
         ],
         "xaxis": "x",
         "y": [
          380,
          1936,
          1301,
          1733,
          3101,
          4040,
          4292,
          5233,
          4992,
          2969,
          6506,
          6405,
          8270,
          4829,
          298,
          8119,
          7702,
          8588,
          10304,
          8641,
          7191,
          9454,
          12037,
          12977,
          13780,
          13821,
          13443,
          13602,
          12920,
          13688
         ],
         "yaxis": "y"
        },
        {
         "marker": {
          "color": "Blue"
         },
         "mode": "markers+lines",
         "name": "Winter Games",
         "text": [
          "Chamonix",
          "Sankt Moritz",
          "Lake Placid",
          "Garmisch-Partenkirchen",
          "Sankt Moritz",
          "Oslo",
          "Cortina d'Ampezzo",
          "Squaw Valley",
          "Innsbruck",
          "Grenoble",
          "Sapporo",
          "Innsbruck",
          "Lake Placid",
          "Sarajevo",
          "Calgary",
          "Albertville",
          "Lillehammer",
          "Nagano",
          "Salt Lake City",
          "Torino",
          "Vancouver",
          "Sochi"
         ],
         "type": "scatter",
         "x": [
          1924,
          1928,
          1932,
          1936,
          1948,
          1952,
          1956,
          1960,
          1964,
          1968,
          1972,
          1976,
          1980,
          1984,
          1988,
          1992,
          1994,
          1998,
          2002,
          2006,
          2010,
          2014
         ],
         "xaxis": "x2",
         "y": [
          460,
          582,
          352,
          895,
          1075,
          1088,
          1307,
          1116,
          1778,
          1891,
          1655,
          1861,
          1746,
          2134,
          2639,
          3436,
          3160,
          3605,
          4109,
          4382,
          4402,
          4891
         ],
         "yaxis": "y2"
        }
       ],
       "layout": {
        "annotations": [
         {
          "font": {
           "size": 16
          },
          "showarrow": false,
          "text": "Number athlets: Summer Games",
          "x": 0.225,
          "xanchor": "center",
          "xref": "paper",
          "y": 1.0,
          "yanchor": "bottom",
          "yref": "paper"
         },
         {
          "font": {
           "size": 16
          },
          "showarrow": false,
          "text": "Number athlets: Winter Games",
          "x": 0.775,
          "xanchor": "center",
          "xref": "paper",
          "y": 1.0,
          "yanchor": "bottom",
          "yref": "paper"
         }
        ],
        "template": {
         "data": {
          "bar": [
           {
            "error_x": {
             "color": "#2a3f5f"
            },
            "error_y": {
             "color": "#2a3f5f"
            },
            "marker": {
             "line": {
              "color": "#E5ECF6",
              "width": 0.5
             },
             "pattern": {
              "fillmode": "overlay",
              "size": 10,
              "solidity": 0.2
             }
            },
            "type": "bar"
           }
          ],
          "barpolar": [
           {
            "marker": {
             "line": {
              "color": "#E5ECF6",
              "width": 0.5
             },
             "pattern": {
              "fillmode": "overlay",
              "size": 10,
              "solidity": 0.2
             }
            },
            "type": "barpolar"
           }
          ],
          "carpet": [
           {
            "aaxis": {
             "endlinecolor": "#2a3f5f",
             "gridcolor": "white",
             "linecolor": "white",
             "minorgridcolor": "white",
             "startlinecolor": "#2a3f5f"
            },
            "baxis": {
             "endlinecolor": "#2a3f5f",
             "gridcolor": "white",
             "linecolor": "white",
             "minorgridcolor": "white",
             "startlinecolor": "#2a3f5f"
            },
            "type": "carpet"
           }
          ],
          "choropleth": [
           {
            "colorbar": {
             "outlinewidth": 0,
             "ticks": ""
            },
            "type": "choropleth"
           }
          ],
          "contour": [
           {
            "colorbar": {
             "outlinewidth": 0,
             "ticks": ""
            },
            "colorscale": [
             [
              0.0,
              "#0d0887"
             ],
             [
              0.1111111111111111,
              "#46039f"
             ],
             [
              0.2222222222222222,
              "#7201a8"
             ],
             [
              0.3333333333333333,
              "#9c179e"
             ],
             [
              0.4444444444444444,
              "#bd3786"
             ],
             [
              0.5555555555555556,
              "#d8576b"
             ],
             [
              0.6666666666666666,
              "#ed7953"
             ],
             [
              0.7777777777777778,
              "#fb9f3a"
             ],
             [
              0.8888888888888888,
              "#fdca26"
             ],
             [
              1.0,
              "#f0f921"
             ]
            ],
            "type": "contour"
           }
          ],
          "contourcarpet": [
           {
            "colorbar": {
             "outlinewidth": 0,
             "ticks": ""
            },
            "type": "contourcarpet"
           }
          ],
          "heatmap": [
           {
            "colorbar": {
             "outlinewidth": 0,
             "ticks": ""
            },
            "colorscale": [
             [
              0.0,
              "#0d0887"
             ],
             [
              0.1111111111111111,
              "#46039f"
             ],
             [
              0.2222222222222222,
              "#7201a8"
             ],
             [
              0.3333333333333333,
              "#9c179e"
             ],
             [
              0.4444444444444444,
              "#bd3786"
             ],
             [
              0.5555555555555556,
              "#d8576b"
             ],
             [
              0.6666666666666666,
              "#ed7953"
             ],
             [
              0.7777777777777778,
              "#fb9f3a"
             ],
             [
              0.8888888888888888,
              "#fdca26"
             ],
             [
              1.0,
              "#f0f921"
             ]
            ],
            "type": "heatmap"
           }
          ],
          "heatmapgl": [
           {
            "colorbar": {
             "outlinewidth": 0,
             "ticks": ""
            },
            "colorscale": [
             [
              0.0,
              "#0d0887"
             ],
             [
              0.1111111111111111,
              "#46039f"
             ],
             [
              0.2222222222222222,
              "#7201a8"
             ],
             [
              0.3333333333333333,
              "#9c179e"
             ],
             [
              0.4444444444444444,
              "#bd3786"
             ],
             [
              0.5555555555555556,
              "#d8576b"
             ],
             [
              0.6666666666666666,
              "#ed7953"
             ],
             [
              0.7777777777777778,
              "#fb9f3a"
             ],
             [
              0.8888888888888888,
              "#fdca26"
             ],
             [
              1.0,
              "#f0f921"
             ]
            ],
            "type": "heatmapgl"
           }
          ],
          "histogram": [
           {
            "marker": {
             "pattern": {
              "fillmode": "overlay",
              "size": 10,
              "solidity": 0.2
             }
            },
            "type": "histogram"
           }
          ],
          "histogram2d": [
           {
            "colorbar": {
             "outlinewidth": 0,
             "ticks": ""
            },
            "colorscale": [
             [
              0.0,
              "#0d0887"
             ],
             [
              0.1111111111111111,
              "#46039f"
             ],
             [
              0.2222222222222222,
              "#7201a8"
             ],
             [
              0.3333333333333333,
              "#9c179e"
             ],
             [
              0.4444444444444444,
              "#bd3786"
             ],
             [
              0.5555555555555556,
              "#d8576b"
             ],
             [
              0.6666666666666666,
              "#ed7953"
             ],
             [
              0.7777777777777778,
              "#fb9f3a"
             ],
             [
              0.8888888888888888,
              "#fdca26"
             ],
             [
              1.0,
              "#f0f921"
             ]
            ],
            "type": "histogram2d"
           }
          ],
          "histogram2dcontour": [
           {
            "colorbar": {
             "outlinewidth": 0,
             "ticks": ""
            },
            "colorscale": [
             [
              0.0,
              "#0d0887"
             ],
             [
              0.1111111111111111,
              "#46039f"
             ],
             [
              0.2222222222222222,
              "#7201a8"
             ],
             [
              0.3333333333333333,
              "#9c179e"
             ],
             [
              0.4444444444444444,
              "#bd3786"
             ],
             [
              0.5555555555555556,
              "#d8576b"
             ],
             [
              0.6666666666666666,
              "#ed7953"
             ],
             [
              0.7777777777777778,
              "#fb9f3a"
             ],
             [
              0.8888888888888888,
              "#fdca26"
             ],
             [
              1.0,
              "#f0f921"
             ]
            ],
            "type": "histogram2dcontour"
           }
          ],
          "mesh3d": [
           {
            "colorbar": {
             "outlinewidth": 0,
             "ticks": ""
            },
            "type": "mesh3d"
           }
          ],
          "parcoords": [
           {
            "line": {
             "colorbar": {
              "outlinewidth": 0,
              "ticks": ""
             }
            },
            "type": "parcoords"
           }
          ],
          "pie": [
           {
            "automargin": true,
            "type": "pie"
           }
          ],
          "scatter": [
           {
            "fillpattern": {
             "fillmode": "overlay",
             "size": 10,
             "solidity": 0.2
            },
            "type": "scatter"
           }
          ],
          "scatter3d": [
           {
            "line": {
             "colorbar": {
              "outlinewidth": 0,
              "ticks": ""
             }
            },
            "marker": {
             "colorbar": {
              "outlinewidth": 0,
              "ticks": ""
             }
            },
            "type": "scatter3d"
           }
          ],
          "scattercarpet": [
           {
            "marker": {
             "colorbar": {
              "outlinewidth": 0,
              "ticks": ""
             }
            },
            "type": "scattercarpet"
           }
          ],
          "scattergeo": [
           {
            "marker": {
             "colorbar": {
              "outlinewidth": 0,
              "ticks": ""
             }
            },
            "type": "scattergeo"
           }
          ],
          "scattergl": [
           {
            "marker": {
             "colorbar": {
              "outlinewidth": 0,
              "ticks": ""
             }
            },
            "type": "scattergl"
           }
          ],
          "scattermapbox": [
           {
            "marker": {
             "colorbar": {
              "outlinewidth": 0,
              "ticks": ""
             }
            },
            "type": "scattermapbox"
           }
          ],
          "scatterpolar": [
           {
            "marker": {
             "colorbar": {
              "outlinewidth": 0,
              "ticks": ""
             }
            },
            "type": "scatterpolar"
           }
          ],
          "scatterpolargl": [
           {
            "marker": {
             "colorbar": {
              "outlinewidth": 0,
              "ticks": ""
             }
            },
            "type": "scatterpolargl"
           }
          ],
          "scatterternary": [
           {
            "marker": {
             "colorbar": {
              "outlinewidth": 0,
              "ticks": ""
             }
            },
            "type": "scatterternary"
           }
          ],
          "surface": [
           {
            "colorbar": {
             "outlinewidth": 0,
             "ticks": ""
            },
            "colorscale": [
             [
              0.0,
              "#0d0887"
             ],
             [
              0.1111111111111111,
              "#46039f"
             ],
             [
              0.2222222222222222,
              "#7201a8"
             ],
             [
              0.3333333333333333,
              "#9c179e"
             ],
             [
              0.4444444444444444,
              "#bd3786"
             ],
             [
              0.5555555555555556,
              "#d8576b"
             ],
             [
              0.6666666666666666,
              "#ed7953"
             ],
             [
              0.7777777777777778,
              "#fb9f3a"
             ],
             [
              0.8888888888888888,
              "#fdca26"
             ],
             [
              1.0,
              "#f0f921"
             ]
            ],
            "type": "surface"
           }
          ],
          "table": [
           {
            "cells": {
             "fill": {
              "color": "#EBF0F8"
             },
             "line": {
              "color": "white"
             }
            },
            "header": {
             "fill": {
              "color": "#C8D4E3"
             },
             "line": {
              "color": "white"
             }
            },
            "type": "table"
           }
          ]
         },
         "layout": {
          "annotationdefaults": {
           "arrowcolor": "#2a3f5f",
           "arrowhead": 0,
           "arrowwidth": 1
          },
          "autotypenumbers": "strict",
          "coloraxis": {
           "colorbar": {
            "outlinewidth": 0,
            "ticks": ""
           }
          },
          "colorscale": {
           "diverging": [
            [
             0,
             "#8e0152"
            ],
            [
             0.1,
             "#c51b7d"
            ],
            [
             0.2,
             "#de77ae"
            ],
            [
             0.3,
             "#f1b6da"
            ],
            [
             0.4,
             "#fde0ef"
            ],
            [
             0.5,
             "#f7f7f7"
            ],
            [
             0.6,
             "#e6f5d0"
            ],
            [
             0.7,
             "#b8e186"
            ],
            [
             0.8,
             "#7fbc41"
            ],
            [
             0.9,
             "#4d9221"
            ],
            [
             1,
             "#276419"
            ]
           ],
           "sequential": [
            [
             0.0,
             "#0d0887"
            ],
            [
             0.1111111111111111,
             "#46039f"
            ],
            [
             0.2222222222222222,
             "#7201a8"
            ],
            [
             0.3333333333333333,
             "#9c179e"
            ],
            [
             0.4444444444444444,
             "#bd3786"
            ],
            [
             0.5555555555555556,
             "#d8576b"
            ],
            [
             0.6666666666666666,
             "#ed7953"
            ],
            [
             0.7777777777777778,
             "#fb9f3a"
            ],
            [
             0.8888888888888888,
             "#fdca26"
            ],
            [
             1.0,
             "#f0f921"
            ]
           ],
           "sequentialminus": [
            [
             0.0,
             "#0d0887"
            ],
            [
             0.1111111111111111,
             "#46039f"
            ],
            [
             0.2222222222222222,
             "#7201a8"
            ],
            [
             0.3333333333333333,
             "#9c179e"
            ],
            [
             0.4444444444444444,
             "#bd3786"
            ],
            [
             0.5555555555555556,
             "#d8576b"
            ],
            [
             0.6666666666666666,
             "#ed7953"
            ],
            [
             0.7777777777777778,
             "#fb9f3a"
            ],
            [
             0.8888888888888888,
             "#fdca26"
            ],
            [
             1.0,
             "#f0f921"
            ]
           ]
          },
          "colorway": [
           "#636efa",
           "#EF553B",
           "#00cc96",
           "#ab63fa",
           "#FFA15A",
           "#19d3f3",
           "#FF6692",
           "#B6E880",
           "#FF97FF",
           "#FECB52"
          ],
          "font": {
           "color": "#2a3f5f"
          },
          "geo": {
           "bgcolor": "white",
           "lakecolor": "white",
           "landcolor": "#E5ECF6",
           "showlakes": true,
           "showland": true,
           "subunitcolor": "white"
          },
          "hoverlabel": {
           "align": "left"
          },
          "hovermode": "closest",
          "mapbox": {
           "style": "light"
          },
          "paper_bgcolor": "white",
          "plot_bgcolor": "#E5ECF6",
          "polar": {
           "angularaxis": {
            "gridcolor": "white",
            "linecolor": "white",
            "ticks": ""
           },
           "bgcolor": "#E5ECF6",
           "radialaxis": {
            "gridcolor": "white",
            "linecolor": "white",
            "ticks": ""
           }
          },
          "scene": {
           "xaxis": {
            "backgroundcolor": "#E5ECF6",
            "gridcolor": "white",
            "gridwidth": 2,
            "linecolor": "white",
            "showbackground": true,
            "ticks": "",
            "zerolinecolor": "white"
           },
           "yaxis": {
            "backgroundcolor": "#E5ECF6",
            "gridcolor": "white",
            "gridwidth": 2,
            "linecolor": "white",
            "showbackground": true,
            "ticks": "",
            "zerolinecolor": "white"
           },
           "zaxis": {
            "backgroundcolor": "#E5ECF6",
            "gridcolor": "white",
            "gridwidth": 2,
            "linecolor": "white",
            "showbackground": true,
            "ticks": "",
            "zerolinecolor": "white"
           }
          },
          "shapedefaults": {
           "line": {
            "color": "#2a3f5f"
           }
          },
          "ternary": {
           "aaxis": {
            "gridcolor": "white",
            "linecolor": "white",
            "ticks": ""
           },
           "baxis": {
            "gridcolor": "white",
            "linecolor": "white",
            "ticks": ""
           },
           "bgcolor": "#E5ECF6",
           "caxis": {
            "gridcolor": "white",
            "linecolor": "white",
            "ticks": ""
           }
          },
          "title": {
           "x": 0.05
          },
          "xaxis": {
           "automargin": true,
           "gridcolor": "white",
           "linecolor": "white",
           "ticks": "",
           "title": {
            "standoff": 15
           },
           "zerolinecolor": "white",
           "zerolinewidth": 2
          },
          "yaxis": {
           "automargin": true,
           "gridcolor": "white",
           "linecolor": "white",
           "ticks": "",
           "title": {
            "standoff": 15
           },
           "zerolinecolor": "white",
           "zerolinewidth": 2
          }
         }
        },
        "xaxis": {
         "anchor": "y",
         "domain": [
          0.0,
          0.45
         ]
        },
        "xaxis2": {
         "anchor": "y2",
         "domain": [
          0.55,
          1.0
         ]
        },
        "yaxis": {
         "anchor": "x",
         "domain": [
          0.0,
          1.0
         ]
        },
        "yaxis2": {
         "anchor": "x2",
         "domain": [
          0.0,
          1.0
         ]
        }
       }
      },
      "text/html": [
       "<div>                            <div id=\"ee56907d-ec07-4f44-98f8-d8e37ed3bdd3\" class=\"plotly-graph-div\" style=\"height:525px; width:100%;\"></div>            <script type=\"text/javascript\">                require([\"plotly\"], function(Plotly) {                    window.PLOTLYENV=window.PLOTLYENV || {};                                    if (document.getElementById(\"ee56907d-ec07-4f44-98f8-d8e37ed3bdd3\")) {                    Plotly.newPlot(                        \"ee56907d-ec07-4f44-98f8-d8e37ed3bdd3\",                        [{\"marker\":{\"color\":\"Red\"},\"mode\":\"markers+lines\",\"name\":\"Summer Games\",\"text\":[\"Athina\",\"Paris\",\"St. Louis\",\"Athina\",\"London\",\"Stockholm\",\"Antwerpen\",\"Paris\",\"Amsterdam\",\"Los Angeles\",\"Berlin\",\"London\",\"Helsinki\",\"Melbourne\",\"Stockholm\",\"Roma\",\"Tokyo\",\"Mexico City\",\"Munich\",\"Montreal\",\"Moskva\",\"Los Angeles\",\"Seoul\",\"Barcelona\",\"Atlanta\",\"Sydney\",\"Athina\",\"Beijing\",\"London\",\"Rio de Janeiro\"],\"x\":[1896,1900,1904,1906,1908,1912,1920,1924,1928,1932,1936,1948,1952,1956,1956,1960,1964,1968,1972,1976,1980,1984,1988,1992,1996,2000,2004,2008,2012,2016],\"xaxis\":\"x\",\"y\":[380,1936,1301,1733,3101,4040,4292,5233,4992,2969,6506,6405,8270,4829,298,8119,7702,8588,10304,8641,7191,9454,12037,12977,13780,13821,13443,13602,12920,13688],\"yaxis\":\"y\",\"type\":\"scatter\"},{\"marker\":{\"color\":\"Blue\"},\"mode\":\"markers+lines\",\"name\":\"Winter Games\",\"text\":[\"Chamonix\",\"Sankt Moritz\",\"Lake Placid\",\"Garmisch-Partenkirchen\",\"Sankt Moritz\",\"Oslo\",\"Cortina d'Ampezzo\",\"Squaw Valley\",\"Innsbruck\",\"Grenoble\",\"Sapporo\",\"Innsbruck\",\"Lake Placid\",\"Sarajevo\",\"Calgary\",\"Albertville\",\"Lillehammer\",\"Nagano\",\"Salt Lake City\",\"Torino\",\"Vancouver\",\"Sochi\"],\"x\":[1924,1928,1932,1936,1948,1952,1956,1960,1964,1968,1972,1976,1980,1984,1988,1992,1994,1998,2002,2006,2010,2014],\"xaxis\":\"x2\",\"y\":[460,582,352,895,1075,1088,1307,1116,1778,1891,1655,1861,1746,2134,2639,3436,3160,3605,4109,4382,4402,4891],\"yaxis\":\"y2\",\"type\":\"scatter\"}],                        {\"annotations\":[{\"font\":{\"size\":16},\"showarrow\":false,\"text\":\"Number athlets: Summer Games\",\"x\":0.225,\"xanchor\":\"center\",\"xref\":\"paper\",\"y\":1.0,\"yanchor\":\"bottom\",\"yref\":\"paper\"},{\"font\":{\"size\":16},\"showarrow\":false,\"text\":\"Number athlets: Winter Games\",\"x\":0.775,\"xanchor\":\"center\",\"xref\":\"paper\",\"y\":1.0,\"yanchor\":\"bottom\",\"yref\":\"paper\"}],\"template\":{\"data\":{\"barpolar\":[{\"marker\":{\"line\":{\"color\":\"#E5ECF6\",\"width\":0.5},\"pattern\":{\"fillmode\":\"overlay\",\"size\":10,\"solidity\":0.2}},\"type\":\"barpolar\"}],\"bar\":[{\"error_x\":{\"color\":\"#2a3f5f\"},\"error_y\":{\"color\":\"#2a3f5f\"},\"marker\":{\"line\":{\"color\":\"#E5ECF6\",\"width\":0.5},\"pattern\":{\"fillmode\":\"overlay\",\"size\":10,\"solidity\":0.2}},\"type\":\"bar\"}],\"carpet\":[{\"aaxis\":{\"endlinecolor\":\"#2a3f5f\",\"gridcolor\":\"white\",\"linecolor\":\"white\",\"minorgridcolor\":\"white\",\"startlinecolor\":\"#2a3f5f\"},\"baxis\":{\"endlinecolor\":\"#2a3f5f\",\"gridcolor\":\"white\",\"linecolor\":\"white\",\"minorgridcolor\":\"white\",\"startlinecolor\":\"#2a3f5f\"},\"type\":\"carpet\"}],\"choropleth\":[{\"colorbar\":{\"outlinewidth\":0,\"ticks\":\"\"},\"type\":\"choropleth\"}],\"contourcarpet\":[{\"colorbar\":{\"outlinewidth\":0,\"ticks\":\"\"},\"type\":\"contourcarpet\"}],\"contour\":[{\"colorbar\":{\"outlinewidth\":0,\"ticks\":\"\"},\"colorscale\":[[0.0,\"#0d0887\"],[0.1111111111111111,\"#46039f\"],[0.2222222222222222,\"#7201a8\"],[0.3333333333333333,\"#9c179e\"],[0.4444444444444444,\"#bd3786\"],[0.5555555555555556,\"#d8576b\"],[0.6666666666666666,\"#ed7953\"],[0.7777777777777778,\"#fb9f3a\"],[0.8888888888888888,\"#fdca26\"],[1.0,\"#f0f921\"]],\"type\":\"contour\"}],\"heatmapgl\":[{\"colorbar\":{\"outlinewidth\":0,\"ticks\":\"\"},\"colorscale\":[[0.0,\"#0d0887\"],[0.1111111111111111,\"#46039f\"],[0.2222222222222222,\"#7201a8\"],[0.3333333333333333,\"#9c179e\"],[0.4444444444444444,\"#bd3786\"],[0.5555555555555556,\"#d8576b\"],[0.6666666666666666,\"#ed7953\"],[0.7777777777777778,\"#fb9f3a\"],[0.8888888888888888,\"#fdca26\"],[1.0,\"#f0f921\"]],\"type\":\"heatmapgl\"}],\"heatmap\":[{\"colorbar\":{\"outlinewidth\":0,\"ticks\":\"\"},\"colorscale\":[[0.0,\"#0d0887\"],[0.1111111111111111,\"#46039f\"],[0.2222222222222222,\"#7201a8\"],[0.3333333333333333,\"#9c179e\"],[0.4444444444444444,\"#bd3786\"],[0.5555555555555556,\"#d8576b\"],[0.6666666666666666,\"#ed7953\"],[0.7777777777777778,\"#fb9f3a\"],[0.8888888888888888,\"#fdca26\"],[1.0,\"#f0f921\"]],\"type\":\"heatmap\"}],\"histogram2dcontour\":[{\"colorbar\":{\"outlinewidth\":0,\"ticks\":\"\"},\"colorscale\":[[0.0,\"#0d0887\"],[0.1111111111111111,\"#46039f\"],[0.2222222222222222,\"#7201a8\"],[0.3333333333333333,\"#9c179e\"],[0.4444444444444444,\"#bd3786\"],[0.5555555555555556,\"#d8576b\"],[0.6666666666666666,\"#ed7953\"],[0.7777777777777778,\"#fb9f3a\"],[0.8888888888888888,\"#fdca26\"],[1.0,\"#f0f921\"]],\"type\":\"histogram2dcontour\"}],\"histogram2d\":[{\"colorbar\":{\"outlinewidth\":0,\"ticks\":\"\"},\"colorscale\":[[0.0,\"#0d0887\"],[0.1111111111111111,\"#46039f\"],[0.2222222222222222,\"#7201a8\"],[0.3333333333333333,\"#9c179e\"],[0.4444444444444444,\"#bd3786\"],[0.5555555555555556,\"#d8576b\"],[0.6666666666666666,\"#ed7953\"],[0.7777777777777778,\"#fb9f3a\"],[0.8888888888888888,\"#fdca26\"],[1.0,\"#f0f921\"]],\"type\":\"histogram2d\"}],\"histogram\":[{\"marker\":{\"pattern\":{\"fillmode\":\"overlay\",\"size\":10,\"solidity\":0.2}},\"type\":\"histogram\"}],\"mesh3d\":[{\"colorbar\":{\"outlinewidth\":0,\"ticks\":\"\"},\"type\":\"mesh3d\"}],\"parcoords\":[{\"line\":{\"colorbar\":{\"outlinewidth\":0,\"ticks\":\"\"}},\"type\":\"parcoords\"}],\"pie\":[{\"automargin\":true,\"type\":\"pie\"}],\"scatter3d\":[{\"line\":{\"colorbar\":{\"outlinewidth\":0,\"ticks\":\"\"}},\"marker\":{\"colorbar\":{\"outlinewidth\":0,\"ticks\":\"\"}},\"type\":\"scatter3d\"}],\"scattercarpet\":[{\"marker\":{\"colorbar\":{\"outlinewidth\":0,\"ticks\":\"\"}},\"type\":\"scattercarpet\"}],\"scattergeo\":[{\"marker\":{\"colorbar\":{\"outlinewidth\":0,\"ticks\":\"\"}},\"type\":\"scattergeo\"}],\"scattergl\":[{\"marker\":{\"colorbar\":{\"outlinewidth\":0,\"ticks\":\"\"}},\"type\":\"scattergl\"}],\"scattermapbox\":[{\"marker\":{\"colorbar\":{\"outlinewidth\":0,\"ticks\":\"\"}},\"type\":\"scattermapbox\"}],\"scatterpolargl\":[{\"marker\":{\"colorbar\":{\"outlinewidth\":0,\"ticks\":\"\"}},\"type\":\"scatterpolargl\"}],\"scatterpolar\":[{\"marker\":{\"colorbar\":{\"outlinewidth\":0,\"ticks\":\"\"}},\"type\":\"scatterpolar\"}],\"scatter\":[{\"fillpattern\":{\"fillmode\":\"overlay\",\"size\":10,\"solidity\":0.2},\"type\":\"scatter\"}],\"scatterternary\":[{\"marker\":{\"colorbar\":{\"outlinewidth\":0,\"ticks\":\"\"}},\"type\":\"scatterternary\"}],\"surface\":[{\"colorbar\":{\"outlinewidth\":0,\"ticks\":\"\"},\"colorscale\":[[0.0,\"#0d0887\"],[0.1111111111111111,\"#46039f\"],[0.2222222222222222,\"#7201a8\"],[0.3333333333333333,\"#9c179e\"],[0.4444444444444444,\"#bd3786\"],[0.5555555555555556,\"#d8576b\"],[0.6666666666666666,\"#ed7953\"],[0.7777777777777778,\"#fb9f3a\"],[0.8888888888888888,\"#fdca26\"],[1.0,\"#f0f921\"]],\"type\":\"surface\"}],\"table\":[{\"cells\":{\"fill\":{\"color\":\"#EBF0F8\"},\"line\":{\"color\":\"white\"}},\"header\":{\"fill\":{\"color\":\"#C8D4E3\"},\"line\":{\"color\":\"white\"}},\"type\":\"table\"}]},\"layout\":{\"annotationdefaults\":{\"arrowcolor\":\"#2a3f5f\",\"arrowhead\":0,\"arrowwidth\":1},\"autotypenumbers\":\"strict\",\"coloraxis\":{\"colorbar\":{\"outlinewidth\":0,\"ticks\":\"\"}},\"colorscale\":{\"diverging\":[[0,\"#8e0152\"],[0.1,\"#c51b7d\"],[0.2,\"#de77ae\"],[0.3,\"#f1b6da\"],[0.4,\"#fde0ef\"],[0.5,\"#f7f7f7\"],[0.6,\"#e6f5d0\"],[0.7,\"#b8e186\"],[0.8,\"#7fbc41\"],[0.9,\"#4d9221\"],[1,\"#276419\"]],\"sequential\":[[0.0,\"#0d0887\"],[0.1111111111111111,\"#46039f\"],[0.2222222222222222,\"#7201a8\"],[0.3333333333333333,\"#9c179e\"],[0.4444444444444444,\"#bd3786\"],[0.5555555555555556,\"#d8576b\"],[0.6666666666666666,\"#ed7953\"],[0.7777777777777778,\"#fb9f3a\"],[0.8888888888888888,\"#fdca26\"],[1.0,\"#f0f921\"]],\"sequentialminus\":[[0.0,\"#0d0887\"],[0.1111111111111111,\"#46039f\"],[0.2222222222222222,\"#7201a8\"],[0.3333333333333333,\"#9c179e\"],[0.4444444444444444,\"#bd3786\"],[0.5555555555555556,\"#d8576b\"],[0.6666666666666666,\"#ed7953\"],[0.7777777777777778,\"#fb9f3a\"],[0.8888888888888888,\"#fdca26\"],[1.0,\"#f0f921\"]]},\"colorway\":[\"#636efa\",\"#EF553B\",\"#00cc96\",\"#ab63fa\",\"#FFA15A\",\"#19d3f3\",\"#FF6692\",\"#B6E880\",\"#FF97FF\",\"#FECB52\"],\"font\":{\"color\":\"#2a3f5f\"},\"geo\":{\"bgcolor\":\"white\",\"lakecolor\":\"white\",\"landcolor\":\"#E5ECF6\",\"showlakes\":true,\"showland\":true,\"subunitcolor\":\"white\"},\"hoverlabel\":{\"align\":\"left\"},\"hovermode\":\"closest\",\"mapbox\":{\"style\":\"light\"},\"paper_bgcolor\":\"white\",\"plot_bgcolor\":\"#E5ECF6\",\"polar\":{\"angularaxis\":{\"gridcolor\":\"white\",\"linecolor\":\"white\",\"ticks\":\"\"},\"bgcolor\":\"#E5ECF6\",\"radialaxis\":{\"gridcolor\":\"white\",\"linecolor\":\"white\",\"ticks\":\"\"}},\"scene\":{\"xaxis\":{\"backgroundcolor\":\"#E5ECF6\",\"gridcolor\":\"white\",\"gridwidth\":2,\"linecolor\":\"white\",\"showbackground\":true,\"ticks\":\"\",\"zerolinecolor\":\"white\"},\"yaxis\":{\"backgroundcolor\":\"#E5ECF6\",\"gridcolor\":\"white\",\"gridwidth\":2,\"linecolor\":\"white\",\"showbackground\":true,\"ticks\":\"\",\"zerolinecolor\":\"white\"},\"zaxis\":{\"backgroundcolor\":\"#E5ECF6\",\"gridcolor\":\"white\",\"gridwidth\":2,\"linecolor\":\"white\",\"showbackground\":true,\"ticks\":\"\",\"zerolinecolor\":\"white\"}},\"shapedefaults\":{\"line\":{\"color\":\"#2a3f5f\"}},\"ternary\":{\"aaxis\":{\"gridcolor\":\"white\",\"linecolor\":\"white\",\"ticks\":\"\"},\"baxis\":{\"gridcolor\":\"white\",\"linecolor\":\"white\",\"ticks\":\"\"},\"bgcolor\":\"#E5ECF6\",\"caxis\":{\"gridcolor\":\"white\",\"linecolor\":\"white\",\"ticks\":\"\"}},\"title\":{\"x\":0.05},\"xaxis\":{\"automargin\":true,\"gridcolor\":\"white\",\"linecolor\":\"white\",\"ticks\":\"\",\"title\":{\"standoff\":15},\"zerolinecolor\":\"white\",\"zerolinewidth\":2},\"yaxis\":{\"automargin\":true,\"gridcolor\":\"white\",\"linecolor\":\"white\",\"ticks\":\"\",\"title\":{\"standoff\":15},\"zerolinecolor\":\"white\",\"zerolinewidth\":2}}},\"xaxis\":{\"anchor\":\"y\",\"domain\":[0.0,0.45]},\"yaxis\":{\"anchor\":\"x\",\"domain\":[0.0,1.0]},\"xaxis2\":{\"anchor\":\"y2\",\"domain\":[0.55,1.0]},\"yaxis2\":{\"anchor\":\"x2\",\"domain\":[0.0,1.0]}},                        {\"responsive\": true}                    ).then(function(){\n",
       "                            \n",
       "var gd = document.getElementById('ee56907d-ec07-4f44-98f8-d8e37ed3bdd3');\n",
       "var x = new MutationObserver(function (mutations, observer) {{\n",
       "        var display = window.getComputedStyle(gd).display;\n",
       "        if (!display || display === 'none') {{\n",
       "            console.log([gd, 'removed!']);\n",
       "            Plotly.purge(gd);\n",
       "            observer.disconnect();\n",
       "        }}\n",
       "}});\n",
       "\n",
       "// Listen for the removal of the full notebook cells\n",
       "var notebookContainer = gd.closest('#notebook-container');\n",
       "if (notebookContainer) {{\n",
       "    x.observe(notebookContainer, {childList: true});\n",
       "}}\n",
       "\n",
       "// Listen for the clearing of the current output cell\n",
       "var outputEl = gd.closest('.output');\n",
       "if (outputEl) {{\n",
       "    x.observe(outputEl, {childList: true});\n",
       "}}\n",
       "\n",
       "                        })                };                });            </script>        </div>"
      ]
     },
     "metadata": {},
     "output_type": "display_data"
    }
   ],
   "source": [
    "traceS = go.Scatter(\n",
    "    x = dfS['Year'],y = dfS['Athlets'],\n",
    "    name=\"Summer Games\",\n",
    "    marker=dict(color=\"Red\"),\n",
    "    mode = \"markers+lines\",\n",
    "    text=dfS['City'],\n",
    ")\n",
    "traceW = go.Scatter(\n",
    "    x = dfW['Year'],y = dfW['Athlets'],\n",
    "    name=\"Winter Games\",\n",
    "    marker=dict(color=\"Blue\"),\n",
    "    mode = \"markers+lines\",\n",
    "    text=dfW['City']\n",
    ")\n",
    "\n",
    "data = [traceS, traceW]\n",
    "\n",
    "fig = tools.make_subplots(rows=1, cols=2, subplot_titles=('Number athlets: Summer Games', 'Number athlets: Winter Games'))\n",
    "fig.append_trace(traceS, 1, 1)\n",
    "fig.append_trace(traceW, 1, 2)\n",
    "\n",
    "iplot(fig, filename='events-athlets2')"
   ]
  },
  {
   "cell_type": "markdown",
   "id": "c564e649",
   "metadata": {
    "papermill": {
     "duration": 0.033556,
     "end_time": "2022-07-27T20:00:41.368115",
     "exception": false,
     "start_time": "2022-07-27T20:00:41.334559",
     "status": "completed"
    },
    "tags": []
   },
   "source": [
    "# 5. Display the number of athlets per Olympic Game using barplot."
   ]
  },
  {
   "cell_type": "code",
   "execution_count": 13,
   "id": "92d627c1",
   "metadata": {
    "_uuid": "4801770e28c62cac000dc5ca4d8a84548e55a2ef",
    "execution": {
     "iopub.execute_input": "2022-07-27T20:00:41.438210Z",
     "iopub.status.busy": "2022-07-27T20:00:41.437037Z",
     "iopub.status.idle": "2022-07-27T20:00:41.517419Z",
     "shell.execute_reply": "2022-07-27T20:00:41.516186Z"
    },
    "papermill": {
     "duration": 0.118221,
     "end_time": "2022-07-27T20:00:41.520307",
     "exception": false,
     "start_time": "2022-07-27T20:00:41.402086",
     "status": "completed"
    },
    "tags": []
   },
   "outputs": [],
   "source": [
    "tmp = athlete_events_df.groupby('Year')['City'].value_counts()\n",
    "df2 = pd.DataFrame(data={'Athlets': tmp.values}, index=tmp.index).reset_index()\n",
    "df2 = df2.merge(df)"
   ]
  },
  {
   "cell_type": "code",
   "execution_count": 14,
   "id": "40d4bf44",
   "metadata": {
    "_uuid": "207586de25b29d5898ede8ac2602f257686d01d7",
    "execution": {
     "iopub.execute_input": "2022-07-27T20:00:41.588701Z",
     "iopub.status.busy": "2022-07-27T20:00:41.588292Z",
     "iopub.status.idle": "2022-07-27T20:00:41.640278Z",
     "shell.execute_reply": "2022-07-27T20:00:41.638816Z"
    },
    "papermill": {
     "duration": 0.09076,
     "end_time": "2022-07-27T20:00:41.644684",
     "exception": false,
     "start_time": "2022-07-27T20:00:41.553924",
     "status": "completed"
    },
    "tags": []
   },
   "outputs": [
    {
     "data": {
      "application/vnd.plotly.v1+json": {
       "config": {
        "linkText": "Export to plot.ly",
        "plotlyServerURL": "https://plot.ly",
        "showLink": false
       },
       "data": [
        {
         "marker": {
          "color": "rgba(0, 83, 156, 1.00)"
         },
         "name": "Summer Games",
         "text": [
          "Athina",
          "Paris",
          "St. Louis",
          "Athina",
          "London",
          "Stockholm",
          "Antwerpen",
          "Paris",
          "Amsterdam",
          "Los Angeles",
          "Berlin",
          "London",
          "Helsinki",
          "Melbourne",
          "Stockholm",
          "Roma",
          "Tokyo",
          "Mexico City",
          "Munich",
          "Montreal",
          "Moskva",
          "Los Angeles",
          "Seoul",
          "Barcelona",
          "Atlanta",
          "Sydney",
          "Athina",
          "Beijing",
          "London",
          "Rio de Janeiro"
         ],
         "type": "bar",
         "x": [
          1896,
          1900,
          1904,
          1906,
          1908,
          1912,
          1920,
          1924,
          1928,
          1932,
          1936,
          1948,
          1952,
          1956,
          1956,
          1960,
          1964,
          1968,
          1972,
          1976,
          1980,
          1984,
          1988,
          1992,
          1996,
          2000,
          2004,
          2008,
          2012,
          2016
         ],
         "y": [
          380,
          1936,
          1301,
          1733,
          3101,
          4040,
          4292,
          5233,
          4992,
          2969,
          6506,
          6405,
          8270,
          4829,
          298,
          8119,
          7702,
          8588,
          10304,
          8641,
          7191,
          9454,
          12037,
          12977,
          13780,
          13821,
          13443,
          13602,
          12920,
          13688
         ]
        },
        {
         "marker": {
          "color": "rgba(238, 164, 127, 1.00)"
         },
         "name": "Winter Games",
         "text": [
          "Athina",
          "Paris",
          "St. Louis",
          "Athina",
          "London",
          "Stockholm",
          "Antwerpen",
          "Paris",
          "Amsterdam",
          "Los Angeles",
          "Berlin",
          "London",
          "Helsinki",
          "Melbourne",
          "Stockholm",
          "Roma",
          "Tokyo",
          "Mexico City",
          "Munich",
          "Montreal",
          "Moskva",
          "Los Angeles",
          "Seoul",
          "Barcelona",
          "Atlanta",
          "Sydney",
          "Athina",
          "Beijing",
          "London",
          "Rio de Janeiro"
         ],
         "type": "bar",
         "x": [
          1924,
          1928,
          1932,
          1936,
          1948,
          1952,
          1956,
          1960,
          1964,
          1968,
          1972,
          1976,
          1980,
          1984,
          1988,
          1992,
          1994,
          1998,
          2002,
          2006,
          2010,
          2014
         ],
         "y": [
          460,
          582,
          352,
          895,
          1075,
          1088,
          1307,
          1116,
          1778,
          1891,
          1655,
          1861,
          1746,
          2134,
          2639,
          3436,
          3160,
          3605,
          4109,
          4382,
          4402,
          4891
         ]
        }
       ],
       "layout": {
        "hovermode": "closest",
        "template": {
         "data": {
          "bar": [
           {
            "error_x": {
             "color": "#2a3f5f"
            },
            "error_y": {
             "color": "#2a3f5f"
            },
            "marker": {
             "line": {
              "color": "#E5ECF6",
              "width": 0.5
             },
             "pattern": {
              "fillmode": "overlay",
              "size": 10,
              "solidity": 0.2
             }
            },
            "type": "bar"
           }
          ],
          "barpolar": [
           {
            "marker": {
             "line": {
              "color": "#E5ECF6",
              "width": 0.5
             },
             "pattern": {
              "fillmode": "overlay",
              "size": 10,
              "solidity": 0.2
             }
            },
            "type": "barpolar"
           }
          ],
          "carpet": [
           {
            "aaxis": {
             "endlinecolor": "#2a3f5f",
             "gridcolor": "white",
             "linecolor": "white",
             "minorgridcolor": "white",
             "startlinecolor": "#2a3f5f"
            },
            "baxis": {
             "endlinecolor": "#2a3f5f",
             "gridcolor": "white",
             "linecolor": "white",
             "minorgridcolor": "white",
             "startlinecolor": "#2a3f5f"
            },
            "type": "carpet"
           }
          ],
          "choropleth": [
           {
            "colorbar": {
             "outlinewidth": 0,
             "ticks": ""
            },
            "type": "choropleth"
           }
          ],
          "contour": [
           {
            "colorbar": {
             "outlinewidth": 0,
             "ticks": ""
            },
            "colorscale": [
             [
              0.0,
              "#0d0887"
             ],
             [
              0.1111111111111111,
              "#46039f"
             ],
             [
              0.2222222222222222,
              "#7201a8"
             ],
             [
              0.3333333333333333,
              "#9c179e"
             ],
             [
              0.4444444444444444,
              "#bd3786"
             ],
             [
              0.5555555555555556,
              "#d8576b"
             ],
             [
              0.6666666666666666,
              "#ed7953"
             ],
             [
              0.7777777777777778,
              "#fb9f3a"
             ],
             [
              0.8888888888888888,
              "#fdca26"
             ],
             [
              1.0,
              "#f0f921"
             ]
            ],
            "type": "contour"
           }
          ],
          "contourcarpet": [
           {
            "colorbar": {
             "outlinewidth": 0,
             "ticks": ""
            },
            "type": "contourcarpet"
           }
          ],
          "heatmap": [
           {
            "colorbar": {
             "outlinewidth": 0,
             "ticks": ""
            },
            "colorscale": [
             [
              0.0,
              "#0d0887"
             ],
             [
              0.1111111111111111,
              "#46039f"
             ],
             [
              0.2222222222222222,
              "#7201a8"
             ],
             [
              0.3333333333333333,
              "#9c179e"
             ],
             [
              0.4444444444444444,
              "#bd3786"
             ],
             [
              0.5555555555555556,
              "#d8576b"
             ],
             [
              0.6666666666666666,
              "#ed7953"
             ],
             [
              0.7777777777777778,
              "#fb9f3a"
             ],
             [
              0.8888888888888888,
              "#fdca26"
             ],
             [
              1.0,
              "#f0f921"
             ]
            ],
            "type": "heatmap"
           }
          ],
          "heatmapgl": [
           {
            "colorbar": {
             "outlinewidth": 0,
             "ticks": ""
            },
            "colorscale": [
             [
              0.0,
              "#0d0887"
             ],
             [
              0.1111111111111111,
              "#46039f"
             ],
             [
              0.2222222222222222,
              "#7201a8"
             ],
             [
              0.3333333333333333,
              "#9c179e"
             ],
             [
              0.4444444444444444,
              "#bd3786"
             ],
             [
              0.5555555555555556,
              "#d8576b"
             ],
             [
              0.6666666666666666,
              "#ed7953"
             ],
             [
              0.7777777777777778,
              "#fb9f3a"
             ],
             [
              0.8888888888888888,
              "#fdca26"
             ],
             [
              1.0,
              "#f0f921"
             ]
            ],
            "type": "heatmapgl"
           }
          ],
          "histogram": [
           {
            "marker": {
             "pattern": {
              "fillmode": "overlay",
              "size": 10,
              "solidity": 0.2
             }
            },
            "type": "histogram"
           }
          ],
          "histogram2d": [
           {
            "colorbar": {
             "outlinewidth": 0,
             "ticks": ""
            },
            "colorscale": [
             [
              0.0,
              "#0d0887"
             ],
             [
              0.1111111111111111,
              "#46039f"
             ],
             [
              0.2222222222222222,
              "#7201a8"
             ],
             [
              0.3333333333333333,
              "#9c179e"
             ],
             [
              0.4444444444444444,
              "#bd3786"
             ],
             [
              0.5555555555555556,
              "#d8576b"
             ],
             [
              0.6666666666666666,
              "#ed7953"
             ],
             [
              0.7777777777777778,
              "#fb9f3a"
             ],
             [
              0.8888888888888888,
              "#fdca26"
             ],
             [
              1.0,
              "#f0f921"
             ]
            ],
            "type": "histogram2d"
           }
          ],
          "histogram2dcontour": [
           {
            "colorbar": {
             "outlinewidth": 0,
             "ticks": ""
            },
            "colorscale": [
             [
              0.0,
              "#0d0887"
             ],
             [
              0.1111111111111111,
              "#46039f"
             ],
             [
              0.2222222222222222,
              "#7201a8"
             ],
             [
              0.3333333333333333,
              "#9c179e"
             ],
             [
              0.4444444444444444,
              "#bd3786"
             ],
             [
              0.5555555555555556,
              "#d8576b"
             ],
             [
              0.6666666666666666,
              "#ed7953"
             ],
             [
              0.7777777777777778,
              "#fb9f3a"
             ],
             [
              0.8888888888888888,
              "#fdca26"
             ],
             [
              1.0,
              "#f0f921"
             ]
            ],
            "type": "histogram2dcontour"
           }
          ],
          "mesh3d": [
           {
            "colorbar": {
             "outlinewidth": 0,
             "ticks": ""
            },
            "type": "mesh3d"
           }
          ],
          "parcoords": [
           {
            "line": {
             "colorbar": {
              "outlinewidth": 0,
              "ticks": ""
             }
            },
            "type": "parcoords"
           }
          ],
          "pie": [
           {
            "automargin": true,
            "type": "pie"
           }
          ],
          "scatter": [
           {
            "fillpattern": {
             "fillmode": "overlay",
             "size": 10,
             "solidity": 0.2
            },
            "type": "scatter"
           }
          ],
          "scatter3d": [
           {
            "line": {
             "colorbar": {
              "outlinewidth": 0,
              "ticks": ""
             }
            },
            "marker": {
             "colorbar": {
              "outlinewidth": 0,
              "ticks": ""
             }
            },
            "type": "scatter3d"
           }
          ],
          "scattercarpet": [
           {
            "marker": {
             "colorbar": {
              "outlinewidth": 0,
              "ticks": ""
             }
            },
            "type": "scattercarpet"
           }
          ],
          "scattergeo": [
           {
            "marker": {
             "colorbar": {
              "outlinewidth": 0,
              "ticks": ""
             }
            },
            "type": "scattergeo"
           }
          ],
          "scattergl": [
           {
            "marker": {
             "colorbar": {
              "outlinewidth": 0,
              "ticks": ""
             }
            },
            "type": "scattergl"
           }
          ],
          "scattermapbox": [
           {
            "marker": {
             "colorbar": {
              "outlinewidth": 0,
              "ticks": ""
             }
            },
            "type": "scattermapbox"
           }
          ],
          "scatterpolar": [
           {
            "marker": {
             "colorbar": {
              "outlinewidth": 0,
              "ticks": ""
             }
            },
            "type": "scatterpolar"
           }
          ],
          "scatterpolargl": [
           {
            "marker": {
             "colorbar": {
              "outlinewidth": 0,
              "ticks": ""
             }
            },
            "type": "scatterpolargl"
           }
          ],
          "scatterternary": [
           {
            "marker": {
             "colorbar": {
              "outlinewidth": 0,
              "ticks": ""
             }
            },
            "type": "scatterternary"
           }
          ],
          "surface": [
           {
            "colorbar": {
             "outlinewidth": 0,
             "ticks": ""
            },
            "colorscale": [
             [
              0.0,
              "#0d0887"
             ],
             [
              0.1111111111111111,
              "#46039f"
             ],
             [
              0.2222222222222222,
              "#7201a8"
             ],
             [
              0.3333333333333333,
              "#9c179e"
             ],
             [
              0.4444444444444444,
              "#bd3786"
             ],
             [
              0.5555555555555556,
              "#d8576b"
             ],
             [
              0.6666666666666666,
              "#ed7953"
             ],
             [
              0.7777777777777778,
              "#fb9f3a"
             ],
             [
              0.8888888888888888,
              "#fdca26"
             ],
             [
              1.0,
              "#f0f921"
             ]
            ],
            "type": "surface"
           }
          ],
          "table": [
           {
            "cells": {
             "fill": {
              "color": "#EBF0F8"
             },
             "line": {
              "color": "white"
             }
            },
            "header": {
             "fill": {
              "color": "#C8D4E3"
             },
             "line": {
              "color": "white"
             }
            },
            "type": "table"
           }
          ]
         },
         "layout": {
          "annotationdefaults": {
           "arrowcolor": "#2a3f5f",
           "arrowhead": 0,
           "arrowwidth": 1
          },
          "autotypenumbers": "strict",
          "coloraxis": {
           "colorbar": {
            "outlinewidth": 0,
            "ticks": ""
           }
          },
          "colorscale": {
           "diverging": [
            [
             0,
             "#8e0152"
            ],
            [
             0.1,
             "#c51b7d"
            ],
            [
             0.2,
             "#de77ae"
            ],
            [
             0.3,
             "#f1b6da"
            ],
            [
             0.4,
             "#fde0ef"
            ],
            [
             0.5,
             "#f7f7f7"
            ],
            [
             0.6,
             "#e6f5d0"
            ],
            [
             0.7,
             "#b8e186"
            ],
            [
             0.8,
             "#7fbc41"
            ],
            [
             0.9,
             "#4d9221"
            ],
            [
             1,
             "#276419"
            ]
           ],
           "sequential": [
            [
             0.0,
             "#0d0887"
            ],
            [
             0.1111111111111111,
             "#46039f"
            ],
            [
             0.2222222222222222,
             "#7201a8"
            ],
            [
             0.3333333333333333,
             "#9c179e"
            ],
            [
             0.4444444444444444,
             "#bd3786"
            ],
            [
             0.5555555555555556,
             "#d8576b"
            ],
            [
             0.6666666666666666,
             "#ed7953"
            ],
            [
             0.7777777777777778,
             "#fb9f3a"
            ],
            [
             0.8888888888888888,
             "#fdca26"
            ],
            [
             1.0,
             "#f0f921"
            ]
           ],
           "sequentialminus": [
            [
             0.0,
             "#0d0887"
            ],
            [
             0.1111111111111111,
             "#46039f"
            ],
            [
             0.2222222222222222,
             "#7201a8"
            ],
            [
             0.3333333333333333,
             "#9c179e"
            ],
            [
             0.4444444444444444,
             "#bd3786"
            ],
            [
             0.5555555555555556,
             "#d8576b"
            ],
            [
             0.6666666666666666,
             "#ed7953"
            ],
            [
             0.7777777777777778,
             "#fb9f3a"
            ],
            [
             0.8888888888888888,
             "#fdca26"
            ],
            [
             1.0,
             "#f0f921"
            ]
           ]
          },
          "colorway": [
           "#636efa",
           "#EF553B",
           "#00cc96",
           "#ab63fa",
           "#FFA15A",
           "#19d3f3",
           "#FF6692",
           "#B6E880",
           "#FF97FF",
           "#FECB52"
          ],
          "font": {
           "color": "#2a3f5f"
          },
          "geo": {
           "bgcolor": "white",
           "lakecolor": "white",
           "landcolor": "#E5ECF6",
           "showlakes": true,
           "showland": true,
           "subunitcolor": "white"
          },
          "hoverlabel": {
           "align": "left"
          },
          "hovermode": "closest",
          "mapbox": {
           "style": "light"
          },
          "paper_bgcolor": "white",
          "plot_bgcolor": "#E5ECF6",
          "polar": {
           "angularaxis": {
            "gridcolor": "white",
            "linecolor": "white",
            "ticks": ""
           },
           "bgcolor": "#E5ECF6",
           "radialaxis": {
            "gridcolor": "white",
            "linecolor": "white",
            "ticks": ""
           }
          },
          "scene": {
           "xaxis": {
            "backgroundcolor": "#E5ECF6",
            "gridcolor": "white",
            "gridwidth": 2,
            "linecolor": "white",
            "showbackground": true,
            "ticks": "",
            "zerolinecolor": "white"
           },
           "yaxis": {
            "backgroundcolor": "#E5ECF6",
            "gridcolor": "white",
            "gridwidth": 2,
            "linecolor": "white",
            "showbackground": true,
            "ticks": "",
            "zerolinecolor": "white"
           },
           "zaxis": {
            "backgroundcolor": "#E5ECF6",
            "gridcolor": "white",
            "gridwidth": 2,
            "linecolor": "white",
            "showbackground": true,
            "ticks": "",
            "zerolinecolor": "white"
           }
          },
          "shapedefaults": {
           "line": {
            "color": "#2a3f5f"
           }
          },
          "ternary": {
           "aaxis": {
            "gridcolor": "white",
            "linecolor": "white",
            "ticks": ""
           },
           "baxis": {
            "gridcolor": "white",
            "linecolor": "white",
            "ticks": ""
           },
           "bgcolor": "#E5ECF6",
           "caxis": {
            "gridcolor": "white",
            "linecolor": "white",
            "ticks": ""
           }
          },
          "title": {
           "x": 0.05
          },
          "xaxis": {
           "automargin": true,
           "gridcolor": "white",
           "linecolor": "white",
           "ticks": "",
           "title": {
            "standoff": 15
           },
           "zerolinecolor": "white",
           "zerolinewidth": 2
          },
          "yaxis": {
           "automargin": true,
           "gridcolor": "white",
           "linecolor": "white",
           "ticks": "",
           "title": {
            "standoff": 15
           },
           "zerolinecolor": "white",
           "zerolinewidth": 2
          }
         }
        },
        "title": {
         "text": "Athlets per Olympic game"
        },
        "xaxis": {
         "showticklabels": true,
         "title": {
          "text": "Year"
         }
        },
        "yaxis": {
         "title": {
          "text": "Number of athlets"
         }
        }
       }
      },
      "text/html": [
       "<div>                            <div id=\"1a95c2ad-529f-4dc2-88cb-88b9256b9266\" class=\"plotly-graph-div\" style=\"height:525px; width:100%;\"></div>            <script type=\"text/javascript\">                require([\"plotly\"], function(Plotly) {                    window.PLOTLYENV=window.PLOTLYENV || {};                                    if (document.getElementById(\"1a95c2ad-529f-4dc2-88cb-88b9256b9266\")) {                    Plotly.newPlot(                        \"1a95c2ad-529f-4dc2-88cb-88b9256b9266\",                        [{\"marker\":{\"color\":\"rgba(0, 83, 156, 1.00)\"},\"name\":\"Summer Games\",\"text\":[\"Athina\",\"Paris\",\"St. Louis\",\"Athina\",\"London\",\"Stockholm\",\"Antwerpen\",\"Paris\",\"Amsterdam\",\"Los Angeles\",\"Berlin\",\"London\",\"Helsinki\",\"Melbourne\",\"Stockholm\",\"Roma\",\"Tokyo\",\"Mexico City\",\"Munich\",\"Montreal\",\"Moskva\",\"Los Angeles\",\"Seoul\",\"Barcelona\",\"Atlanta\",\"Sydney\",\"Athina\",\"Beijing\",\"London\",\"Rio de Janeiro\"],\"x\":[1896,1900,1904,1906,1908,1912,1920,1924,1928,1932,1936,1948,1952,1956,1956,1960,1964,1968,1972,1976,1980,1984,1988,1992,1996,2000,2004,2008,2012,2016],\"y\":[380,1936,1301,1733,3101,4040,4292,5233,4992,2969,6506,6405,8270,4829,298,8119,7702,8588,10304,8641,7191,9454,12037,12977,13780,13821,13443,13602,12920,13688],\"type\":\"bar\"},{\"marker\":{\"color\":\"rgba(238, 164, 127, 1.00)\"},\"name\":\"Winter Games\",\"text\":[\"Athina\",\"Paris\",\"St. Louis\",\"Athina\",\"London\",\"Stockholm\",\"Antwerpen\",\"Paris\",\"Amsterdam\",\"Los Angeles\",\"Berlin\",\"London\",\"Helsinki\",\"Melbourne\",\"Stockholm\",\"Roma\",\"Tokyo\",\"Mexico City\",\"Munich\",\"Montreal\",\"Moskva\",\"Los Angeles\",\"Seoul\",\"Barcelona\",\"Atlanta\",\"Sydney\",\"Athina\",\"Beijing\",\"London\",\"Rio de Janeiro\"],\"x\":[1924,1928,1932,1936,1948,1952,1956,1960,1964,1968,1972,1976,1980,1984,1988,1992,1994,1998,2002,2006,2010,2014],\"y\":[460,582,352,895,1075,1088,1307,1116,1778,1891,1655,1861,1746,2134,2639,3436,3160,3605,4109,4382,4402,4891],\"type\":\"bar\"}],                        {\"hovermode\":\"closest\",\"template\":{\"data\":{\"barpolar\":[{\"marker\":{\"line\":{\"color\":\"#E5ECF6\",\"width\":0.5},\"pattern\":{\"fillmode\":\"overlay\",\"size\":10,\"solidity\":0.2}},\"type\":\"barpolar\"}],\"bar\":[{\"error_x\":{\"color\":\"#2a3f5f\"},\"error_y\":{\"color\":\"#2a3f5f\"},\"marker\":{\"line\":{\"color\":\"#E5ECF6\",\"width\":0.5},\"pattern\":{\"fillmode\":\"overlay\",\"size\":10,\"solidity\":0.2}},\"type\":\"bar\"}],\"carpet\":[{\"aaxis\":{\"endlinecolor\":\"#2a3f5f\",\"gridcolor\":\"white\",\"linecolor\":\"white\",\"minorgridcolor\":\"white\",\"startlinecolor\":\"#2a3f5f\"},\"baxis\":{\"endlinecolor\":\"#2a3f5f\",\"gridcolor\":\"white\",\"linecolor\":\"white\",\"minorgridcolor\":\"white\",\"startlinecolor\":\"#2a3f5f\"},\"type\":\"carpet\"}],\"choropleth\":[{\"colorbar\":{\"outlinewidth\":0,\"ticks\":\"\"},\"type\":\"choropleth\"}],\"contourcarpet\":[{\"colorbar\":{\"outlinewidth\":0,\"ticks\":\"\"},\"type\":\"contourcarpet\"}],\"contour\":[{\"colorbar\":{\"outlinewidth\":0,\"ticks\":\"\"},\"colorscale\":[[0.0,\"#0d0887\"],[0.1111111111111111,\"#46039f\"],[0.2222222222222222,\"#7201a8\"],[0.3333333333333333,\"#9c179e\"],[0.4444444444444444,\"#bd3786\"],[0.5555555555555556,\"#d8576b\"],[0.6666666666666666,\"#ed7953\"],[0.7777777777777778,\"#fb9f3a\"],[0.8888888888888888,\"#fdca26\"],[1.0,\"#f0f921\"]],\"type\":\"contour\"}],\"heatmapgl\":[{\"colorbar\":{\"outlinewidth\":0,\"ticks\":\"\"},\"colorscale\":[[0.0,\"#0d0887\"],[0.1111111111111111,\"#46039f\"],[0.2222222222222222,\"#7201a8\"],[0.3333333333333333,\"#9c179e\"],[0.4444444444444444,\"#bd3786\"],[0.5555555555555556,\"#d8576b\"],[0.6666666666666666,\"#ed7953\"],[0.7777777777777778,\"#fb9f3a\"],[0.8888888888888888,\"#fdca26\"],[1.0,\"#f0f921\"]],\"type\":\"heatmapgl\"}],\"heatmap\":[{\"colorbar\":{\"outlinewidth\":0,\"ticks\":\"\"},\"colorscale\":[[0.0,\"#0d0887\"],[0.1111111111111111,\"#46039f\"],[0.2222222222222222,\"#7201a8\"],[0.3333333333333333,\"#9c179e\"],[0.4444444444444444,\"#bd3786\"],[0.5555555555555556,\"#d8576b\"],[0.6666666666666666,\"#ed7953\"],[0.7777777777777778,\"#fb9f3a\"],[0.8888888888888888,\"#fdca26\"],[1.0,\"#f0f921\"]],\"type\":\"heatmap\"}],\"histogram2dcontour\":[{\"colorbar\":{\"outlinewidth\":0,\"ticks\":\"\"},\"colorscale\":[[0.0,\"#0d0887\"],[0.1111111111111111,\"#46039f\"],[0.2222222222222222,\"#7201a8\"],[0.3333333333333333,\"#9c179e\"],[0.4444444444444444,\"#bd3786\"],[0.5555555555555556,\"#d8576b\"],[0.6666666666666666,\"#ed7953\"],[0.7777777777777778,\"#fb9f3a\"],[0.8888888888888888,\"#fdca26\"],[1.0,\"#f0f921\"]],\"type\":\"histogram2dcontour\"}],\"histogram2d\":[{\"colorbar\":{\"outlinewidth\":0,\"ticks\":\"\"},\"colorscale\":[[0.0,\"#0d0887\"],[0.1111111111111111,\"#46039f\"],[0.2222222222222222,\"#7201a8\"],[0.3333333333333333,\"#9c179e\"],[0.4444444444444444,\"#bd3786\"],[0.5555555555555556,\"#d8576b\"],[0.6666666666666666,\"#ed7953\"],[0.7777777777777778,\"#fb9f3a\"],[0.8888888888888888,\"#fdca26\"],[1.0,\"#f0f921\"]],\"type\":\"histogram2d\"}],\"histogram\":[{\"marker\":{\"pattern\":{\"fillmode\":\"overlay\",\"size\":10,\"solidity\":0.2}},\"type\":\"histogram\"}],\"mesh3d\":[{\"colorbar\":{\"outlinewidth\":0,\"ticks\":\"\"},\"type\":\"mesh3d\"}],\"parcoords\":[{\"line\":{\"colorbar\":{\"outlinewidth\":0,\"ticks\":\"\"}},\"type\":\"parcoords\"}],\"pie\":[{\"automargin\":true,\"type\":\"pie\"}],\"scatter3d\":[{\"line\":{\"colorbar\":{\"outlinewidth\":0,\"ticks\":\"\"}},\"marker\":{\"colorbar\":{\"outlinewidth\":0,\"ticks\":\"\"}},\"type\":\"scatter3d\"}],\"scattercarpet\":[{\"marker\":{\"colorbar\":{\"outlinewidth\":0,\"ticks\":\"\"}},\"type\":\"scattercarpet\"}],\"scattergeo\":[{\"marker\":{\"colorbar\":{\"outlinewidth\":0,\"ticks\":\"\"}},\"type\":\"scattergeo\"}],\"scattergl\":[{\"marker\":{\"colorbar\":{\"outlinewidth\":0,\"ticks\":\"\"}},\"type\":\"scattergl\"}],\"scattermapbox\":[{\"marker\":{\"colorbar\":{\"outlinewidth\":0,\"ticks\":\"\"}},\"type\":\"scattermapbox\"}],\"scatterpolargl\":[{\"marker\":{\"colorbar\":{\"outlinewidth\":0,\"ticks\":\"\"}},\"type\":\"scatterpolargl\"}],\"scatterpolar\":[{\"marker\":{\"colorbar\":{\"outlinewidth\":0,\"ticks\":\"\"}},\"type\":\"scatterpolar\"}],\"scatter\":[{\"fillpattern\":{\"fillmode\":\"overlay\",\"size\":10,\"solidity\":0.2},\"type\":\"scatter\"}],\"scatterternary\":[{\"marker\":{\"colorbar\":{\"outlinewidth\":0,\"ticks\":\"\"}},\"type\":\"scatterternary\"}],\"surface\":[{\"colorbar\":{\"outlinewidth\":0,\"ticks\":\"\"},\"colorscale\":[[0.0,\"#0d0887\"],[0.1111111111111111,\"#46039f\"],[0.2222222222222222,\"#7201a8\"],[0.3333333333333333,\"#9c179e\"],[0.4444444444444444,\"#bd3786\"],[0.5555555555555556,\"#d8576b\"],[0.6666666666666666,\"#ed7953\"],[0.7777777777777778,\"#fb9f3a\"],[0.8888888888888888,\"#fdca26\"],[1.0,\"#f0f921\"]],\"type\":\"surface\"}],\"table\":[{\"cells\":{\"fill\":{\"color\":\"#EBF0F8\"},\"line\":{\"color\":\"white\"}},\"header\":{\"fill\":{\"color\":\"#C8D4E3\"},\"line\":{\"color\":\"white\"}},\"type\":\"table\"}]},\"layout\":{\"annotationdefaults\":{\"arrowcolor\":\"#2a3f5f\",\"arrowhead\":0,\"arrowwidth\":1},\"autotypenumbers\":\"strict\",\"coloraxis\":{\"colorbar\":{\"outlinewidth\":0,\"ticks\":\"\"}},\"colorscale\":{\"diverging\":[[0,\"#8e0152\"],[0.1,\"#c51b7d\"],[0.2,\"#de77ae\"],[0.3,\"#f1b6da\"],[0.4,\"#fde0ef\"],[0.5,\"#f7f7f7\"],[0.6,\"#e6f5d0\"],[0.7,\"#b8e186\"],[0.8,\"#7fbc41\"],[0.9,\"#4d9221\"],[1,\"#276419\"]],\"sequential\":[[0.0,\"#0d0887\"],[0.1111111111111111,\"#46039f\"],[0.2222222222222222,\"#7201a8\"],[0.3333333333333333,\"#9c179e\"],[0.4444444444444444,\"#bd3786\"],[0.5555555555555556,\"#d8576b\"],[0.6666666666666666,\"#ed7953\"],[0.7777777777777778,\"#fb9f3a\"],[0.8888888888888888,\"#fdca26\"],[1.0,\"#f0f921\"]],\"sequentialminus\":[[0.0,\"#0d0887\"],[0.1111111111111111,\"#46039f\"],[0.2222222222222222,\"#7201a8\"],[0.3333333333333333,\"#9c179e\"],[0.4444444444444444,\"#bd3786\"],[0.5555555555555556,\"#d8576b\"],[0.6666666666666666,\"#ed7953\"],[0.7777777777777778,\"#fb9f3a\"],[0.8888888888888888,\"#fdca26\"],[1.0,\"#f0f921\"]]},\"colorway\":[\"#636efa\",\"#EF553B\",\"#00cc96\",\"#ab63fa\",\"#FFA15A\",\"#19d3f3\",\"#FF6692\",\"#B6E880\",\"#FF97FF\",\"#FECB52\"],\"font\":{\"color\":\"#2a3f5f\"},\"geo\":{\"bgcolor\":\"white\",\"lakecolor\":\"white\",\"landcolor\":\"#E5ECF6\",\"showlakes\":true,\"showland\":true,\"subunitcolor\":\"white\"},\"hoverlabel\":{\"align\":\"left\"},\"hovermode\":\"closest\",\"mapbox\":{\"style\":\"light\"},\"paper_bgcolor\":\"white\",\"plot_bgcolor\":\"#E5ECF6\",\"polar\":{\"angularaxis\":{\"gridcolor\":\"white\",\"linecolor\":\"white\",\"ticks\":\"\"},\"bgcolor\":\"#E5ECF6\",\"radialaxis\":{\"gridcolor\":\"white\",\"linecolor\":\"white\",\"ticks\":\"\"}},\"scene\":{\"xaxis\":{\"backgroundcolor\":\"#E5ECF6\",\"gridcolor\":\"white\",\"gridwidth\":2,\"linecolor\":\"white\",\"showbackground\":true,\"ticks\":\"\",\"zerolinecolor\":\"white\"},\"yaxis\":{\"backgroundcolor\":\"#E5ECF6\",\"gridcolor\":\"white\",\"gridwidth\":2,\"linecolor\":\"white\",\"showbackground\":true,\"ticks\":\"\",\"zerolinecolor\":\"white\"},\"zaxis\":{\"backgroundcolor\":\"#E5ECF6\",\"gridcolor\":\"white\",\"gridwidth\":2,\"linecolor\":\"white\",\"showbackground\":true,\"ticks\":\"\",\"zerolinecolor\":\"white\"}},\"shapedefaults\":{\"line\":{\"color\":\"#2a3f5f\"}},\"ternary\":{\"aaxis\":{\"gridcolor\":\"white\",\"linecolor\":\"white\",\"ticks\":\"\"},\"baxis\":{\"gridcolor\":\"white\",\"linecolor\":\"white\",\"ticks\":\"\"},\"bgcolor\":\"#E5ECF6\",\"caxis\":{\"gridcolor\":\"white\",\"linecolor\":\"white\",\"ticks\":\"\"}},\"title\":{\"x\":0.05},\"xaxis\":{\"automargin\":true,\"gridcolor\":\"white\",\"linecolor\":\"white\",\"ticks\":\"\",\"title\":{\"standoff\":15},\"zerolinecolor\":\"white\",\"zerolinewidth\":2},\"yaxis\":{\"automargin\":true,\"gridcolor\":\"white\",\"linecolor\":\"white\",\"ticks\":\"\",\"title\":{\"standoff\":15},\"zerolinecolor\":\"white\",\"zerolinewidth\":2}}},\"title\":{\"text\":\"Athlets per Olympic game\"},\"xaxis\":{\"showticklabels\":true,\"title\":{\"text\":\"Year\"}},\"yaxis\":{\"title\":{\"text\":\"Number of athlets\"}}},                        {\"responsive\": true}                    ).then(function(){\n",
       "                            \n",
       "var gd = document.getElementById('1a95c2ad-529f-4dc2-88cb-88b9256b9266');\n",
       "var x = new MutationObserver(function (mutations, observer) {{\n",
       "        var display = window.getComputedStyle(gd).display;\n",
       "        if (!display || display === 'none') {{\n",
       "            console.log([gd, 'removed!']);\n",
       "            Plotly.purge(gd);\n",
       "            observer.disconnect();\n",
       "        }}\n",
       "}});\n",
       "\n",
       "// Listen for the removal of the full notebook cells\n",
       "var notebookContainer = gd.closest('#notebook-container');\n",
       "if (notebookContainer) {{\n",
       "    x.observe(notebookContainer, {childList: true});\n",
       "}}\n",
       "\n",
       "// Listen for the clearing of the current output cell\n",
       "var outputEl = gd.closest('.output');\n",
       "if (outputEl) {{\n",
       "    x.observe(outputEl, {childList: true});\n",
       "}}\n",
       "\n",
       "                        })                };                });            </script>        </div>"
      ]
     },
     "metadata": {},
     "output_type": "display_data"
    }
   ],
   "source": [
    "dfS = df2[df2['Season']=='Summer']; dfW = df2[df2['Season']=='Winter']\n",
    "\n",
    "traceS = go.Bar(\n",
    "    x = dfS['Year'],y = dfS['Athlets'],\n",
    "    name=\"Summer Games\",\n",
    "    marker=dict(color=\"rgba(0, 83, 156, 1.00)\"),\n",
    "    text=dfS['City']\n",
    ")\n",
    "traceW = go.Bar(\n",
    "    x = dfW['Year'],y = dfW['Athlets'],\n",
    "    name=\"Winter Games\",\n",
    "    marker=dict(color=\"rgba(238, 164, 127, 1.00)\"),\n",
    "    text=dfS['City']\n",
    ")\n",
    "\n",
    "data = [traceS, traceW]\n",
    "layout = dict(title = 'Athlets per Olympic game',\n",
    "          xaxis = dict(title = 'Year', showticklabels=True), \n",
    "          yaxis = dict(title = 'Number of athlets'),\n",
    "          hovermode = 'closest'\n",
    "         )\n",
    "fig = dict(data=data, layout=layout)\n",
    "iplot(fig, filename='events-athlets3')"
   ]
  },
  {
   "cell_type": "code",
   "execution_count": 15,
   "id": "754073c7",
   "metadata": {
    "_uuid": "03f32b9a42e2dec99ec968f21e31873043416110",
    "execution": {
     "iopub.execute_input": "2022-07-27T20:00:41.726287Z",
     "iopub.status.busy": "2022-07-27T20:00:41.725910Z",
     "iopub.status.idle": "2022-07-27T20:00:41.771142Z",
     "shell.execute_reply": "2022-07-27T20:00:41.769917Z"
    },
    "papermill": {
     "duration": 0.089867,
     "end_time": "2022-07-27T20:00:41.774525",
     "exception": false,
     "start_time": "2022-07-27T20:00:41.684658",
     "status": "completed"
    },
    "tags": []
   },
   "outputs": [
    {
     "data": {
      "application/vnd.plotly.v1+json": {
       "config": {
        "linkText": "Export to plot.ly",
        "plotlyServerURL": "https://plot.ly",
        "showLink": false
       },
       "data": [
        {
         "marker": {
          "color": "rgb(238,23,11)",
          "line": {
           "color": "black",
           "width": 0.75
          },
          "opacity": 0.7
         },
         "name": "Summer Games",
         "text": [
          "Athina",
          "Paris",
          "St. Louis",
          "Athina",
          "London",
          "Stockholm",
          "Antwerpen",
          "Paris",
          "Amsterdam",
          "Los Angeles",
          "Berlin",
          "London",
          "Helsinki",
          "Melbourne",
          "Stockholm",
          "Roma",
          "Tokyo",
          "Mexico City",
          "Munich",
          "Montreal",
          "Moskva",
          "Los Angeles",
          "Seoul",
          "Barcelona",
          "Atlanta",
          "Sydney",
          "Athina",
          "Beijing",
          "London",
          "Rio de Janeiro"
         ],
         "type": "bar",
         "x": [
          1896,
          1900,
          1904,
          1906,
          1908,
          1912,
          1920,
          1924,
          1928,
          1932,
          1936,
          1948,
          1952,
          1956,
          1956,
          1960,
          1964,
          1968,
          1972,
          1976,
          1980,
          1984,
          1988,
          1992,
          1996,
          2000,
          2004,
          2008,
          2012,
          2016
         ],
         "y": [
          380,
          1936,
          1301,
          1733,
          3101,
          4040,
          4292,
          5233,
          4992,
          2969,
          6506,
          6405,
          8270,
          4829,
          298,
          8119,
          7702,
          8588,
          10304,
          8641,
          7191,
          9454,
          12037,
          12977,
          13780,
          13821,
          13443,
          13602,
          12920,
          13688
         ]
        },
        {
         "marker": {
          "color": "rgb(11,23,245)",
          "line": {
           "color": "black",
           "width": 0.75
          },
          "opacity": 0.7
         },
         "name": "Winter Games",
         "text": [
          "Athina",
          "Paris",
          "St. Louis",
          "Athina",
          "London",
          "Stockholm",
          "Antwerpen",
          "Paris",
          "Amsterdam",
          "Los Angeles",
          "Berlin",
          "London",
          "Helsinki",
          "Melbourne",
          "Stockholm",
          "Roma",
          "Tokyo",
          "Mexico City",
          "Munich",
          "Montreal",
          "Moskva",
          "Los Angeles",
          "Seoul",
          "Barcelona",
          "Atlanta",
          "Sydney",
          "Athina",
          "Beijing",
          "London",
          "Rio de Janeiro"
         ],
         "type": "bar",
         "x": [
          1924,
          1928,
          1932,
          1936,
          1948,
          1952,
          1956,
          1960,
          1964,
          1968,
          1972,
          1976,
          1980,
          1984,
          1988,
          1992,
          1994,
          1998,
          2002,
          2006,
          2010,
          2014
         ],
         "y": [
          460,
          582,
          352,
          895,
          1075,
          1088,
          1307,
          1116,
          1778,
          1891,
          1655,
          1861,
          1746,
          2134,
          2639,
          3436,
          3160,
          3605,
          4109,
          4382,
          4402,
          4891
         ]
        }
       ],
       "layout": {
        "barmode": "stack",
        "hovermode": "closest",
        "template": {
         "data": {
          "bar": [
           {
            "error_x": {
             "color": "#2a3f5f"
            },
            "error_y": {
             "color": "#2a3f5f"
            },
            "marker": {
             "line": {
              "color": "#E5ECF6",
              "width": 0.5
             },
             "pattern": {
              "fillmode": "overlay",
              "size": 10,
              "solidity": 0.2
             }
            },
            "type": "bar"
           }
          ],
          "barpolar": [
           {
            "marker": {
             "line": {
              "color": "#E5ECF6",
              "width": 0.5
             },
             "pattern": {
              "fillmode": "overlay",
              "size": 10,
              "solidity": 0.2
             }
            },
            "type": "barpolar"
           }
          ],
          "carpet": [
           {
            "aaxis": {
             "endlinecolor": "#2a3f5f",
             "gridcolor": "white",
             "linecolor": "white",
             "minorgridcolor": "white",
             "startlinecolor": "#2a3f5f"
            },
            "baxis": {
             "endlinecolor": "#2a3f5f",
             "gridcolor": "white",
             "linecolor": "white",
             "minorgridcolor": "white",
             "startlinecolor": "#2a3f5f"
            },
            "type": "carpet"
           }
          ],
          "choropleth": [
           {
            "colorbar": {
             "outlinewidth": 0,
             "ticks": ""
            },
            "type": "choropleth"
           }
          ],
          "contour": [
           {
            "colorbar": {
             "outlinewidth": 0,
             "ticks": ""
            },
            "colorscale": [
             [
              0.0,
              "#0d0887"
             ],
             [
              0.1111111111111111,
              "#46039f"
             ],
             [
              0.2222222222222222,
              "#7201a8"
             ],
             [
              0.3333333333333333,
              "#9c179e"
             ],
             [
              0.4444444444444444,
              "#bd3786"
             ],
             [
              0.5555555555555556,
              "#d8576b"
             ],
             [
              0.6666666666666666,
              "#ed7953"
             ],
             [
              0.7777777777777778,
              "#fb9f3a"
             ],
             [
              0.8888888888888888,
              "#fdca26"
             ],
             [
              1.0,
              "#f0f921"
             ]
            ],
            "type": "contour"
           }
          ],
          "contourcarpet": [
           {
            "colorbar": {
             "outlinewidth": 0,
             "ticks": ""
            },
            "type": "contourcarpet"
           }
          ],
          "heatmap": [
           {
            "colorbar": {
             "outlinewidth": 0,
             "ticks": ""
            },
            "colorscale": [
             [
              0.0,
              "#0d0887"
             ],
             [
              0.1111111111111111,
              "#46039f"
             ],
             [
              0.2222222222222222,
              "#7201a8"
             ],
             [
              0.3333333333333333,
              "#9c179e"
             ],
             [
              0.4444444444444444,
              "#bd3786"
             ],
             [
              0.5555555555555556,
              "#d8576b"
             ],
             [
              0.6666666666666666,
              "#ed7953"
             ],
             [
              0.7777777777777778,
              "#fb9f3a"
             ],
             [
              0.8888888888888888,
              "#fdca26"
             ],
             [
              1.0,
              "#f0f921"
             ]
            ],
            "type": "heatmap"
           }
          ],
          "heatmapgl": [
           {
            "colorbar": {
             "outlinewidth": 0,
             "ticks": ""
            },
            "colorscale": [
             [
              0.0,
              "#0d0887"
             ],
             [
              0.1111111111111111,
              "#46039f"
             ],
             [
              0.2222222222222222,
              "#7201a8"
             ],
             [
              0.3333333333333333,
              "#9c179e"
             ],
             [
              0.4444444444444444,
              "#bd3786"
             ],
             [
              0.5555555555555556,
              "#d8576b"
             ],
             [
              0.6666666666666666,
              "#ed7953"
             ],
             [
              0.7777777777777778,
              "#fb9f3a"
             ],
             [
              0.8888888888888888,
              "#fdca26"
             ],
             [
              1.0,
              "#f0f921"
             ]
            ],
            "type": "heatmapgl"
           }
          ],
          "histogram": [
           {
            "marker": {
             "pattern": {
              "fillmode": "overlay",
              "size": 10,
              "solidity": 0.2
             }
            },
            "type": "histogram"
           }
          ],
          "histogram2d": [
           {
            "colorbar": {
             "outlinewidth": 0,
             "ticks": ""
            },
            "colorscale": [
             [
              0.0,
              "#0d0887"
             ],
             [
              0.1111111111111111,
              "#46039f"
             ],
             [
              0.2222222222222222,
              "#7201a8"
             ],
             [
              0.3333333333333333,
              "#9c179e"
             ],
             [
              0.4444444444444444,
              "#bd3786"
             ],
             [
              0.5555555555555556,
              "#d8576b"
             ],
             [
              0.6666666666666666,
              "#ed7953"
             ],
             [
              0.7777777777777778,
              "#fb9f3a"
             ],
             [
              0.8888888888888888,
              "#fdca26"
             ],
             [
              1.0,
              "#f0f921"
             ]
            ],
            "type": "histogram2d"
           }
          ],
          "histogram2dcontour": [
           {
            "colorbar": {
             "outlinewidth": 0,
             "ticks": ""
            },
            "colorscale": [
             [
              0.0,
              "#0d0887"
             ],
             [
              0.1111111111111111,
              "#46039f"
             ],
             [
              0.2222222222222222,
              "#7201a8"
             ],
             [
              0.3333333333333333,
              "#9c179e"
             ],
             [
              0.4444444444444444,
              "#bd3786"
             ],
             [
              0.5555555555555556,
              "#d8576b"
             ],
             [
              0.6666666666666666,
              "#ed7953"
             ],
             [
              0.7777777777777778,
              "#fb9f3a"
             ],
             [
              0.8888888888888888,
              "#fdca26"
             ],
             [
              1.0,
              "#f0f921"
             ]
            ],
            "type": "histogram2dcontour"
           }
          ],
          "mesh3d": [
           {
            "colorbar": {
             "outlinewidth": 0,
             "ticks": ""
            },
            "type": "mesh3d"
           }
          ],
          "parcoords": [
           {
            "line": {
             "colorbar": {
              "outlinewidth": 0,
              "ticks": ""
             }
            },
            "type": "parcoords"
           }
          ],
          "pie": [
           {
            "automargin": true,
            "type": "pie"
           }
          ],
          "scatter": [
           {
            "fillpattern": {
             "fillmode": "overlay",
             "size": 10,
             "solidity": 0.2
            },
            "type": "scatter"
           }
          ],
          "scatter3d": [
           {
            "line": {
             "colorbar": {
              "outlinewidth": 0,
              "ticks": ""
             }
            },
            "marker": {
             "colorbar": {
              "outlinewidth": 0,
              "ticks": ""
             }
            },
            "type": "scatter3d"
           }
          ],
          "scattercarpet": [
           {
            "marker": {
             "colorbar": {
              "outlinewidth": 0,
              "ticks": ""
             }
            },
            "type": "scattercarpet"
           }
          ],
          "scattergeo": [
           {
            "marker": {
             "colorbar": {
              "outlinewidth": 0,
              "ticks": ""
             }
            },
            "type": "scattergeo"
           }
          ],
          "scattergl": [
           {
            "marker": {
             "colorbar": {
              "outlinewidth": 0,
              "ticks": ""
             }
            },
            "type": "scattergl"
           }
          ],
          "scattermapbox": [
           {
            "marker": {
             "colorbar": {
              "outlinewidth": 0,
              "ticks": ""
             }
            },
            "type": "scattermapbox"
           }
          ],
          "scatterpolar": [
           {
            "marker": {
             "colorbar": {
              "outlinewidth": 0,
              "ticks": ""
             }
            },
            "type": "scatterpolar"
           }
          ],
          "scatterpolargl": [
           {
            "marker": {
             "colorbar": {
              "outlinewidth": 0,
              "ticks": ""
             }
            },
            "type": "scatterpolargl"
           }
          ],
          "scatterternary": [
           {
            "marker": {
             "colorbar": {
              "outlinewidth": 0,
              "ticks": ""
             }
            },
            "type": "scatterternary"
           }
          ],
          "surface": [
           {
            "colorbar": {
             "outlinewidth": 0,
             "ticks": ""
            },
            "colorscale": [
             [
              0.0,
              "#0d0887"
             ],
             [
              0.1111111111111111,
              "#46039f"
             ],
             [
              0.2222222222222222,
              "#7201a8"
             ],
             [
              0.3333333333333333,
              "#9c179e"
             ],
             [
              0.4444444444444444,
              "#bd3786"
             ],
             [
              0.5555555555555556,
              "#d8576b"
             ],
             [
              0.6666666666666666,
              "#ed7953"
             ],
             [
              0.7777777777777778,
              "#fb9f3a"
             ],
             [
              0.8888888888888888,
              "#fdca26"
             ],
             [
              1.0,
              "#f0f921"
             ]
            ],
            "type": "surface"
           }
          ],
          "table": [
           {
            "cells": {
             "fill": {
              "color": "#EBF0F8"
             },
             "line": {
              "color": "white"
             }
            },
            "header": {
             "fill": {
              "color": "#C8D4E3"
             },
             "line": {
              "color": "white"
             }
            },
            "type": "table"
           }
          ]
         },
         "layout": {
          "annotationdefaults": {
           "arrowcolor": "#2a3f5f",
           "arrowhead": 0,
           "arrowwidth": 1
          },
          "autotypenumbers": "strict",
          "coloraxis": {
           "colorbar": {
            "outlinewidth": 0,
            "ticks": ""
           }
          },
          "colorscale": {
           "diverging": [
            [
             0,
             "#8e0152"
            ],
            [
             0.1,
             "#c51b7d"
            ],
            [
             0.2,
             "#de77ae"
            ],
            [
             0.3,
             "#f1b6da"
            ],
            [
             0.4,
             "#fde0ef"
            ],
            [
             0.5,
             "#f7f7f7"
            ],
            [
             0.6,
             "#e6f5d0"
            ],
            [
             0.7,
             "#b8e186"
            ],
            [
             0.8,
             "#7fbc41"
            ],
            [
             0.9,
             "#4d9221"
            ],
            [
             1,
             "#276419"
            ]
           ],
           "sequential": [
            [
             0.0,
             "#0d0887"
            ],
            [
             0.1111111111111111,
             "#46039f"
            ],
            [
             0.2222222222222222,
             "#7201a8"
            ],
            [
             0.3333333333333333,
             "#9c179e"
            ],
            [
             0.4444444444444444,
             "#bd3786"
            ],
            [
             0.5555555555555556,
             "#d8576b"
            ],
            [
             0.6666666666666666,
             "#ed7953"
            ],
            [
             0.7777777777777778,
             "#fb9f3a"
            ],
            [
             0.8888888888888888,
             "#fdca26"
            ],
            [
             1.0,
             "#f0f921"
            ]
           ],
           "sequentialminus": [
            [
             0.0,
             "#0d0887"
            ],
            [
             0.1111111111111111,
             "#46039f"
            ],
            [
             0.2222222222222222,
             "#7201a8"
            ],
            [
             0.3333333333333333,
             "#9c179e"
            ],
            [
             0.4444444444444444,
             "#bd3786"
            ],
            [
             0.5555555555555556,
             "#d8576b"
            ],
            [
             0.6666666666666666,
             "#ed7953"
            ],
            [
             0.7777777777777778,
             "#fb9f3a"
            ],
            [
             0.8888888888888888,
             "#fdca26"
            ],
            [
             1.0,
             "#f0f921"
            ]
           ]
          },
          "colorway": [
           "#636efa",
           "#EF553B",
           "#00cc96",
           "#ab63fa",
           "#FFA15A",
           "#19d3f3",
           "#FF6692",
           "#B6E880",
           "#FF97FF",
           "#FECB52"
          ],
          "font": {
           "color": "#2a3f5f"
          },
          "geo": {
           "bgcolor": "white",
           "lakecolor": "white",
           "landcolor": "#E5ECF6",
           "showlakes": true,
           "showland": true,
           "subunitcolor": "white"
          },
          "hoverlabel": {
           "align": "left"
          },
          "hovermode": "closest",
          "mapbox": {
           "style": "light"
          },
          "paper_bgcolor": "white",
          "plot_bgcolor": "#E5ECF6",
          "polar": {
           "angularaxis": {
            "gridcolor": "white",
            "linecolor": "white",
            "ticks": ""
           },
           "bgcolor": "#E5ECF6",
           "radialaxis": {
            "gridcolor": "white",
            "linecolor": "white",
            "ticks": ""
           }
          },
          "scene": {
           "xaxis": {
            "backgroundcolor": "#E5ECF6",
            "gridcolor": "white",
            "gridwidth": 2,
            "linecolor": "white",
            "showbackground": true,
            "ticks": "",
            "zerolinecolor": "white"
           },
           "yaxis": {
            "backgroundcolor": "#E5ECF6",
            "gridcolor": "white",
            "gridwidth": 2,
            "linecolor": "white",
            "showbackground": true,
            "ticks": "",
            "zerolinecolor": "white"
           },
           "zaxis": {
            "backgroundcolor": "#E5ECF6",
            "gridcolor": "white",
            "gridwidth": 2,
            "linecolor": "white",
            "showbackground": true,
            "ticks": "",
            "zerolinecolor": "white"
           }
          },
          "shapedefaults": {
           "line": {
            "color": "#2a3f5f"
           }
          },
          "ternary": {
           "aaxis": {
            "gridcolor": "white",
            "linecolor": "white",
            "ticks": ""
           },
           "baxis": {
            "gridcolor": "white",
            "linecolor": "white",
            "ticks": ""
           },
           "bgcolor": "#E5ECF6",
           "caxis": {
            "gridcolor": "white",
            "linecolor": "white",
            "ticks": ""
           }
          },
          "title": {
           "x": 0.05
          },
          "xaxis": {
           "automargin": true,
           "gridcolor": "white",
           "linecolor": "white",
           "ticks": "",
           "title": {
            "standoff": 15
           },
           "zerolinecolor": "white",
           "zerolinewidth": 2
          },
          "yaxis": {
           "automargin": true,
           "gridcolor": "white",
           "linecolor": "white",
           "ticks": "",
           "title": {
            "standoff": 15
           },
           "zerolinecolor": "white",
           "zerolinewidth": 2
          }
         }
        },
        "title": {
         "text": "Athlets per Olympic game"
        },
        "xaxis": {
         "showticklabels": true,
         "title": {
          "text": "Year"
         }
        },
        "yaxis": {
         "title": {
          "text": "Number of athlets"
         }
        }
       }
      },
      "text/html": [
       "<div>                            <div id=\"164dedb2-6f79-4157-bfde-f84c1f0135b7\" class=\"plotly-graph-div\" style=\"height:525px; width:100%;\"></div>            <script type=\"text/javascript\">                require([\"plotly\"], function(Plotly) {                    window.PLOTLYENV=window.PLOTLYENV || {};                                    if (document.getElementById(\"164dedb2-6f79-4157-bfde-f84c1f0135b7\")) {                    Plotly.newPlot(                        \"164dedb2-6f79-4157-bfde-f84c1f0135b7\",                        [{\"marker\":{\"color\":\"rgb(238,23,11)\",\"line\":{\"color\":\"black\",\"width\":0.75},\"opacity\":0.7},\"name\":\"Summer Games\",\"text\":[\"Athina\",\"Paris\",\"St. Louis\",\"Athina\",\"London\",\"Stockholm\",\"Antwerpen\",\"Paris\",\"Amsterdam\",\"Los Angeles\",\"Berlin\",\"London\",\"Helsinki\",\"Melbourne\",\"Stockholm\",\"Roma\",\"Tokyo\",\"Mexico City\",\"Munich\",\"Montreal\",\"Moskva\",\"Los Angeles\",\"Seoul\",\"Barcelona\",\"Atlanta\",\"Sydney\",\"Athina\",\"Beijing\",\"London\",\"Rio de Janeiro\"],\"x\":[1896,1900,1904,1906,1908,1912,1920,1924,1928,1932,1936,1948,1952,1956,1956,1960,1964,1968,1972,1976,1980,1984,1988,1992,1996,2000,2004,2008,2012,2016],\"y\":[380,1936,1301,1733,3101,4040,4292,5233,4992,2969,6506,6405,8270,4829,298,8119,7702,8588,10304,8641,7191,9454,12037,12977,13780,13821,13443,13602,12920,13688],\"type\":\"bar\"},{\"marker\":{\"color\":\"rgb(11,23,245)\",\"line\":{\"color\":\"black\",\"width\":0.75},\"opacity\":0.7},\"name\":\"Winter Games\",\"text\":[\"Athina\",\"Paris\",\"St. Louis\",\"Athina\",\"London\",\"Stockholm\",\"Antwerpen\",\"Paris\",\"Amsterdam\",\"Los Angeles\",\"Berlin\",\"London\",\"Helsinki\",\"Melbourne\",\"Stockholm\",\"Roma\",\"Tokyo\",\"Mexico City\",\"Munich\",\"Montreal\",\"Moskva\",\"Los Angeles\",\"Seoul\",\"Barcelona\",\"Atlanta\",\"Sydney\",\"Athina\",\"Beijing\",\"London\",\"Rio de Janeiro\"],\"x\":[1924,1928,1932,1936,1948,1952,1956,1960,1964,1968,1972,1976,1980,1984,1988,1992,1994,1998,2002,2006,2010,2014],\"y\":[460,582,352,895,1075,1088,1307,1116,1778,1891,1655,1861,1746,2134,2639,3436,3160,3605,4109,4382,4402,4891],\"type\":\"bar\"}],                        {\"barmode\":\"stack\",\"hovermode\":\"closest\",\"template\":{\"data\":{\"barpolar\":[{\"marker\":{\"line\":{\"color\":\"#E5ECF6\",\"width\":0.5},\"pattern\":{\"fillmode\":\"overlay\",\"size\":10,\"solidity\":0.2}},\"type\":\"barpolar\"}],\"bar\":[{\"error_x\":{\"color\":\"#2a3f5f\"},\"error_y\":{\"color\":\"#2a3f5f\"},\"marker\":{\"line\":{\"color\":\"#E5ECF6\",\"width\":0.5},\"pattern\":{\"fillmode\":\"overlay\",\"size\":10,\"solidity\":0.2}},\"type\":\"bar\"}],\"carpet\":[{\"aaxis\":{\"endlinecolor\":\"#2a3f5f\",\"gridcolor\":\"white\",\"linecolor\":\"white\",\"minorgridcolor\":\"white\",\"startlinecolor\":\"#2a3f5f\"},\"baxis\":{\"endlinecolor\":\"#2a3f5f\",\"gridcolor\":\"white\",\"linecolor\":\"white\",\"minorgridcolor\":\"white\",\"startlinecolor\":\"#2a3f5f\"},\"type\":\"carpet\"}],\"choropleth\":[{\"colorbar\":{\"outlinewidth\":0,\"ticks\":\"\"},\"type\":\"choropleth\"}],\"contourcarpet\":[{\"colorbar\":{\"outlinewidth\":0,\"ticks\":\"\"},\"type\":\"contourcarpet\"}],\"contour\":[{\"colorbar\":{\"outlinewidth\":0,\"ticks\":\"\"},\"colorscale\":[[0.0,\"#0d0887\"],[0.1111111111111111,\"#46039f\"],[0.2222222222222222,\"#7201a8\"],[0.3333333333333333,\"#9c179e\"],[0.4444444444444444,\"#bd3786\"],[0.5555555555555556,\"#d8576b\"],[0.6666666666666666,\"#ed7953\"],[0.7777777777777778,\"#fb9f3a\"],[0.8888888888888888,\"#fdca26\"],[1.0,\"#f0f921\"]],\"type\":\"contour\"}],\"heatmapgl\":[{\"colorbar\":{\"outlinewidth\":0,\"ticks\":\"\"},\"colorscale\":[[0.0,\"#0d0887\"],[0.1111111111111111,\"#46039f\"],[0.2222222222222222,\"#7201a8\"],[0.3333333333333333,\"#9c179e\"],[0.4444444444444444,\"#bd3786\"],[0.5555555555555556,\"#d8576b\"],[0.6666666666666666,\"#ed7953\"],[0.7777777777777778,\"#fb9f3a\"],[0.8888888888888888,\"#fdca26\"],[1.0,\"#f0f921\"]],\"type\":\"heatmapgl\"}],\"heatmap\":[{\"colorbar\":{\"outlinewidth\":0,\"ticks\":\"\"},\"colorscale\":[[0.0,\"#0d0887\"],[0.1111111111111111,\"#46039f\"],[0.2222222222222222,\"#7201a8\"],[0.3333333333333333,\"#9c179e\"],[0.4444444444444444,\"#bd3786\"],[0.5555555555555556,\"#d8576b\"],[0.6666666666666666,\"#ed7953\"],[0.7777777777777778,\"#fb9f3a\"],[0.8888888888888888,\"#fdca26\"],[1.0,\"#f0f921\"]],\"type\":\"heatmap\"}],\"histogram2dcontour\":[{\"colorbar\":{\"outlinewidth\":0,\"ticks\":\"\"},\"colorscale\":[[0.0,\"#0d0887\"],[0.1111111111111111,\"#46039f\"],[0.2222222222222222,\"#7201a8\"],[0.3333333333333333,\"#9c179e\"],[0.4444444444444444,\"#bd3786\"],[0.5555555555555556,\"#d8576b\"],[0.6666666666666666,\"#ed7953\"],[0.7777777777777778,\"#fb9f3a\"],[0.8888888888888888,\"#fdca26\"],[1.0,\"#f0f921\"]],\"type\":\"histogram2dcontour\"}],\"histogram2d\":[{\"colorbar\":{\"outlinewidth\":0,\"ticks\":\"\"},\"colorscale\":[[0.0,\"#0d0887\"],[0.1111111111111111,\"#46039f\"],[0.2222222222222222,\"#7201a8\"],[0.3333333333333333,\"#9c179e\"],[0.4444444444444444,\"#bd3786\"],[0.5555555555555556,\"#d8576b\"],[0.6666666666666666,\"#ed7953\"],[0.7777777777777778,\"#fb9f3a\"],[0.8888888888888888,\"#fdca26\"],[1.0,\"#f0f921\"]],\"type\":\"histogram2d\"}],\"histogram\":[{\"marker\":{\"pattern\":{\"fillmode\":\"overlay\",\"size\":10,\"solidity\":0.2}},\"type\":\"histogram\"}],\"mesh3d\":[{\"colorbar\":{\"outlinewidth\":0,\"ticks\":\"\"},\"type\":\"mesh3d\"}],\"parcoords\":[{\"line\":{\"colorbar\":{\"outlinewidth\":0,\"ticks\":\"\"}},\"type\":\"parcoords\"}],\"pie\":[{\"automargin\":true,\"type\":\"pie\"}],\"scatter3d\":[{\"line\":{\"colorbar\":{\"outlinewidth\":0,\"ticks\":\"\"}},\"marker\":{\"colorbar\":{\"outlinewidth\":0,\"ticks\":\"\"}},\"type\":\"scatter3d\"}],\"scattercarpet\":[{\"marker\":{\"colorbar\":{\"outlinewidth\":0,\"ticks\":\"\"}},\"type\":\"scattercarpet\"}],\"scattergeo\":[{\"marker\":{\"colorbar\":{\"outlinewidth\":0,\"ticks\":\"\"}},\"type\":\"scattergeo\"}],\"scattergl\":[{\"marker\":{\"colorbar\":{\"outlinewidth\":0,\"ticks\":\"\"}},\"type\":\"scattergl\"}],\"scattermapbox\":[{\"marker\":{\"colorbar\":{\"outlinewidth\":0,\"ticks\":\"\"}},\"type\":\"scattermapbox\"}],\"scatterpolargl\":[{\"marker\":{\"colorbar\":{\"outlinewidth\":0,\"ticks\":\"\"}},\"type\":\"scatterpolargl\"}],\"scatterpolar\":[{\"marker\":{\"colorbar\":{\"outlinewidth\":0,\"ticks\":\"\"}},\"type\":\"scatterpolar\"}],\"scatter\":[{\"fillpattern\":{\"fillmode\":\"overlay\",\"size\":10,\"solidity\":0.2},\"type\":\"scatter\"}],\"scatterternary\":[{\"marker\":{\"colorbar\":{\"outlinewidth\":0,\"ticks\":\"\"}},\"type\":\"scatterternary\"}],\"surface\":[{\"colorbar\":{\"outlinewidth\":0,\"ticks\":\"\"},\"colorscale\":[[0.0,\"#0d0887\"],[0.1111111111111111,\"#46039f\"],[0.2222222222222222,\"#7201a8\"],[0.3333333333333333,\"#9c179e\"],[0.4444444444444444,\"#bd3786\"],[0.5555555555555556,\"#d8576b\"],[0.6666666666666666,\"#ed7953\"],[0.7777777777777778,\"#fb9f3a\"],[0.8888888888888888,\"#fdca26\"],[1.0,\"#f0f921\"]],\"type\":\"surface\"}],\"table\":[{\"cells\":{\"fill\":{\"color\":\"#EBF0F8\"},\"line\":{\"color\":\"white\"}},\"header\":{\"fill\":{\"color\":\"#C8D4E3\"},\"line\":{\"color\":\"white\"}},\"type\":\"table\"}]},\"layout\":{\"annotationdefaults\":{\"arrowcolor\":\"#2a3f5f\",\"arrowhead\":0,\"arrowwidth\":1},\"autotypenumbers\":\"strict\",\"coloraxis\":{\"colorbar\":{\"outlinewidth\":0,\"ticks\":\"\"}},\"colorscale\":{\"diverging\":[[0,\"#8e0152\"],[0.1,\"#c51b7d\"],[0.2,\"#de77ae\"],[0.3,\"#f1b6da\"],[0.4,\"#fde0ef\"],[0.5,\"#f7f7f7\"],[0.6,\"#e6f5d0\"],[0.7,\"#b8e186\"],[0.8,\"#7fbc41\"],[0.9,\"#4d9221\"],[1,\"#276419\"]],\"sequential\":[[0.0,\"#0d0887\"],[0.1111111111111111,\"#46039f\"],[0.2222222222222222,\"#7201a8\"],[0.3333333333333333,\"#9c179e\"],[0.4444444444444444,\"#bd3786\"],[0.5555555555555556,\"#d8576b\"],[0.6666666666666666,\"#ed7953\"],[0.7777777777777778,\"#fb9f3a\"],[0.8888888888888888,\"#fdca26\"],[1.0,\"#f0f921\"]],\"sequentialminus\":[[0.0,\"#0d0887\"],[0.1111111111111111,\"#46039f\"],[0.2222222222222222,\"#7201a8\"],[0.3333333333333333,\"#9c179e\"],[0.4444444444444444,\"#bd3786\"],[0.5555555555555556,\"#d8576b\"],[0.6666666666666666,\"#ed7953\"],[0.7777777777777778,\"#fb9f3a\"],[0.8888888888888888,\"#fdca26\"],[1.0,\"#f0f921\"]]},\"colorway\":[\"#636efa\",\"#EF553B\",\"#00cc96\",\"#ab63fa\",\"#FFA15A\",\"#19d3f3\",\"#FF6692\",\"#B6E880\",\"#FF97FF\",\"#FECB52\"],\"font\":{\"color\":\"#2a3f5f\"},\"geo\":{\"bgcolor\":\"white\",\"lakecolor\":\"white\",\"landcolor\":\"#E5ECF6\",\"showlakes\":true,\"showland\":true,\"subunitcolor\":\"white\"},\"hoverlabel\":{\"align\":\"left\"},\"hovermode\":\"closest\",\"mapbox\":{\"style\":\"light\"},\"paper_bgcolor\":\"white\",\"plot_bgcolor\":\"#E5ECF6\",\"polar\":{\"angularaxis\":{\"gridcolor\":\"white\",\"linecolor\":\"white\",\"ticks\":\"\"},\"bgcolor\":\"#E5ECF6\",\"radialaxis\":{\"gridcolor\":\"white\",\"linecolor\":\"white\",\"ticks\":\"\"}},\"scene\":{\"xaxis\":{\"backgroundcolor\":\"#E5ECF6\",\"gridcolor\":\"white\",\"gridwidth\":2,\"linecolor\":\"white\",\"showbackground\":true,\"ticks\":\"\",\"zerolinecolor\":\"white\"},\"yaxis\":{\"backgroundcolor\":\"#E5ECF6\",\"gridcolor\":\"white\",\"gridwidth\":2,\"linecolor\":\"white\",\"showbackground\":true,\"ticks\":\"\",\"zerolinecolor\":\"white\"},\"zaxis\":{\"backgroundcolor\":\"#E5ECF6\",\"gridcolor\":\"white\",\"gridwidth\":2,\"linecolor\":\"white\",\"showbackground\":true,\"ticks\":\"\",\"zerolinecolor\":\"white\"}},\"shapedefaults\":{\"line\":{\"color\":\"#2a3f5f\"}},\"ternary\":{\"aaxis\":{\"gridcolor\":\"white\",\"linecolor\":\"white\",\"ticks\":\"\"},\"baxis\":{\"gridcolor\":\"white\",\"linecolor\":\"white\",\"ticks\":\"\"},\"bgcolor\":\"#E5ECF6\",\"caxis\":{\"gridcolor\":\"white\",\"linecolor\":\"white\",\"ticks\":\"\"}},\"title\":{\"x\":0.05},\"xaxis\":{\"automargin\":true,\"gridcolor\":\"white\",\"linecolor\":\"white\",\"ticks\":\"\",\"title\":{\"standoff\":15},\"zerolinecolor\":\"white\",\"zerolinewidth\":2},\"yaxis\":{\"automargin\":true,\"gridcolor\":\"white\",\"linecolor\":\"white\",\"ticks\":\"\",\"title\":{\"standoff\":15},\"zerolinecolor\":\"white\",\"zerolinewidth\":2}}},\"title\":{\"text\":\"Athlets per Olympic game\"},\"xaxis\":{\"showticklabels\":true,\"title\":{\"text\":\"Year\"}},\"yaxis\":{\"title\":{\"text\":\"Number of athlets\"}}},                        {\"responsive\": true}                    ).then(function(){\n",
       "                            \n",
       "var gd = document.getElementById('164dedb2-6f79-4157-bfde-f84c1f0135b7');\n",
       "var x = new MutationObserver(function (mutations, observer) {{\n",
       "        var display = window.getComputedStyle(gd).display;\n",
       "        if (!display || display === 'none') {{\n",
       "            console.log([gd, 'removed!']);\n",
       "            Plotly.purge(gd);\n",
       "            observer.disconnect();\n",
       "        }}\n",
       "}});\n",
       "\n",
       "// Listen for the removal of the full notebook cells\n",
       "var notebookContainer = gd.closest('#notebook-container');\n",
       "if (notebookContainer) {{\n",
       "    x.observe(notebookContainer, {childList: true});\n",
       "}}\n",
       "\n",
       "// Listen for the clearing of the current output cell\n",
       "var outputEl = gd.closest('.output');\n",
       "if (outputEl) {{\n",
       "    x.observe(outputEl, {childList: true});\n",
       "}}\n",
       "\n",
       "                        })                };                });            </script>        </div>"
      ]
     },
     "metadata": {},
     "output_type": "display_data"
    }
   ],
   "source": [
    "traceS = go.Bar(\n",
    "    x = dfS['Year'],y = dfS['Athlets'],\n",
    "    name=\"Summer Games\",\n",
    "     marker=dict(\n",
    "                color='rgb(238,23,11)',\n",
    "                line=dict(\n",
    "                    color='black',\n",
    "                    width=0.75),\n",
    "                opacity=0.7,\n",
    "            ),\n",
    "    text=dfS['City'],\n",
    "    \n",
    ")\n",
    "traceW = go.Bar(\n",
    "    x = dfW['Year'],y = dfW['Athlets'],\n",
    "    name=\"Winter Games\",\n",
    "    marker=dict(\n",
    "                color='rgb(11,23,245)',\n",
    "                line=dict(\n",
    "                    color='black',\n",
    "                    width=0.75),\n",
    "                opacity=0.7,\n",
    "            ),\n",
    "    text=dfS['City']\n",
    ")\n",
    "\n",
    "data = [traceS, traceW]\n",
    "layout = dict(title = 'Athlets per Olympic game',\n",
    "          xaxis = dict(title = 'Year', showticklabels=True), \n",
    "          yaxis = dict(title = 'Number of athlets'),\n",
    "          hovermode = 'closest',\n",
    "          barmode='stack'\n",
    "         )\n",
    "fig = dict(data=data, layout=layout)\n",
    "iplot(fig, filename='events-athlets4')"
   ]
  },
  {
   "cell_type": "markdown",
   "id": "96d4b36e",
   "metadata": {
    "papermill": {
     "duration": 0.045915,
     "end_time": "2022-07-27T20:00:41.866749",
     "exception": false,
     "start_time": "2022-07-27T20:00:41.820834",
     "status": "completed"
    },
    "tags": []
   },
   "source": [
    "# 6. Show the distribution of athlets number during the Olympic games editions, grouped by Season, in Box plot."
   ]
  },
  {
   "cell_type": "code",
   "execution_count": 16,
   "id": "b3de4575",
   "metadata": {
    "_uuid": "d234ff192ca3f808bffbed5f95fd1b4908f6b96e",
    "execution": {
     "iopub.execute_input": "2022-07-27T20:00:41.962006Z",
     "iopub.status.busy": "2022-07-27T20:00:41.961042Z",
     "iopub.status.idle": "2022-07-27T20:00:42.023421Z",
     "shell.execute_reply": "2022-07-27T20:00:42.022196Z"
    },
    "papermill": {
     "duration": 0.113624,
     "end_time": "2022-07-27T20:00:42.026652",
     "exception": false,
     "start_time": "2022-07-27T20:00:41.913028",
     "status": "completed"
    },
    "tags": []
   },
   "outputs": [
    {
     "data": {
      "application/vnd.plotly.v1+json": {
       "config": {
        "linkText": "Export to plot.ly",
        "plotlyServerURL": "https://plot.ly",
        "showLink": false
       },
       "data": [
        {
         "marker": {
          "color": "rgba(238,23,11,0.5)",
          "line": {
           "color": "red",
           "width": 1.2
          }
         },
         "name": "Summer Games",
         "orientation": "h",
         "text": [
          "Athina",
          "Paris",
          "St. Louis",
          "Athina",
          "London",
          "Stockholm",
          "Antwerpen",
          "Paris",
          "Amsterdam",
          "Los Angeles",
          "Berlin",
          "London",
          "Helsinki",
          "Melbourne",
          "Stockholm",
          "Roma",
          "Tokyo",
          "Mexico City",
          "Munich",
          "Montreal",
          "Moskva",
          "Los Angeles",
          "Seoul",
          "Barcelona",
          "Atlanta",
          "Sydney",
          "Athina",
          "Beijing",
          "London",
          "Rio de Janeiro"
         ],
         "type": "box",
         "x": [
          380,
          1936,
          1301,
          1733,
          3101,
          4040,
          4292,
          5233,
          4992,
          2969,
          6506,
          6405,
          8270,
          4829,
          298,
          8119,
          7702,
          8588,
          10304,
          8641,
          7191,
          9454,
          12037,
          12977,
          13780,
          13821,
          13443,
          13602,
          12920,
          13688
         ]
        },
        {
         "marker": {
          "color": "rgba(11,23,245,0.5)",
          "line": {
           "color": "black",
           "width": 1.2
          }
         },
         "name": "Winter Games",
         "orientation": "h",
         "text": [
          "Athina",
          "Paris",
          "St. Louis",
          "Athina",
          "London",
          "Stockholm",
          "Antwerpen",
          "Paris",
          "Amsterdam",
          "Los Angeles",
          "Berlin",
          "London",
          "Helsinki",
          "Melbourne",
          "Stockholm",
          "Roma",
          "Tokyo",
          "Mexico City",
          "Munich",
          "Montreal",
          "Moskva",
          "Los Angeles",
          "Seoul",
          "Barcelona",
          "Atlanta",
          "Sydney",
          "Athina",
          "Beijing",
          "London",
          "Rio de Janeiro"
         ],
         "type": "box",
         "x": [
          460,
          582,
          352,
          895,
          1075,
          1088,
          1307,
          1116,
          1778,
          1891,
          1655,
          1861,
          1746,
          2134,
          2639,
          3436,
          3160,
          3605,
          4109,
          4382,
          4402,
          4891
         ]
        }
       ],
       "layout": {
        "hovermode": "closest",
        "template": {
         "data": {
          "bar": [
           {
            "error_x": {
             "color": "#2a3f5f"
            },
            "error_y": {
             "color": "#2a3f5f"
            },
            "marker": {
             "line": {
              "color": "#E5ECF6",
              "width": 0.5
             },
             "pattern": {
              "fillmode": "overlay",
              "size": 10,
              "solidity": 0.2
             }
            },
            "type": "bar"
           }
          ],
          "barpolar": [
           {
            "marker": {
             "line": {
              "color": "#E5ECF6",
              "width": 0.5
             },
             "pattern": {
              "fillmode": "overlay",
              "size": 10,
              "solidity": 0.2
             }
            },
            "type": "barpolar"
           }
          ],
          "carpet": [
           {
            "aaxis": {
             "endlinecolor": "#2a3f5f",
             "gridcolor": "white",
             "linecolor": "white",
             "minorgridcolor": "white",
             "startlinecolor": "#2a3f5f"
            },
            "baxis": {
             "endlinecolor": "#2a3f5f",
             "gridcolor": "white",
             "linecolor": "white",
             "minorgridcolor": "white",
             "startlinecolor": "#2a3f5f"
            },
            "type": "carpet"
           }
          ],
          "choropleth": [
           {
            "colorbar": {
             "outlinewidth": 0,
             "ticks": ""
            },
            "type": "choropleth"
           }
          ],
          "contour": [
           {
            "colorbar": {
             "outlinewidth": 0,
             "ticks": ""
            },
            "colorscale": [
             [
              0.0,
              "#0d0887"
             ],
             [
              0.1111111111111111,
              "#46039f"
             ],
             [
              0.2222222222222222,
              "#7201a8"
             ],
             [
              0.3333333333333333,
              "#9c179e"
             ],
             [
              0.4444444444444444,
              "#bd3786"
             ],
             [
              0.5555555555555556,
              "#d8576b"
             ],
             [
              0.6666666666666666,
              "#ed7953"
             ],
             [
              0.7777777777777778,
              "#fb9f3a"
             ],
             [
              0.8888888888888888,
              "#fdca26"
             ],
             [
              1.0,
              "#f0f921"
             ]
            ],
            "type": "contour"
           }
          ],
          "contourcarpet": [
           {
            "colorbar": {
             "outlinewidth": 0,
             "ticks": ""
            },
            "type": "contourcarpet"
           }
          ],
          "heatmap": [
           {
            "colorbar": {
             "outlinewidth": 0,
             "ticks": ""
            },
            "colorscale": [
             [
              0.0,
              "#0d0887"
             ],
             [
              0.1111111111111111,
              "#46039f"
             ],
             [
              0.2222222222222222,
              "#7201a8"
             ],
             [
              0.3333333333333333,
              "#9c179e"
             ],
             [
              0.4444444444444444,
              "#bd3786"
             ],
             [
              0.5555555555555556,
              "#d8576b"
             ],
             [
              0.6666666666666666,
              "#ed7953"
             ],
             [
              0.7777777777777778,
              "#fb9f3a"
             ],
             [
              0.8888888888888888,
              "#fdca26"
             ],
             [
              1.0,
              "#f0f921"
             ]
            ],
            "type": "heatmap"
           }
          ],
          "heatmapgl": [
           {
            "colorbar": {
             "outlinewidth": 0,
             "ticks": ""
            },
            "colorscale": [
             [
              0.0,
              "#0d0887"
             ],
             [
              0.1111111111111111,
              "#46039f"
             ],
             [
              0.2222222222222222,
              "#7201a8"
             ],
             [
              0.3333333333333333,
              "#9c179e"
             ],
             [
              0.4444444444444444,
              "#bd3786"
             ],
             [
              0.5555555555555556,
              "#d8576b"
             ],
             [
              0.6666666666666666,
              "#ed7953"
             ],
             [
              0.7777777777777778,
              "#fb9f3a"
             ],
             [
              0.8888888888888888,
              "#fdca26"
             ],
             [
              1.0,
              "#f0f921"
             ]
            ],
            "type": "heatmapgl"
           }
          ],
          "histogram": [
           {
            "marker": {
             "pattern": {
              "fillmode": "overlay",
              "size": 10,
              "solidity": 0.2
             }
            },
            "type": "histogram"
           }
          ],
          "histogram2d": [
           {
            "colorbar": {
             "outlinewidth": 0,
             "ticks": ""
            },
            "colorscale": [
             [
              0.0,
              "#0d0887"
             ],
             [
              0.1111111111111111,
              "#46039f"
             ],
             [
              0.2222222222222222,
              "#7201a8"
             ],
             [
              0.3333333333333333,
              "#9c179e"
             ],
             [
              0.4444444444444444,
              "#bd3786"
             ],
             [
              0.5555555555555556,
              "#d8576b"
             ],
             [
              0.6666666666666666,
              "#ed7953"
             ],
             [
              0.7777777777777778,
              "#fb9f3a"
             ],
             [
              0.8888888888888888,
              "#fdca26"
             ],
             [
              1.0,
              "#f0f921"
             ]
            ],
            "type": "histogram2d"
           }
          ],
          "histogram2dcontour": [
           {
            "colorbar": {
             "outlinewidth": 0,
             "ticks": ""
            },
            "colorscale": [
             [
              0.0,
              "#0d0887"
             ],
             [
              0.1111111111111111,
              "#46039f"
             ],
             [
              0.2222222222222222,
              "#7201a8"
             ],
             [
              0.3333333333333333,
              "#9c179e"
             ],
             [
              0.4444444444444444,
              "#bd3786"
             ],
             [
              0.5555555555555556,
              "#d8576b"
             ],
             [
              0.6666666666666666,
              "#ed7953"
             ],
             [
              0.7777777777777778,
              "#fb9f3a"
             ],
             [
              0.8888888888888888,
              "#fdca26"
             ],
             [
              1.0,
              "#f0f921"
             ]
            ],
            "type": "histogram2dcontour"
           }
          ],
          "mesh3d": [
           {
            "colorbar": {
             "outlinewidth": 0,
             "ticks": ""
            },
            "type": "mesh3d"
           }
          ],
          "parcoords": [
           {
            "line": {
             "colorbar": {
              "outlinewidth": 0,
              "ticks": ""
             }
            },
            "type": "parcoords"
           }
          ],
          "pie": [
           {
            "automargin": true,
            "type": "pie"
           }
          ],
          "scatter": [
           {
            "fillpattern": {
             "fillmode": "overlay",
             "size": 10,
             "solidity": 0.2
            },
            "type": "scatter"
           }
          ],
          "scatter3d": [
           {
            "line": {
             "colorbar": {
              "outlinewidth": 0,
              "ticks": ""
             }
            },
            "marker": {
             "colorbar": {
              "outlinewidth": 0,
              "ticks": ""
             }
            },
            "type": "scatter3d"
           }
          ],
          "scattercarpet": [
           {
            "marker": {
             "colorbar": {
              "outlinewidth": 0,
              "ticks": ""
             }
            },
            "type": "scattercarpet"
           }
          ],
          "scattergeo": [
           {
            "marker": {
             "colorbar": {
              "outlinewidth": 0,
              "ticks": ""
             }
            },
            "type": "scattergeo"
           }
          ],
          "scattergl": [
           {
            "marker": {
             "colorbar": {
              "outlinewidth": 0,
              "ticks": ""
             }
            },
            "type": "scattergl"
           }
          ],
          "scattermapbox": [
           {
            "marker": {
             "colorbar": {
              "outlinewidth": 0,
              "ticks": ""
             }
            },
            "type": "scattermapbox"
           }
          ],
          "scatterpolar": [
           {
            "marker": {
             "colorbar": {
              "outlinewidth": 0,
              "ticks": ""
             }
            },
            "type": "scatterpolar"
           }
          ],
          "scatterpolargl": [
           {
            "marker": {
             "colorbar": {
              "outlinewidth": 0,
              "ticks": ""
             }
            },
            "type": "scatterpolargl"
           }
          ],
          "scatterternary": [
           {
            "marker": {
             "colorbar": {
              "outlinewidth": 0,
              "ticks": ""
             }
            },
            "type": "scatterternary"
           }
          ],
          "surface": [
           {
            "colorbar": {
             "outlinewidth": 0,
             "ticks": ""
            },
            "colorscale": [
             [
              0.0,
              "#0d0887"
             ],
             [
              0.1111111111111111,
              "#46039f"
             ],
             [
              0.2222222222222222,
              "#7201a8"
             ],
             [
              0.3333333333333333,
              "#9c179e"
             ],
             [
              0.4444444444444444,
              "#bd3786"
             ],
             [
              0.5555555555555556,
              "#d8576b"
             ],
             [
              0.6666666666666666,
              "#ed7953"
             ],
             [
              0.7777777777777778,
              "#fb9f3a"
             ],
             [
              0.8888888888888888,
              "#fdca26"
             ],
             [
              1.0,
              "#f0f921"
             ]
            ],
            "type": "surface"
           }
          ],
          "table": [
           {
            "cells": {
             "fill": {
              "color": "#EBF0F8"
             },
             "line": {
              "color": "white"
             }
            },
            "header": {
             "fill": {
              "color": "#C8D4E3"
             },
             "line": {
              "color": "white"
             }
            },
            "type": "table"
           }
          ]
         },
         "layout": {
          "annotationdefaults": {
           "arrowcolor": "#2a3f5f",
           "arrowhead": 0,
           "arrowwidth": 1
          },
          "autotypenumbers": "strict",
          "coloraxis": {
           "colorbar": {
            "outlinewidth": 0,
            "ticks": ""
           }
          },
          "colorscale": {
           "diverging": [
            [
             0,
             "#8e0152"
            ],
            [
             0.1,
             "#c51b7d"
            ],
            [
             0.2,
             "#de77ae"
            ],
            [
             0.3,
             "#f1b6da"
            ],
            [
             0.4,
             "#fde0ef"
            ],
            [
             0.5,
             "#f7f7f7"
            ],
            [
             0.6,
             "#e6f5d0"
            ],
            [
             0.7,
             "#b8e186"
            ],
            [
             0.8,
             "#7fbc41"
            ],
            [
             0.9,
             "#4d9221"
            ],
            [
             1,
             "#276419"
            ]
           ],
           "sequential": [
            [
             0.0,
             "#0d0887"
            ],
            [
             0.1111111111111111,
             "#46039f"
            ],
            [
             0.2222222222222222,
             "#7201a8"
            ],
            [
             0.3333333333333333,
             "#9c179e"
            ],
            [
             0.4444444444444444,
             "#bd3786"
            ],
            [
             0.5555555555555556,
             "#d8576b"
            ],
            [
             0.6666666666666666,
             "#ed7953"
            ],
            [
             0.7777777777777778,
             "#fb9f3a"
            ],
            [
             0.8888888888888888,
             "#fdca26"
            ],
            [
             1.0,
             "#f0f921"
            ]
           ],
           "sequentialminus": [
            [
             0.0,
             "#0d0887"
            ],
            [
             0.1111111111111111,
             "#46039f"
            ],
            [
             0.2222222222222222,
             "#7201a8"
            ],
            [
             0.3333333333333333,
             "#9c179e"
            ],
            [
             0.4444444444444444,
             "#bd3786"
            ],
            [
             0.5555555555555556,
             "#d8576b"
            ],
            [
             0.6666666666666666,
             "#ed7953"
            ],
            [
             0.7777777777777778,
             "#fb9f3a"
            ],
            [
             0.8888888888888888,
             "#fdca26"
            ],
            [
             1.0,
             "#f0f921"
            ]
           ]
          },
          "colorway": [
           "#636efa",
           "#EF553B",
           "#00cc96",
           "#ab63fa",
           "#FFA15A",
           "#19d3f3",
           "#FF6692",
           "#B6E880",
           "#FF97FF",
           "#FECB52"
          ],
          "font": {
           "color": "#2a3f5f"
          },
          "geo": {
           "bgcolor": "white",
           "lakecolor": "white",
           "landcolor": "#E5ECF6",
           "showlakes": true,
           "showland": true,
           "subunitcolor": "white"
          },
          "hoverlabel": {
           "align": "left"
          },
          "hovermode": "closest",
          "mapbox": {
           "style": "light"
          },
          "paper_bgcolor": "white",
          "plot_bgcolor": "#E5ECF6",
          "polar": {
           "angularaxis": {
            "gridcolor": "white",
            "linecolor": "white",
            "ticks": ""
           },
           "bgcolor": "#E5ECF6",
           "radialaxis": {
            "gridcolor": "white",
            "linecolor": "white",
            "ticks": ""
           }
          },
          "scene": {
           "xaxis": {
            "backgroundcolor": "#E5ECF6",
            "gridcolor": "white",
            "gridwidth": 2,
            "linecolor": "white",
            "showbackground": true,
            "ticks": "",
            "zerolinecolor": "white"
           },
           "yaxis": {
            "backgroundcolor": "#E5ECF6",
            "gridcolor": "white",
            "gridwidth": 2,
            "linecolor": "white",
            "showbackground": true,
            "ticks": "",
            "zerolinecolor": "white"
           },
           "zaxis": {
            "backgroundcolor": "#E5ECF6",
            "gridcolor": "white",
            "gridwidth": 2,
            "linecolor": "white",
            "showbackground": true,
            "ticks": "",
            "zerolinecolor": "white"
           }
          },
          "shapedefaults": {
           "line": {
            "color": "#2a3f5f"
           }
          },
          "ternary": {
           "aaxis": {
            "gridcolor": "white",
            "linecolor": "white",
            "ticks": ""
           },
           "baxis": {
            "gridcolor": "white",
            "linecolor": "white",
            "ticks": ""
           },
           "bgcolor": "#E5ECF6",
           "caxis": {
            "gridcolor": "white",
            "linecolor": "white",
            "ticks": ""
           }
          },
          "title": {
           "x": 0.05
          },
          "xaxis": {
           "automargin": true,
           "gridcolor": "white",
           "linecolor": "white",
           "ticks": "",
           "title": {
            "standoff": 15
           },
           "zerolinecolor": "white",
           "zerolinewidth": 2
          },
          "yaxis": {
           "automargin": true,
           "gridcolor": "white",
           "linecolor": "white",
           "ticks": "",
           "title": {
            "standoff": 15
           },
           "zerolinecolor": "white",
           "zerolinewidth": 2
          }
         }
        },
        "title": {
         "text": "Athlets per Olympic game"
        },
        "xaxis": {
         "showticklabels": true,
         "title": {
          "text": "Number of athlets"
         }
        },
        "yaxis": {
         "showticklabels": true,
         "tickangle": -90,
         "title": {
          "text": "Season"
         }
        }
       }
      },
      "text/html": [
       "<div>                            <div id=\"766c8f7a-a034-4f90-b310-f25091c0835b\" class=\"plotly-graph-div\" style=\"height:525px; width:100%;\"></div>            <script type=\"text/javascript\">                require([\"plotly\"], function(Plotly) {                    window.PLOTLYENV=window.PLOTLYENV || {};                                    if (document.getElementById(\"766c8f7a-a034-4f90-b310-f25091c0835b\")) {                    Plotly.newPlot(                        \"766c8f7a-a034-4f90-b310-f25091c0835b\",                        [{\"marker\":{\"color\":\"rgba(238,23,11,0.5)\",\"line\":{\"color\":\"red\",\"width\":1.2}},\"name\":\"Summer Games\",\"orientation\":\"h\",\"text\":[\"Athina\",\"Paris\",\"St. Louis\",\"Athina\",\"London\",\"Stockholm\",\"Antwerpen\",\"Paris\",\"Amsterdam\",\"Los Angeles\",\"Berlin\",\"London\",\"Helsinki\",\"Melbourne\",\"Stockholm\",\"Roma\",\"Tokyo\",\"Mexico City\",\"Munich\",\"Montreal\",\"Moskva\",\"Los Angeles\",\"Seoul\",\"Barcelona\",\"Atlanta\",\"Sydney\",\"Athina\",\"Beijing\",\"London\",\"Rio de Janeiro\"],\"x\":[380,1936,1301,1733,3101,4040,4292,5233,4992,2969,6506,6405,8270,4829,298,8119,7702,8588,10304,8641,7191,9454,12037,12977,13780,13821,13443,13602,12920,13688],\"type\":\"box\"},{\"marker\":{\"color\":\"rgba(11,23,245,0.5)\",\"line\":{\"color\":\"black\",\"width\":1.2}},\"name\":\"Winter Games\",\"orientation\":\"h\",\"text\":[\"Athina\",\"Paris\",\"St. Louis\",\"Athina\",\"London\",\"Stockholm\",\"Antwerpen\",\"Paris\",\"Amsterdam\",\"Los Angeles\",\"Berlin\",\"London\",\"Helsinki\",\"Melbourne\",\"Stockholm\",\"Roma\",\"Tokyo\",\"Mexico City\",\"Munich\",\"Montreal\",\"Moskva\",\"Los Angeles\",\"Seoul\",\"Barcelona\",\"Atlanta\",\"Sydney\",\"Athina\",\"Beijing\",\"London\",\"Rio de Janeiro\"],\"x\":[460,582,352,895,1075,1088,1307,1116,1778,1891,1655,1861,1746,2134,2639,3436,3160,3605,4109,4382,4402,4891],\"type\":\"box\"}],                        {\"hovermode\":\"closest\",\"template\":{\"data\":{\"barpolar\":[{\"marker\":{\"line\":{\"color\":\"#E5ECF6\",\"width\":0.5},\"pattern\":{\"fillmode\":\"overlay\",\"size\":10,\"solidity\":0.2}},\"type\":\"barpolar\"}],\"bar\":[{\"error_x\":{\"color\":\"#2a3f5f\"},\"error_y\":{\"color\":\"#2a3f5f\"},\"marker\":{\"line\":{\"color\":\"#E5ECF6\",\"width\":0.5},\"pattern\":{\"fillmode\":\"overlay\",\"size\":10,\"solidity\":0.2}},\"type\":\"bar\"}],\"carpet\":[{\"aaxis\":{\"endlinecolor\":\"#2a3f5f\",\"gridcolor\":\"white\",\"linecolor\":\"white\",\"minorgridcolor\":\"white\",\"startlinecolor\":\"#2a3f5f\"},\"baxis\":{\"endlinecolor\":\"#2a3f5f\",\"gridcolor\":\"white\",\"linecolor\":\"white\",\"minorgridcolor\":\"white\",\"startlinecolor\":\"#2a3f5f\"},\"type\":\"carpet\"}],\"choropleth\":[{\"colorbar\":{\"outlinewidth\":0,\"ticks\":\"\"},\"type\":\"choropleth\"}],\"contourcarpet\":[{\"colorbar\":{\"outlinewidth\":0,\"ticks\":\"\"},\"type\":\"contourcarpet\"}],\"contour\":[{\"colorbar\":{\"outlinewidth\":0,\"ticks\":\"\"},\"colorscale\":[[0.0,\"#0d0887\"],[0.1111111111111111,\"#46039f\"],[0.2222222222222222,\"#7201a8\"],[0.3333333333333333,\"#9c179e\"],[0.4444444444444444,\"#bd3786\"],[0.5555555555555556,\"#d8576b\"],[0.6666666666666666,\"#ed7953\"],[0.7777777777777778,\"#fb9f3a\"],[0.8888888888888888,\"#fdca26\"],[1.0,\"#f0f921\"]],\"type\":\"contour\"}],\"heatmapgl\":[{\"colorbar\":{\"outlinewidth\":0,\"ticks\":\"\"},\"colorscale\":[[0.0,\"#0d0887\"],[0.1111111111111111,\"#46039f\"],[0.2222222222222222,\"#7201a8\"],[0.3333333333333333,\"#9c179e\"],[0.4444444444444444,\"#bd3786\"],[0.5555555555555556,\"#d8576b\"],[0.6666666666666666,\"#ed7953\"],[0.7777777777777778,\"#fb9f3a\"],[0.8888888888888888,\"#fdca26\"],[1.0,\"#f0f921\"]],\"type\":\"heatmapgl\"}],\"heatmap\":[{\"colorbar\":{\"outlinewidth\":0,\"ticks\":\"\"},\"colorscale\":[[0.0,\"#0d0887\"],[0.1111111111111111,\"#46039f\"],[0.2222222222222222,\"#7201a8\"],[0.3333333333333333,\"#9c179e\"],[0.4444444444444444,\"#bd3786\"],[0.5555555555555556,\"#d8576b\"],[0.6666666666666666,\"#ed7953\"],[0.7777777777777778,\"#fb9f3a\"],[0.8888888888888888,\"#fdca26\"],[1.0,\"#f0f921\"]],\"type\":\"heatmap\"}],\"histogram2dcontour\":[{\"colorbar\":{\"outlinewidth\":0,\"ticks\":\"\"},\"colorscale\":[[0.0,\"#0d0887\"],[0.1111111111111111,\"#46039f\"],[0.2222222222222222,\"#7201a8\"],[0.3333333333333333,\"#9c179e\"],[0.4444444444444444,\"#bd3786\"],[0.5555555555555556,\"#d8576b\"],[0.6666666666666666,\"#ed7953\"],[0.7777777777777778,\"#fb9f3a\"],[0.8888888888888888,\"#fdca26\"],[1.0,\"#f0f921\"]],\"type\":\"histogram2dcontour\"}],\"histogram2d\":[{\"colorbar\":{\"outlinewidth\":0,\"ticks\":\"\"},\"colorscale\":[[0.0,\"#0d0887\"],[0.1111111111111111,\"#46039f\"],[0.2222222222222222,\"#7201a8\"],[0.3333333333333333,\"#9c179e\"],[0.4444444444444444,\"#bd3786\"],[0.5555555555555556,\"#d8576b\"],[0.6666666666666666,\"#ed7953\"],[0.7777777777777778,\"#fb9f3a\"],[0.8888888888888888,\"#fdca26\"],[1.0,\"#f0f921\"]],\"type\":\"histogram2d\"}],\"histogram\":[{\"marker\":{\"pattern\":{\"fillmode\":\"overlay\",\"size\":10,\"solidity\":0.2}},\"type\":\"histogram\"}],\"mesh3d\":[{\"colorbar\":{\"outlinewidth\":0,\"ticks\":\"\"},\"type\":\"mesh3d\"}],\"parcoords\":[{\"line\":{\"colorbar\":{\"outlinewidth\":0,\"ticks\":\"\"}},\"type\":\"parcoords\"}],\"pie\":[{\"automargin\":true,\"type\":\"pie\"}],\"scatter3d\":[{\"line\":{\"colorbar\":{\"outlinewidth\":0,\"ticks\":\"\"}},\"marker\":{\"colorbar\":{\"outlinewidth\":0,\"ticks\":\"\"}},\"type\":\"scatter3d\"}],\"scattercarpet\":[{\"marker\":{\"colorbar\":{\"outlinewidth\":0,\"ticks\":\"\"}},\"type\":\"scattercarpet\"}],\"scattergeo\":[{\"marker\":{\"colorbar\":{\"outlinewidth\":0,\"ticks\":\"\"}},\"type\":\"scattergeo\"}],\"scattergl\":[{\"marker\":{\"colorbar\":{\"outlinewidth\":0,\"ticks\":\"\"}},\"type\":\"scattergl\"}],\"scattermapbox\":[{\"marker\":{\"colorbar\":{\"outlinewidth\":0,\"ticks\":\"\"}},\"type\":\"scattermapbox\"}],\"scatterpolargl\":[{\"marker\":{\"colorbar\":{\"outlinewidth\":0,\"ticks\":\"\"}},\"type\":\"scatterpolargl\"}],\"scatterpolar\":[{\"marker\":{\"colorbar\":{\"outlinewidth\":0,\"ticks\":\"\"}},\"type\":\"scatterpolar\"}],\"scatter\":[{\"fillpattern\":{\"fillmode\":\"overlay\",\"size\":10,\"solidity\":0.2},\"type\":\"scatter\"}],\"scatterternary\":[{\"marker\":{\"colorbar\":{\"outlinewidth\":0,\"ticks\":\"\"}},\"type\":\"scatterternary\"}],\"surface\":[{\"colorbar\":{\"outlinewidth\":0,\"ticks\":\"\"},\"colorscale\":[[0.0,\"#0d0887\"],[0.1111111111111111,\"#46039f\"],[0.2222222222222222,\"#7201a8\"],[0.3333333333333333,\"#9c179e\"],[0.4444444444444444,\"#bd3786\"],[0.5555555555555556,\"#d8576b\"],[0.6666666666666666,\"#ed7953\"],[0.7777777777777778,\"#fb9f3a\"],[0.8888888888888888,\"#fdca26\"],[1.0,\"#f0f921\"]],\"type\":\"surface\"}],\"table\":[{\"cells\":{\"fill\":{\"color\":\"#EBF0F8\"},\"line\":{\"color\":\"white\"}},\"header\":{\"fill\":{\"color\":\"#C8D4E3\"},\"line\":{\"color\":\"white\"}},\"type\":\"table\"}]},\"layout\":{\"annotationdefaults\":{\"arrowcolor\":\"#2a3f5f\",\"arrowhead\":0,\"arrowwidth\":1},\"autotypenumbers\":\"strict\",\"coloraxis\":{\"colorbar\":{\"outlinewidth\":0,\"ticks\":\"\"}},\"colorscale\":{\"diverging\":[[0,\"#8e0152\"],[0.1,\"#c51b7d\"],[0.2,\"#de77ae\"],[0.3,\"#f1b6da\"],[0.4,\"#fde0ef\"],[0.5,\"#f7f7f7\"],[0.6,\"#e6f5d0\"],[0.7,\"#b8e186\"],[0.8,\"#7fbc41\"],[0.9,\"#4d9221\"],[1,\"#276419\"]],\"sequential\":[[0.0,\"#0d0887\"],[0.1111111111111111,\"#46039f\"],[0.2222222222222222,\"#7201a8\"],[0.3333333333333333,\"#9c179e\"],[0.4444444444444444,\"#bd3786\"],[0.5555555555555556,\"#d8576b\"],[0.6666666666666666,\"#ed7953\"],[0.7777777777777778,\"#fb9f3a\"],[0.8888888888888888,\"#fdca26\"],[1.0,\"#f0f921\"]],\"sequentialminus\":[[0.0,\"#0d0887\"],[0.1111111111111111,\"#46039f\"],[0.2222222222222222,\"#7201a8\"],[0.3333333333333333,\"#9c179e\"],[0.4444444444444444,\"#bd3786\"],[0.5555555555555556,\"#d8576b\"],[0.6666666666666666,\"#ed7953\"],[0.7777777777777778,\"#fb9f3a\"],[0.8888888888888888,\"#fdca26\"],[1.0,\"#f0f921\"]]},\"colorway\":[\"#636efa\",\"#EF553B\",\"#00cc96\",\"#ab63fa\",\"#FFA15A\",\"#19d3f3\",\"#FF6692\",\"#B6E880\",\"#FF97FF\",\"#FECB52\"],\"font\":{\"color\":\"#2a3f5f\"},\"geo\":{\"bgcolor\":\"white\",\"lakecolor\":\"white\",\"landcolor\":\"#E5ECF6\",\"showlakes\":true,\"showland\":true,\"subunitcolor\":\"white\"},\"hoverlabel\":{\"align\":\"left\"},\"hovermode\":\"closest\",\"mapbox\":{\"style\":\"light\"},\"paper_bgcolor\":\"white\",\"plot_bgcolor\":\"#E5ECF6\",\"polar\":{\"angularaxis\":{\"gridcolor\":\"white\",\"linecolor\":\"white\",\"ticks\":\"\"},\"bgcolor\":\"#E5ECF6\",\"radialaxis\":{\"gridcolor\":\"white\",\"linecolor\":\"white\",\"ticks\":\"\"}},\"scene\":{\"xaxis\":{\"backgroundcolor\":\"#E5ECF6\",\"gridcolor\":\"white\",\"gridwidth\":2,\"linecolor\":\"white\",\"showbackground\":true,\"ticks\":\"\",\"zerolinecolor\":\"white\"},\"yaxis\":{\"backgroundcolor\":\"#E5ECF6\",\"gridcolor\":\"white\",\"gridwidth\":2,\"linecolor\":\"white\",\"showbackground\":true,\"ticks\":\"\",\"zerolinecolor\":\"white\"},\"zaxis\":{\"backgroundcolor\":\"#E5ECF6\",\"gridcolor\":\"white\",\"gridwidth\":2,\"linecolor\":\"white\",\"showbackground\":true,\"ticks\":\"\",\"zerolinecolor\":\"white\"}},\"shapedefaults\":{\"line\":{\"color\":\"#2a3f5f\"}},\"ternary\":{\"aaxis\":{\"gridcolor\":\"white\",\"linecolor\":\"white\",\"ticks\":\"\"},\"baxis\":{\"gridcolor\":\"white\",\"linecolor\":\"white\",\"ticks\":\"\"},\"bgcolor\":\"#E5ECF6\",\"caxis\":{\"gridcolor\":\"white\",\"linecolor\":\"white\",\"ticks\":\"\"}},\"title\":{\"x\":0.05},\"xaxis\":{\"automargin\":true,\"gridcolor\":\"white\",\"linecolor\":\"white\",\"ticks\":\"\",\"title\":{\"standoff\":15},\"zerolinecolor\":\"white\",\"zerolinewidth\":2},\"yaxis\":{\"automargin\":true,\"gridcolor\":\"white\",\"linecolor\":\"white\",\"ticks\":\"\",\"title\":{\"standoff\":15},\"zerolinecolor\":\"white\",\"zerolinewidth\":2}}},\"title\":{\"text\":\"Athlets per Olympic game\"},\"xaxis\":{\"showticklabels\":true,\"title\":{\"text\":\"Number of athlets\"}},\"yaxis\":{\"showticklabels\":true,\"tickangle\":-90,\"title\":{\"text\":\"Season\"}}},                        {\"responsive\": true}                    ).then(function(){\n",
       "                            \n",
       "var gd = document.getElementById('766c8f7a-a034-4f90-b310-f25091c0835b');\n",
       "var x = new MutationObserver(function (mutations, observer) {{\n",
       "        var display = window.getComputedStyle(gd).display;\n",
       "        if (!display || display === 'none') {{\n",
       "            console.log([gd, 'removed!']);\n",
       "            Plotly.purge(gd);\n",
       "            observer.disconnect();\n",
       "        }}\n",
       "}});\n",
       "\n",
       "// Listen for the removal of the full notebook cells\n",
       "var notebookContainer = gd.closest('#notebook-container');\n",
       "if (notebookContainer) {{\n",
       "    x.observe(notebookContainer, {childList: true});\n",
       "}}\n",
       "\n",
       "// Listen for the clearing of the current output cell\n",
       "var outputEl = gd.closest('.output');\n",
       "if (outputEl) {{\n",
       "    x.observe(outputEl, {childList: true});\n",
       "}}\n",
       "\n",
       "                        })                };                });            </script>        </div>"
      ]
     },
     "metadata": {},
     "output_type": "display_data"
    }
   ],
   "source": [
    "traceS = go.Box(\n",
    "    x = dfS['Athlets'],\n",
    "    name=\"Summer Games\",\n",
    "    \n",
    "     marker=dict(\n",
    "                color='rgba(238,23,11,0.5)',\n",
    "                line=dict(\n",
    "                    color='red',\n",
    "                    width=1.2),\n",
    "            ),\n",
    "    text=dfS['City'],\n",
    "    orientation='h',\n",
    "    \n",
    ")\n",
    "traceW = go.Box(\n",
    "    x = dfW['Athlets'],\n",
    "    name=\"Winter Games\",\n",
    "    marker=dict(\n",
    "                color='rgba(11,23,245,0.5)',\n",
    "                line=dict(\n",
    "                    color='black',\n",
    "                    width=1.2),\n",
    "            ),\n",
    "    text=dfS['City'],  orientation='h',\n",
    ")\n",
    "\n",
    "data = [traceS, traceW]\n",
    "layout = dict(title = 'Athlets per Olympic game',\n",
    "          xaxis = dict(title = 'Number of athlets',showticklabels=True),\n",
    "          yaxis = dict(title = 'Season', showticklabels=True, tickangle=-90), \n",
    "          hovermode = 'closest',\n",
    "         )\n",
    "fig = dict(data=data, layout=layout)\n",
    "iplot(fig, filename='events-athlets5')"
   ]
  },
  {
   "cell_type": "markdown",
   "id": "a3aef8e1",
   "metadata": {
    "papermill": {
     "duration": 0.053613,
     "end_time": "2022-07-27T20:00:42.133002",
     "exception": false,
     "start_time": "2022-07-27T20:00:42.079389",
     "status": "completed"
    },
    "tags": []
   },
   "source": [
    "# 7. Plot the number of athlets per sport for each year. For each sport, each year, a point should be plotted."
   ]
  },
  {
   "cell_type": "code",
   "execution_count": 17,
   "id": "bbe29f6f",
   "metadata": {
    "_uuid": "8881172650d90b933df1aefa518a572bee6f6d13",
    "execution": {
     "iopub.execute_input": "2022-07-27T20:00:42.240379Z",
     "iopub.status.busy": "2022-07-27T20:00:42.239966Z",
     "iopub.status.idle": "2022-07-27T20:00:42.369989Z",
     "shell.execute_reply": "2022-07-27T20:00:42.368694Z"
    },
    "papermill": {
     "duration": 0.187196,
     "end_time": "2022-07-27T20:00:42.373186",
     "exception": false,
     "start_time": "2022-07-27T20:00:42.185990",
     "status": "completed"
    },
    "tags": []
   },
   "outputs": [],
   "source": [
    "tmp = athlete_events_df.groupby(['Year', 'City','Season'])['Sport'].nunique()\n",
    "df = pd.DataFrame(data={'Sports': tmp.values}, index=tmp.index).reset_index()"
   ]
  },
  {
   "cell_type": "code",
   "execution_count": 18,
   "id": "8e92f329",
   "metadata": {
    "_uuid": "8819887cdcab3dd76c2a002a678e3357b673ddfa",
    "execution": {
     "iopub.execute_input": "2022-07-27T20:00:42.482411Z",
     "iopub.status.busy": "2022-07-27T20:00:42.481242Z",
     "iopub.status.idle": "2022-07-27T20:00:42.494248Z",
     "shell.execute_reply": "2022-07-27T20:00:42.492945Z"
    },
    "papermill": {
     "duration": 0.070079,
     "end_time": "2022-07-27T20:00:42.496926",
     "exception": false,
     "start_time": "2022-07-27T20:00:42.426847",
     "status": "completed"
    },
    "tags": []
   },
   "outputs": [
    {
     "data": {
      "text/html": [
       "<div>\n",
       "<style scoped>\n",
       "    .dataframe tbody tr th:only-of-type {\n",
       "        vertical-align: middle;\n",
       "    }\n",
       "\n",
       "    .dataframe tbody tr th {\n",
       "        vertical-align: top;\n",
       "    }\n",
       "\n",
       "    .dataframe thead th {\n",
       "        text-align: right;\n",
       "    }\n",
       "</style>\n",
       "<table border=\"1\" class=\"dataframe\">\n",
       "  <thead>\n",
       "    <tr style=\"text-align: right;\">\n",
       "      <th></th>\n",
       "      <th>Year</th>\n",
       "      <th>City</th>\n",
       "      <th>Season</th>\n",
       "      <th>Sports</th>\n",
       "    </tr>\n",
       "  </thead>\n",
       "  <tbody>\n",
       "    <tr>\n",
       "      <th>0</th>\n",
       "      <td>1896</td>\n",
       "      <td>Athina</td>\n",
       "      <td>Summer</td>\n",
       "      <td>9</td>\n",
       "    </tr>\n",
       "    <tr>\n",
       "      <th>1</th>\n",
       "      <td>1900</td>\n",
       "      <td>Paris</td>\n",
       "      <td>Summer</td>\n",
       "      <td>20</td>\n",
       "    </tr>\n",
       "    <tr>\n",
       "      <th>2</th>\n",
       "      <td>1904</td>\n",
       "      <td>St. Louis</td>\n",
       "      <td>Summer</td>\n",
       "      <td>18</td>\n",
       "    </tr>\n",
       "  </tbody>\n",
       "</table>\n",
       "</div>"
      ],
      "text/plain": [
       "   Year       City  Season  Sports\n",
       "0  1896     Athina  Summer       9\n",
       "1  1900      Paris  Summer      20\n",
       "2  1904  St. Louis  Summer      18"
      ]
     },
     "execution_count": 18,
     "metadata": {},
     "output_type": "execute_result"
    }
   ],
   "source": [
    "df.head(3)"
   ]
  },
  {
   "cell_type": "code",
   "execution_count": 19,
   "id": "de63b8ef",
   "metadata": {
    "_uuid": "cc268495fc5dc2c7517fa7e9a6b1d3c8ac7857e5",
    "execution": {
     "iopub.execute_input": "2022-07-27T20:00:42.607626Z",
     "iopub.status.busy": "2022-07-27T20:00:42.606385Z",
     "iopub.status.idle": "2022-07-27T20:00:42.655642Z",
     "shell.execute_reply": "2022-07-27T20:00:42.654351Z"
    },
    "papermill": {
     "duration": 0.108076,
     "end_time": "2022-07-27T20:00:42.659001",
     "exception": false,
     "start_time": "2022-07-27T20:00:42.550925",
     "status": "completed"
    },
    "tags": []
   },
   "outputs": [
    {
     "data": {
      "application/vnd.plotly.v1+json": {
       "config": {
        "linkText": "Export to plot.ly",
        "plotlyServerURL": "https://plot.ly",
        "showLink": false
       },
       "data": [
        {
         "marker": {
          "color": "rgb(238,23,11)",
          "line": {
           "color": "red",
           "width": 1
          },
          "opacity": 0.5
         },
         "name": "Summer Games",
         "text": [
          "Athina",
          "Paris",
          "St. Louis",
          "Athina",
          "London",
          "Stockholm",
          "Antwerpen",
          "Paris",
          "Amsterdam",
          "Los Angeles",
          "Berlin",
          "London",
          "Helsinki",
          "Melbourne",
          "Stockholm",
          "Roma",
          "Tokyo",
          "Mexico City",
          "Munich",
          "Montreal",
          "Moskva",
          "Los Angeles",
          "Seoul",
          "Barcelona",
          "Atlanta",
          "Sydney",
          "Athina",
          "Beijing",
          "London",
          "Rio de Janeiro"
         ],
         "type": "bar",
         "x": [
          1896,
          1900,
          1904,
          1906,
          1908,
          1912,
          1920,
          1924,
          1928,
          1932,
          1936,
          1948,
          1952,
          1956,
          1956,
          1960,
          1964,
          1968,
          1972,
          1976,
          1980,
          1984,
          1988,
          1992,
          1996,
          2000,
          2004,
          2008,
          2012,
          2016
         ],
         "y": [
          9,
          20,
          18,
          13,
          24,
          17,
          25,
          20,
          17,
          18,
          24,
          20,
          19,
          18,
          1,
          19,
          21,
          20,
          23,
          23,
          23,
          25,
          27,
          29,
          31,
          34,
          34,
          34,
          32,
          34
         ]
        },
        {
         "marker": {
          "color": "rgb(11,23,245)",
          "line": {
           "color": "blue",
           "width": 1
          },
          "opacity": 0.5
         },
         "name": "Winter Games",
         "text": [
          "Athina",
          "Paris",
          "St. Louis",
          "Athina",
          "London",
          "Stockholm",
          "Antwerpen",
          "Paris",
          "Amsterdam",
          "Los Angeles",
          "Berlin",
          "London",
          "Helsinki",
          "Melbourne",
          "Stockholm",
          "Roma",
          "Tokyo",
          "Mexico City",
          "Munich",
          "Montreal",
          "Moskva",
          "Los Angeles",
          "Seoul",
          "Barcelona",
          "Atlanta",
          "Sydney",
          "Athina",
          "Beijing",
          "London",
          "Rio de Janeiro"
         ],
         "type": "bar",
         "x": [
          1924,
          1928,
          1932,
          1936,
          1948,
          1952,
          1956,
          1960,
          1964,
          1968,
          1972,
          1976,
          1980,
          1984,
          1988,
          1992,
          1994,
          1998,
          2002,
          2006,
          2010,
          2014
         ],
         "y": [
          10,
          8,
          7,
          8,
          9,
          8,
          8,
          8,
          10,
          10,
          10,
          10,
          10,
          10,
          10,
          12,
          12,
          14,
          15,
          15,
          15,
          15
         ]
        }
       ],
       "layout": {
        "barmode": "stack",
        "hovermode": "closest",
        "template": {
         "data": {
          "bar": [
           {
            "error_x": {
             "color": "#2a3f5f"
            },
            "error_y": {
             "color": "#2a3f5f"
            },
            "marker": {
             "line": {
              "color": "#E5ECF6",
              "width": 0.5
             },
             "pattern": {
              "fillmode": "overlay",
              "size": 10,
              "solidity": 0.2
             }
            },
            "type": "bar"
           }
          ],
          "barpolar": [
           {
            "marker": {
             "line": {
              "color": "#E5ECF6",
              "width": 0.5
             },
             "pattern": {
              "fillmode": "overlay",
              "size": 10,
              "solidity": 0.2
             }
            },
            "type": "barpolar"
           }
          ],
          "carpet": [
           {
            "aaxis": {
             "endlinecolor": "#2a3f5f",
             "gridcolor": "white",
             "linecolor": "white",
             "minorgridcolor": "white",
             "startlinecolor": "#2a3f5f"
            },
            "baxis": {
             "endlinecolor": "#2a3f5f",
             "gridcolor": "white",
             "linecolor": "white",
             "minorgridcolor": "white",
             "startlinecolor": "#2a3f5f"
            },
            "type": "carpet"
           }
          ],
          "choropleth": [
           {
            "colorbar": {
             "outlinewidth": 0,
             "ticks": ""
            },
            "type": "choropleth"
           }
          ],
          "contour": [
           {
            "colorbar": {
             "outlinewidth": 0,
             "ticks": ""
            },
            "colorscale": [
             [
              0.0,
              "#0d0887"
             ],
             [
              0.1111111111111111,
              "#46039f"
             ],
             [
              0.2222222222222222,
              "#7201a8"
             ],
             [
              0.3333333333333333,
              "#9c179e"
             ],
             [
              0.4444444444444444,
              "#bd3786"
             ],
             [
              0.5555555555555556,
              "#d8576b"
             ],
             [
              0.6666666666666666,
              "#ed7953"
             ],
             [
              0.7777777777777778,
              "#fb9f3a"
             ],
             [
              0.8888888888888888,
              "#fdca26"
             ],
             [
              1.0,
              "#f0f921"
             ]
            ],
            "type": "contour"
           }
          ],
          "contourcarpet": [
           {
            "colorbar": {
             "outlinewidth": 0,
             "ticks": ""
            },
            "type": "contourcarpet"
           }
          ],
          "heatmap": [
           {
            "colorbar": {
             "outlinewidth": 0,
             "ticks": ""
            },
            "colorscale": [
             [
              0.0,
              "#0d0887"
             ],
             [
              0.1111111111111111,
              "#46039f"
             ],
             [
              0.2222222222222222,
              "#7201a8"
             ],
             [
              0.3333333333333333,
              "#9c179e"
             ],
             [
              0.4444444444444444,
              "#bd3786"
             ],
             [
              0.5555555555555556,
              "#d8576b"
             ],
             [
              0.6666666666666666,
              "#ed7953"
             ],
             [
              0.7777777777777778,
              "#fb9f3a"
             ],
             [
              0.8888888888888888,
              "#fdca26"
             ],
             [
              1.0,
              "#f0f921"
             ]
            ],
            "type": "heatmap"
           }
          ],
          "heatmapgl": [
           {
            "colorbar": {
             "outlinewidth": 0,
             "ticks": ""
            },
            "colorscale": [
             [
              0.0,
              "#0d0887"
             ],
             [
              0.1111111111111111,
              "#46039f"
             ],
             [
              0.2222222222222222,
              "#7201a8"
             ],
             [
              0.3333333333333333,
              "#9c179e"
             ],
             [
              0.4444444444444444,
              "#bd3786"
             ],
             [
              0.5555555555555556,
              "#d8576b"
             ],
             [
              0.6666666666666666,
              "#ed7953"
             ],
             [
              0.7777777777777778,
              "#fb9f3a"
             ],
             [
              0.8888888888888888,
              "#fdca26"
             ],
             [
              1.0,
              "#f0f921"
             ]
            ],
            "type": "heatmapgl"
           }
          ],
          "histogram": [
           {
            "marker": {
             "pattern": {
              "fillmode": "overlay",
              "size": 10,
              "solidity": 0.2
             }
            },
            "type": "histogram"
           }
          ],
          "histogram2d": [
           {
            "colorbar": {
             "outlinewidth": 0,
             "ticks": ""
            },
            "colorscale": [
             [
              0.0,
              "#0d0887"
             ],
             [
              0.1111111111111111,
              "#46039f"
             ],
             [
              0.2222222222222222,
              "#7201a8"
             ],
             [
              0.3333333333333333,
              "#9c179e"
             ],
             [
              0.4444444444444444,
              "#bd3786"
             ],
             [
              0.5555555555555556,
              "#d8576b"
             ],
             [
              0.6666666666666666,
              "#ed7953"
             ],
             [
              0.7777777777777778,
              "#fb9f3a"
             ],
             [
              0.8888888888888888,
              "#fdca26"
             ],
             [
              1.0,
              "#f0f921"
             ]
            ],
            "type": "histogram2d"
           }
          ],
          "histogram2dcontour": [
           {
            "colorbar": {
             "outlinewidth": 0,
             "ticks": ""
            },
            "colorscale": [
             [
              0.0,
              "#0d0887"
             ],
             [
              0.1111111111111111,
              "#46039f"
             ],
             [
              0.2222222222222222,
              "#7201a8"
             ],
             [
              0.3333333333333333,
              "#9c179e"
             ],
             [
              0.4444444444444444,
              "#bd3786"
             ],
             [
              0.5555555555555556,
              "#d8576b"
             ],
             [
              0.6666666666666666,
              "#ed7953"
             ],
             [
              0.7777777777777778,
              "#fb9f3a"
             ],
             [
              0.8888888888888888,
              "#fdca26"
             ],
             [
              1.0,
              "#f0f921"
             ]
            ],
            "type": "histogram2dcontour"
           }
          ],
          "mesh3d": [
           {
            "colorbar": {
             "outlinewidth": 0,
             "ticks": ""
            },
            "type": "mesh3d"
           }
          ],
          "parcoords": [
           {
            "line": {
             "colorbar": {
              "outlinewidth": 0,
              "ticks": ""
             }
            },
            "type": "parcoords"
           }
          ],
          "pie": [
           {
            "automargin": true,
            "type": "pie"
           }
          ],
          "scatter": [
           {
            "fillpattern": {
             "fillmode": "overlay",
             "size": 10,
             "solidity": 0.2
            },
            "type": "scatter"
           }
          ],
          "scatter3d": [
           {
            "line": {
             "colorbar": {
              "outlinewidth": 0,
              "ticks": ""
             }
            },
            "marker": {
             "colorbar": {
              "outlinewidth": 0,
              "ticks": ""
             }
            },
            "type": "scatter3d"
           }
          ],
          "scattercarpet": [
           {
            "marker": {
             "colorbar": {
              "outlinewidth": 0,
              "ticks": ""
             }
            },
            "type": "scattercarpet"
           }
          ],
          "scattergeo": [
           {
            "marker": {
             "colorbar": {
              "outlinewidth": 0,
              "ticks": ""
             }
            },
            "type": "scattergeo"
           }
          ],
          "scattergl": [
           {
            "marker": {
             "colorbar": {
              "outlinewidth": 0,
              "ticks": ""
             }
            },
            "type": "scattergl"
           }
          ],
          "scattermapbox": [
           {
            "marker": {
             "colorbar": {
              "outlinewidth": 0,
              "ticks": ""
             }
            },
            "type": "scattermapbox"
           }
          ],
          "scatterpolar": [
           {
            "marker": {
             "colorbar": {
              "outlinewidth": 0,
              "ticks": ""
             }
            },
            "type": "scatterpolar"
           }
          ],
          "scatterpolargl": [
           {
            "marker": {
             "colorbar": {
              "outlinewidth": 0,
              "ticks": ""
             }
            },
            "type": "scatterpolargl"
           }
          ],
          "scatterternary": [
           {
            "marker": {
             "colorbar": {
              "outlinewidth": 0,
              "ticks": ""
             }
            },
            "type": "scatterternary"
           }
          ],
          "surface": [
           {
            "colorbar": {
             "outlinewidth": 0,
             "ticks": ""
            },
            "colorscale": [
             [
              0.0,
              "#0d0887"
             ],
             [
              0.1111111111111111,
              "#46039f"
             ],
             [
              0.2222222222222222,
              "#7201a8"
             ],
             [
              0.3333333333333333,
              "#9c179e"
             ],
             [
              0.4444444444444444,
              "#bd3786"
             ],
             [
              0.5555555555555556,
              "#d8576b"
             ],
             [
              0.6666666666666666,
              "#ed7953"
             ],
             [
              0.7777777777777778,
              "#fb9f3a"
             ],
             [
              0.8888888888888888,
              "#fdca26"
             ],
             [
              1.0,
              "#f0f921"
             ]
            ],
            "type": "surface"
           }
          ],
          "table": [
           {
            "cells": {
             "fill": {
              "color": "#EBF0F8"
             },
             "line": {
              "color": "white"
             }
            },
            "header": {
             "fill": {
              "color": "#C8D4E3"
             },
             "line": {
              "color": "white"
             }
            },
            "type": "table"
           }
          ]
         },
         "layout": {
          "annotationdefaults": {
           "arrowcolor": "#2a3f5f",
           "arrowhead": 0,
           "arrowwidth": 1
          },
          "autotypenumbers": "strict",
          "coloraxis": {
           "colorbar": {
            "outlinewidth": 0,
            "ticks": ""
           }
          },
          "colorscale": {
           "diverging": [
            [
             0,
             "#8e0152"
            ],
            [
             0.1,
             "#c51b7d"
            ],
            [
             0.2,
             "#de77ae"
            ],
            [
             0.3,
             "#f1b6da"
            ],
            [
             0.4,
             "#fde0ef"
            ],
            [
             0.5,
             "#f7f7f7"
            ],
            [
             0.6,
             "#e6f5d0"
            ],
            [
             0.7,
             "#b8e186"
            ],
            [
             0.8,
             "#7fbc41"
            ],
            [
             0.9,
             "#4d9221"
            ],
            [
             1,
             "#276419"
            ]
           ],
           "sequential": [
            [
             0.0,
             "#0d0887"
            ],
            [
             0.1111111111111111,
             "#46039f"
            ],
            [
             0.2222222222222222,
             "#7201a8"
            ],
            [
             0.3333333333333333,
             "#9c179e"
            ],
            [
             0.4444444444444444,
             "#bd3786"
            ],
            [
             0.5555555555555556,
             "#d8576b"
            ],
            [
             0.6666666666666666,
             "#ed7953"
            ],
            [
             0.7777777777777778,
             "#fb9f3a"
            ],
            [
             0.8888888888888888,
             "#fdca26"
            ],
            [
             1.0,
             "#f0f921"
            ]
           ],
           "sequentialminus": [
            [
             0.0,
             "#0d0887"
            ],
            [
             0.1111111111111111,
             "#46039f"
            ],
            [
             0.2222222222222222,
             "#7201a8"
            ],
            [
             0.3333333333333333,
             "#9c179e"
            ],
            [
             0.4444444444444444,
             "#bd3786"
            ],
            [
             0.5555555555555556,
             "#d8576b"
            ],
            [
             0.6666666666666666,
             "#ed7953"
            ],
            [
             0.7777777777777778,
             "#fb9f3a"
            ],
            [
             0.8888888888888888,
             "#fdca26"
            ],
            [
             1.0,
             "#f0f921"
            ]
           ]
          },
          "colorway": [
           "#636efa",
           "#EF553B",
           "#00cc96",
           "#ab63fa",
           "#FFA15A",
           "#19d3f3",
           "#FF6692",
           "#B6E880",
           "#FF97FF",
           "#FECB52"
          ],
          "font": {
           "color": "#2a3f5f"
          },
          "geo": {
           "bgcolor": "white",
           "lakecolor": "white",
           "landcolor": "#E5ECF6",
           "showlakes": true,
           "showland": true,
           "subunitcolor": "white"
          },
          "hoverlabel": {
           "align": "left"
          },
          "hovermode": "closest",
          "mapbox": {
           "style": "light"
          },
          "paper_bgcolor": "white",
          "plot_bgcolor": "#E5ECF6",
          "polar": {
           "angularaxis": {
            "gridcolor": "white",
            "linecolor": "white",
            "ticks": ""
           },
           "bgcolor": "#E5ECF6",
           "radialaxis": {
            "gridcolor": "white",
            "linecolor": "white",
            "ticks": ""
           }
          },
          "scene": {
           "xaxis": {
            "backgroundcolor": "#E5ECF6",
            "gridcolor": "white",
            "gridwidth": 2,
            "linecolor": "white",
            "showbackground": true,
            "ticks": "",
            "zerolinecolor": "white"
           },
           "yaxis": {
            "backgroundcolor": "#E5ECF6",
            "gridcolor": "white",
            "gridwidth": 2,
            "linecolor": "white",
            "showbackground": true,
            "ticks": "",
            "zerolinecolor": "white"
           },
           "zaxis": {
            "backgroundcolor": "#E5ECF6",
            "gridcolor": "white",
            "gridwidth": 2,
            "linecolor": "white",
            "showbackground": true,
            "ticks": "",
            "zerolinecolor": "white"
           }
          },
          "shapedefaults": {
           "line": {
            "color": "#2a3f5f"
           }
          },
          "ternary": {
           "aaxis": {
            "gridcolor": "white",
            "linecolor": "white",
            "ticks": ""
           },
           "baxis": {
            "gridcolor": "white",
            "linecolor": "white",
            "ticks": ""
           },
           "bgcolor": "#E5ECF6",
           "caxis": {
            "gridcolor": "white",
            "linecolor": "white",
            "ticks": ""
           }
          },
          "title": {
           "x": 0.05
          },
          "xaxis": {
           "automargin": true,
           "gridcolor": "white",
           "linecolor": "white",
           "ticks": "",
           "title": {
            "standoff": 15
           },
           "zerolinecolor": "white",
           "zerolinewidth": 2
          },
          "yaxis": {
           "automargin": true,
           "gridcolor": "white",
           "linecolor": "white",
           "ticks": "",
           "title": {
            "standoff": 15
           },
           "zerolinecolor": "white",
           "zerolinewidth": 2
          }
         }
        },
        "title": {
         "text": "Sports per Olympic edition"
        },
        "xaxis": {
         "showticklabels": true,
         "title": {
          "text": "Year"
         }
        },
        "yaxis": {
         "title": {
          "text": "Number of sports"
         }
        }
       }
      },
      "text/html": [
       "<div>                            <div id=\"e3676db2-f61a-446c-900a-af0449a46be1\" class=\"plotly-graph-div\" style=\"height:525px; width:100%;\"></div>            <script type=\"text/javascript\">                require([\"plotly\"], function(Plotly) {                    window.PLOTLYENV=window.PLOTLYENV || {};                                    if (document.getElementById(\"e3676db2-f61a-446c-900a-af0449a46be1\")) {                    Plotly.newPlot(                        \"e3676db2-f61a-446c-900a-af0449a46be1\",                        [{\"marker\":{\"color\":\"rgb(238,23,11)\",\"line\":{\"color\":\"red\",\"width\":1},\"opacity\":0.5},\"name\":\"Summer Games\",\"text\":[\"Athina\",\"Paris\",\"St. Louis\",\"Athina\",\"London\",\"Stockholm\",\"Antwerpen\",\"Paris\",\"Amsterdam\",\"Los Angeles\",\"Berlin\",\"London\",\"Helsinki\",\"Melbourne\",\"Stockholm\",\"Roma\",\"Tokyo\",\"Mexico City\",\"Munich\",\"Montreal\",\"Moskva\",\"Los Angeles\",\"Seoul\",\"Barcelona\",\"Atlanta\",\"Sydney\",\"Athina\",\"Beijing\",\"London\",\"Rio de Janeiro\"],\"x\":[1896,1900,1904,1906,1908,1912,1920,1924,1928,1932,1936,1948,1952,1956,1956,1960,1964,1968,1972,1976,1980,1984,1988,1992,1996,2000,2004,2008,2012,2016],\"y\":[9,20,18,13,24,17,25,20,17,18,24,20,19,18,1,19,21,20,23,23,23,25,27,29,31,34,34,34,32,34],\"type\":\"bar\"},{\"marker\":{\"color\":\"rgb(11,23,245)\",\"line\":{\"color\":\"blue\",\"width\":1},\"opacity\":0.5},\"name\":\"Winter Games\",\"text\":[\"Athina\",\"Paris\",\"St. Louis\",\"Athina\",\"London\",\"Stockholm\",\"Antwerpen\",\"Paris\",\"Amsterdam\",\"Los Angeles\",\"Berlin\",\"London\",\"Helsinki\",\"Melbourne\",\"Stockholm\",\"Roma\",\"Tokyo\",\"Mexico City\",\"Munich\",\"Montreal\",\"Moskva\",\"Los Angeles\",\"Seoul\",\"Barcelona\",\"Atlanta\",\"Sydney\",\"Athina\",\"Beijing\",\"London\",\"Rio de Janeiro\"],\"x\":[1924,1928,1932,1936,1948,1952,1956,1960,1964,1968,1972,1976,1980,1984,1988,1992,1994,1998,2002,2006,2010,2014],\"y\":[10,8,7,8,9,8,8,8,10,10,10,10,10,10,10,12,12,14,15,15,15,15],\"type\":\"bar\"}],                        {\"barmode\":\"stack\",\"hovermode\":\"closest\",\"template\":{\"data\":{\"barpolar\":[{\"marker\":{\"line\":{\"color\":\"#E5ECF6\",\"width\":0.5},\"pattern\":{\"fillmode\":\"overlay\",\"size\":10,\"solidity\":0.2}},\"type\":\"barpolar\"}],\"bar\":[{\"error_x\":{\"color\":\"#2a3f5f\"},\"error_y\":{\"color\":\"#2a3f5f\"},\"marker\":{\"line\":{\"color\":\"#E5ECF6\",\"width\":0.5},\"pattern\":{\"fillmode\":\"overlay\",\"size\":10,\"solidity\":0.2}},\"type\":\"bar\"}],\"carpet\":[{\"aaxis\":{\"endlinecolor\":\"#2a3f5f\",\"gridcolor\":\"white\",\"linecolor\":\"white\",\"minorgridcolor\":\"white\",\"startlinecolor\":\"#2a3f5f\"},\"baxis\":{\"endlinecolor\":\"#2a3f5f\",\"gridcolor\":\"white\",\"linecolor\":\"white\",\"minorgridcolor\":\"white\",\"startlinecolor\":\"#2a3f5f\"},\"type\":\"carpet\"}],\"choropleth\":[{\"colorbar\":{\"outlinewidth\":0,\"ticks\":\"\"},\"type\":\"choropleth\"}],\"contourcarpet\":[{\"colorbar\":{\"outlinewidth\":0,\"ticks\":\"\"},\"type\":\"contourcarpet\"}],\"contour\":[{\"colorbar\":{\"outlinewidth\":0,\"ticks\":\"\"},\"colorscale\":[[0.0,\"#0d0887\"],[0.1111111111111111,\"#46039f\"],[0.2222222222222222,\"#7201a8\"],[0.3333333333333333,\"#9c179e\"],[0.4444444444444444,\"#bd3786\"],[0.5555555555555556,\"#d8576b\"],[0.6666666666666666,\"#ed7953\"],[0.7777777777777778,\"#fb9f3a\"],[0.8888888888888888,\"#fdca26\"],[1.0,\"#f0f921\"]],\"type\":\"contour\"}],\"heatmapgl\":[{\"colorbar\":{\"outlinewidth\":0,\"ticks\":\"\"},\"colorscale\":[[0.0,\"#0d0887\"],[0.1111111111111111,\"#46039f\"],[0.2222222222222222,\"#7201a8\"],[0.3333333333333333,\"#9c179e\"],[0.4444444444444444,\"#bd3786\"],[0.5555555555555556,\"#d8576b\"],[0.6666666666666666,\"#ed7953\"],[0.7777777777777778,\"#fb9f3a\"],[0.8888888888888888,\"#fdca26\"],[1.0,\"#f0f921\"]],\"type\":\"heatmapgl\"}],\"heatmap\":[{\"colorbar\":{\"outlinewidth\":0,\"ticks\":\"\"},\"colorscale\":[[0.0,\"#0d0887\"],[0.1111111111111111,\"#46039f\"],[0.2222222222222222,\"#7201a8\"],[0.3333333333333333,\"#9c179e\"],[0.4444444444444444,\"#bd3786\"],[0.5555555555555556,\"#d8576b\"],[0.6666666666666666,\"#ed7953\"],[0.7777777777777778,\"#fb9f3a\"],[0.8888888888888888,\"#fdca26\"],[1.0,\"#f0f921\"]],\"type\":\"heatmap\"}],\"histogram2dcontour\":[{\"colorbar\":{\"outlinewidth\":0,\"ticks\":\"\"},\"colorscale\":[[0.0,\"#0d0887\"],[0.1111111111111111,\"#46039f\"],[0.2222222222222222,\"#7201a8\"],[0.3333333333333333,\"#9c179e\"],[0.4444444444444444,\"#bd3786\"],[0.5555555555555556,\"#d8576b\"],[0.6666666666666666,\"#ed7953\"],[0.7777777777777778,\"#fb9f3a\"],[0.8888888888888888,\"#fdca26\"],[1.0,\"#f0f921\"]],\"type\":\"histogram2dcontour\"}],\"histogram2d\":[{\"colorbar\":{\"outlinewidth\":0,\"ticks\":\"\"},\"colorscale\":[[0.0,\"#0d0887\"],[0.1111111111111111,\"#46039f\"],[0.2222222222222222,\"#7201a8\"],[0.3333333333333333,\"#9c179e\"],[0.4444444444444444,\"#bd3786\"],[0.5555555555555556,\"#d8576b\"],[0.6666666666666666,\"#ed7953\"],[0.7777777777777778,\"#fb9f3a\"],[0.8888888888888888,\"#fdca26\"],[1.0,\"#f0f921\"]],\"type\":\"histogram2d\"}],\"histogram\":[{\"marker\":{\"pattern\":{\"fillmode\":\"overlay\",\"size\":10,\"solidity\":0.2}},\"type\":\"histogram\"}],\"mesh3d\":[{\"colorbar\":{\"outlinewidth\":0,\"ticks\":\"\"},\"type\":\"mesh3d\"}],\"parcoords\":[{\"line\":{\"colorbar\":{\"outlinewidth\":0,\"ticks\":\"\"}},\"type\":\"parcoords\"}],\"pie\":[{\"automargin\":true,\"type\":\"pie\"}],\"scatter3d\":[{\"line\":{\"colorbar\":{\"outlinewidth\":0,\"ticks\":\"\"}},\"marker\":{\"colorbar\":{\"outlinewidth\":0,\"ticks\":\"\"}},\"type\":\"scatter3d\"}],\"scattercarpet\":[{\"marker\":{\"colorbar\":{\"outlinewidth\":0,\"ticks\":\"\"}},\"type\":\"scattercarpet\"}],\"scattergeo\":[{\"marker\":{\"colorbar\":{\"outlinewidth\":0,\"ticks\":\"\"}},\"type\":\"scattergeo\"}],\"scattergl\":[{\"marker\":{\"colorbar\":{\"outlinewidth\":0,\"ticks\":\"\"}},\"type\":\"scattergl\"}],\"scattermapbox\":[{\"marker\":{\"colorbar\":{\"outlinewidth\":0,\"ticks\":\"\"}},\"type\":\"scattermapbox\"}],\"scatterpolargl\":[{\"marker\":{\"colorbar\":{\"outlinewidth\":0,\"ticks\":\"\"}},\"type\":\"scatterpolargl\"}],\"scatterpolar\":[{\"marker\":{\"colorbar\":{\"outlinewidth\":0,\"ticks\":\"\"}},\"type\":\"scatterpolar\"}],\"scatter\":[{\"fillpattern\":{\"fillmode\":\"overlay\",\"size\":10,\"solidity\":0.2},\"type\":\"scatter\"}],\"scatterternary\":[{\"marker\":{\"colorbar\":{\"outlinewidth\":0,\"ticks\":\"\"}},\"type\":\"scatterternary\"}],\"surface\":[{\"colorbar\":{\"outlinewidth\":0,\"ticks\":\"\"},\"colorscale\":[[0.0,\"#0d0887\"],[0.1111111111111111,\"#46039f\"],[0.2222222222222222,\"#7201a8\"],[0.3333333333333333,\"#9c179e\"],[0.4444444444444444,\"#bd3786\"],[0.5555555555555556,\"#d8576b\"],[0.6666666666666666,\"#ed7953\"],[0.7777777777777778,\"#fb9f3a\"],[0.8888888888888888,\"#fdca26\"],[1.0,\"#f0f921\"]],\"type\":\"surface\"}],\"table\":[{\"cells\":{\"fill\":{\"color\":\"#EBF0F8\"},\"line\":{\"color\":\"white\"}},\"header\":{\"fill\":{\"color\":\"#C8D4E3\"},\"line\":{\"color\":\"white\"}},\"type\":\"table\"}]},\"layout\":{\"annotationdefaults\":{\"arrowcolor\":\"#2a3f5f\",\"arrowhead\":0,\"arrowwidth\":1},\"autotypenumbers\":\"strict\",\"coloraxis\":{\"colorbar\":{\"outlinewidth\":0,\"ticks\":\"\"}},\"colorscale\":{\"diverging\":[[0,\"#8e0152\"],[0.1,\"#c51b7d\"],[0.2,\"#de77ae\"],[0.3,\"#f1b6da\"],[0.4,\"#fde0ef\"],[0.5,\"#f7f7f7\"],[0.6,\"#e6f5d0\"],[0.7,\"#b8e186\"],[0.8,\"#7fbc41\"],[0.9,\"#4d9221\"],[1,\"#276419\"]],\"sequential\":[[0.0,\"#0d0887\"],[0.1111111111111111,\"#46039f\"],[0.2222222222222222,\"#7201a8\"],[0.3333333333333333,\"#9c179e\"],[0.4444444444444444,\"#bd3786\"],[0.5555555555555556,\"#d8576b\"],[0.6666666666666666,\"#ed7953\"],[0.7777777777777778,\"#fb9f3a\"],[0.8888888888888888,\"#fdca26\"],[1.0,\"#f0f921\"]],\"sequentialminus\":[[0.0,\"#0d0887\"],[0.1111111111111111,\"#46039f\"],[0.2222222222222222,\"#7201a8\"],[0.3333333333333333,\"#9c179e\"],[0.4444444444444444,\"#bd3786\"],[0.5555555555555556,\"#d8576b\"],[0.6666666666666666,\"#ed7953\"],[0.7777777777777778,\"#fb9f3a\"],[0.8888888888888888,\"#fdca26\"],[1.0,\"#f0f921\"]]},\"colorway\":[\"#636efa\",\"#EF553B\",\"#00cc96\",\"#ab63fa\",\"#FFA15A\",\"#19d3f3\",\"#FF6692\",\"#B6E880\",\"#FF97FF\",\"#FECB52\"],\"font\":{\"color\":\"#2a3f5f\"},\"geo\":{\"bgcolor\":\"white\",\"lakecolor\":\"white\",\"landcolor\":\"#E5ECF6\",\"showlakes\":true,\"showland\":true,\"subunitcolor\":\"white\"},\"hoverlabel\":{\"align\":\"left\"},\"hovermode\":\"closest\",\"mapbox\":{\"style\":\"light\"},\"paper_bgcolor\":\"white\",\"plot_bgcolor\":\"#E5ECF6\",\"polar\":{\"angularaxis\":{\"gridcolor\":\"white\",\"linecolor\":\"white\",\"ticks\":\"\"},\"bgcolor\":\"#E5ECF6\",\"radialaxis\":{\"gridcolor\":\"white\",\"linecolor\":\"white\",\"ticks\":\"\"}},\"scene\":{\"xaxis\":{\"backgroundcolor\":\"#E5ECF6\",\"gridcolor\":\"white\",\"gridwidth\":2,\"linecolor\":\"white\",\"showbackground\":true,\"ticks\":\"\",\"zerolinecolor\":\"white\"},\"yaxis\":{\"backgroundcolor\":\"#E5ECF6\",\"gridcolor\":\"white\",\"gridwidth\":2,\"linecolor\":\"white\",\"showbackground\":true,\"ticks\":\"\",\"zerolinecolor\":\"white\"},\"zaxis\":{\"backgroundcolor\":\"#E5ECF6\",\"gridcolor\":\"white\",\"gridwidth\":2,\"linecolor\":\"white\",\"showbackground\":true,\"ticks\":\"\",\"zerolinecolor\":\"white\"}},\"shapedefaults\":{\"line\":{\"color\":\"#2a3f5f\"}},\"ternary\":{\"aaxis\":{\"gridcolor\":\"white\",\"linecolor\":\"white\",\"ticks\":\"\"},\"baxis\":{\"gridcolor\":\"white\",\"linecolor\":\"white\",\"ticks\":\"\"},\"bgcolor\":\"#E5ECF6\",\"caxis\":{\"gridcolor\":\"white\",\"linecolor\":\"white\",\"ticks\":\"\"}},\"title\":{\"x\":0.05},\"xaxis\":{\"automargin\":true,\"gridcolor\":\"white\",\"linecolor\":\"white\",\"ticks\":\"\",\"title\":{\"standoff\":15},\"zerolinecolor\":\"white\",\"zerolinewidth\":2},\"yaxis\":{\"automargin\":true,\"gridcolor\":\"white\",\"linecolor\":\"white\",\"ticks\":\"\",\"title\":{\"standoff\":15},\"zerolinecolor\":\"white\",\"zerolinewidth\":2}}},\"title\":{\"text\":\"Sports per Olympic edition\"},\"xaxis\":{\"showticklabels\":true,\"title\":{\"text\":\"Year\"}},\"yaxis\":{\"title\":{\"text\":\"Number of sports\"}}},                        {\"responsive\": true}                    ).then(function(){\n",
       "                            \n",
       "var gd = document.getElementById('e3676db2-f61a-446c-900a-af0449a46be1');\n",
       "var x = new MutationObserver(function (mutations, observer) {{\n",
       "        var display = window.getComputedStyle(gd).display;\n",
       "        if (!display || display === 'none') {{\n",
       "            console.log([gd, 'removed!']);\n",
       "            Plotly.purge(gd);\n",
       "            observer.disconnect();\n",
       "        }}\n",
       "}});\n",
       "\n",
       "// Listen for the removal of the full notebook cells\n",
       "var notebookContainer = gd.closest('#notebook-container');\n",
       "if (notebookContainer) {{\n",
       "    x.observe(notebookContainer, {childList: true});\n",
       "}}\n",
       "\n",
       "// Listen for the clearing of the current output cell\n",
       "var outputEl = gd.closest('.output');\n",
       "if (outputEl) {{\n",
       "    x.observe(outputEl, {childList: true});\n",
       "}}\n",
       "\n",
       "                        })                };                });            </script>        </div>"
      ]
     },
     "metadata": {},
     "output_type": "display_data"
    }
   ],
   "source": [
    "dfS = df[df['Season']=='Summer']; dfW = df[df['Season']=='Winter']\n",
    "\n",
    "traceS = go.Bar(\n",
    "    x = dfS['Year'],y = dfS['Sports'],\n",
    "    name=\"Summer Games\",\n",
    "     marker=dict(\n",
    "                color='rgb(238,23,11)',\n",
    "                line=dict(\n",
    "                    color='red',\n",
    "                    width=1),\n",
    "                opacity=0.5,\n",
    "            ),\n",
    "    text= dfS['City'],\n",
    ")\n",
    "traceW = go.Bar(\n",
    "    x = dfW['Year'],y = dfW['Sports'],\n",
    "    name=\"Winter Games\",\n",
    "    marker=dict(\n",
    "                color='rgb(11,23,245)',\n",
    "                line=dict(\n",
    "                    color='blue',\n",
    "                    width=1),\n",
    "                opacity=0.5,\n",
    "            ),\n",
    "    text=dfS['City']\n",
    ")\n",
    "\n",
    "data = [traceS, traceW]\n",
    "layout = dict(title = 'Sports per Olympic edition',\n",
    "          xaxis = dict(title = 'Year', showticklabels=True), \n",
    "          yaxis = dict(title = 'Number of sports'),\n",
    "          hovermode = 'closest',\n",
    "          barmode='stack'\n",
    "         )\n",
    "fig = dict(data=data, layout=layout)\n",
    "iplot(fig, filename='events-sports1')"
   ]
  },
  {
   "cell_type": "code",
   "execution_count": 20,
   "id": "c8ef2182",
   "metadata": {
    "_uuid": "1d6441a729db2e9aa632e562f3095f7cecfd1d98",
    "execution": {
     "iopub.execute_input": "2022-07-27T20:00:42.781545Z",
     "iopub.status.busy": "2022-07-27T20:00:42.781109Z",
     "iopub.status.idle": "2022-07-27T20:00:42.926648Z",
     "shell.execute_reply": "2022-07-27T20:00:42.925311Z"
    },
    "papermill": {
     "duration": 0.209917,
     "end_time": "2022-07-27T20:00:42.929159",
     "exception": false,
     "start_time": "2022-07-27T20:00:42.719242",
     "status": "completed"
    },
    "tags": []
   },
   "outputs": [
    {
     "data": {
      "text/html": [
       "<div>\n",
       "<style scoped>\n",
       "    .dataframe tbody tr th:only-of-type {\n",
       "        vertical-align: middle;\n",
       "    }\n",
       "\n",
       "    .dataframe tbody tr th {\n",
       "        vertical-align: top;\n",
       "    }\n",
       "\n",
       "    .dataframe thead th {\n",
       "        text-align: right;\n",
       "    }\n",
       "</style>\n",
       "<table border=\"1\" class=\"dataframe\">\n",
       "  <thead>\n",
       "    <tr style=\"text-align: right;\">\n",
       "      <th></th>\n",
       "      <th>Year</th>\n",
       "      <th>City</th>\n",
       "      <th>Season</th>\n",
       "      <th>Sport</th>\n",
       "      <th>Athlets</th>\n",
       "    </tr>\n",
       "  </thead>\n",
       "  <tbody>\n",
       "    <tr>\n",
       "      <th>0</th>\n",
       "      <td>1896</td>\n",
       "      <td>Athina</td>\n",
       "      <td>Summer</td>\n",
       "      <td>Athletics</td>\n",
       "      <td>106</td>\n",
       "    </tr>\n",
       "    <tr>\n",
       "      <th>1</th>\n",
       "      <td>1896</td>\n",
       "      <td>Athina</td>\n",
       "      <td>Summer</td>\n",
       "      <td>Gymnastics</td>\n",
       "      <td>97</td>\n",
       "    </tr>\n",
       "    <tr>\n",
       "      <th>2</th>\n",
       "      <td>1896</td>\n",
       "      <td>Athina</td>\n",
       "      <td>Summer</td>\n",
       "      <td>Shooting</td>\n",
       "      <td>65</td>\n",
       "    </tr>\n",
       "    <tr>\n",
       "      <th>3</th>\n",
       "      <td>1896</td>\n",
       "      <td>Athina</td>\n",
       "      <td>Summer</td>\n",
       "      <td>Cycling</td>\n",
       "      <td>41</td>\n",
       "    </tr>\n",
       "    <tr>\n",
       "      <th>4</th>\n",
       "      <td>1896</td>\n",
       "      <td>Athina</td>\n",
       "      <td>Summer</td>\n",
       "      <td>Tennis</td>\n",
       "      <td>23</td>\n",
       "    </tr>\n",
       "  </tbody>\n",
       "</table>\n",
       "</div>"
      ],
      "text/plain": [
       "   Year    City  Season       Sport  Athlets\n",
       "0  1896  Athina  Summer   Athletics      106\n",
       "1  1896  Athina  Summer  Gymnastics       97\n",
       "2  1896  Athina  Summer    Shooting       65\n",
       "3  1896  Athina  Summer     Cycling       41\n",
       "4  1896  Athina  Summer      Tennis       23"
      ]
     },
     "execution_count": 20,
     "metadata": {},
     "output_type": "execute_result"
    }
   ],
   "source": [
    "tmp = athlete_events_df.groupby(['Year', 'City','Season'])['Sport'].value_counts()\n",
    "df = pd.DataFrame(data={'Athlets': tmp.values}, index=tmp.index).reset_index()\n",
    "df.head()"
   ]
  },
  {
   "cell_type": "code",
   "execution_count": 21,
   "id": "dd2f8487",
   "metadata": {
    "_uuid": "7160a201994f9c240ba617f6185903399c4df69b",
    "execution": {
     "iopub.execute_input": "2022-07-27T20:00:43.052910Z",
     "iopub.status.busy": "2022-07-27T20:00:43.052497Z",
     "iopub.status.idle": "2022-07-27T20:00:43.130994Z",
     "shell.execute_reply": "2022-07-27T20:00:43.129690Z"
    },
    "papermill": {
     "duration": 0.147107,
     "end_time": "2022-07-27T20:00:43.136987",
     "exception": false,
     "start_time": "2022-07-27T20:00:42.989880",
     "status": "completed"
    },
    "tags": []
   },
   "outputs": [
    {
     "data": {
      "application/vnd.plotly.v1+json": {
       "config": {
        "linkText": "Export to plot.ly",
        "plotlyServerURL": "https://plot.ly",
        "showLink": false
       },
       "data": [
        {
         "marker": {
          "color": "rgb(238,23,11)",
          "line": {
           "color": "red",
           "width": 1
          },
          "opacity": 0.5
         },
         "mode": "markers",
         "name": "Summer Games",
         "text": [
          "City:Athina Sport:Athletics",
          "City:Athina Sport:Gymnastics",
          "City:Athina Sport:Shooting",
          "City:Athina Sport:Cycling",
          "City:Athina Sport:Tennis",
          "City:Athina Sport:Swimming",
          "City:Athina Sport:Fencing",
          "City:Athina Sport:Weightlifting",
          "City:Athina Sport:Wrestling",
          "City:Paris Sport:Fencing",
          "City:Paris Sport:Sailing",
          "City:Paris Sport:Athletics",
          "City:Paris Sport:Shooting",
          "City:Paris Sport:Gymnastics",
          "City:Paris Sport:Rowing",
          "City:Paris Sport:Swimming",
          "City:Paris Sport:Cycling",
          "City:Paris Sport:Equestrianism",
          "City:Paris Sport:Water Polo",
          "City:Paris Sport:Rugby",
          "City:Paris Sport:Tennis",
          "City:Paris Sport:Football",
          "City:Paris Sport:Archery",
          "City:Paris Sport:Cricket",
          "City:Paris Sport:Golf",
          "City:Paris Sport:Polo",
          "City:Paris Sport:Croquet",
          "City:Paris Sport:Tug-Of-War",
          "City:Paris Sport:Basque Pelota",
          "City:St. Louis Sport:Gymnastics",
          "City:St. Louis Sport:Athletics",
          "City:St. Louis Sport:Golf",
          "City:St. Louis Sport:Archery",
          "City:St. Louis Sport:Swimming",
          "City:St. Louis Sport:Cycling",
          "City:St. Louis Sport:Tennis",
          "City:St. Louis Sport:Wrestling",
          "City:St. Louis Sport:Rowing",
          "City:St. Louis Sport:Football",
          "City:St. Louis Sport:Lacrosse",
          "City:St. Louis Sport:Tug-Of-War",
          "City:St. Louis Sport:Fencing",
          "City:St. Louis Sport:Boxing",
          "City:St. Louis Sport:Water Polo",
          "City:St. Louis Sport:Weightlifting",
          "City:St. Louis Sport:Diving",
          "City:St. Louis Sport:Roque",
          "City:Athina Sport:Athletics",
          "City:Athina Sport:Shooting",
          "City:Athina Sport:Rowing",
          "City:Athina Sport:Fencing",
          "City:Athina Sport:Gymnastics",
          "City:Athina Sport:Cycling",
          "City:Athina Sport:Swimming",
          "City:Athina Sport:Tennis",
          "City:Athina Sport:Football",
          "City:Athina Sport:Wrestling",
          "City:Athina Sport:Tug-Of-War",
          "City:Athina Sport:Diving",
          "City:Athina Sport:Weightlifting",
          "City:London Sport:Athletics",
          "City:London Sport:Shooting",
          "City:London Sport:Gymnastics",
          "City:London Sport:Cycling",
          "City:London Sport:Fencing",
          "City:London Sport:Swimming",
          "City:London Sport:Wrestling",
          "City:London Sport:Rowing",
          "City:London Sport:Tennis",
          "City:London Sport:Archery",
          "City:London Sport:Football",
          "City:London Sport:Hockey",
          "City:London Sport:Sailing",
          "City:London Sport:Diving",
          "City:London Sport:Boxing",
          "City:London Sport:Tug-Of-War",
          "City:London Sport:Rugby",
          "City:London Sport:Water Polo",
          "City:London Sport:Lacrosse",
          "City:London Sport:Figure Skating",
          "City:London Sport:Motorboating",
          "City:London Sport:Polo",
          "City:London Sport:Racquets",
          "City:London Sport:Jeu De Paume",
          "City:Stockholm Sport:Athletics",
          "City:Stockholm Sport:Shooting",
          "City:Stockholm Sport:Fencing",
          "City:Stockholm Sport:Gymnastics",
          "City:Stockholm Sport:Cycling",
          "City:Stockholm Sport:Swimming",
          "City:Stockholm Sport:Rowing",
          "City:Stockholm Sport:Tennis",
          "City:Stockholm Sport:Wrestling",
          "City:Stockholm Sport:Football",
          "City:Stockholm Sport:Equestrianism",
          "City:Stockholm Sport:Sailing",
          "City:Stockholm Sport:Diving",
          "City:Stockholm Sport:Water Polo",
          "City:Stockholm Sport:Art Competitions",
          "City:Stockholm Sport:Modern Pentathlon",
          "City:Stockholm Sport:Tug-Of-War",
          "City:Antwerpen Sport:Athletics",
          "City:Antwerpen Sport:Shooting",
          "City:Antwerpen Sport:Fencing",
          "City:Antwerpen Sport:Gymnastics",
          "City:Antwerpen Sport:Cycling",
          "City:Antwerpen Sport:Swimming",
          "City:Antwerpen Sport:Football",
          "City:Antwerpen Sport:Wrestling",
          "City:Antwerpen Sport:Tennis",
          "City:Antwerpen Sport:Rowing",
          "City:Antwerpen Sport:Equestrianism",
          "City:Antwerpen Sport:Boxing",
          "City:Antwerpen Sport:Sailing",
          "City:Antwerpen Sport:Water Polo",
          "City:Antwerpen Sport:Archery",
          "City:Antwerpen Sport:Diving",
          "City:Antwerpen Sport:Ice Hockey",
          "City:Antwerpen Sport:Weightlifting",
          "City:Antwerpen Sport:Hockey",
          "City:Antwerpen Sport:Tug-Of-War",
          "City:Antwerpen Sport:Figure Skating",
          "City:Antwerpen Sport:Rugby",
          "City:Antwerpen Sport:Modern Pentathlon",
          "City:Antwerpen Sport:Polo",
          "City:Antwerpen Sport:Art Competitions",
          "City:Paris Sport:Athletics",
          "City:Paris Sport:Gymnastics",
          "City:Paris Sport:Shooting",
          "City:Paris Sport:Fencing",
          "City:Paris Sport:Art Competitions",
          "City:Paris Sport:Football",
          "City:Paris Sport:Swimming",
          "City:Paris Sport:Tennis",
          "City:Paris Sport:Cycling",
          "City:Paris Sport:Wrestling",
          "City:Paris Sport:Rowing",
          "City:Paris Sport:Equestrianism",
          "City:Paris Sport:Boxing",
          "City:Paris Sport:Weightlifting",
          "City:Paris Sport:Water Polo",
          "City:Paris Sport:Diving",
          "City:Paris Sport:Sailing",
          "City:Paris Sport:Rugby",
          "City:Paris Sport:Modern Pentathlon",
          "City:Paris Sport:Polo",
          "City:Amsterdam Sport:Athletics",
          "City:Amsterdam Sport:Art Competitions",
          "City:Amsterdam Sport:Gymnastics",
          "City:Amsterdam Sport:Fencing",
          "City:Amsterdam Sport:Swimming",
          "City:Amsterdam Sport:Rowing",
          "City:Amsterdam Sport:Equestrianism",
          "City:Amsterdam Sport:Cycling",
          "City:Amsterdam Sport:Football",
          "City:Amsterdam Sport:Wrestling",
          "City:Amsterdam Sport:Boxing",
          "City:Amsterdam Sport:Hockey",
          "City:Amsterdam Sport:Sailing",
          "City:Amsterdam Sport:Water Polo",
          "City:Amsterdam Sport:Weightlifting",
          "City:Amsterdam Sport:Diving",
          "City:Amsterdam Sport:Modern Pentathlon",
          "City:Los Angeles Sport:Art Competitions",
          "City:Los Angeles Sport:Athletics",
          "City:Los Angeles Sport:Swimming",
          "City:Los Angeles Sport:Fencing",
          "City:Los Angeles Sport:Rowing",
          "City:Los Angeles Sport:Gymnastics",
          "City:Los Angeles Sport:Cycling",
          "City:Los Angeles Sport:Wrestling",
          "City:Los Angeles Sport:Boxing",
          "City:Los Angeles Sport:Equestrianism",
          "City:Los Angeles Sport:Sailing",
          "City:Los Angeles Sport:Shooting",
          "City:Los Angeles Sport:Water Polo",
          "City:Los Angeles Sport:Hockey",
          "City:Los Angeles Sport:Diving",
          "City:Los Angeles Sport:Weightlifting",
          "City:Los Angeles Sport:Modern Pentathlon",
          "City:Los Angeles Sport:Alpinism",
          "City:Berlin Sport:Athletics",
          "City:Berlin Sport:Gymnastics",
          "City:Berlin Sport:Art Competitions",
          "City:Berlin Sport:Fencing",
          "City:Berlin Sport:Swimming",
          "City:Berlin Sport:Rowing",
          "City:Berlin Sport:Cycling",
          "City:Berlin Sport:Equestrianism",
          "City:Berlin Sport:Wrestling",
          "City:Berlin Sport:Football",
          "City:Berlin Sport:Basketball",
          "City:Berlin Sport:Boxing",
          "City:Berlin Sport:Sailing",
          "City:Berlin Sport:Hockey",
          "City:Berlin Sport:Shooting",
          "City:Berlin Sport:Canoeing",
          "City:Berlin Sport:Water Polo",
          "City:Berlin Sport:Handball",
          "City:Berlin Sport:Diving",
          "City:Berlin Sport:Weightlifting",
          "City:Berlin Sport:Modern Pentathlon",
          "City:Berlin Sport:Polo",
          "City:Berlin Sport:Alpinism",
          "City:Berlin Sport:Aeronautics",
          "City:London Sport:Gymnastics",
          "City:London Sport:Athletics",
          "City:London Sport:Fencing",
          "City:London Sport:Art Competitions",
          "City:London Sport:Swimming",
          "City:London Sport:Cycling",
          "City:London Sport:Rowing",
          "City:London Sport:Basketball",
          "City:London Sport:Wrestling",
          "City:London Sport:Football",
          "City:London Sport:Shooting",
          "City:London Sport:Equestrianism",
          "City:London Sport:Boxing",
          "City:London Sport:Hockey",
          "City:London Sport:Sailing",
          "City:London Sport:Water Polo",
          "City:London Sport:Canoeing",
          "City:London Sport:Weightlifting",
          "City:London Sport:Diving",
          "City:London Sport:Modern Pentathlon",
          "City:Helsinki Sport:Gymnastics",
          "City:Helsinki Sport:Athletics",
          "City:Helsinki Sport:Fencing",
          "City:Helsinki Sport:Swimming",
          "City:Helsinki Sport:Rowing",
          "City:Helsinki Sport:Cycling",
          "City:Helsinki Sport:Basketball",
          "City:Helsinki Sport:Football",
          "City:Helsinki Sport:Shooting",
          "City:Helsinki Sport:Equestrianism",
          "City:Helsinki Sport:Wrestling",
          "City:Helsinki Sport:Boxing",
          "City:Helsinki Sport:Sailing",
          "City:Helsinki Sport:Water Polo",
          "City:Helsinki Sport:Canoeing",
          "City:Helsinki Sport:Hockey",
          "City:Helsinki Sport:Weightlifting",
          "City:Helsinki Sport:Modern Pentathlon",
          "City:Helsinki Sport:Diving",
          "City:Melbourne Sport:Athletics",
          "City:Melbourne Sport:Gymnastics",
          "City:Melbourne Sport:Swimming",
          "City:Melbourne Sport:Cycling",
          "City:Melbourne Sport:Fencing",
          "City:Melbourne Sport:Rowing",
          "City:Melbourne Sport:Shooting",
          "City:Melbourne Sport:Wrestling",
          "City:Melbourne Sport:Hockey",
          "City:Melbourne Sport:Basketball",
          "City:Melbourne Sport:Boxing",
          "City:Melbourne Sport:Sailing",
          "City:Melbourne Sport:Canoeing",
          "City:Melbourne Sport:Football",
          "City:Melbourne Sport:Weightlifting",
          "City:Melbourne Sport:Water Polo",
          "City:Melbourne Sport:Diving",
          "City:Melbourne Sport:Modern Pentathlon",
          "City:Stockholm Sport:Equestrianism",
          "City:Roma Sport:Gymnastics",
          "City:Roma Sport:Athletics",
          "City:Roma Sport:Swimming",
          "City:Roma Sport:Fencing",
          "City:Roma Sport:Rowing",
          "City:Roma Sport:Cycling",
          "City:Roma Sport:Shooting",
          "City:Roma Sport:Wrestling",
          "City:Roma Sport:Sailing",
          "City:Roma Sport:Boxing",
          "City:Roma Sport:Equestrianism",
          "City:Roma Sport:Hockey",
          "City:Roma Sport:Football",
          "City:Roma Sport:Canoeing",
          "City:Roma Sport:Basketball",
          "City:Roma Sport:Weightlifting",
          "City:Roma Sport:Water Polo",
          "City:Roma Sport:Modern Pentathlon",
          "City:Roma Sport:Diving",
          "City:Tokyo Sport:Gymnastics",
          "City:Tokyo Sport:Athletics",
          "City:Tokyo Sport:Swimming",
          "City:Tokyo Sport:Fencing",
          "City:Tokyo Sport:Cycling",
          "City:Tokyo Sport:Rowing",
          "City:Tokyo Sport:Shooting",
          "City:Tokyo Sport:Wrestling",
          "City:Tokyo Sport:Boxing",
          "City:Tokyo Sport:Hockey",
          "City:Tokyo Sport:Sailing",
          "City:Tokyo Sport:Equestrianism",
          "City:Tokyo Sport:Football",
          "City:Tokyo Sport:Basketball",
          "City:Tokyo Sport:Volleyball",
          "City:Tokyo Sport:Canoeing",
          "City:Tokyo Sport:Weightlifting",
          "City:Tokyo Sport:Water Polo",
          "City:Tokyo Sport:Diving",
          "City:Tokyo Sport:Judo",
          "City:Tokyo Sport:Modern Pentathlon",
          "City:Mexico City Sport:Gymnastics",
          "City:Mexico City Sport:Athletics",
          "City:Mexico City Sport:Swimming",
          "City:Mexico City Sport:Fencing",
          "City:Mexico City Sport:Cycling",
          "City:Mexico City Sport:Shooting",
          "City:Mexico City Sport:Rowing",
          "City:Mexico City Sport:Wrestling",
          "City:Mexico City Sport:Boxing",
          "City:Mexico City Sport:Football",
          "City:Mexico City Sport:Hockey",
          "City:Mexico City Sport:Sailing",
          "City:Mexico City Sport:Equestrianism",
          "City:Mexico City Sport:Volleyball",
          "City:Mexico City Sport:Canoeing",
          "City:Mexico City Sport:Basketball",
          "City:Mexico City Sport:Water Polo",
          "City:Mexico City Sport:Weightlifting",
          "City:Mexico City Sport:Diving",
          "City:Mexico City Sport:Modern Pentathlon",
          "City:Munich Sport:Athletics",
          "City:Munich Sport:Gymnastics",
          "City:Munich Sport:Swimming",
          "City:Munich Sport:Cycling",
          "City:Munich Sport:Fencing",
          "City:Munich Sport:Shooting",
          "City:Munich Sport:Rowing",
          "City:Munich Sport:Wrestling",
          "City:Munich Sport:Canoeing",
          "City:Munich Sport:Boxing",
          "City:Munich Sport:Equestrianism",
          "City:Munich Sport:Sailing",
          "City:Munich Sport:Football",
          "City:Munich Sport:Hockey",
          "City:Munich Sport:Handball",
          "City:Munich Sport:Volleyball",
          "City:Munich Sport:Basketball",
          "City:Munich Sport:Weightlifting",
          "City:Munich Sport:Water Polo",
          "City:Munich Sport:Judo",
          "City:Munich Sport:Diving",
          "City:Munich Sport:Modern Pentathlon",
          "City:Munich Sport:Archery",
          "City:Montreal Sport:Athletics",
          "City:Montreal Sport:Gymnastics",
          "City:Montreal Sport:Swimming",
          "City:Montreal Sport:Rowing",
          "City:Montreal Sport:Fencing",
          "City:Montreal Sport:Cycling",
          "City:Montreal Sport:Shooting",
          "City:Montreal Sport:Wrestling",
          "City:Montreal Sport:Canoeing",
          "City:Montreal Sport:Boxing",
          "City:Montreal Sport:Sailing",
          "City:Montreal Sport:Equestrianism",
          "City:Montreal Sport:Handball",
          "City:Montreal Sport:Volleyball",
          "City:Montreal Sport:Basketball",
          "City:Montreal Sport:Football",
          "City:Montreal Sport:Weightlifting",
          "City:Montreal Sport:Hockey",
          "City:Montreal Sport:Judo",
          "City:Montreal Sport:Water Polo",
          "City:Montreal Sport:Diving",
          "City:Montreal Sport:Modern Pentathlon",
          "City:Montreal Sport:Archery",
          "City:Moskva Sport:Athletics",
          "City:Moskva Sport:Gymnastics",
          "City:Moskva Sport:Swimming",
          "City:Moskva Sport:Rowing",
          "City:Moskva Sport:Fencing",
          "City:Moskva Sport:Cycling",
          "City:Moskva Sport:Boxing",
          "City:Moskva Sport:Wrestling",
          "City:Moskva Sport:Shooting",
          "City:Moskva Sport:Football",
          "City:Moskva Sport:Canoeing",
          "City:Moskva Sport:Handball",
          "City:Moskva Sport:Basketball",
          "City:Moskva Sport:Volleyball",
          "City:Moskva Sport:Judo",
          "City:Moskva Sport:Hockey",
          "City:Moskva Sport:Weightlifting",
          "City:Moskva Sport:Sailing",
          "City:Moskva Sport:Water Polo",
          "City:Moskva Sport:Equestrianism",
          "City:Moskva Sport:Diving",
          "City:Moskva Sport:Modern Pentathlon",
          "City:Moskva Sport:Archery",
          "City:Los Angeles Sport:Athletics",
          "City:Los Angeles Sport:Swimming",
          "City:Los Angeles Sport:Gymnastics",
          "City:Los Angeles Sport:Shooting",
          "City:Los Angeles Sport:Cycling",
          "City:Los Angeles Sport:Rowing",
          "City:Los Angeles Sport:Fencing",
          "City:Los Angeles Sport:Boxing",
          "City:Los Angeles Sport:Sailing",
          "City:Los Angeles Sport:Canoeing",
          "City:Los Angeles Sport:Hockey",
          "City:Los Angeles Sport:Wrestling",
          "City:Los Angeles Sport:Equestrianism",
          "City:Los Angeles Sport:Handball",
          "City:Los Angeles Sport:Football",
          "City:Los Angeles Sport:Basketball",
          "City:Los Angeles Sport:Judo",
          "City:Los Angeles Sport:Volleyball",
          "City:Los Angeles Sport:Weightlifting",
          "City:Los Angeles Sport:Water Polo",
          "City:Los Angeles Sport:Archery",
          "City:Los Angeles Sport:Modern Pentathlon",
          "City:Los Angeles Sport:Diving",
          "City:Los Angeles Sport:Synchronized Swimming",
          "City:Los Angeles Sport:Rhythmic Gymnastics",
          "City:Seoul Sport:Athletics",
          "City:Seoul Sport:Swimming",
          "City:Seoul Sport:Gymnastics",
          "City:Seoul Sport:Rowing",
          "City:Seoul Sport:Shooting",
          "City:Seoul Sport:Cycling",
          "City:Seoul Sport:Fencing",
          "City:Seoul Sport:Wrestling",
          "City:Seoul Sport:Boxing",
          "City:Seoul Sport:Canoeing",
          "City:Seoul Sport:Sailing",
          "City:Seoul Sport:Equestrianism",
          "City:Seoul Sport:Hockey",
          "City:Seoul Sport:Handball",
          "City:Seoul Sport:Football",
          "City:Seoul Sport:Archery",
          "City:Seoul Sport:Judo",
          "City:Seoul Sport:Volleyball",
          "City:Seoul Sport:Basketball",
          "City:Seoul Sport:Weightlifting",
          "City:Seoul Sport:Table Tennis",
          "City:Seoul Sport:Tennis",
          "City:Seoul Sport:Water Polo",
          "City:Seoul Sport:Modern Pentathlon",
          "City:Seoul Sport:Diving",
          "City:Seoul Sport:Synchronized Swimming",
          "City:Seoul Sport:Rhythmic Gymnastics",
          "City:Barcelona Sport:Athletics",
          "City:Barcelona Sport:Swimming",
          "City:Barcelona Sport:Gymnastics",
          "City:Barcelona Sport:Rowing",
          "City:Barcelona Sport:Canoeing",
          "City:Barcelona Sport:Cycling",
          "City:Barcelona Sport:Shooting",
          "City:Barcelona Sport:Fencing",
          "City:Barcelona Sport:Sailing",
          "City:Barcelona Sport:Judo",
          "City:Barcelona Sport:Equestrianism",
          "City:Barcelona Sport:Wrestling",
          "City:Barcelona Sport:Boxing",
          "City:Barcelona Sport:Hockey",
          "City:Barcelona Sport:Handball",
          "City:Barcelona Sport:Football",
          "City:Barcelona Sport:Tennis",
          "City:Barcelona Sport:Table Tennis",
          "City:Barcelona Sport:Archery",
          "City:Barcelona Sport:Weightlifting",
          "City:Barcelona Sport:Basketball",
          "City:Barcelona Sport:Volleyball",
          "City:Barcelona Sport:Badminton",
          "City:Barcelona Sport:Baseball",
          "City:Barcelona Sport:Water Polo",
          "City:Barcelona Sport:Modern Pentathlon",
          "City:Barcelona Sport:Diving",
          "City:Barcelona Sport:Synchronized Swimming",
          "City:Barcelona Sport:Rhythmic Gymnastics",
          "City:Atlanta Sport:Athletics",
          "City:Atlanta Sport:Swimming",
          "City:Atlanta Sport:Gymnastics",
          "City:Atlanta Sport:Rowing",
          "City:Atlanta Sport:Shooting",
          "City:Atlanta Sport:Cycling",
          "City:Atlanta Sport:Canoeing",
          "City:Atlanta Sport:Sailing",
          "City:Atlanta Sport:Wrestling",
          "City:Atlanta Sport:Fencing",
          "City:Atlanta Sport:Football",
          "City:Atlanta Sport:Judo",
          "City:Atlanta Sport:Boxing",
          "City:Atlanta Sport:Equestrianism",
          "City:Atlanta Sport:Hockey",
          "City:Atlanta Sport:Handball",
          "City:Atlanta Sport:Basketball",
          "City:Atlanta Sport:Volleyball",
          "City:Atlanta Sport:Badminton",
          "City:Atlanta Sport:Table Tennis",
          "City:Atlanta Sport:Tennis",
          "City:Atlanta Sport:Weightlifting",
          "City:Atlanta Sport:Archery",
          "City:Atlanta Sport:Baseball",
          "City:Atlanta Sport:Water Polo",
          "City:Atlanta Sport:Diving",
          "City:Atlanta Sport:Softball",
          "City:Atlanta Sport:Rhythmic Gymnastics",
          "City:Atlanta Sport:Beach Volleyball",
          "City:Atlanta Sport:Synchronized Swimming",
          "City:Atlanta Sport:Modern Pentathlon",
          "City:Sydney Sport:Athletics",
          "City:Sydney Sport:Swimming",
          "City:Sydney Sport:Gymnastics",
          "City:Sydney Sport:Cycling",
          "City:Sydney Sport:Shooting",
          "City:Sydney Sport:Rowing",
          "City:Sydney Sport:Canoeing",
          "City:Sydney Sport:Sailing",
          "City:Sydney Sport:Judo",
          "City:Sydney Sport:Football",
          "City:Sydney Sport:Hockey",
          "City:Sydney Sport:Fencing",
          "City:Sydney Sport:Handball",
          "City:Sydney Sport:Wrestling",
          "City:Sydney Sport:Boxing",
          "City:Sydney Sport:Equestrianism",
          "City:Sydney Sport:Basketball",
          "City:Sydney Sport:Volleyball",
          "City:Sydney Sport:Table Tennis",
          "City:Sydney Sport:Tennis",
          "City:Sydney Sport:Weightlifting",
          "City:Sydney Sport:Diving",
          "City:Sydney Sport:Water Polo",
          "City:Sydney Sport:Badminton",
          "City:Sydney Sport:Archery",
          "City:Sydney Sport:Baseball",
          "City:Sydney Sport:Softball",
          "City:Sydney Sport:Synchronized Swimming",
          "City:Sydney Sport:Taekwondo",
          "City:Sydney Sport:Triathlon",
          "City:Sydney Sport:Beach Volleyball",
          "City:Sydney Sport:Rhythmic Gymnastics",
          "City:Sydney Sport:Modern Pentathlon",
          "City:Sydney Sport:Trampolining",
          "City:Athina Sport:Athletics",
          "City:Athina Sport:Swimming",
          "City:Athina Sport:Gymnastics",
          "City:Athina Sport:Cycling",
          "City:Athina Sport:Rowing",
          "City:Athina Sport:Shooting",
          "City:Athina Sport:Canoeing",
          "City:Athina Sport:Football",
          "City:Athina Sport:Sailing",
          "City:Athina Sport:Judo",
          "City:Athina Sport:Equestrianism",
          "City:Athina Sport:Hockey",
          "City:Athina Sport:Wrestling",
          "City:Athina Sport:Handball",
          "City:Athina Sport:Fencing",
          "City:Athina Sport:Basketball",
          "City:Athina Sport:Volleyball",
          "City:Athina Sport:Boxing",
          "City:Athina Sport:Table Tennis",
          "City:Athina Sport:Water Polo",
          "City:Athina Sport:Tennis",
          "City:Athina Sport:Weightlifting",
          "City:Athina Sport:Archery",
          "City:Athina Sport:Badminton",
          "City:Athina Sport:Diving",
          "City:Athina Sport:Baseball",
          "City:Athina Sport:Taekwondo",
          "City:Athina Sport:Softball",
          "City:Athina Sport:Synchronized Swimming",
          "City:Athina Sport:Triathlon",
          "City:Athina Sport:Beach Volleyball",
          "City:Athina Sport:Rhythmic Gymnastics",
          "City:Athina Sport:Modern Pentathlon",
          "City:Athina Sport:Trampolining",
          "City:Beijing Sport:Athletics",
          "City:Beijing Sport:Swimming",
          "City:Beijing Sport:Gymnastics",
          "City:Beijing Sport:Cycling",
          "City:Beijing Sport:Shooting",
          "City:Beijing Sport:Rowing",
          "City:Beijing Sport:Football",
          "City:Beijing Sport:Canoeing",
          "City:Beijing Sport:Sailing",
          "City:Beijing Sport:Hockey",
          "City:Beijing Sport:Judo",
          "City:Beijing Sport:Handball",
          "City:Beijing Sport:Wrestling",
          "City:Beijing Sport:Equestrianism",
          "City:Beijing Sport:Fencing",
          "City:Beijing Sport:Basketball",
          "City:Beijing Sport:Boxing",
          "City:Beijing Sport:Volleyball",
          "City:Beijing Sport:Water Polo",
          "City:Beijing Sport:Tennis",
          "City:Beijing Sport:Weightlifting",
          "City:Beijing Sport:Table Tennis",
          "City:Beijing Sport:Archery",
          "City:Beijing Sport:Baseball",
          "City:Beijing Sport:Badminton",
          "City:Beijing Sport:Diving",
          "City:Beijing Sport:Taekwondo",
          "City:Beijing Sport:Softball",
          "City:Beijing Sport:Synchronized Swimming",
          "City:Beijing Sport:Triathlon",
          "City:Beijing Sport:Beach Volleyball",
          "City:Beijing Sport:Rhythmic Gymnastics",
          "City:Beijing Sport:Modern Pentathlon",
          "City:Beijing Sport:Trampolining",
          "City:London Sport:Athletics",
          "City:London Sport:Swimming",
          "City:London Sport:Gymnastics",
          "City:London Sport:Cycling",
          "City:London Sport:Shooting",
          "City:London Sport:Rowing",
          "City:London Sport:Football",
          "City:London Sport:Canoeing",
          "City:London Sport:Hockey",
          "City:London Sport:Judo",
          "City:London Sport:Sailing",
          "City:London Sport:Equestrianism",
          "City:London Sport:Handball",
          "City:London Sport:Fencing",
          "City:London Sport:Wrestling",
          "City:London Sport:Basketball",
          "City:London Sport:Volleyball",
          "City:London Sport:Tennis",
          "City:London Sport:Boxing",
          "City:London Sport:Water Polo",
          "City:London Sport:Weightlifting",
          "City:London Sport:Table Tennis",
          "City:London Sport:Archery",
          "City:London Sport:Badminton",
          "City:London Sport:Diving",
          "City:London Sport:Taekwondo",
          "City:London Sport:Synchronized Swimming",
          "City:London Sport:Triathlon",
          "City:London Sport:Beach Volleyball",
          "City:London Sport:Rhythmic Gymnastics",
          "City:London Sport:Modern Pentathlon",
          "City:London Sport:Trampolining",
          "City:Rio de Janeiro Sport:Athletics",
          "City:Rio de Janeiro Sport:Swimming",
          "City:Rio de Janeiro Sport:Gymnastics",
          "City:Rio de Janeiro Sport:Cycling",
          "City:Rio de Janeiro Sport:Shooting",
          "City:Rio de Janeiro Sport:Rowing",
          "City:Rio de Janeiro Sport:Football",
          "City:Rio de Janeiro Sport:Canoeing",
          "City:Rio de Janeiro Sport:Hockey",
          "City:Rio de Janeiro Sport:Judo",
          "City:Rio de Janeiro Sport:Sailing",
          "City:Rio de Janeiro Sport:Equestrianism",
          "City:Rio de Janeiro Sport:Handball",
          "City:Rio de Janeiro Sport:Fencing",
          "City:Rio de Janeiro Sport:Wrestling",
          "City:Rio de Janeiro Sport:Rugby Sevens",
          "City:Rio de Janeiro Sport:Tennis",
          "City:Rio de Janeiro Sport:Boxing",
          "City:Rio de Janeiro Sport:Volleyball",
          "City:Rio de Janeiro Sport:Basketball",
          "City:Rio de Janeiro Sport:Water Polo",
          "City:Rio de Janeiro Sport:Weightlifting",
          "City:Rio de Janeiro Sport:Table Tennis",
          "City:Rio de Janeiro Sport:Archery",
          "City:Rio de Janeiro Sport:Diving",
          "City:Rio de Janeiro Sport:Badminton",
          "City:Rio de Janeiro Sport:Taekwondo",
          "City:Rio de Janeiro Sport:Golf",
          "City:Rio de Janeiro Sport:Synchronized Swimming",
          "City:Rio de Janeiro Sport:Triathlon",
          "City:Rio de Janeiro Sport:Beach Volleyball",
          "City:Rio de Janeiro Sport:Rhythmic Gymnastics",
          "City:Rio de Janeiro Sport:Modern Pentathlon",
          "City:Rio de Janeiro Sport:Trampolining"
         ],
         "type": "scatter",
         "x": [
          1896,
          1896,
          1896,
          1896,
          1896,
          1896,
          1896,
          1896,
          1896,
          1900,
          1900,
          1900,
          1900,
          1900,
          1900,
          1900,
          1900,
          1900,
          1900,
          1900,
          1900,
          1900,
          1900,
          1900,
          1900,
          1900,
          1900,
          1900,
          1900,
          1904,
          1904,
          1904,
          1904,
          1904,
          1904,
          1904,
          1904,
          1904,
          1904,
          1904,
          1904,
          1904,
          1904,
          1904,
          1904,
          1904,
          1904,
          1906,
          1906,
          1906,
          1906,
          1906,
          1906,
          1906,
          1906,
          1906,
          1906,
          1906,
          1906,
          1906,
          1908,
          1908,
          1908,
          1908,
          1908,
          1908,
          1908,
          1908,
          1908,
          1908,
          1908,
          1908,
          1908,
          1908,
          1908,
          1908,
          1908,
          1908,
          1908,
          1908,
          1908,
          1908,
          1908,
          1908,
          1912,
          1912,
          1912,
          1912,
          1912,
          1912,
          1912,
          1912,
          1912,
          1912,
          1912,
          1912,
          1912,
          1912,
          1912,
          1912,
          1912,
          1920,
          1920,
          1920,
          1920,
          1920,
          1920,
          1920,
          1920,
          1920,
          1920,
          1920,
          1920,
          1920,
          1920,
          1920,
          1920,
          1920,
          1920,
          1920,
          1920,
          1920,
          1920,
          1920,
          1920,
          1920,
          1924,
          1924,
          1924,
          1924,
          1924,
          1924,
          1924,
          1924,
          1924,
          1924,
          1924,
          1924,
          1924,
          1924,
          1924,
          1924,
          1924,
          1924,
          1924,
          1924,
          1928,
          1928,
          1928,
          1928,
          1928,
          1928,
          1928,
          1928,
          1928,
          1928,
          1928,
          1928,
          1928,
          1928,
          1928,
          1928,
          1928,
          1932,
          1932,
          1932,
          1932,
          1932,
          1932,
          1932,
          1932,
          1932,
          1932,
          1932,
          1932,
          1932,
          1932,
          1932,
          1932,
          1932,
          1932,
          1936,
          1936,
          1936,
          1936,
          1936,
          1936,
          1936,
          1936,
          1936,
          1936,
          1936,
          1936,
          1936,
          1936,
          1936,
          1936,
          1936,
          1936,
          1936,
          1936,
          1936,
          1936,
          1936,
          1936,
          1948,
          1948,
          1948,
          1948,
          1948,
          1948,
          1948,
          1948,
          1948,
          1948,
          1948,
          1948,
          1948,
          1948,
          1948,
          1948,
          1948,
          1948,
          1948,
          1948,
          1952,
          1952,
          1952,
          1952,
          1952,
          1952,
          1952,
          1952,
          1952,
          1952,
          1952,
          1952,
          1952,
          1952,
          1952,
          1952,
          1952,
          1952,
          1952,
          1956,
          1956,
          1956,
          1956,
          1956,
          1956,
          1956,
          1956,
          1956,
          1956,
          1956,
          1956,
          1956,
          1956,
          1956,
          1956,
          1956,
          1956,
          1956,
          1960,
          1960,
          1960,
          1960,
          1960,
          1960,
          1960,
          1960,
          1960,
          1960,
          1960,
          1960,
          1960,
          1960,
          1960,
          1960,
          1960,
          1960,
          1960,
          1964,
          1964,
          1964,
          1964,
          1964,
          1964,
          1964,
          1964,
          1964,
          1964,
          1964,
          1964,
          1964,
          1964,
          1964,
          1964,
          1964,
          1964,
          1964,
          1964,
          1964,
          1968,
          1968,
          1968,
          1968,
          1968,
          1968,
          1968,
          1968,
          1968,
          1968,
          1968,
          1968,
          1968,
          1968,
          1968,
          1968,
          1968,
          1968,
          1968,
          1968,
          1972,
          1972,
          1972,
          1972,
          1972,
          1972,
          1972,
          1972,
          1972,
          1972,
          1972,
          1972,
          1972,
          1972,
          1972,
          1972,
          1972,
          1972,
          1972,
          1972,
          1972,
          1972,
          1972,
          1976,
          1976,
          1976,
          1976,
          1976,
          1976,
          1976,
          1976,
          1976,
          1976,
          1976,
          1976,
          1976,
          1976,
          1976,
          1976,
          1976,
          1976,
          1976,
          1976,
          1976,
          1976,
          1976,
          1980,
          1980,
          1980,
          1980,
          1980,
          1980,
          1980,
          1980,
          1980,
          1980,
          1980,
          1980,
          1980,
          1980,
          1980,
          1980,
          1980,
          1980,
          1980,
          1980,
          1980,
          1980,
          1980,
          1984,
          1984,
          1984,
          1984,
          1984,
          1984,
          1984,
          1984,
          1984,
          1984,
          1984,
          1984,
          1984,
          1984,
          1984,
          1984,
          1984,
          1984,
          1984,
          1984,
          1984,
          1984,
          1984,
          1984,
          1984,
          1988,
          1988,
          1988,
          1988,
          1988,
          1988,
          1988,
          1988,
          1988,
          1988,
          1988,
          1988,
          1988,
          1988,
          1988,
          1988,
          1988,
          1988,
          1988,
          1988,
          1988,
          1988,
          1988,
          1988,
          1988,
          1988,
          1988,
          1992,
          1992,
          1992,
          1992,
          1992,
          1992,
          1992,
          1992,
          1992,
          1992,
          1992,
          1992,
          1992,
          1992,
          1992,
          1992,
          1992,
          1992,
          1992,
          1992,
          1992,
          1992,
          1992,
          1992,
          1992,
          1992,
          1992,
          1992,
          1992,
          1996,
          1996,
          1996,
          1996,
          1996,
          1996,
          1996,
          1996,
          1996,
          1996,
          1996,
          1996,
          1996,
          1996,
          1996,
          1996,
          1996,
          1996,
          1996,
          1996,
          1996,
          1996,
          1996,
          1996,
          1996,
          1996,
          1996,
          1996,
          1996,
          1996,
          1996,
          2000,
          2000,
          2000,
          2000,
          2000,
          2000,
          2000,
          2000,
          2000,
          2000,
          2000,
          2000,
          2000,
          2000,
          2000,
          2000,
          2000,
          2000,
          2000,
          2000,
          2000,
          2000,
          2000,
          2000,
          2000,
          2000,
          2000,
          2000,
          2000,
          2000,
          2000,
          2000,
          2000,
          2000,
          2004,
          2004,
          2004,
          2004,
          2004,
          2004,
          2004,
          2004,
          2004,
          2004,
          2004,
          2004,
          2004,
          2004,
          2004,
          2004,
          2004,
          2004,
          2004,
          2004,
          2004,
          2004,
          2004,
          2004,
          2004,
          2004,
          2004,
          2004,
          2004,
          2004,
          2004,
          2004,
          2004,
          2004,
          2008,
          2008,
          2008,
          2008,
          2008,
          2008,
          2008,
          2008,
          2008,
          2008,
          2008,
          2008,
          2008,
          2008,
          2008,
          2008,
          2008,
          2008,
          2008,
          2008,
          2008,
          2008,
          2008,
          2008,
          2008,
          2008,
          2008,
          2008,
          2008,
          2008,
          2008,
          2008,
          2008,
          2008,
          2012,
          2012,
          2012,
          2012,
          2012,
          2012,
          2012,
          2012,
          2012,
          2012,
          2012,
          2012,
          2012,
          2012,
          2012,
          2012,
          2012,
          2012,
          2012,
          2012,
          2012,
          2012,
          2012,
          2012,
          2012,
          2012,
          2012,
          2012,
          2012,
          2012,
          2012,
          2012,
          2016,
          2016,
          2016,
          2016,
          2016,
          2016,
          2016,
          2016,
          2016,
          2016,
          2016,
          2016,
          2016,
          2016,
          2016,
          2016,
          2016,
          2016,
          2016,
          2016,
          2016,
          2016,
          2016,
          2016,
          2016,
          2016,
          2016,
          2016,
          2016,
          2016,
          2016,
          2016,
          2016,
          2016
         ],
         "y": [
          106,
          97,
          65,
          41,
          23,
          18,
          15,
          10,
          5,
          317,
          280,
          234,
          221,
          135,
          133,
          131,
          92,
          79,
          53,
          47,
          47,
          35,
          32,
          24,
          22,
          21,
          19,
          12,
          2,
          458,
          201,
          105,
          70,
          64,
          61,
          57,
          48,
          46,
          36,
          36,
          30,
          28,
          24,
          21,
          7,
          5,
          4,
          470,
          320,
          200,
          161,
          156,
          138,
          78,
          48,
          45,
          39,
          32,
          24,
          22,
          778,
          444,
          349,
          269,
          240,
          150,
          133,
          87,
          84,
          77,
          72,
          68,
          64,
          47,
          42,
          40,
          30,
          28,
          24,
          23,
          17,
          12,
          12,
          11,
          962,
          794,
          379,
          310,
          242,
          201,
          197,
          173,
          170,
          163,
          128,
          109,
          86,
          45,
          33,
          32,
          16,
          849,
          838,
          350,
          263,
          212,
          209,
          190,
          161,
          153,
          144,
          132,
          116,
          101,
          101,
          86,
          70,
          60,
          53,
          51,
          40,
          31,
          31,
          23,
          17,
          11,
          1003,
          638,
          508,
          424,
          318,
          279,
          263,
          253,
          249,
          244,
          196,
          194,
          181,
          107,
          101,
          90,
          69,
          54,
          38,
          24,
          992,
          808,
          664,
          430,
          278,
          247,
          232,
          227,
          219,
          169,
          144,
          137,
          128,
          112,
          94,
          74,
          37,
          1124,
          522,
          195,
          192,
          166,
          147,
          109,
          90,
          85,
          65,
          57,
          44,
          41,
          40,
          36,
          29,
          25,
          2,
          1007,
          947,
          813,
          556,
          364,
          348,
          301,
          256,
          210,
          201,
          199,
          179,
          172,
          167,
          162,
          143,
          142,
          105,
          88,
          80,
          42,
          21,
          2,
          1,
          1060,
          1051,
          508,
          471,
          398,
          320,
          318,
          287,
          229,
          218,
          216,
          207,
          205,
          187,
          186,
          156,
          139,
          120,
          84,
          45,
          2391,
          1344,
          509,
          483,
          406,
          389,
          294,
          294,
          289,
          263,
          262,
          249,
          227,
          191,
          184,
          157,
          142,
          99,
          97,
          1013,
          913,
          356,
          292,
          278,
          258,
          219,
          195,
          173,
          169,
          161,
          154,
          146,
          143,
          105,
          96,
          82,
          76,
          298,
          1746,
          1312,
          630,
          601,
          431,
          423,
          389,
          337,
          290,
          281,
          276,
          236,
          235,
          211,
          192,
          172,
          150,
          111,
          96,
          1484,
          1335,
          736,
          481,
          451,
          378,
          312,
          302,
          269,
          226,
          225,
          224,
          214,
          189,
          179,
          167,
          149,
          137,
          102,
          72,
          70,
          1496,
          1345,
          1231,
          490,
          483,
          410,
          358,
          333,
          307,
          273,
          253,
          252,
          233,
          206,
          203,
          191,
          162,
          160,
          109,
          93,
          1686,
          1584,
          1263,
          526,
          499,
          472,
          442,
          409,
          359,
          354,
          326,
          323,
          269,
          263,
          243,
          231,
          190,
          188,
          176,
          166,
          124,
          116,
          95,
          1297,
          1204,
          1076,
          598,
          485,
          392,
          369,
          349,
          340,
          266,
          257,
          246,
          243,
          216,
          213,
          202,
          173,
          172,
          154,
          131,
          105,
          89,
          64,
          1268,
          866,
          761,
          488,
          321,
          307,
          271,
          270,
          267,
          256,
          253,
          248,
          215,
          204,
          193,
          187,
          172,
          156,
          132,
          122,
          88,
          79,
          67,
          1674,
          1232,
          930,
          539,
          475,
          465,
          424,
          354,
          300,
          299,
          286,
          286,
          281,
          259,
          246,
          213,
          212,
          208,
          186,
          153,
          109,
          103,
          101,
          86,
          33,
          2062,
          1614,
          1217,
          624,
          545,
          518,
          506,
          457,
          432,
          388,
          375,
          324,
          314,
          281,
          270,
          257,
          243,
          239,
          236,
          226,
          206,
          202,
          156,
          122,
          108,
          76,
          39,
          2054,
          1615,
          1255,
          661,
          587,
          566,
          564,
          458,
          441,
          433,
          404,
          371,
          336,
          314,
          292,
          272,
          250,
          248,
          247,
          244,
          236,
          231,
          226,
          160,
          152,
          117,
          112,
          89,
          42,
          2386,
          1635,
          1397,
          621,
          612,
          584,
          575,
          458,
          401,
          388,
          388,
          387,
          355,
          343,
          320,
          300,
          284,
          275,
          263,
          251,
          246,
          243,
          218,
          160,
          153,
          139,
          120,
          90,
          84,
          72,
          32,
          2468,
          1741,
          1144,
          621,
          599,
          561,
          448,
          402,
          398,
          391,
          350,
          349,
          323,
          314,
          307,
          295,
          286,
          279,
          268,
          248,
          246,
          238,
          231,
          225,
          206,
          192,
          120,
          117,
          102,
          100,
          96,
          84,
          48,
          24,
          2175,
          1618,
          1151,
          623,
          559,
          558,
          434,
          425,
          401,
          384,
          371,
          352,
          342,
          328,
          323,
          287,
          283,
          280,
          260,
          255,
          252,
          249,
          212,
          200,
          196,
          191,
          124,
          118,
          117,
          99,
          96,
          84,
          64,
          32,
          2244,
          1749,
          996,
          652,
          577,
          563,
          469,
          436,
          400,
          387,
          386,
          343,
          343,
          340,
          332,
          287,
          283,
          283,
          256,
          254,
          253,
          250,
          194,
          191,
          184,
          182,
          126,
          120,
          117,
          110,
          96,
          95,
          72,
          32,
          2278,
          1538,
          848,
          629,
          560,
          550,
          467,
          418,
          387,
          384,
          379,
          350,
          347,
          345,
          339,
          287,
          287,
          286,
          283,
          257,
          252,
          236,
          200,
          182,
          181,
          128,
          117,
          110,
          96,
          95,
          72,
          32,
          2508,
          1568,
          861,
          667,
          555,
          550,
          473,
          441,
          390,
          389,
          380,
          355,
          353,
          346,
          346,
          299,
          286,
          283,
          283,
          281,
          258,
          255,
          236,
          200,
          178,
          177,
          126,
          120,
          118,
          110,
          96,
          96,
          72,
          32
         ]
        },
        {
         "marker": {
          "color": "rgb(11,23,245)",
          "line": {
           "color": "blue",
           "width": 1
          },
          "opacity": 0.5
         },
         "mode": "markers",
         "name": "Winter Games",
         "text": [
          "City:Chamonix Sport:Speed Skating",
          "City:Chamonix Sport:Ice Hockey",
          "City:Chamonix Sport:Cross Country Skiing",
          "City:Chamonix Sport:Bobsleigh",
          "City:Chamonix Sport:Figure Skating",
          "City:Chamonix Sport:Nordic Combined",
          "City:Chamonix Sport:Ski Jumping",
          "City:Chamonix Sport:Military Ski Patrol",
          "City:Chamonix Sport:Alpinism",
          "City:Chamonix Sport:Curling",
          "City:Sankt Moritz Sport:Ice Hockey",
          "City:Sankt Moritz Sport:Bobsleigh",
          "City:Sankt Moritz Sport:Speed Skating",
          "City:Sankt Moritz Sport:Cross Country Skiing",
          "City:Sankt Moritz Sport:Figure Skating",
          "City:Sankt Moritz Sport:Ski Jumping",
          "City:Sankt Moritz Sport:Nordic Combined",
          "City:Sankt Moritz Sport:Skeleton",
          "City:Lake Placid Sport:Cross Country Skiing",
          "City:Lake Placid Sport:Speed Skating",
          "City:Lake Placid Sport:Bobsleigh",
          "City:Lake Placid Sport:Ice Hockey",
          "City:Lake Placid Sport:Figure Skating",
          "City:Lake Placid Sport:Ski Jumping",
          "City:Lake Placid Sport:Nordic Combined",
          "City:Garmisch-Partenkirchen Sport:Cross Country Skiing",
          "City:Garmisch-Partenkirchen Sport:Ice Hockey",
          "City:Garmisch-Partenkirchen Sport:Speed Skating",
          "City:Garmisch-Partenkirchen Sport:Bobsleigh",
          "City:Garmisch-Partenkirchen Sport:Alpine Skiing",
          "City:Garmisch-Partenkirchen Sport:Figure Skating",
          "City:Garmisch-Partenkirchen Sport:Nordic Combined",
          "City:Garmisch-Partenkirchen Sport:Ski Jumping",
          "City:Sankt Moritz Sport:Alpine Skiing",
          "City:Sankt Moritz Sport:Cross Country Skiing",
          "City:Sankt Moritz Sport:Speed Skating",
          "City:Sankt Moritz Sport:Ice Hockey",
          "City:Sankt Moritz Sport:Bobsleigh",
          "City:Sankt Moritz Sport:Figure Skating",
          "City:Sankt Moritz Sport:Ski Jumping",
          "City:Sankt Moritz Sport:Nordic Combined",
          "City:Sankt Moritz Sport:Skeleton",
          "City:Oslo Sport:Alpine Skiing",
          "City:Oslo Sport:Cross Country Skiing",
          "City:Oslo Sport:Ice Hockey",
          "City:Oslo Sport:Speed Skating",
          "City:Oslo Sport:Bobsleigh",
          "City:Oslo Sport:Figure Skating",
          "City:Oslo Sport:Ski Jumping",
          "City:Oslo Sport:Nordic Combined",
          "City:Cortina d'Ampezzo Sport:Alpine Skiing",
          "City:Cortina d'Ampezzo Sport:Cross Country Skiing",
          "City:Cortina d'Ampezzo Sport:Speed Skating",
          "City:Cortina d'Ampezzo Sport:Ice Hockey",
          "City:Cortina d'Ampezzo Sport:Bobsleigh",
          "City:Cortina d'Ampezzo Sport:Figure Skating",
          "City:Cortina d'Ampezzo Sport:Ski Jumping",
          "City:Cortina d'Ampezzo Sport:Nordic Combined",
          "City:Squaw Valley Sport:Alpine Skiing",
          "City:Squaw Valley Sport:Speed Skating",
          "City:Squaw Valley Sport:Cross Country Skiing",
          "City:Squaw Valley Sport:Ice Hockey",
          "City:Squaw Valley Sport:Figure Skating",
          "City:Squaw Valley Sport:Ski Jumping",
          "City:Squaw Valley Sport:Nordic Combined",
          "City:Squaw Valley Sport:Biathlon",
          "City:Innsbruck Sport:Alpine Skiing",
          "City:Innsbruck Sport:Cross Country Skiing",
          "City:Innsbruck Sport:Speed Skating",
          "City:Innsbruck Sport:Ice Hockey",
          "City:Innsbruck Sport:Bobsleigh",
          "City:Innsbruck Sport:Ski Jumping",
          "City:Innsbruck Sport:Figure Skating",
          "City:Innsbruck Sport:Luge",
          "City:Innsbruck Sport:Biathlon",
          "City:Innsbruck Sport:Nordic Combined",
          "City:Grenoble Sport:Alpine Skiing",
          "City:Grenoble Sport:Cross Country Skiing",
          "City:Grenoble Sport:Speed Skating",
          "City:Grenoble Sport:Ice Hockey",
          "City:Grenoble Sport:Bobsleigh",
          "City:Grenoble Sport:Biathlon",
          "City:Grenoble Sport:Ski Jumping",
          "City:Grenoble Sport:Luge",
          "City:Grenoble Sport:Figure Skating",
          "City:Grenoble Sport:Nordic Combined",
          "City:Sapporo Sport:Cross Country Skiing",
          "City:Sapporo Sport:Alpine Skiing",
          "City:Sapporo Sport:Speed Skating",
          "City:Sapporo Sport:Ice Hockey",
          "City:Sapporo Sport:Bobsleigh",
          "City:Sapporo Sport:Ski Jumping",
          "City:Sapporo Sport:Luge",
          "City:Sapporo Sport:Biathlon",
          "City:Sapporo Sport:Figure Skating",
          "City:Sapporo Sport:Nordic Combined",
          "City:Innsbruck Sport:Cross Country Skiing",
          "City:Innsbruck Sport:Alpine Skiing",
          "City:Innsbruck Sport:Speed Skating",
          "City:Innsbruck Sport:Ice Hockey",
          "City:Innsbruck Sport:Bobsleigh",
          "City:Innsbruck Sport:Luge",
          "City:Innsbruck Sport:Biathlon",
          "City:Innsbruck Sport:Ski Jumping",
          "City:Innsbruck Sport:Figure Skating",
          "City:Innsbruck Sport:Nordic Combined",
          "City:Lake Placid Sport:Alpine Skiing",
          "City:Lake Placid Sport:Cross Country Skiing",
          "City:Lake Placid Sport:Speed Skating",
          "City:Lake Placid Sport:Ice Hockey",
          "City:Lake Placid Sport:Biathlon",
          "City:Lake Placid Sport:Bobsleigh",
          "City:Lake Placid Sport:Ski Jumping",
          "City:Lake Placid Sport:Luge",
          "City:Lake Placid Sport:Figure Skating",
          "City:Lake Placid Sport:Nordic Combined",
          "City:Sarajevo Sport:Cross Country Skiing",
          "City:Sarajevo Sport:Alpine Skiing",
          "City:Sarajevo Sport:Speed Skating",
          "City:Sarajevo Sport:Ice Hockey",
          "City:Sarajevo Sport:Biathlon",
          "City:Sarajevo Sport:Bobsleigh",
          "City:Sarajevo Sport:Figure Skating",
          "City:Sarajevo Sport:Ski Jumping",
          "City:Sarajevo Sport:Luge",
          "City:Sarajevo Sport:Nordic Combined",
          "City:Calgary Sport:Alpine Skiing",
          "City:Calgary Sport:Cross Country Skiing",
          "City:Calgary Sport:Speed Skating",
          "City:Calgary Sport:Ice Hockey",
          "City:Calgary Sport:Biathlon",
          "City:Calgary Sport:Bobsleigh",
          "City:Calgary Sport:Ski Jumping",
          "City:Calgary Sport:Figure Skating",
          "City:Calgary Sport:Luge",
          "City:Calgary Sport:Nordic Combined",
          "City:Albertville Sport:Alpine Skiing",
          "City:Albertville Sport:Cross Country Skiing",
          "City:Albertville Sport:Biathlon",
          "City:Albertville Sport:Speed Skating",
          "City:Albertville Sport:Ice Hockey",
          "City:Albertville Sport:Bobsleigh",
          "City:Albertville Sport:Ski Jumping",
          "City:Albertville Sport:Figure Skating",
          "City:Albertville Sport:Short Track Speed Skating",
          "City:Albertville Sport:Luge",
          "City:Albertville Sport:Nordic Combined",
          "City:Albertville Sport:Freestyle Skiing",
          "City:Lillehammer Sport:Cross Country Skiing",
          "City:Lillehammer Sport:Alpine Skiing",
          "City:Lillehammer Sport:Biathlon",
          "City:Lillehammer Sport:Speed Skating",
          "City:Lillehammer Sport:Ice Hockey",
          "City:Lillehammer Sport:Bobsleigh",
          "City:Lillehammer Sport:Short Track Speed Skating",
          "City:Lillehammer Sport:Ski Jumping",
          "City:Lillehammer Sport:Figure Skating",
          "City:Lillehammer Sport:Freestyle Skiing",
          "City:Lillehammer Sport:Luge",
          "City:Lillehammer Sport:Nordic Combined",
          "City:Nagano Sport:Cross Country Skiing",
          "City:Nagano Sport:Alpine Skiing",
          "City:Nagano Sport:Ice Hockey",
          "City:Nagano Sport:Biathlon",
          "City:Nagano Sport:Speed Skating",
          "City:Nagano Sport:Bobsleigh",
          "City:Nagano Sport:Short Track Speed Skating",
          "City:Nagano Sport:Ski Jumping",
          "City:Nagano Sport:Figure Skating",
          "City:Nagano Sport:Snowboarding",
          "City:Nagano Sport:Freestyle Skiing",
          "City:Nagano Sport:Luge",
          "City:Nagano Sport:Nordic Combined",
          "City:Nagano Sport:Curling",
          "City:Salt Lake City Sport:Cross Country Skiing",
          "City:Salt Lake City Sport:Biathlon",
          "City:Salt Lake City Sport:Alpine Skiing",
          "City:Salt Lake City Sport:Ice Hockey",
          "City:Salt Lake City Sport:Speed Skating",
          "City:Salt Lake City Sport:Short Track Speed Skating",
          "City:Salt Lake City Sport:Bobsleigh",
          "City:Salt Lake City Sport:Ski Jumping",
          "City:Salt Lake City Sport:Figure Skating",
          "City:Salt Lake City Sport:Nordic Combined",
          "City:Salt Lake City Sport:Snowboarding",
          "City:Salt Lake City Sport:Luge",
          "City:Salt Lake City Sport:Freestyle Skiing",
          "City:Salt Lake City Sport:Curling",
          "City:Salt Lake City Sport:Skeleton",
          "City:Torino Sport:Cross Country Skiing",
          "City:Torino Sport:Biathlon",
          "City:Torino Sport:Alpine Skiing",
          "City:Torino Sport:Ice Hockey",
          "City:Torino Sport:Speed Skating",
          "City:Torino Sport:Short Track Speed Skating",
          "City:Torino Sport:Ski Jumping",
          "City:Torino Sport:Snowboarding",
          "City:Torino Sport:Bobsleigh",
          "City:Torino Sport:Figure Skating",
          "City:Torino Sport:Nordic Combined",
          "City:Torino Sport:Freestyle Skiing",
          "City:Torino Sport:Luge",
          "City:Torino Sport:Curling",
          "City:Torino Sport:Skeleton",
          "City:Vancouver Sport:Cross Country Skiing",
          "City:Vancouver Sport:Alpine Skiing",
          "City:Vancouver Sport:Biathlon",
          "City:Vancouver Sport:Ice Hockey",
          "City:Vancouver Sport:Speed Skating",
          "City:Vancouver Sport:Short Track Speed Skating",
          "City:Vancouver Sport:Bobsleigh",
          "City:Vancouver Sport:Snowboarding",
          "City:Vancouver Sport:Freestyle Skiing",
          "City:Vancouver Sport:Ski Jumping",
          "City:Vancouver Sport:Figure Skating",
          "City:Vancouver Sport:Nordic Combined",
          "City:Vancouver Sport:Luge",
          "City:Vancouver Sport:Curling",
          "City:Vancouver Sport:Skeleton",
          "City:Sochi Sport:Cross Country Skiing",
          "City:Sochi Sport:Biathlon",
          "City:Sochi Sport:Alpine Skiing",
          "City:Sochi Sport:Ice Hockey",
          "City:Sochi Sport:Speed Skating",
          "City:Sochi Sport:Snowboarding",
          "City:Sochi Sport:Short Track Speed Skating",
          "City:Sochi Sport:Freestyle Skiing",
          "City:Sochi Sport:Bobsleigh",
          "City:Sochi Sport:Figure Skating",
          "City:Sochi Sport:Ski Jumping",
          "City:Sochi Sport:Luge",
          "City:Sochi Sport:Nordic Combined",
          "City:Sochi Sport:Curling",
          "City:Sochi Sport:Skeleton"
         ],
         "type": "scatter",
         "x": [
          1924,
          1924,
          1924,
          1924,
          1924,
          1924,
          1924,
          1924,
          1924,
          1924,
          1928,
          1928,
          1928,
          1928,
          1928,
          1928,
          1928,
          1928,
          1932,
          1932,
          1932,
          1932,
          1932,
          1932,
          1932,
          1936,
          1936,
          1936,
          1936,
          1936,
          1936,
          1936,
          1936,
          1948,
          1948,
          1948,
          1948,
          1948,
          1948,
          1948,
          1948,
          1948,
          1952,
          1952,
          1952,
          1952,
          1952,
          1952,
          1952,
          1952,
          1956,
          1956,
          1956,
          1956,
          1956,
          1956,
          1956,
          1956,
          1960,
          1960,
          1960,
          1960,
          1960,
          1960,
          1960,
          1960,
          1964,
          1964,
          1964,
          1964,
          1964,
          1964,
          1964,
          1964,
          1964,
          1964,
          1968,
          1968,
          1968,
          1968,
          1968,
          1968,
          1968,
          1968,
          1968,
          1968,
          1972,
          1972,
          1972,
          1972,
          1972,
          1972,
          1972,
          1972,
          1972,
          1972,
          1976,
          1976,
          1976,
          1976,
          1976,
          1976,
          1976,
          1976,
          1976,
          1976,
          1980,
          1980,
          1980,
          1980,
          1980,
          1980,
          1980,
          1980,
          1980,
          1980,
          1984,
          1984,
          1984,
          1984,
          1984,
          1984,
          1984,
          1984,
          1984,
          1984,
          1988,
          1988,
          1988,
          1988,
          1988,
          1988,
          1988,
          1988,
          1988,
          1988,
          1992,
          1992,
          1992,
          1992,
          1992,
          1992,
          1992,
          1992,
          1992,
          1992,
          1992,
          1992,
          1994,
          1994,
          1994,
          1994,
          1994,
          1994,
          1994,
          1994,
          1994,
          1994,
          1994,
          1994,
          1998,
          1998,
          1998,
          1998,
          1998,
          1998,
          1998,
          1998,
          1998,
          1998,
          1998,
          1998,
          1998,
          1998,
          2002,
          2002,
          2002,
          2002,
          2002,
          2002,
          2002,
          2002,
          2002,
          2002,
          2002,
          2002,
          2002,
          2002,
          2002,
          2006,
          2006,
          2006,
          2006,
          2006,
          2006,
          2006,
          2006,
          2006,
          2006,
          2006,
          2006,
          2006,
          2006,
          2006,
          2010,
          2010,
          2010,
          2010,
          2010,
          2010,
          2010,
          2010,
          2010,
          2010,
          2010,
          2010,
          2010,
          2010,
          2010,
          2014,
          2014,
          2014,
          2014,
          2014,
          2014,
          2014,
          2014,
          2014,
          2014,
          2014,
          2014,
          2014,
          2014,
          2014
         ],
         "y": [
          110,
          82,
          74,
          39,
          37,
          30,
          27,
          24,
          21,
          16,
          124,
          116,
          106,
          90,
          63,
          38,
          35,
          10,
          74,
          70,
          52,
          48,
          41,
          34,
          33,
          175,
          173,
          140,
          118,
          103,
          87,
          51,
          48,
          360,
          156,
          154,
          139,
          92,
          71,
          49,
          39,
          15,
          378,
          188,
          147,
          145,
          96,
          65,
          44,
          25,
          403,
          275,
          179,
          169,
          135,
          59,
          51,
          36,
          320,
          249,
          216,
          152,
          71,
          45,
          33,
          30,
          411,
          332,
          287,
          270,
          117,
          105,
          88,
          85,
          51,
          32,
          422,
          344,
          280,
          250,
          120,
          116,
          116,
          106,
          96,
          41,
          335,
          325,
          244,
          208,
          114,
          108,
          107,
          106,
          68,
          40,
          395,
          390,
          247,
          217,
          133,
          119,
          112,
          109,
          105,
          34,
          327,
          309,
          296,
          239,
          159,
          108,
          98,
          94,
          85,
          31,
          477,
          401,
          328,
          239,
          195,
          152,
          114,
          111,
          89,
          28,
          668,
          528,
          326,
          265,
          207,
          186,
          157,
          129,
          98,
          75,
          750,
          717,
          457,
          354,
          267,
          216,
          171,
          133,
          124,
          98,
          78,
          71,
          639,
          544,
          416,
          318,
          268,
          207,
          188,
          164,
          130,
          99,
          98,
          89,
          733,
          477,
          426,
          413,
          335,
          204,
          190,
          176,
          145,
          127,
          110,
          97,
          92,
          80,
          774,
          564,
          559,
          468,
          332,
          251,
          240,
          178,
          143,
          125,
          118,
          117,
          105,
          96,
          39,
          812,
          658,
          619,
          442,
          379,
          239,
          202,
          198,
          191,
          147,
          138,
          116,
          108,
          91,
          42,
          725,
          685,
          683,
          420,
          366,
          273,
          199,
          185,
          172,
          170,
          146,
          131,
          107,
          93,
          47,
          765,
          726,
          687,
          443,
          368,
          308,
          269,
          264,
          223,
          221,
          200,
          156,
          128,
          87,
          46
         ]
        }
       ],
       "layout": {
        "hovermode": "closest",
        "template": {
         "data": {
          "bar": [
           {
            "error_x": {
             "color": "#2a3f5f"
            },
            "error_y": {
             "color": "#2a3f5f"
            },
            "marker": {
             "line": {
              "color": "#E5ECF6",
              "width": 0.5
             },
             "pattern": {
              "fillmode": "overlay",
              "size": 10,
              "solidity": 0.2
             }
            },
            "type": "bar"
           }
          ],
          "barpolar": [
           {
            "marker": {
             "line": {
              "color": "#E5ECF6",
              "width": 0.5
             },
             "pattern": {
              "fillmode": "overlay",
              "size": 10,
              "solidity": 0.2
             }
            },
            "type": "barpolar"
           }
          ],
          "carpet": [
           {
            "aaxis": {
             "endlinecolor": "#2a3f5f",
             "gridcolor": "white",
             "linecolor": "white",
             "minorgridcolor": "white",
             "startlinecolor": "#2a3f5f"
            },
            "baxis": {
             "endlinecolor": "#2a3f5f",
             "gridcolor": "white",
             "linecolor": "white",
             "minorgridcolor": "white",
             "startlinecolor": "#2a3f5f"
            },
            "type": "carpet"
           }
          ],
          "choropleth": [
           {
            "colorbar": {
             "outlinewidth": 0,
             "ticks": ""
            },
            "type": "choropleth"
           }
          ],
          "contour": [
           {
            "colorbar": {
             "outlinewidth": 0,
             "ticks": ""
            },
            "colorscale": [
             [
              0.0,
              "#0d0887"
             ],
             [
              0.1111111111111111,
              "#46039f"
             ],
             [
              0.2222222222222222,
              "#7201a8"
             ],
             [
              0.3333333333333333,
              "#9c179e"
             ],
             [
              0.4444444444444444,
              "#bd3786"
             ],
             [
              0.5555555555555556,
              "#d8576b"
             ],
             [
              0.6666666666666666,
              "#ed7953"
             ],
             [
              0.7777777777777778,
              "#fb9f3a"
             ],
             [
              0.8888888888888888,
              "#fdca26"
             ],
             [
              1.0,
              "#f0f921"
             ]
            ],
            "type": "contour"
           }
          ],
          "contourcarpet": [
           {
            "colorbar": {
             "outlinewidth": 0,
             "ticks": ""
            },
            "type": "contourcarpet"
           }
          ],
          "heatmap": [
           {
            "colorbar": {
             "outlinewidth": 0,
             "ticks": ""
            },
            "colorscale": [
             [
              0.0,
              "#0d0887"
             ],
             [
              0.1111111111111111,
              "#46039f"
             ],
             [
              0.2222222222222222,
              "#7201a8"
             ],
             [
              0.3333333333333333,
              "#9c179e"
             ],
             [
              0.4444444444444444,
              "#bd3786"
             ],
             [
              0.5555555555555556,
              "#d8576b"
             ],
             [
              0.6666666666666666,
              "#ed7953"
             ],
             [
              0.7777777777777778,
              "#fb9f3a"
             ],
             [
              0.8888888888888888,
              "#fdca26"
             ],
             [
              1.0,
              "#f0f921"
             ]
            ],
            "type": "heatmap"
           }
          ],
          "heatmapgl": [
           {
            "colorbar": {
             "outlinewidth": 0,
             "ticks": ""
            },
            "colorscale": [
             [
              0.0,
              "#0d0887"
             ],
             [
              0.1111111111111111,
              "#46039f"
             ],
             [
              0.2222222222222222,
              "#7201a8"
             ],
             [
              0.3333333333333333,
              "#9c179e"
             ],
             [
              0.4444444444444444,
              "#bd3786"
             ],
             [
              0.5555555555555556,
              "#d8576b"
             ],
             [
              0.6666666666666666,
              "#ed7953"
             ],
             [
              0.7777777777777778,
              "#fb9f3a"
             ],
             [
              0.8888888888888888,
              "#fdca26"
             ],
             [
              1.0,
              "#f0f921"
             ]
            ],
            "type": "heatmapgl"
           }
          ],
          "histogram": [
           {
            "marker": {
             "pattern": {
              "fillmode": "overlay",
              "size": 10,
              "solidity": 0.2
             }
            },
            "type": "histogram"
           }
          ],
          "histogram2d": [
           {
            "colorbar": {
             "outlinewidth": 0,
             "ticks": ""
            },
            "colorscale": [
             [
              0.0,
              "#0d0887"
             ],
             [
              0.1111111111111111,
              "#46039f"
             ],
             [
              0.2222222222222222,
              "#7201a8"
             ],
             [
              0.3333333333333333,
              "#9c179e"
             ],
             [
              0.4444444444444444,
              "#bd3786"
             ],
             [
              0.5555555555555556,
              "#d8576b"
             ],
             [
              0.6666666666666666,
              "#ed7953"
             ],
             [
              0.7777777777777778,
              "#fb9f3a"
             ],
             [
              0.8888888888888888,
              "#fdca26"
             ],
             [
              1.0,
              "#f0f921"
             ]
            ],
            "type": "histogram2d"
           }
          ],
          "histogram2dcontour": [
           {
            "colorbar": {
             "outlinewidth": 0,
             "ticks": ""
            },
            "colorscale": [
             [
              0.0,
              "#0d0887"
             ],
             [
              0.1111111111111111,
              "#46039f"
             ],
             [
              0.2222222222222222,
              "#7201a8"
             ],
             [
              0.3333333333333333,
              "#9c179e"
             ],
             [
              0.4444444444444444,
              "#bd3786"
             ],
             [
              0.5555555555555556,
              "#d8576b"
             ],
             [
              0.6666666666666666,
              "#ed7953"
             ],
             [
              0.7777777777777778,
              "#fb9f3a"
             ],
             [
              0.8888888888888888,
              "#fdca26"
             ],
             [
              1.0,
              "#f0f921"
             ]
            ],
            "type": "histogram2dcontour"
           }
          ],
          "mesh3d": [
           {
            "colorbar": {
             "outlinewidth": 0,
             "ticks": ""
            },
            "type": "mesh3d"
           }
          ],
          "parcoords": [
           {
            "line": {
             "colorbar": {
              "outlinewidth": 0,
              "ticks": ""
             }
            },
            "type": "parcoords"
           }
          ],
          "pie": [
           {
            "automargin": true,
            "type": "pie"
           }
          ],
          "scatter": [
           {
            "fillpattern": {
             "fillmode": "overlay",
             "size": 10,
             "solidity": 0.2
            },
            "type": "scatter"
           }
          ],
          "scatter3d": [
           {
            "line": {
             "colorbar": {
              "outlinewidth": 0,
              "ticks": ""
             }
            },
            "marker": {
             "colorbar": {
              "outlinewidth": 0,
              "ticks": ""
             }
            },
            "type": "scatter3d"
           }
          ],
          "scattercarpet": [
           {
            "marker": {
             "colorbar": {
              "outlinewidth": 0,
              "ticks": ""
             }
            },
            "type": "scattercarpet"
           }
          ],
          "scattergeo": [
           {
            "marker": {
             "colorbar": {
              "outlinewidth": 0,
              "ticks": ""
             }
            },
            "type": "scattergeo"
           }
          ],
          "scattergl": [
           {
            "marker": {
             "colorbar": {
              "outlinewidth": 0,
              "ticks": ""
             }
            },
            "type": "scattergl"
           }
          ],
          "scattermapbox": [
           {
            "marker": {
             "colorbar": {
              "outlinewidth": 0,
              "ticks": ""
             }
            },
            "type": "scattermapbox"
           }
          ],
          "scatterpolar": [
           {
            "marker": {
             "colorbar": {
              "outlinewidth": 0,
              "ticks": ""
             }
            },
            "type": "scatterpolar"
           }
          ],
          "scatterpolargl": [
           {
            "marker": {
             "colorbar": {
              "outlinewidth": 0,
              "ticks": ""
             }
            },
            "type": "scatterpolargl"
           }
          ],
          "scatterternary": [
           {
            "marker": {
             "colorbar": {
              "outlinewidth": 0,
              "ticks": ""
             }
            },
            "type": "scatterternary"
           }
          ],
          "surface": [
           {
            "colorbar": {
             "outlinewidth": 0,
             "ticks": ""
            },
            "colorscale": [
             [
              0.0,
              "#0d0887"
             ],
             [
              0.1111111111111111,
              "#46039f"
             ],
             [
              0.2222222222222222,
              "#7201a8"
             ],
             [
              0.3333333333333333,
              "#9c179e"
             ],
             [
              0.4444444444444444,
              "#bd3786"
             ],
             [
              0.5555555555555556,
              "#d8576b"
             ],
             [
              0.6666666666666666,
              "#ed7953"
             ],
             [
              0.7777777777777778,
              "#fb9f3a"
             ],
             [
              0.8888888888888888,
              "#fdca26"
             ],
             [
              1.0,
              "#f0f921"
             ]
            ],
            "type": "surface"
           }
          ],
          "table": [
           {
            "cells": {
             "fill": {
              "color": "#EBF0F8"
             },
             "line": {
              "color": "white"
             }
            },
            "header": {
             "fill": {
              "color": "#C8D4E3"
             },
             "line": {
              "color": "white"
             }
            },
            "type": "table"
           }
          ]
         },
         "layout": {
          "annotationdefaults": {
           "arrowcolor": "#2a3f5f",
           "arrowhead": 0,
           "arrowwidth": 1
          },
          "autotypenumbers": "strict",
          "coloraxis": {
           "colorbar": {
            "outlinewidth": 0,
            "ticks": ""
           }
          },
          "colorscale": {
           "diverging": [
            [
             0,
             "#8e0152"
            ],
            [
             0.1,
             "#c51b7d"
            ],
            [
             0.2,
             "#de77ae"
            ],
            [
             0.3,
             "#f1b6da"
            ],
            [
             0.4,
             "#fde0ef"
            ],
            [
             0.5,
             "#f7f7f7"
            ],
            [
             0.6,
             "#e6f5d0"
            ],
            [
             0.7,
             "#b8e186"
            ],
            [
             0.8,
             "#7fbc41"
            ],
            [
             0.9,
             "#4d9221"
            ],
            [
             1,
             "#276419"
            ]
           ],
           "sequential": [
            [
             0.0,
             "#0d0887"
            ],
            [
             0.1111111111111111,
             "#46039f"
            ],
            [
             0.2222222222222222,
             "#7201a8"
            ],
            [
             0.3333333333333333,
             "#9c179e"
            ],
            [
             0.4444444444444444,
             "#bd3786"
            ],
            [
             0.5555555555555556,
             "#d8576b"
            ],
            [
             0.6666666666666666,
             "#ed7953"
            ],
            [
             0.7777777777777778,
             "#fb9f3a"
            ],
            [
             0.8888888888888888,
             "#fdca26"
            ],
            [
             1.0,
             "#f0f921"
            ]
           ],
           "sequentialminus": [
            [
             0.0,
             "#0d0887"
            ],
            [
             0.1111111111111111,
             "#46039f"
            ],
            [
             0.2222222222222222,
             "#7201a8"
            ],
            [
             0.3333333333333333,
             "#9c179e"
            ],
            [
             0.4444444444444444,
             "#bd3786"
            ],
            [
             0.5555555555555556,
             "#d8576b"
            ],
            [
             0.6666666666666666,
             "#ed7953"
            ],
            [
             0.7777777777777778,
             "#fb9f3a"
            ],
            [
             0.8888888888888888,
             "#fdca26"
            ],
            [
             1.0,
             "#f0f921"
            ]
           ]
          },
          "colorway": [
           "#636efa",
           "#EF553B",
           "#00cc96",
           "#ab63fa",
           "#FFA15A",
           "#19d3f3",
           "#FF6692",
           "#B6E880",
           "#FF97FF",
           "#FECB52"
          ],
          "font": {
           "color": "#2a3f5f"
          },
          "geo": {
           "bgcolor": "white",
           "lakecolor": "white",
           "landcolor": "#E5ECF6",
           "showlakes": true,
           "showland": true,
           "subunitcolor": "white"
          },
          "hoverlabel": {
           "align": "left"
          },
          "hovermode": "closest",
          "mapbox": {
           "style": "light"
          },
          "paper_bgcolor": "white",
          "plot_bgcolor": "#E5ECF6",
          "polar": {
           "angularaxis": {
            "gridcolor": "white",
            "linecolor": "white",
            "ticks": ""
           },
           "bgcolor": "#E5ECF6",
           "radialaxis": {
            "gridcolor": "white",
            "linecolor": "white",
            "ticks": ""
           }
          },
          "scene": {
           "xaxis": {
            "backgroundcolor": "#E5ECF6",
            "gridcolor": "white",
            "gridwidth": 2,
            "linecolor": "white",
            "showbackground": true,
            "ticks": "",
            "zerolinecolor": "white"
           },
           "yaxis": {
            "backgroundcolor": "#E5ECF6",
            "gridcolor": "white",
            "gridwidth": 2,
            "linecolor": "white",
            "showbackground": true,
            "ticks": "",
            "zerolinecolor": "white"
           },
           "zaxis": {
            "backgroundcolor": "#E5ECF6",
            "gridcolor": "white",
            "gridwidth": 2,
            "linecolor": "white",
            "showbackground": true,
            "ticks": "",
            "zerolinecolor": "white"
           }
          },
          "shapedefaults": {
           "line": {
            "color": "#2a3f5f"
           }
          },
          "ternary": {
           "aaxis": {
            "gridcolor": "white",
            "linecolor": "white",
            "ticks": ""
           },
           "baxis": {
            "gridcolor": "white",
            "linecolor": "white",
            "ticks": ""
           },
           "bgcolor": "#E5ECF6",
           "caxis": {
            "gridcolor": "white",
            "linecolor": "white",
            "ticks": ""
           }
          },
          "title": {
           "x": 0.05
          },
          "xaxis": {
           "automargin": true,
           "gridcolor": "white",
           "linecolor": "white",
           "ticks": "",
           "title": {
            "standoff": 15
           },
           "zerolinecolor": "white",
           "zerolinewidth": 2
          },
          "yaxis": {
           "automargin": true,
           "gridcolor": "white",
           "linecolor": "white",
           "ticks": "",
           "title": {
            "standoff": 15
           },
           "zerolinecolor": "white",
           "zerolinewidth": 2
          }
         }
        },
        "title": {
         "text": "Number of athlets per sport for each Olympic edition"
        },
        "xaxis": {
         "showticklabels": true,
         "title": {
          "text": "Year"
         }
        },
        "yaxis": {
         "title": {
          "text": "Number of athlets per sport"
         }
        }
       }
      },
      "text/html": [
       "<div>                            <div id=\"4bbf5796-2b1c-49d7-85f6-020d50edabe8\" class=\"plotly-graph-div\" style=\"height:525px; width:100%;\"></div>            <script type=\"text/javascript\">                require([\"plotly\"], function(Plotly) {                    window.PLOTLYENV=window.PLOTLYENV || {};                                    if (document.getElementById(\"4bbf5796-2b1c-49d7-85f6-020d50edabe8\")) {                    Plotly.newPlot(                        \"4bbf5796-2b1c-49d7-85f6-020d50edabe8\",                        [{\"marker\":{\"color\":\"rgb(238,23,11)\",\"line\":{\"color\":\"red\",\"width\":1},\"opacity\":0.5},\"mode\":\"markers\",\"name\":\"Summer Games\",\"text\":[\"City:Athina Sport:Athletics\",\"City:Athina Sport:Gymnastics\",\"City:Athina Sport:Shooting\",\"City:Athina Sport:Cycling\",\"City:Athina Sport:Tennis\",\"City:Athina Sport:Swimming\",\"City:Athina Sport:Fencing\",\"City:Athina Sport:Weightlifting\",\"City:Athina Sport:Wrestling\",\"City:Paris Sport:Fencing\",\"City:Paris Sport:Sailing\",\"City:Paris Sport:Athletics\",\"City:Paris Sport:Shooting\",\"City:Paris Sport:Gymnastics\",\"City:Paris Sport:Rowing\",\"City:Paris Sport:Swimming\",\"City:Paris Sport:Cycling\",\"City:Paris Sport:Equestrianism\",\"City:Paris Sport:Water Polo\",\"City:Paris Sport:Rugby\",\"City:Paris Sport:Tennis\",\"City:Paris Sport:Football\",\"City:Paris Sport:Archery\",\"City:Paris Sport:Cricket\",\"City:Paris Sport:Golf\",\"City:Paris Sport:Polo\",\"City:Paris Sport:Croquet\",\"City:Paris Sport:Tug-Of-War\",\"City:Paris Sport:Basque Pelota\",\"City:St. Louis Sport:Gymnastics\",\"City:St. Louis Sport:Athletics\",\"City:St. Louis Sport:Golf\",\"City:St. Louis Sport:Archery\",\"City:St. Louis Sport:Swimming\",\"City:St. Louis Sport:Cycling\",\"City:St. Louis Sport:Tennis\",\"City:St. Louis Sport:Wrestling\",\"City:St. Louis Sport:Rowing\",\"City:St. Louis Sport:Football\",\"City:St. Louis Sport:Lacrosse\",\"City:St. Louis Sport:Tug-Of-War\",\"City:St. Louis Sport:Fencing\",\"City:St. Louis Sport:Boxing\",\"City:St. Louis Sport:Water Polo\",\"City:St. Louis Sport:Weightlifting\",\"City:St. Louis Sport:Diving\",\"City:St. Louis Sport:Roque\",\"City:Athina Sport:Athletics\",\"City:Athina Sport:Shooting\",\"City:Athina Sport:Rowing\",\"City:Athina Sport:Fencing\",\"City:Athina Sport:Gymnastics\",\"City:Athina Sport:Cycling\",\"City:Athina Sport:Swimming\",\"City:Athina Sport:Tennis\",\"City:Athina Sport:Football\",\"City:Athina Sport:Wrestling\",\"City:Athina Sport:Tug-Of-War\",\"City:Athina Sport:Diving\",\"City:Athina Sport:Weightlifting\",\"City:London Sport:Athletics\",\"City:London Sport:Shooting\",\"City:London Sport:Gymnastics\",\"City:London Sport:Cycling\",\"City:London Sport:Fencing\",\"City:London Sport:Swimming\",\"City:London Sport:Wrestling\",\"City:London Sport:Rowing\",\"City:London Sport:Tennis\",\"City:London Sport:Archery\",\"City:London Sport:Football\",\"City:London Sport:Hockey\",\"City:London Sport:Sailing\",\"City:London Sport:Diving\",\"City:London Sport:Boxing\",\"City:London Sport:Tug-Of-War\",\"City:London Sport:Rugby\",\"City:London Sport:Water Polo\",\"City:London Sport:Lacrosse\",\"City:London Sport:Figure Skating\",\"City:London Sport:Motorboating\",\"City:London Sport:Polo\",\"City:London Sport:Racquets\",\"City:London Sport:Jeu De Paume\",\"City:Stockholm Sport:Athletics\",\"City:Stockholm Sport:Shooting\",\"City:Stockholm Sport:Fencing\",\"City:Stockholm Sport:Gymnastics\",\"City:Stockholm Sport:Cycling\",\"City:Stockholm Sport:Swimming\",\"City:Stockholm Sport:Rowing\",\"City:Stockholm Sport:Tennis\",\"City:Stockholm Sport:Wrestling\",\"City:Stockholm Sport:Football\",\"City:Stockholm Sport:Equestrianism\",\"City:Stockholm Sport:Sailing\",\"City:Stockholm Sport:Diving\",\"City:Stockholm Sport:Water Polo\",\"City:Stockholm Sport:Art Competitions\",\"City:Stockholm Sport:Modern Pentathlon\",\"City:Stockholm Sport:Tug-Of-War\",\"City:Antwerpen Sport:Athletics\",\"City:Antwerpen Sport:Shooting\",\"City:Antwerpen Sport:Fencing\",\"City:Antwerpen Sport:Gymnastics\",\"City:Antwerpen Sport:Cycling\",\"City:Antwerpen Sport:Swimming\",\"City:Antwerpen Sport:Football\",\"City:Antwerpen Sport:Wrestling\",\"City:Antwerpen Sport:Tennis\",\"City:Antwerpen Sport:Rowing\",\"City:Antwerpen Sport:Equestrianism\",\"City:Antwerpen Sport:Boxing\",\"City:Antwerpen Sport:Sailing\",\"City:Antwerpen Sport:Water Polo\",\"City:Antwerpen Sport:Archery\",\"City:Antwerpen Sport:Diving\",\"City:Antwerpen Sport:Ice Hockey\",\"City:Antwerpen Sport:Weightlifting\",\"City:Antwerpen Sport:Hockey\",\"City:Antwerpen Sport:Tug-Of-War\",\"City:Antwerpen Sport:Figure Skating\",\"City:Antwerpen Sport:Rugby\",\"City:Antwerpen Sport:Modern Pentathlon\",\"City:Antwerpen Sport:Polo\",\"City:Antwerpen Sport:Art Competitions\",\"City:Paris Sport:Athletics\",\"City:Paris Sport:Gymnastics\",\"City:Paris Sport:Shooting\",\"City:Paris Sport:Fencing\",\"City:Paris Sport:Art Competitions\",\"City:Paris Sport:Football\",\"City:Paris Sport:Swimming\",\"City:Paris Sport:Tennis\",\"City:Paris Sport:Cycling\",\"City:Paris Sport:Wrestling\",\"City:Paris Sport:Rowing\",\"City:Paris Sport:Equestrianism\",\"City:Paris Sport:Boxing\",\"City:Paris Sport:Weightlifting\",\"City:Paris Sport:Water Polo\",\"City:Paris Sport:Diving\",\"City:Paris Sport:Sailing\",\"City:Paris Sport:Rugby\",\"City:Paris Sport:Modern Pentathlon\",\"City:Paris Sport:Polo\",\"City:Amsterdam Sport:Athletics\",\"City:Amsterdam Sport:Art Competitions\",\"City:Amsterdam Sport:Gymnastics\",\"City:Amsterdam Sport:Fencing\",\"City:Amsterdam Sport:Swimming\",\"City:Amsterdam Sport:Rowing\",\"City:Amsterdam Sport:Equestrianism\",\"City:Amsterdam Sport:Cycling\",\"City:Amsterdam Sport:Football\",\"City:Amsterdam Sport:Wrestling\",\"City:Amsterdam Sport:Boxing\",\"City:Amsterdam Sport:Hockey\",\"City:Amsterdam Sport:Sailing\",\"City:Amsterdam Sport:Water Polo\",\"City:Amsterdam Sport:Weightlifting\",\"City:Amsterdam Sport:Diving\",\"City:Amsterdam Sport:Modern Pentathlon\",\"City:Los Angeles Sport:Art Competitions\",\"City:Los Angeles Sport:Athletics\",\"City:Los Angeles Sport:Swimming\",\"City:Los Angeles Sport:Fencing\",\"City:Los Angeles Sport:Rowing\",\"City:Los Angeles Sport:Gymnastics\",\"City:Los Angeles Sport:Cycling\",\"City:Los Angeles Sport:Wrestling\",\"City:Los Angeles Sport:Boxing\",\"City:Los Angeles Sport:Equestrianism\",\"City:Los Angeles Sport:Sailing\",\"City:Los Angeles Sport:Shooting\",\"City:Los Angeles Sport:Water Polo\",\"City:Los Angeles Sport:Hockey\",\"City:Los Angeles Sport:Diving\",\"City:Los Angeles Sport:Weightlifting\",\"City:Los Angeles Sport:Modern Pentathlon\",\"City:Los Angeles Sport:Alpinism\",\"City:Berlin Sport:Athletics\",\"City:Berlin Sport:Gymnastics\",\"City:Berlin Sport:Art Competitions\",\"City:Berlin Sport:Fencing\",\"City:Berlin Sport:Swimming\",\"City:Berlin Sport:Rowing\",\"City:Berlin Sport:Cycling\",\"City:Berlin Sport:Equestrianism\",\"City:Berlin Sport:Wrestling\",\"City:Berlin Sport:Football\",\"City:Berlin Sport:Basketball\",\"City:Berlin Sport:Boxing\",\"City:Berlin Sport:Sailing\",\"City:Berlin Sport:Hockey\",\"City:Berlin Sport:Shooting\",\"City:Berlin Sport:Canoeing\",\"City:Berlin Sport:Water Polo\",\"City:Berlin Sport:Handball\",\"City:Berlin Sport:Diving\",\"City:Berlin Sport:Weightlifting\",\"City:Berlin Sport:Modern Pentathlon\",\"City:Berlin Sport:Polo\",\"City:Berlin Sport:Alpinism\",\"City:Berlin Sport:Aeronautics\",\"City:London Sport:Gymnastics\",\"City:London Sport:Athletics\",\"City:London Sport:Fencing\",\"City:London Sport:Art Competitions\",\"City:London Sport:Swimming\",\"City:London Sport:Cycling\",\"City:London Sport:Rowing\",\"City:London Sport:Basketball\",\"City:London Sport:Wrestling\",\"City:London Sport:Football\",\"City:London Sport:Shooting\",\"City:London Sport:Equestrianism\",\"City:London Sport:Boxing\",\"City:London Sport:Hockey\",\"City:London Sport:Sailing\",\"City:London Sport:Water Polo\",\"City:London Sport:Canoeing\",\"City:London Sport:Weightlifting\",\"City:London Sport:Diving\",\"City:London Sport:Modern Pentathlon\",\"City:Helsinki Sport:Gymnastics\",\"City:Helsinki Sport:Athletics\",\"City:Helsinki Sport:Fencing\",\"City:Helsinki Sport:Swimming\",\"City:Helsinki Sport:Rowing\",\"City:Helsinki Sport:Cycling\",\"City:Helsinki Sport:Basketball\",\"City:Helsinki Sport:Football\",\"City:Helsinki Sport:Shooting\",\"City:Helsinki Sport:Equestrianism\",\"City:Helsinki Sport:Wrestling\",\"City:Helsinki Sport:Boxing\",\"City:Helsinki Sport:Sailing\",\"City:Helsinki Sport:Water Polo\",\"City:Helsinki Sport:Canoeing\",\"City:Helsinki Sport:Hockey\",\"City:Helsinki Sport:Weightlifting\",\"City:Helsinki Sport:Modern Pentathlon\",\"City:Helsinki Sport:Diving\",\"City:Melbourne Sport:Athletics\",\"City:Melbourne Sport:Gymnastics\",\"City:Melbourne Sport:Swimming\",\"City:Melbourne Sport:Cycling\",\"City:Melbourne Sport:Fencing\",\"City:Melbourne Sport:Rowing\",\"City:Melbourne Sport:Shooting\",\"City:Melbourne Sport:Wrestling\",\"City:Melbourne Sport:Hockey\",\"City:Melbourne Sport:Basketball\",\"City:Melbourne Sport:Boxing\",\"City:Melbourne Sport:Sailing\",\"City:Melbourne Sport:Canoeing\",\"City:Melbourne Sport:Football\",\"City:Melbourne Sport:Weightlifting\",\"City:Melbourne Sport:Water Polo\",\"City:Melbourne Sport:Diving\",\"City:Melbourne Sport:Modern Pentathlon\",\"City:Stockholm Sport:Equestrianism\",\"City:Roma Sport:Gymnastics\",\"City:Roma Sport:Athletics\",\"City:Roma Sport:Swimming\",\"City:Roma Sport:Fencing\",\"City:Roma Sport:Rowing\",\"City:Roma Sport:Cycling\",\"City:Roma Sport:Shooting\",\"City:Roma Sport:Wrestling\",\"City:Roma Sport:Sailing\",\"City:Roma Sport:Boxing\",\"City:Roma Sport:Equestrianism\",\"City:Roma Sport:Hockey\",\"City:Roma Sport:Football\",\"City:Roma Sport:Canoeing\",\"City:Roma Sport:Basketball\",\"City:Roma Sport:Weightlifting\",\"City:Roma Sport:Water Polo\",\"City:Roma Sport:Modern Pentathlon\",\"City:Roma Sport:Diving\",\"City:Tokyo Sport:Gymnastics\",\"City:Tokyo Sport:Athletics\",\"City:Tokyo Sport:Swimming\",\"City:Tokyo Sport:Fencing\",\"City:Tokyo Sport:Cycling\",\"City:Tokyo Sport:Rowing\",\"City:Tokyo Sport:Shooting\",\"City:Tokyo Sport:Wrestling\",\"City:Tokyo Sport:Boxing\",\"City:Tokyo Sport:Hockey\",\"City:Tokyo Sport:Sailing\",\"City:Tokyo Sport:Equestrianism\",\"City:Tokyo Sport:Football\",\"City:Tokyo Sport:Basketball\",\"City:Tokyo Sport:Volleyball\",\"City:Tokyo Sport:Canoeing\",\"City:Tokyo Sport:Weightlifting\",\"City:Tokyo Sport:Water Polo\",\"City:Tokyo Sport:Diving\",\"City:Tokyo Sport:Judo\",\"City:Tokyo Sport:Modern Pentathlon\",\"City:Mexico City Sport:Gymnastics\",\"City:Mexico City Sport:Athletics\",\"City:Mexico City Sport:Swimming\",\"City:Mexico City Sport:Fencing\",\"City:Mexico City Sport:Cycling\",\"City:Mexico City Sport:Shooting\",\"City:Mexico City Sport:Rowing\",\"City:Mexico City Sport:Wrestling\",\"City:Mexico City Sport:Boxing\",\"City:Mexico City Sport:Football\",\"City:Mexico City Sport:Hockey\",\"City:Mexico City Sport:Sailing\",\"City:Mexico City Sport:Equestrianism\",\"City:Mexico City Sport:Volleyball\",\"City:Mexico City Sport:Canoeing\",\"City:Mexico City Sport:Basketball\",\"City:Mexico City Sport:Water Polo\",\"City:Mexico City Sport:Weightlifting\",\"City:Mexico City Sport:Diving\",\"City:Mexico City Sport:Modern Pentathlon\",\"City:Munich Sport:Athletics\",\"City:Munich Sport:Gymnastics\",\"City:Munich Sport:Swimming\",\"City:Munich Sport:Cycling\",\"City:Munich Sport:Fencing\",\"City:Munich Sport:Shooting\",\"City:Munich Sport:Rowing\",\"City:Munich Sport:Wrestling\",\"City:Munich Sport:Canoeing\",\"City:Munich Sport:Boxing\",\"City:Munich Sport:Equestrianism\",\"City:Munich Sport:Sailing\",\"City:Munich Sport:Football\",\"City:Munich Sport:Hockey\",\"City:Munich Sport:Handball\",\"City:Munich Sport:Volleyball\",\"City:Munich Sport:Basketball\",\"City:Munich Sport:Weightlifting\",\"City:Munich Sport:Water Polo\",\"City:Munich Sport:Judo\",\"City:Munich Sport:Diving\",\"City:Munich Sport:Modern Pentathlon\",\"City:Munich Sport:Archery\",\"City:Montreal Sport:Athletics\",\"City:Montreal Sport:Gymnastics\",\"City:Montreal Sport:Swimming\",\"City:Montreal Sport:Rowing\",\"City:Montreal Sport:Fencing\",\"City:Montreal Sport:Cycling\",\"City:Montreal Sport:Shooting\",\"City:Montreal Sport:Wrestling\",\"City:Montreal Sport:Canoeing\",\"City:Montreal Sport:Boxing\",\"City:Montreal Sport:Sailing\",\"City:Montreal Sport:Equestrianism\",\"City:Montreal Sport:Handball\",\"City:Montreal Sport:Volleyball\",\"City:Montreal Sport:Basketball\",\"City:Montreal Sport:Football\",\"City:Montreal Sport:Weightlifting\",\"City:Montreal Sport:Hockey\",\"City:Montreal Sport:Judo\",\"City:Montreal Sport:Water Polo\",\"City:Montreal Sport:Diving\",\"City:Montreal Sport:Modern Pentathlon\",\"City:Montreal Sport:Archery\",\"City:Moskva Sport:Athletics\",\"City:Moskva Sport:Gymnastics\",\"City:Moskva Sport:Swimming\",\"City:Moskva Sport:Rowing\",\"City:Moskva Sport:Fencing\",\"City:Moskva Sport:Cycling\",\"City:Moskva Sport:Boxing\",\"City:Moskva Sport:Wrestling\",\"City:Moskva Sport:Shooting\",\"City:Moskva Sport:Football\",\"City:Moskva Sport:Canoeing\",\"City:Moskva Sport:Handball\",\"City:Moskva Sport:Basketball\",\"City:Moskva Sport:Volleyball\",\"City:Moskva Sport:Judo\",\"City:Moskva Sport:Hockey\",\"City:Moskva Sport:Weightlifting\",\"City:Moskva Sport:Sailing\",\"City:Moskva Sport:Water Polo\",\"City:Moskva Sport:Equestrianism\",\"City:Moskva Sport:Diving\",\"City:Moskva Sport:Modern Pentathlon\",\"City:Moskva Sport:Archery\",\"City:Los Angeles Sport:Athletics\",\"City:Los Angeles Sport:Swimming\",\"City:Los Angeles Sport:Gymnastics\",\"City:Los Angeles Sport:Shooting\",\"City:Los Angeles Sport:Cycling\",\"City:Los Angeles Sport:Rowing\",\"City:Los Angeles Sport:Fencing\",\"City:Los Angeles Sport:Boxing\",\"City:Los Angeles Sport:Sailing\",\"City:Los Angeles Sport:Canoeing\",\"City:Los Angeles Sport:Hockey\",\"City:Los Angeles Sport:Wrestling\",\"City:Los Angeles Sport:Equestrianism\",\"City:Los Angeles Sport:Handball\",\"City:Los Angeles Sport:Football\",\"City:Los Angeles Sport:Basketball\",\"City:Los Angeles Sport:Judo\",\"City:Los Angeles Sport:Volleyball\",\"City:Los Angeles Sport:Weightlifting\",\"City:Los Angeles Sport:Water Polo\",\"City:Los Angeles Sport:Archery\",\"City:Los Angeles Sport:Modern Pentathlon\",\"City:Los Angeles Sport:Diving\",\"City:Los Angeles Sport:Synchronized Swimming\",\"City:Los Angeles Sport:Rhythmic Gymnastics\",\"City:Seoul Sport:Athletics\",\"City:Seoul Sport:Swimming\",\"City:Seoul Sport:Gymnastics\",\"City:Seoul Sport:Rowing\",\"City:Seoul Sport:Shooting\",\"City:Seoul Sport:Cycling\",\"City:Seoul Sport:Fencing\",\"City:Seoul Sport:Wrestling\",\"City:Seoul Sport:Boxing\",\"City:Seoul Sport:Canoeing\",\"City:Seoul Sport:Sailing\",\"City:Seoul Sport:Equestrianism\",\"City:Seoul Sport:Hockey\",\"City:Seoul Sport:Handball\",\"City:Seoul Sport:Football\",\"City:Seoul Sport:Archery\",\"City:Seoul Sport:Judo\",\"City:Seoul Sport:Volleyball\",\"City:Seoul Sport:Basketball\",\"City:Seoul Sport:Weightlifting\",\"City:Seoul Sport:Table Tennis\",\"City:Seoul Sport:Tennis\",\"City:Seoul Sport:Water Polo\",\"City:Seoul Sport:Modern Pentathlon\",\"City:Seoul Sport:Diving\",\"City:Seoul Sport:Synchronized Swimming\",\"City:Seoul Sport:Rhythmic Gymnastics\",\"City:Barcelona Sport:Athletics\",\"City:Barcelona Sport:Swimming\",\"City:Barcelona Sport:Gymnastics\",\"City:Barcelona Sport:Rowing\",\"City:Barcelona Sport:Canoeing\",\"City:Barcelona Sport:Cycling\",\"City:Barcelona Sport:Shooting\",\"City:Barcelona Sport:Fencing\",\"City:Barcelona Sport:Sailing\",\"City:Barcelona Sport:Judo\",\"City:Barcelona Sport:Equestrianism\",\"City:Barcelona Sport:Wrestling\",\"City:Barcelona Sport:Boxing\",\"City:Barcelona Sport:Hockey\",\"City:Barcelona Sport:Handball\",\"City:Barcelona Sport:Football\",\"City:Barcelona Sport:Tennis\",\"City:Barcelona Sport:Table Tennis\",\"City:Barcelona Sport:Archery\",\"City:Barcelona Sport:Weightlifting\",\"City:Barcelona Sport:Basketball\",\"City:Barcelona Sport:Volleyball\",\"City:Barcelona Sport:Badminton\",\"City:Barcelona Sport:Baseball\",\"City:Barcelona Sport:Water Polo\",\"City:Barcelona Sport:Modern Pentathlon\",\"City:Barcelona Sport:Diving\",\"City:Barcelona Sport:Synchronized Swimming\",\"City:Barcelona Sport:Rhythmic Gymnastics\",\"City:Atlanta Sport:Athletics\",\"City:Atlanta Sport:Swimming\",\"City:Atlanta Sport:Gymnastics\",\"City:Atlanta Sport:Rowing\",\"City:Atlanta Sport:Shooting\",\"City:Atlanta Sport:Cycling\",\"City:Atlanta Sport:Canoeing\",\"City:Atlanta Sport:Sailing\",\"City:Atlanta Sport:Wrestling\",\"City:Atlanta Sport:Fencing\",\"City:Atlanta Sport:Football\",\"City:Atlanta Sport:Judo\",\"City:Atlanta Sport:Boxing\",\"City:Atlanta Sport:Equestrianism\",\"City:Atlanta Sport:Hockey\",\"City:Atlanta Sport:Handball\",\"City:Atlanta Sport:Basketball\",\"City:Atlanta Sport:Volleyball\",\"City:Atlanta Sport:Badminton\",\"City:Atlanta Sport:Table Tennis\",\"City:Atlanta Sport:Tennis\",\"City:Atlanta Sport:Weightlifting\",\"City:Atlanta Sport:Archery\",\"City:Atlanta Sport:Baseball\",\"City:Atlanta Sport:Water Polo\",\"City:Atlanta Sport:Diving\",\"City:Atlanta Sport:Softball\",\"City:Atlanta Sport:Rhythmic Gymnastics\",\"City:Atlanta Sport:Beach Volleyball\",\"City:Atlanta Sport:Synchronized Swimming\",\"City:Atlanta Sport:Modern Pentathlon\",\"City:Sydney Sport:Athletics\",\"City:Sydney Sport:Swimming\",\"City:Sydney Sport:Gymnastics\",\"City:Sydney Sport:Cycling\",\"City:Sydney Sport:Shooting\",\"City:Sydney Sport:Rowing\",\"City:Sydney Sport:Canoeing\",\"City:Sydney Sport:Sailing\",\"City:Sydney Sport:Judo\",\"City:Sydney Sport:Football\",\"City:Sydney Sport:Hockey\",\"City:Sydney Sport:Fencing\",\"City:Sydney Sport:Handball\",\"City:Sydney Sport:Wrestling\",\"City:Sydney Sport:Boxing\",\"City:Sydney Sport:Equestrianism\",\"City:Sydney Sport:Basketball\",\"City:Sydney Sport:Volleyball\",\"City:Sydney Sport:Table Tennis\",\"City:Sydney Sport:Tennis\",\"City:Sydney Sport:Weightlifting\",\"City:Sydney Sport:Diving\",\"City:Sydney Sport:Water Polo\",\"City:Sydney Sport:Badminton\",\"City:Sydney Sport:Archery\",\"City:Sydney Sport:Baseball\",\"City:Sydney Sport:Softball\",\"City:Sydney Sport:Synchronized Swimming\",\"City:Sydney Sport:Taekwondo\",\"City:Sydney Sport:Triathlon\",\"City:Sydney Sport:Beach Volleyball\",\"City:Sydney Sport:Rhythmic Gymnastics\",\"City:Sydney Sport:Modern Pentathlon\",\"City:Sydney Sport:Trampolining\",\"City:Athina Sport:Athletics\",\"City:Athina Sport:Swimming\",\"City:Athina Sport:Gymnastics\",\"City:Athina Sport:Cycling\",\"City:Athina Sport:Rowing\",\"City:Athina Sport:Shooting\",\"City:Athina Sport:Canoeing\",\"City:Athina Sport:Football\",\"City:Athina Sport:Sailing\",\"City:Athina Sport:Judo\",\"City:Athina Sport:Equestrianism\",\"City:Athina Sport:Hockey\",\"City:Athina Sport:Wrestling\",\"City:Athina Sport:Handball\",\"City:Athina Sport:Fencing\",\"City:Athina Sport:Basketball\",\"City:Athina Sport:Volleyball\",\"City:Athina Sport:Boxing\",\"City:Athina Sport:Table Tennis\",\"City:Athina Sport:Water Polo\",\"City:Athina Sport:Tennis\",\"City:Athina Sport:Weightlifting\",\"City:Athina Sport:Archery\",\"City:Athina Sport:Badminton\",\"City:Athina Sport:Diving\",\"City:Athina Sport:Baseball\",\"City:Athina Sport:Taekwondo\",\"City:Athina Sport:Softball\",\"City:Athina Sport:Synchronized Swimming\",\"City:Athina Sport:Triathlon\",\"City:Athina Sport:Beach Volleyball\",\"City:Athina Sport:Rhythmic Gymnastics\",\"City:Athina Sport:Modern Pentathlon\",\"City:Athina Sport:Trampolining\",\"City:Beijing Sport:Athletics\",\"City:Beijing Sport:Swimming\",\"City:Beijing Sport:Gymnastics\",\"City:Beijing Sport:Cycling\",\"City:Beijing Sport:Shooting\",\"City:Beijing Sport:Rowing\",\"City:Beijing Sport:Football\",\"City:Beijing Sport:Canoeing\",\"City:Beijing Sport:Sailing\",\"City:Beijing Sport:Hockey\",\"City:Beijing Sport:Judo\",\"City:Beijing Sport:Handball\",\"City:Beijing Sport:Wrestling\",\"City:Beijing Sport:Equestrianism\",\"City:Beijing Sport:Fencing\",\"City:Beijing Sport:Basketball\",\"City:Beijing Sport:Boxing\",\"City:Beijing Sport:Volleyball\",\"City:Beijing Sport:Water Polo\",\"City:Beijing Sport:Tennis\",\"City:Beijing Sport:Weightlifting\",\"City:Beijing Sport:Table Tennis\",\"City:Beijing Sport:Archery\",\"City:Beijing Sport:Baseball\",\"City:Beijing Sport:Badminton\",\"City:Beijing Sport:Diving\",\"City:Beijing Sport:Taekwondo\",\"City:Beijing Sport:Softball\",\"City:Beijing Sport:Synchronized Swimming\",\"City:Beijing Sport:Triathlon\",\"City:Beijing Sport:Beach Volleyball\",\"City:Beijing Sport:Rhythmic Gymnastics\",\"City:Beijing Sport:Modern Pentathlon\",\"City:Beijing Sport:Trampolining\",\"City:London Sport:Athletics\",\"City:London Sport:Swimming\",\"City:London Sport:Gymnastics\",\"City:London Sport:Cycling\",\"City:London Sport:Shooting\",\"City:London Sport:Rowing\",\"City:London Sport:Football\",\"City:London Sport:Canoeing\",\"City:London Sport:Hockey\",\"City:London Sport:Judo\",\"City:London Sport:Sailing\",\"City:London Sport:Equestrianism\",\"City:London Sport:Handball\",\"City:London Sport:Fencing\",\"City:London Sport:Wrestling\",\"City:London Sport:Basketball\",\"City:London Sport:Volleyball\",\"City:London Sport:Tennis\",\"City:London Sport:Boxing\",\"City:London Sport:Water Polo\",\"City:London Sport:Weightlifting\",\"City:London Sport:Table Tennis\",\"City:London Sport:Archery\",\"City:London Sport:Badminton\",\"City:London Sport:Diving\",\"City:London Sport:Taekwondo\",\"City:London Sport:Synchronized Swimming\",\"City:London Sport:Triathlon\",\"City:London Sport:Beach Volleyball\",\"City:London Sport:Rhythmic Gymnastics\",\"City:London Sport:Modern Pentathlon\",\"City:London Sport:Trampolining\",\"City:Rio de Janeiro Sport:Athletics\",\"City:Rio de Janeiro Sport:Swimming\",\"City:Rio de Janeiro Sport:Gymnastics\",\"City:Rio de Janeiro Sport:Cycling\",\"City:Rio de Janeiro Sport:Shooting\",\"City:Rio de Janeiro Sport:Rowing\",\"City:Rio de Janeiro Sport:Football\",\"City:Rio de Janeiro Sport:Canoeing\",\"City:Rio de Janeiro Sport:Hockey\",\"City:Rio de Janeiro Sport:Judo\",\"City:Rio de Janeiro Sport:Sailing\",\"City:Rio de Janeiro Sport:Equestrianism\",\"City:Rio de Janeiro Sport:Handball\",\"City:Rio de Janeiro Sport:Fencing\",\"City:Rio de Janeiro Sport:Wrestling\",\"City:Rio de Janeiro Sport:Rugby Sevens\",\"City:Rio de Janeiro Sport:Tennis\",\"City:Rio de Janeiro Sport:Boxing\",\"City:Rio de Janeiro Sport:Volleyball\",\"City:Rio de Janeiro Sport:Basketball\",\"City:Rio de Janeiro Sport:Water Polo\",\"City:Rio de Janeiro Sport:Weightlifting\",\"City:Rio de Janeiro Sport:Table Tennis\",\"City:Rio de Janeiro Sport:Archery\",\"City:Rio de Janeiro Sport:Diving\",\"City:Rio de Janeiro Sport:Badminton\",\"City:Rio de Janeiro Sport:Taekwondo\",\"City:Rio de Janeiro Sport:Golf\",\"City:Rio de Janeiro Sport:Synchronized Swimming\",\"City:Rio de Janeiro Sport:Triathlon\",\"City:Rio de Janeiro Sport:Beach Volleyball\",\"City:Rio de Janeiro Sport:Rhythmic Gymnastics\",\"City:Rio de Janeiro Sport:Modern Pentathlon\",\"City:Rio de Janeiro Sport:Trampolining\"],\"x\":[1896,1896,1896,1896,1896,1896,1896,1896,1896,1900,1900,1900,1900,1900,1900,1900,1900,1900,1900,1900,1900,1900,1900,1900,1900,1900,1900,1900,1900,1904,1904,1904,1904,1904,1904,1904,1904,1904,1904,1904,1904,1904,1904,1904,1904,1904,1904,1906,1906,1906,1906,1906,1906,1906,1906,1906,1906,1906,1906,1906,1908,1908,1908,1908,1908,1908,1908,1908,1908,1908,1908,1908,1908,1908,1908,1908,1908,1908,1908,1908,1908,1908,1908,1908,1912,1912,1912,1912,1912,1912,1912,1912,1912,1912,1912,1912,1912,1912,1912,1912,1912,1920,1920,1920,1920,1920,1920,1920,1920,1920,1920,1920,1920,1920,1920,1920,1920,1920,1920,1920,1920,1920,1920,1920,1920,1920,1924,1924,1924,1924,1924,1924,1924,1924,1924,1924,1924,1924,1924,1924,1924,1924,1924,1924,1924,1924,1928,1928,1928,1928,1928,1928,1928,1928,1928,1928,1928,1928,1928,1928,1928,1928,1928,1932,1932,1932,1932,1932,1932,1932,1932,1932,1932,1932,1932,1932,1932,1932,1932,1932,1932,1936,1936,1936,1936,1936,1936,1936,1936,1936,1936,1936,1936,1936,1936,1936,1936,1936,1936,1936,1936,1936,1936,1936,1936,1948,1948,1948,1948,1948,1948,1948,1948,1948,1948,1948,1948,1948,1948,1948,1948,1948,1948,1948,1948,1952,1952,1952,1952,1952,1952,1952,1952,1952,1952,1952,1952,1952,1952,1952,1952,1952,1952,1952,1956,1956,1956,1956,1956,1956,1956,1956,1956,1956,1956,1956,1956,1956,1956,1956,1956,1956,1956,1960,1960,1960,1960,1960,1960,1960,1960,1960,1960,1960,1960,1960,1960,1960,1960,1960,1960,1960,1964,1964,1964,1964,1964,1964,1964,1964,1964,1964,1964,1964,1964,1964,1964,1964,1964,1964,1964,1964,1964,1968,1968,1968,1968,1968,1968,1968,1968,1968,1968,1968,1968,1968,1968,1968,1968,1968,1968,1968,1968,1972,1972,1972,1972,1972,1972,1972,1972,1972,1972,1972,1972,1972,1972,1972,1972,1972,1972,1972,1972,1972,1972,1972,1976,1976,1976,1976,1976,1976,1976,1976,1976,1976,1976,1976,1976,1976,1976,1976,1976,1976,1976,1976,1976,1976,1976,1980,1980,1980,1980,1980,1980,1980,1980,1980,1980,1980,1980,1980,1980,1980,1980,1980,1980,1980,1980,1980,1980,1980,1984,1984,1984,1984,1984,1984,1984,1984,1984,1984,1984,1984,1984,1984,1984,1984,1984,1984,1984,1984,1984,1984,1984,1984,1984,1988,1988,1988,1988,1988,1988,1988,1988,1988,1988,1988,1988,1988,1988,1988,1988,1988,1988,1988,1988,1988,1988,1988,1988,1988,1988,1988,1992,1992,1992,1992,1992,1992,1992,1992,1992,1992,1992,1992,1992,1992,1992,1992,1992,1992,1992,1992,1992,1992,1992,1992,1992,1992,1992,1992,1992,1996,1996,1996,1996,1996,1996,1996,1996,1996,1996,1996,1996,1996,1996,1996,1996,1996,1996,1996,1996,1996,1996,1996,1996,1996,1996,1996,1996,1996,1996,1996,2000,2000,2000,2000,2000,2000,2000,2000,2000,2000,2000,2000,2000,2000,2000,2000,2000,2000,2000,2000,2000,2000,2000,2000,2000,2000,2000,2000,2000,2000,2000,2000,2000,2000,2004,2004,2004,2004,2004,2004,2004,2004,2004,2004,2004,2004,2004,2004,2004,2004,2004,2004,2004,2004,2004,2004,2004,2004,2004,2004,2004,2004,2004,2004,2004,2004,2004,2004,2008,2008,2008,2008,2008,2008,2008,2008,2008,2008,2008,2008,2008,2008,2008,2008,2008,2008,2008,2008,2008,2008,2008,2008,2008,2008,2008,2008,2008,2008,2008,2008,2008,2008,2012,2012,2012,2012,2012,2012,2012,2012,2012,2012,2012,2012,2012,2012,2012,2012,2012,2012,2012,2012,2012,2012,2012,2012,2012,2012,2012,2012,2012,2012,2012,2012,2016,2016,2016,2016,2016,2016,2016,2016,2016,2016,2016,2016,2016,2016,2016,2016,2016,2016,2016,2016,2016,2016,2016,2016,2016,2016,2016,2016,2016,2016,2016,2016,2016,2016],\"y\":[106,97,65,41,23,18,15,10,5,317,280,234,221,135,133,131,92,79,53,47,47,35,32,24,22,21,19,12,2,458,201,105,70,64,61,57,48,46,36,36,30,28,24,21,7,5,4,470,320,200,161,156,138,78,48,45,39,32,24,22,778,444,349,269,240,150,133,87,84,77,72,68,64,47,42,40,30,28,24,23,17,12,12,11,962,794,379,310,242,201,197,173,170,163,128,109,86,45,33,32,16,849,838,350,263,212,209,190,161,153,144,132,116,101,101,86,70,60,53,51,40,31,31,23,17,11,1003,638,508,424,318,279,263,253,249,244,196,194,181,107,101,90,69,54,38,24,992,808,664,430,278,247,232,227,219,169,144,137,128,112,94,74,37,1124,522,195,192,166,147,109,90,85,65,57,44,41,40,36,29,25,2,1007,947,813,556,364,348,301,256,210,201,199,179,172,167,162,143,142,105,88,80,42,21,2,1,1060,1051,508,471,398,320,318,287,229,218,216,207,205,187,186,156,139,120,84,45,2391,1344,509,483,406,389,294,294,289,263,262,249,227,191,184,157,142,99,97,1013,913,356,292,278,258,219,195,173,169,161,154,146,143,105,96,82,76,298,1746,1312,630,601,431,423,389,337,290,281,276,236,235,211,192,172,150,111,96,1484,1335,736,481,451,378,312,302,269,226,225,224,214,189,179,167,149,137,102,72,70,1496,1345,1231,490,483,410,358,333,307,273,253,252,233,206,203,191,162,160,109,93,1686,1584,1263,526,499,472,442,409,359,354,326,323,269,263,243,231,190,188,176,166,124,116,95,1297,1204,1076,598,485,392,369,349,340,266,257,246,243,216,213,202,173,172,154,131,105,89,64,1268,866,761,488,321,307,271,270,267,256,253,248,215,204,193,187,172,156,132,122,88,79,67,1674,1232,930,539,475,465,424,354,300,299,286,286,281,259,246,213,212,208,186,153,109,103,101,86,33,2062,1614,1217,624,545,518,506,457,432,388,375,324,314,281,270,257,243,239,236,226,206,202,156,122,108,76,39,2054,1615,1255,661,587,566,564,458,441,433,404,371,336,314,292,272,250,248,247,244,236,231,226,160,152,117,112,89,42,2386,1635,1397,621,612,584,575,458,401,388,388,387,355,343,320,300,284,275,263,251,246,243,218,160,153,139,120,90,84,72,32,2468,1741,1144,621,599,561,448,402,398,391,350,349,323,314,307,295,286,279,268,248,246,238,231,225,206,192,120,117,102,100,96,84,48,24,2175,1618,1151,623,559,558,434,425,401,384,371,352,342,328,323,287,283,280,260,255,252,249,212,200,196,191,124,118,117,99,96,84,64,32,2244,1749,996,652,577,563,469,436,400,387,386,343,343,340,332,287,283,283,256,254,253,250,194,191,184,182,126,120,117,110,96,95,72,32,2278,1538,848,629,560,550,467,418,387,384,379,350,347,345,339,287,287,286,283,257,252,236,200,182,181,128,117,110,96,95,72,32,2508,1568,861,667,555,550,473,441,390,389,380,355,353,346,346,299,286,283,283,281,258,255,236,200,178,177,126,120,118,110,96,96,72,32],\"type\":\"scatter\"},{\"marker\":{\"color\":\"rgb(11,23,245)\",\"line\":{\"color\":\"blue\",\"width\":1},\"opacity\":0.5},\"mode\":\"markers\",\"name\":\"Winter Games\",\"text\":[\"City:Chamonix Sport:Speed Skating\",\"City:Chamonix Sport:Ice Hockey\",\"City:Chamonix Sport:Cross Country Skiing\",\"City:Chamonix Sport:Bobsleigh\",\"City:Chamonix Sport:Figure Skating\",\"City:Chamonix Sport:Nordic Combined\",\"City:Chamonix Sport:Ski Jumping\",\"City:Chamonix Sport:Military Ski Patrol\",\"City:Chamonix Sport:Alpinism\",\"City:Chamonix Sport:Curling\",\"City:Sankt Moritz Sport:Ice Hockey\",\"City:Sankt Moritz Sport:Bobsleigh\",\"City:Sankt Moritz Sport:Speed Skating\",\"City:Sankt Moritz Sport:Cross Country Skiing\",\"City:Sankt Moritz Sport:Figure Skating\",\"City:Sankt Moritz Sport:Ski Jumping\",\"City:Sankt Moritz Sport:Nordic Combined\",\"City:Sankt Moritz Sport:Skeleton\",\"City:Lake Placid Sport:Cross Country Skiing\",\"City:Lake Placid Sport:Speed Skating\",\"City:Lake Placid Sport:Bobsleigh\",\"City:Lake Placid Sport:Ice Hockey\",\"City:Lake Placid Sport:Figure Skating\",\"City:Lake Placid Sport:Ski Jumping\",\"City:Lake Placid Sport:Nordic Combined\",\"City:Garmisch-Partenkirchen Sport:Cross Country Skiing\",\"City:Garmisch-Partenkirchen Sport:Ice Hockey\",\"City:Garmisch-Partenkirchen Sport:Speed Skating\",\"City:Garmisch-Partenkirchen Sport:Bobsleigh\",\"City:Garmisch-Partenkirchen Sport:Alpine Skiing\",\"City:Garmisch-Partenkirchen Sport:Figure Skating\",\"City:Garmisch-Partenkirchen Sport:Nordic Combined\",\"City:Garmisch-Partenkirchen Sport:Ski Jumping\",\"City:Sankt Moritz Sport:Alpine Skiing\",\"City:Sankt Moritz Sport:Cross Country Skiing\",\"City:Sankt Moritz Sport:Speed Skating\",\"City:Sankt Moritz Sport:Ice Hockey\",\"City:Sankt Moritz Sport:Bobsleigh\",\"City:Sankt Moritz Sport:Figure Skating\",\"City:Sankt Moritz Sport:Ski Jumping\",\"City:Sankt Moritz Sport:Nordic Combined\",\"City:Sankt Moritz Sport:Skeleton\",\"City:Oslo Sport:Alpine Skiing\",\"City:Oslo Sport:Cross Country Skiing\",\"City:Oslo Sport:Ice Hockey\",\"City:Oslo Sport:Speed Skating\",\"City:Oslo Sport:Bobsleigh\",\"City:Oslo Sport:Figure Skating\",\"City:Oslo Sport:Ski Jumping\",\"City:Oslo Sport:Nordic Combined\",\"City:Cortina d'Ampezzo Sport:Alpine Skiing\",\"City:Cortina d'Ampezzo Sport:Cross Country Skiing\",\"City:Cortina d'Ampezzo Sport:Speed Skating\",\"City:Cortina d'Ampezzo Sport:Ice Hockey\",\"City:Cortina d'Ampezzo Sport:Bobsleigh\",\"City:Cortina d'Ampezzo Sport:Figure Skating\",\"City:Cortina d'Ampezzo Sport:Ski Jumping\",\"City:Cortina d'Ampezzo Sport:Nordic Combined\",\"City:Squaw Valley Sport:Alpine Skiing\",\"City:Squaw Valley Sport:Speed Skating\",\"City:Squaw Valley Sport:Cross Country Skiing\",\"City:Squaw Valley Sport:Ice Hockey\",\"City:Squaw Valley Sport:Figure Skating\",\"City:Squaw Valley Sport:Ski Jumping\",\"City:Squaw Valley Sport:Nordic Combined\",\"City:Squaw Valley Sport:Biathlon\",\"City:Innsbruck Sport:Alpine Skiing\",\"City:Innsbruck Sport:Cross Country Skiing\",\"City:Innsbruck Sport:Speed Skating\",\"City:Innsbruck Sport:Ice Hockey\",\"City:Innsbruck Sport:Bobsleigh\",\"City:Innsbruck Sport:Ski Jumping\",\"City:Innsbruck Sport:Figure Skating\",\"City:Innsbruck Sport:Luge\",\"City:Innsbruck Sport:Biathlon\",\"City:Innsbruck Sport:Nordic Combined\",\"City:Grenoble Sport:Alpine Skiing\",\"City:Grenoble Sport:Cross Country Skiing\",\"City:Grenoble Sport:Speed Skating\",\"City:Grenoble Sport:Ice Hockey\",\"City:Grenoble Sport:Bobsleigh\",\"City:Grenoble Sport:Biathlon\",\"City:Grenoble Sport:Ski Jumping\",\"City:Grenoble Sport:Luge\",\"City:Grenoble Sport:Figure Skating\",\"City:Grenoble Sport:Nordic Combined\",\"City:Sapporo Sport:Cross Country Skiing\",\"City:Sapporo Sport:Alpine Skiing\",\"City:Sapporo Sport:Speed Skating\",\"City:Sapporo Sport:Ice Hockey\",\"City:Sapporo Sport:Bobsleigh\",\"City:Sapporo Sport:Ski Jumping\",\"City:Sapporo Sport:Luge\",\"City:Sapporo Sport:Biathlon\",\"City:Sapporo Sport:Figure Skating\",\"City:Sapporo Sport:Nordic Combined\",\"City:Innsbruck Sport:Cross Country Skiing\",\"City:Innsbruck Sport:Alpine Skiing\",\"City:Innsbruck Sport:Speed Skating\",\"City:Innsbruck Sport:Ice Hockey\",\"City:Innsbruck Sport:Bobsleigh\",\"City:Innsbruck Sport:Luge\",\"City:Innsbruck Sport:Biathlon\",\"City:Innsbruck Sport:Ski Jumping\",\"City:Innsbruck Sport:Figure Skating\",\"City:Innsbruck Sport:Nordic Combined\",\"City:Lake Placid Sport:Alpine Skiing\",\"City:Lake Placid Sport:Cross Country Skiing\",\"City:Lake Placid Sport:Speed Skating\",\"City:Lake Placid Sport:Ice Hockey\",\"City:Lake Placid Sport:Biathlon\",\"City:Lake Placid Sport:Bobsleigh\",\"City:Lake Placid Sport:Ski Jumping\",\"City:Lake Placid Sport:Luge\",\"City:Lake Placid Sport:Figure Skating\",\"City:Lake Placid Sport:Nordic Combined\",\"City:Sarajevo Sport:Cross Country Skiing\",\"City:Sarajevo Sport:Alpine Skiing\",\"City:Sarajevo Sport:Speed Skating\",\"City:Sarajevo Sport:Ice Hockey\",\"City:Sarajevo Sport:Biathlon\",\"City:Sarajevo Sport:Bobsleigh\",\"City:Sarajevo Sport:Figure Skating\",\"City:Sarajevo Sport:Ski Jumping\",\"City:Sarajevo Sport:Luge\",\"City:Sarajevo Sport:Nordic Combined\",\"City:Calgary Sport:Alpine Skiing\",\"City:Calgary Sport:Cross Country Skiing\",\"City:Calgary Sport:Speed Skating\",\"City:Calgary Sport:Ice Hockey\",\"City:Calgary Sport:Biathlon\",\"City:Calgary Sport:Bobsleigh\",\"City:Calgary Sport:Ski Jumping\",\"City:Calgary Sport:Figure Skating\",\"City:Calgary Sport:Luge\",\"City:Calgary Sport:Nordic Combined\",\"City:Albertville Sport:Alpine Skiing\",\"City:Albertville Sport:Cross Country Skiing\",\"City:Albertville Sport:Biathlon\",\"City:Albertville Sport:Speed Skating\",\"City:Albertville Sport:Ice Hockey\",\"City:Albertville Sport:Bobsleigh\",\"City:Albertville Sport:Ski Jumping\",\"City:Albertville Sport:Figure Skating\",\"City:Albertville Sport:Short Track Speed Skating\",\"City:Albertville Sport:Luge\",\"City:Albertville Sport:Nordic Combined\",\"City:Albertville Sport:Freestyle Skiing\",\"City:Lillehammer Sport:Cross Country Skiing\",\"City:Lillehammer Sport:Alpine Skiing\",\"City:Lillehammer Sport:Biathlon\",\"City:Lillehammer Sport:Speed Skating\",\"City:Lillehammer Sport:Ice Hockey\",\"City:Lillehammer Sport:Bobsleigh\",\"City:Lillehammer Sport:Short Track Speed Skating\",\"City:Lillehammer Sport:Ski Jumping\",\"City:Lillehammer Sport:Figure Skating\",\"City:Lillehammer Sport:Freestyle Skiing\",\"City:Lillehammer Sport:Luge\",\"City:Lillehammer Sport:Nordic Combined\",\"City:Nagano Sport:Cross Country Skiing\",\"City:Nagano Sport:Alpine Skiing\",\"City:Nagano Sport:Ice Hockey\",\"City:Nagano Sport:Biathlon\",\"City:Nagano Sport:Speed Skating\",\"City:Nagano Sport:Bobsleigh\",\"City:Nagano Sport:Short Track Speed Skating\",\"City:Nagano Sport:Ski Jumping\",\"City:Nagano Sport:Figure Skating\",\"City:Nagano Sport:Snowboarding\",\"City:Nagano Sport:Freestyle Skiing\",\"City:Nagano Sport:Luge\",\"City:Nagano Sport:Nordic Combined\",\"City:Nagano Sport:Curling\",\"City:Salt Lake City Sport:Cross Country Skiing\",\"City:Salt Lake City Sport:Biathlon\",\"City:Salt Lake City Sport:Alpine Skiing\",\"City:Salt Lake City Sport:Ice Hockey\",\"City:Salt Lake City Sport:Speed Skating\",\"City:Salt Lake City Sport:Short Track Speed Skating\",\"City:Salt Lake City Sport:Bobsleigh\",\"City:Salt Lake City Sport:Ski Jumping\",\"City:Salt Lake City Sport:Figure Skating\",\"City:Salt Lake City Sport:Nordic Combined\",\"City:Salt Lake City Sport:Snowboarding\",\"City:Salt Lake City Sport:Luge\",\"City:Salt Lake City Sport:Freestyle Skiing\",\"City:Salt Lake City Sport:Curling\",\"City:Salt Lake City Sport:Skeleton\",\"City:Torino Sport:Cross Country Skiing\",\"City:Torino Sport:Biathlon\",\"City:Torino Sport:Alpine Skiing\",\"City:Torino Sport:Ice Hockey\",\"City:Torino Sport:Speed Skating\",\"City:Torino Sport:Short Track Speed Skating\",\"City:Torino Sport:Ski Jumping\",\"City:Torino Sport:Snowboarding\",\"City:Torino Sport:Bobsleigh\",\"City:Torino Sport:Figure Skating\",\"City:Torino Sport:Nordic Combined\",\"City:Torino Sport:Freestyle Skiing\",\"City:Torino Sport:Luge\",\"City:Torino Sport:Curling\",\"City:Torino Sport:Skeleton\",\"City:Vancouver Sport:Cross Country Skiing\",\"City:Vancouver Sport:Alpine Skiing\",\"City:Vancouver Sport:Biathlon\",\"City:Vancouver Sport:Ice Hockey\",\"City:Vancouver Sport:Speed Skating\",\"City:Vancouver Sport:Short Track Speed Skating\",\"City:Vancouver Sport:Bobsleigh\",\"City:Vancouver Sport:Snowboarding\",\"City:Vancouver Sport:Freestyle Skiing\",\"City:Vancouver Sport:Ski Jumping\",\"City:Vancouver Sport:Figure Skating\",\"City:Vancouver Sport:Nordic Combined\",\"City:Vancouver Sport:Luge\",\"City:Vancouver Sport:Curling\",\"City:Vancouver Sport:Skeleton\",\"City:Sochi Sport:Cross Country Skiing\",\"City:Sochi Sport:Biathlon\",\"City:Sochi Sport:Alpine Skiing\",\"City:Sochi Sport:Ice Hockey\",\"City:Sochi Sport:Speed Skating\",\"City:Sochi Sport:Snowboarding\",\"City:Sochi Sport:Short Track Speed Skating\",\"City:Sochi Sport:Freestyle Skiing\",\"City:Sochi Sport:Bobsleigh\",\"City:Sochi Sport:Figure Skating\",\"City:Sochi Sport:Ski Jumping\",\"City:Sochi Sport:Luge\",\"City:Sochi Sport:Nordic Combined\",\"City:Sochi Sport:Curling\",\"City:Sochi Sport:Skeleton\"],\"x\":[1924,1924,1924,1924,1924,1924,1924,1924,1924,1924,1928,1928,1928,1928,1928,1928,1928,1928,1932,1932,1932,1932,1932,1932,1932,1936,1936,1936,1936,1936,1936,1936,1936,1948,1948,1948,1948,1948,1948,1948,1948,1948,1952,1952,1952,1952,1952,1952,1952,1952,1956,1956,1956,1956,1956,1956,1956,1956,1960,1960,1960,1960,1960,1960,1960,1960,1964,1964,1964,1964,1964,1964,1964,1964,1964,1964,1968,1968,1968,1968,1968,1968,1968,1968,1968,1968,1972,1972,1972,1972,1972,1972,1972,1972,1972,1972,1976,1976,1976,1976,1976,1976,1976,1976,1976,1976,1980,1980,1980,1980,1980,1980,1980,1980,1980,1980,1984,1984,1984,1984,1984,1984,1984,1984,1984,1984,1988,1988,1988,1988,1988,1988,1988,1988,1988,1988,1992,1992,1992,1992,1992,1992,1992,1992,1992,1992,1992,1992,1994,1994,1994,1994,1994,1994,1994,1994,1994,1994,1994,1994,1998,1998,1998,1998,1998,1998,1998,1998,1998,1998,1998,1998,1998,1998,2002,2002,2002,2002,2002,2002,2002,2002,2002,2002,2002,2002,2002,2002,2002,2006,2006,2006,2006,2006,2006,2006,2006,2006,2006,2006,2006,2006,2006,2006,2010,2010,2010,2010,2010,2010,2010,2010,2010,2010,2010,2010,2010,2010,2010,2014,2014,2014,2014,2014,2014,2014,2014,2014,2014,2014,2014,2014,2014,2014],\"y\":[110,82,74,39,37,30,27,24,21,16,124,116,106,90,63,38,35,10,74,70,52,48,41,34,33,175,173,140,118,103,87,51,48,360,156,154,139,92,71,49,39,15,378,188,147,145,96,65,44,25,403,275,179,169,135,59,51,36,320,249,216,152,71,45,33,30,411,332,287,270,117,105,88,85,51,32,422,344,280,250,120,116,116,106,96,41,335,325,244,208,114,108,107,106,68,40,395,390,247,217,133,119,112,109,105,34,327,309,296,239,159,108,98,94,85,31,477,401,328,239,195,152,114,111,89,28,668,528,326,265,207,186,157,129,98,75,750,717,457,354,267,216,171,133,124,98,78,71,639,544,416,318,268,207,188,164,130,99,98,89,733,477,426,413,335,204,190,176,145,127,110,97,92,80,774,564,559,468,332,251,240,178,143,125,118,117,105,96,39,812,658,619,442,379,239,202,198,191,147,138,116,108,91,42,725,685,683,420,366,273,199,185,172,170,146,131,107,93,47,765,726,687,443,368,308,269,264,223,221,200,156,128,87,46],\"type\":\"scatter\"}],                        {\"hovermode\":\"closest\",\"template\":{\"data\":{\"barpolar\":[{\"marker\":{\"line\":{\"color\":\"#E5ECF6\",\"width\":0.5},\"pattern\":{\"fillmode\":\"overlay\",\"size\":10,\"solidity\":0.2}},\"type\":\"barpolar\"}],\"bar\":[{\"error_x\":{\"color\":\"#2a3f5f\"},\"error_y\":{\"color\":\"#2a3f5f\"},\"marker\":{\"line\":{\"color\":\"#E5ECF6\",\"width\":0.5},\"pattern\":{\"fillmode\":\"overlay\",\"size\":10,\"solidity\":0.2}},\"type\":\"bar\"}],\"carpet\":[{\"aaxis\":{\"endlinecolor\":\"#2a3f5f\",\"gridcolor\":\"white\",\"linecolor\":\"white\",\"minorgridcolor\":\"white\",\"startlinecolor\":\"#2a3f5f\"},\"baxis\":{\"endlinecolor\":\"#2a3f5f\",\"gridcolor\":\"white\",\"linecolor\":\"white\",\"minorgridcolor\":\"white\",\"startlinecolor\":\"#2a3f5f\"},\"type\":\"carpet\"}],\"choropleth\":[{\"colorbar\":{\"outlinewidth\":0,\"ticks\":\"\"},\"type\":\"choropleth\"}],\"contourcarpet\":[{\"colorbar\":{\"outlinewidth\":0,\"ticks\":\"\"},\"type\":\"contourcarpet\"}],\"contour\":[{\"colorbar\":{\"outlinewidth\":0,\"ticks\":\"\"},\"colorscale\":[[0.0,\"#0d0887\"],[0.1111111111111111,\"#46039f\"],[0.2222222222222222,\"#7201a8\"],[0.3333333333333333,\"#9c179e\"],[0.4444444444444444,\"#bd3786\"],[0.5555555555555556,\"#d8576b\"],[0.6666666666666666,\"#ed7953\"],[0.7777777777777778,\"#fb9f3a\"],[0.8888888888888888,\"#fdca26\"],[1.0,\"#f0f921\"]],\"type\":\"contour\"}],\"heatmapgl\":[{\"colorbar\":{\"outlinewidth\":0,\"ticks\":\"\"},\"colorscale\":[[0.0,\"#0d0887\"],[0.1111111111111111,\"#46039f\"],[0.2222222222222222,\"#7201a8\"],[0.3333333333333333,\"#9c179e\"],[0.4444444444444444,\"#bd3786\"],[0.5555555555555556,\"#d8576b\"],[0.6666666666666666,\"#ed7953\"],[0.7777777777777778,\"#fb9f3a\"],[0.8888888888888888,\"#fdca26\"],[1.0,\"#f0f921\"]],\"type\":\"heatmapgl\"}],\"heatmap\":[{\"colorbar\":{\"outlinewidth\":0,\"ticks\":\"\"},\"colorscale\":[[0.0,\"#0d0887\"],[0.1111111111111111,\"#46039f\"],[0.2222222222222222,\"#7201a8\"],[0.3333333333333333,\"#9c179e\"],[0.4444444444444444,\"#bd3786\"],[0.5555555555555556,\"#d8576b\"],[0.6666666666666666,\"#ed7953\"],[0.7777777777777778,\"#fb9f3a\"],[0.8888888888888888,\"#fdca26\"],[1.0,\"#f0f921\"]],\"type\":\"heatmap\"}],\"histogram2dcontour\":[{\"colorbar\":{\"outlinewidth\":0,\"ticks\":\"\"},\"colorscale\":[[0.0,\"#0d0887\"],[0.1111111111111111,\"#46039f\"],[0.2222222222222222,\"#7201a8\"],[0.3333333333333333,\"#9c179e\"],[0.4444444444444444,\"#bd3786\"],[0.5555555555555556,\"#d8576b\"],[0.6666666666666666,\"#ed7953\"],[0.7777777777777778,\"#fb9f3a\"],[0.8888888888888888,\"#fdca26\"],[1.0,\"#f0f921\"]],\"type\":\"histogram2dcontour\"}],\"histogram2d\":[{\"colorbar\":{\"outlinewidth\":0,\"ticks\":\"\"},\"colorscale\":[[0.0,\"#0d0887\"],[0.1111111111111111,\"#46039f\"],[0.2222222222222222,\"#7201a8\"],[0.3333333333333333,\"#9c179e\"],[0.4444444444444444,\"#bd3786\"],[0.5555555555555556,\"#d8576b\"],[0.6666666666666666,\"#ed7953\"],[0.7777777777777778,\"#fb9f3a\"],[0.8888888888888888,\"#fdca26\"],[1.0,\"#f0f921\"]],\"type\":\"histogram2d\"}],\"histogram\":[{\"marker\":{\"pattern\":{\"fillmode\":\"overlay\",\"size\":10,\"solidity\":0.2}},\"type\":\"histogram\"}],\"mesh3d\":[{\"colorbar\":{\"outlinewidth\":0,\"ticks\":\"\"},\"type\":\"mesh3d\"}],\"parcoords\":[{\"line\":{\"colorbar\":{\"outlinewidth\":0,\"ticks\":\"\"}},\"type\":\"parcoords\"}],\"pie\":[{\"automargin\":true,\"type\":\"pie\"}],\"scatter3d\":[{\"line\":{\"colorbar\":{\"outlinewidth\":0,\"ticks\":\"\"}},\"marker\":{\"colorbar\":{\"outlinewidth\":0,\"ticks\":\"\"}},\"type\":\"scatter3d\"}],\"scattercarpet\":[{\"marker\":{\"colorbar\":{\"outlinewidth\":0,\"ticks\":\"\"}},\"type\":\"scattercarpet\"}],\"scattergeo\":[{\"marker\":{\"colorbar\":{\"outlinewidth\":0,\"ticks\":\"\"}},\"type\":\"scattergeo\"}],\"scattergl\":[{\"marker\":{\"colorbar\":{\"outlinewidth\":0,\"ticks\":\"\"}},\"type\":\"scattergl\"}],\"scattermapbox\":[{\"marker\":{\"colorbar\":{\"outlinewidth\":0,\"ticks\":\"\"}},\"type\":\"scattermapbox\"}],\"scatterpolargl\":[{\"marker\":{\"colorbar\":{\"outlinewidth\":0,\"ticks\":\"\"}},\"type\":\"scatterpolargl\"}],\"scatterpolar\":[{\"marker\":{\"colorbar\":{\"outlinewidth\":0,\"ticks\":\"\"}},\"type\":\"scatterpolar\"}],\"scatter\":[{\"fillpattern\":{\"fillmode\":\"overlay\",\"size\":10,\"solidity\":0.2},\"type\":\"scatter\"}],\"scatterternary\":[{\"marker\":{\"colorbar\":{\"outlinewidth\":0,\"ticks\":\"\"}},\"type\":\"scatterternary\"}],\"surface\":[{\"colorbar\":{\"outlinewidth\":0,\"ticks\":\"\"},\"colorscale\":[[0.0,\"#0d0887\"],[0.1111111111111111,\"#46039f\"],[0.2222222222222222,\"#7201a8\"],[0.3333333333333333,\"#9c179e\"],[0.4444444444444444,\"#bd3786\"],[0.5555555555555556,\"#d8576b\"],[0.6666666666666666,\"#ed7953\"],[0.7777777777777778,\"#fb9f3a\"],[0.8888888888888888,\"#fdca26\"],[1.0,\"#f0f921\"]],\"type\":\"surface\"}],\"table\":[{\"cells\":{\"fill\":{\"color\":\"#EBF0F8\"},\"line\":{\"color\":\"white\"}},\"header\":{\"fill\":{\"color\":\"#C8D4E3\"},\"line\":{\"color\":\"white\"}},\"type\":\"table\"}]},\"layout\":{\"annotationdefaults\":{\"arrowcolor\":\"#2a3f5f\",\"arrowhead\":0,\"arrowwidth\":1},\"autotypenumbers\":\"strict\",\"coloraxis\":{\"colorbar\":{\"outlinewidth\":0,\"ticks\":\"\"}},\"colorscale\":{\"diverging\":[[0,\"#8e0152\"],[0.1,\"#c51b7d\"],[0.2,\"#de77ae\"],[0.3,\"#f1b6da\"],[0.4,\"#fde0ef\"],[0.5,\"#f7f7f7\"],[0.6,\"#e6f5d0\"],[0.7,\"#b8e186\"],[0.8,\"#7fbc41\"],[0.9,\"#4d9221\"],[1,\"#276419\"]],\"sequential\":[[0.0,\"#0d0887\"],[0.1111111111111111,\"#46039f\"],[0.2222222222222222,\"#7201a8\"],[0.3333333333333333,\"#9c179e\"],[0.4444444444444444,\"#bd3786\"],[0.5555555555555556,\"#d8576b\"],[0.6666666666666666,\"#ed7953\"],[0.7777777777777778,\"#fb9f3a\"],[0.8888888888888888,\"#fdca26\"],[1.0,\"#f0f921\"]],\"sequentialminus\":[[0.0,\"#0d0887\"],[0.1111111111111111,\"#46039f\"],[0.2222222222222222,\"#7201a8\"],[0.3333333333333333,\"#9c179e\"],[0.4444444444444444,\"#bd3786\"],[0.5555555555555556,\"#d8576b\"],[0.6666666666666666,\"#ed7953\"],[0.7777777777777778,\"#fb9f3a\"],[0.8888888888888888,\"#fdca26\"],[1.0,\"#f0f921\"]]},\"colorway\":[\"#636efa\",\"#EF553B\",\"#00cc96\",\"#ab63fa\",\"#FFA15A\",\"#19d3f3\",\"#FF6692\",\"#B6E880\",\"#FF97FF\",\"#FECB52\"],\"font\":{\"color\":\"#2a3f5f\"},\"geo\":{\"bgcolor\":\"white\",\"lakecolor\":\"white\",\"landcolor\":\"#E5ECF6\",\"showlakes\":true,\"showland\":true,\"subunitcolor\":\"white\"},\"hoverlabel\":{\"align\":\"left\"},\"hovermode\":\"closest\",\"mapbox\":{\"style\":\"light\"},\"paper_bgcolor\":\"white\",\"plot_bgcolor\":\"#E5ECF6\",\"polar\":{\"angularaxis\":{\"gridcolor\":\"white\",\"linecolor\":\"white\",\"ticks\":\"\"},\"bgcolor\":\"#E5ECF6\",\"radialaxis\":{\"gridcolor\":\"white\",\"linecolor\":\"white\",\"ticks\":\"\"}},\"scene\":{\"xaxis\":{\"backgroundcolor\":\"#E5ECF6\",\"gridcolor\":\"white\",\"gridwidth\":2,\"linecolor\":\"white\",\"showbackground\":true,\"ticks\":\"\",\"zerolinecolor\":\"white\"},\"yaxis\":{\"backgroundcolor\":\"#E5ECF6\",\"gridcolor\":\"white\",\"gridwidth\":2,\"linecolor\":\"white\",\"showbackground\":true,\"ticks\":\"\",\"zerolinecolor\":\"white\"},\"zaxis\":{\"backgroundcolor\":\"#E5ECF6\",\"gridcolor\":\"white\",\"gridwidth\":2,\"linecolor\":\"white\",\"showbackground\":true,\"ticks\":\"\",\"zerolinecolor\":\"white\"}},\"shapedefaults\":{\"line\":{\"color\":\"#2a3f5f\"}},\"ternary\":{\"aaxis\":{\"gridcolor\":\"white\",\"linecolor\":\"white\",\"ticks\":\"\"},\"baxis\":{\"gridcolor\":\"white\",\"linecolor\":\"white\",\"ticks\":\"\"},\"bgcolor\":\"#E5ECF6\",\"caxis\":{\"gridcolor\":\"white\",\"linecolor\":\"white\",\"ticks\":\"\"}},\"title\":{\"x\":0.05},\"xaxis\":{\"automargin\":true,\"gridcolor\":\"white\",\"linecolor\":\"white\",\"ticks\":\"\",\"title\":{\"standoff\":15},\"zerolinecolor\":\"white\",\"zerolinewidth\":2},\"yaxis\":{\"automargin\":true,\"gridcolor\":\"white\",\"linecolor\":\"white\",\"ticks\":\"\",\"title\":{\"standoff\":15},\"zerolinecolor\":\"white\",\"zerolinewidth\":2}}},\"title\":{\"text\":\"Number of athlets per sport for each Olympic edition\"},\"xaxis\":{\"showticklabels\":true,\"title\":{\"text\":\"Year\"}},\"yaxis\":{\"title\":{\"text\":\"Number of athlets per sport\"}}},                        {\"responsive\": true}                    ).then(function(){\n",
       "                            \n",
       "var gd = document.getElementById('4bbf5796-2b1c-49d7-85f6-020d50edabe8');\n",
       "var x = new MutationObserver(function (mutations, observer) {{\n",
       "        var display = window.getComputedStyle(gd).display;\n",
       "        if (!display || display === 'none') {{\n",
       "            console.log([gd, 'removed!']);\n",
       "            Plotly.purge(gd);\n",
       "            observer.disconnect();\n",
       "        }}\n",
       "}});\n",
       "\n",
       "// Listen for the removal of the full notebook cells\n",
       "var notebookContainer = gd.closest('#notebook-container');\n",
       "if (notebookContainer) {{\n",
       "    x.observe(notebookContainer, {childList: true});\n",
       "}}\n",
       "\n",
       "// Listen for the clearing of the current output cell\n",
       "var outputEl = gd.closest('.output');\n",
       "if (outputEl) {{\n",
       "    x.observe(outputEl, {childList: true});\n",
       "}}\n",
       "\n",
       "                        })                };                });            </script>        </div>"
      ]
     },
     "metadata": {},
     "output_type": "display_data"
    }
   ],
   "source": [
    "dfS = df[df['Season']=='Summer']; dfW = df[df['Season']=='Winter']\n",
    "\n",
    "\n",
    "traceS = go.Scatter(\n",
    "    x = dfS['Year'],y = dfS['Athlets'],\n",
    "    name=\"Summer Games\",\n",
    "     marker=dict(\n",
    "                color='rgb(238,23,11)',\n",
    "                line=dict(\n",
    "                    color='red',\n",
    "                    width=1),\n",
    "                opacity=0.5,\n",
    "            ),\n",
    "    text= \"City:\"+dfS['City']+\" Sport:\"+dfS['Sport'],\n",
    "    mode = \"markers\"\n",
    ")\n",
    "traceW = go.Scatter(\n",
    "    x = dfW['Year'],y = dfW['Athlets'],\n",
    "    name=\"Winter Games\",\n",
    "    marker=dict(\n",
    "                color='rgb(11,23,245)',\n",
    "                line=dict(\n",
    "                    color='blue',\n",
    "                    width=1),\n",
    "                opacity=0.5,\n",
    "            ),\n",
    "   text= \"City:\"+dfW['City']+\" Sport:\"+dfW['Sport'],\n",
    "    mode = \"markers\"\n",
    ")\n",
    "\n",
    "data = [traceS, traceW]\n",
    "layout = dict(title = 'Number of athlets per sport for each Olympic edition',\n",
    "          xaxis = dict(title = 'Year', showticklabels=True), \n",
    "          yaxis = dict(title = 'Number of athlets per sport'),\n",
    "          hovermode='closest'\n",
    "         )\n",
    "fig = dict(data=data, layout=layout)\n",
    "iplot(fig, filename='events-sports1')"
   ]
  },
  {
   "cell_type": "markdown",
   "id": "7fd0c6bc",
   "metadata": {
    "papermill": {
     "duration": 0.074587,
     "end_time": "2022-07-27T20:00:43.285411",
     "exception": false,
     "start_time": "2022-07-27T20:00:43.210824",
     "status": "completed"
    },
    "tags": []
   },
   "source": [
    "# 8. Plot the distribution of number of athlets per sport. Group by Year and Season and count the athlets per each sport."
   ]
  },
  {
   "cell_type": "markdown",
   "id": "1959c74a",
   "metadata": {
    "_uuid": "e0b02c4652b213c5ea12d6cf2ec751b66bcd8bc3",
    "papermill": {
     "duration": 0.151982,
     "end_time": "2022-07-27T20:00:43.542241",
     "exception": false,
     "start_time": "2022-07-27T20:00:43.390259",
     "status": "completed"
    },
    "tags": []
   },
   "source": [
    "The legend show the sport and city, as well as the number of athlets per sport per edition.\n",
    "\n",
    "Let's also show the distribution of number of athlets per sport. For this we group by `Year` and `Season` and count the athlets per each sport."
   ]
  },
  {
   "cell_type": "code",
   "execution_count": 22,
   "id": "529d6f16",
   "metadata": {
    "_uuid": "5d0fa0f43b0242c4142e57064141b1a6b93d2490",
    "execution": {
     "iopub.execute_input": "2022-07-27T20:00:43.811082Z",
     "iopub.status.busy": "2022-07-27T20:00:43.810436Z",
     "iopub.status.idle": "2022-07-27T20:00:44.019072Z",
     "shell.execute_reply": "2022-07-27T20:00:44.017859Z"
    },
    "papermill": {
     "duration": 0.332865,
     "end_time": "2022-07-27T20:00:44.021834",
     "exception": false,
     "start_time": "2022-07-27T20:00:43.688969",
     "status": "completed"
    },
    "tags": []
   },
   "outputs": [
    {
     "data": {
      "text/html": [
       "<div>\n",
       "<style scoped>\n",
       "    .dataframe tbody tr th:only-of-type {\n",
       "        vertical-align: middle;\n",
       "    }\n",
       "\n",
       "    .dataframe tbody tr th {\n",
       "        vertical-align: top;\n",
       "    }\n",
       "\n",
       "    .dataframe thead th {\n",
       "        text-align: right;\n",
       "    }\n",
       "</style>\n",
       "<table border=\"1\" class=\"dataframe\">\n",
       "  <thead>\n",
       "    <tr style=\"text-align: right;\">\n",
       "      <th></th>\n",
       "      <th>Year</th>\n",
       "      <th>City</th>\n",
       "      <th>Season</th>\n",
       "      <th>Sport</th>\n",
       "      <th>Athlets</th>\n",
       "    </tr>\n",
       "  </thead>\n",
       "  <tbody>\n",
       "    <tr>\n",
       "      <th>0</th>\n",
       "      <td>1896</td>\n",
       "      <td>Athina</td>\n",
       "      <td>Summer</td>\n",
       "      <td>Athletics</td>\n",
       "      <td>106</td>\n",
       "    </tr>\n",
       "    <tr>\n",
       "      <th>1</th>\n",
       "      <td>1896</td>\n",
       "      <td>Athina</td>\n",
       "      <td>Summer</td>\n",
       "      <td>Gymnastics</td>\n",
       "      <td>97</td>\n",
       "    </tr>\n",
       "    <tr>\n",
       "      <th>2</th>\n",
       "      <td>1896</td>\n",
       "      <td>Athina</td>\n",
       "      <td>Summer</td>\n",
       "      <td>Shooting</td>\n",
       "      <td>65</td>\n",
       "    </tr>\n",
       "  </tbody>\n",
       "</table>\n",
       "</div>"
      ],
      "text/plain": [
       "   Year    City  Season       Sport  Athlets\n",
       "0  1896  Athina  Summer   Athletics      106\n",
       "1  1896  Athina  Summer  Gymnastics       97\n",
       "2  1896  Athina  Summer    Shooting       65"
      ]
     },
     "execution_count": 22,
     "metadata": {},
     "output_type": "execute_result"
    }
   ],
   "source": [
    "tmp = athlete_events_df.groupby(['Year', 'City','Season'])['Sport'].value_counts()\n",
    "df = pd.DataFrame(data={'Athlets': tmp.values}, index=tmp.index).reset_index()\n",
    "df.head(3)"
   ]
  },
  {
   "cell_type": "markdown",
   "id": "d4317b5b",
   "metadata": {
    "_uuid": "7496187c250ceb75c2fa72be970ef2b10d0b1e8d",
    "papermill": {
     "duration": 0.072521,
     "end_time": "2022-07-27T20:00:44.167132",
     "exception": false,
     "start_time": "2022-07-27T20:00:44.094611",
     "status": "completed"
    },
    "tags": []
   },
   "source": [
    "Let's define a list with all the Sports."
   ]
  },
  {
   "cell_type": "code",
   "execution_count": 23,
   "id": "9faace83",
   "metadata": {
    "_uuid": "8543251d22be36cfde0fda47796e435cf0e5955e",
    "execution": {
     "iopub.execute_input": "2022-07-27T20:00:44.312039Z",
     "iopub.status.busy": "2022-07-27T20:00:44.310939Z",
     "iopub.status.idle": "2022-07-27T20:00:44.391364Z",
     "shell.execute_reply": "2022-07-27T20:00:44.390126Z"
    },
    "papermill": {
     "duration": 0.155961,
     "end_time": "2022-07-27T20:00:44.394266",
     "exception": false,
     "start_time": "2022-07-27T20:00:44.238305",
     "status": "completed"
    },
    "tags": []
   },
   "outputs": [],
   "source": [
    "sports = (athlete_events_df.groupby(['Sport'])['Sport'].nunique()).index"
   ]
  },
  {
   "cell_type": "markdown",
   "id": "75235049",
   "metadata": {
    "_uuid": "4396b49c73b11b5cc145fed59553341745dc122a",
    "papermill": {
     "duration": 0.071545,
     "end_time": "2022-07-27T20:00:44.538202",
     "exception": false,
     "start_time": "2022-07-27T20:00:44.466657",
     "status": "completed"
    },
    "tags": []
   },
   "source": [
    "We will create a function to display `trace` and one function to display the set of traces.  \n",
    "\n",
    "We will also filter the Games per Summer and Winter."
   ]
  },
  {
   "cell_type": "code",
   "execution_count": 24,
   "id": "f75970cb",
   "metadata": {
    "_uuid": "fff1030345da2c51d2e80c460832bf17eb366203",
    "execution": {
     "iopub.execute_input": "2022-07-27T20:00:44.684300Z",
     "iopub.status.busy": "2022-07-27T20:00:44.683905Z",
     "iopub.status.idle": "2022-07-27T20:00:44.873618Z",
     "shell.execute_reply": "2022-07-27T20:00:44.872162Z"
    },
    "papermill": {
     "duration": 0.270373,
     "end_time": "2022-07-27T20:00:44.880442",
     "exception": false,
     "start_time": "2022-07-27T20:00:44.610069",
     "status": "completed"
    },
    "tags": []
   },
   "outputs": [
    {
     "data": {
      "application/vnd.plotly.v1+json": {
       "config": {
        "linkText": "Export to plot.ly",
        "plotlyServerURL": "https://plot.ly",
        "showLink": false
       },
       "data": [
        {
         "marker": {
          "line": {
           "color": "black",
           "width": 0.8
          }
         },
         "name": "Aeronautics",
         "orientation": "h",
         "text": [
          "Berlin"
         ],
         "type": "box",
         "x": [
          1
         ]
        },
        {
         "marker": {
          "line": {
           "color": "black",
           "width": 0.8
          }
         },
         "name": "Alpine Skiing",
         "orientation": "h",
         "text": [],
         "type": "box",
         "x": []
        },
        {
         "marker": {
          "line": {
           "color": "black",
           "width": 0.8
          }
         },
         "name": "Alpinism",
         "orientation": "h",
         "text": [
          "Los Angeles",
          "Berlin"
         ],
         "type": "box",
         "x": [
          2,
          2
         ]
        },
        {
         "marker": {
          "line": {
           "color": "black",
           "width": 0.8
          }
         },
         "name": "Archery",
         "orientation": "h",
         "text": [
          "Paris",
          "St. Louis",
          "London",
          "Antwerpen",
          "Munich",
          "Montreal",
          "Moskva",
          "Los Angeles",
          "Seoul",
          "Barcelona",
          "Atlanta",
          "Sydney",
          "Athina",
          "Beijing",
          "London",
          "Rio de Janeiro"
         ],
         "type": "box",
         "x": [
          32,
          70,
          77,
          86,
          95,
          64,
          67,
          109,
          257,
          247,
          218,
          206,
          212,
          194,
          200,
          200
         ]
        },
        {
         "marker": {
          "line": {
           "color": "black",
           "width": 0.8
          }
         },
         "name": "Art Competitions",
         "orientation": "h",
         "text": [
          "Stockholm",
          "Antwerpen",
          "Paris",
          "Amsterdam",
          "Los Angeles",
          "Berlin",
          "London"
         ],
         "type": "box",
         "x": [
          33,
          11,
          318,
          808,
          1124,
          813,
          471
         ]
        },
        {
         "marker": {
          "line": {
           "color": "black",
           "width": 0.8
          }
         },
         "name": "Athletics",
         "orientation": "h",
         "text": [
          "Athina",
          "Paris",
          "St. Louis",
          "Athina",
          "London",
          "Stockholm",
          "Antwerpen",
          "Paris",
          "Amsterdam",
          "Los Angeles",
          "Berlin",
          "London",
          "Helsinki",
          "Melbourne",
          "Roma",
          "Tokyo",
          "Mexico City",
          "Munich",
          "Montreal",
          "Moskva",
          "Los Angeles",
          "Seoul",
          "Barcelona",
          "Atlanta",
          "Sydney",
          "Athina",
          "Beijing",
          "London",
          "Rio de Janeiro"
         ],
         "type": "box",
         "x": [
          106,
          234,
          201,
          470,
          778,
          962,
          849,
          1003,
          992,
          522,
          1007,
          1051,
          1344,
          1013,
          1312,
          1335,
          1345,
          1686,
          1297,
          1268,
          1674,
          2062,
          2054,
          2386,
          2468,
          2175,
          2244,
          2278,
          2508
         ]
        },
        {
         "marker": {
          "line": {
           "color": "black",
           "width": 0.8
          }
         },
         "name": "Badminton",
         "orientation": "h",
         "text": [
          "Barcelona",
          "Atlanta",
          "Sydney",
          "Athina",
          "Beijing",
          "London",
          "Rio de Janeiro"
         ],
         "type": "box",
         "x": [
          226,
          263,
          225,
          200,
          184,
          182,
          177
         ]
        },
        {
         "marker": {
          "line": {
           "color": "black",
           "width": 0.8
          }
         },
         "name": "Baseball",
         "orientation": "h",
         "text": [
          "Barcelona",
          "Atlanta",
          "Sydney",
          "Athina",
          "Beijing"
         ],
         "type": "box",
         "x": [
          160,
          160,
          192,
          191,
          191
         ]
        },
        {
         "marker": {
          "line": {
           "color": "black",
           "width": 0.8
          }
         },
         "name": "Basketball",
         "orientation": "h",
         "text": [
          "Berlin",
          "London",
          "Helsinki",
          "Melbourne",
          "Roma",
          "Tokyo",
          "Mexico City",
          "Munich",
          "Montreal",
          "Moskva",
          "Los Angeles",
          "Seoul",
          "Barcelona",
          "Atlanta",
          "Sydney",
          "Athina",
          "Beijing",
          "London",
          "Rio de Janeiro"
         ],
         "type": "box",
         "x": [
          199,
          287,
          294,
          169,
          192,
          189,
          191,
          190,
          213,
          215,
          213,
          236,
          236,
          284,
          286,
          287,
          287,
          287,
          281
         ]
        },
        {
         "marker": {
          "line": {
           "color": "black",
           "width": 0.8
          }
         },
         "name": "Basque Pelota",
         "orientation": "h",
         "text": [
          "Paris"
         ],
         "type": "box",
         "x": [
          2
         ]
        },
        {
         "marker": {
          "line": {
           "color": "black",
           "width": 0.8
          }
         },
         "name": "Beach Volleyball",
         "orientation": "h",
         "text": [
          "Atlanta",
          "Sydney",
          "Athina",
          "Beijing",
          "London",
          "Rio de Janeiro"
         ],
         "type": "box",
         "x": [
          84,
          96,
          96,
          96,
          96,
          96
         ]
        },
        {
         "marker": {
          "line": {
           "color": "black",
           "width": 0.8
          }
         },
         "name": "Biathlon",
         "orientation": "h",
         "text": [],
         "type": "box",
         "x": []
        },
        {
         "marker": {
          "line": {
           "color": "black",
           "width": 0.8
          }
         },
         "name": "Bobsleigh",
         "orientation": "h",
         "text": [],
         "type": "box",
         "x": []
        },
        {
         "marker": {
          "line": {
           "color": "black",
           "width": 0.8
          }
         },
         "name": "Boxing",
         "orientation": "h",
         "text": [
          "St. Louis",
          "London",
          "Antwerpen",
          "Paris",
          "Amsterdam",
          "Los Angeles",
          "Berlin",
          "London",
          "Helsinki",
          "Melbourne",
          "Roma",
          "Tokyo",
          "Mexico City",
          "Munich",
          "Montreal",
          "Moskva",
          "Los Angeles",
          "Seoul",
          "Barcelona",
          "Atlanta",
          "Sydney",
          "Athina",
          "Beijing",
          "London",
          "Rio de Janeiro"
         ],
         "type": "box",
         "x": [
          24,
          42,
          116,
          181,
          144,
          85,
          179,
          205,
          249,
          161,
          281,
          269,
          307,
          354,
          266,
          271,
          354,
          432,
          336,
          355,
          307,
          280,
          283,
          283,
          283
         ]
        },
        {
         "marker": {
          "line": {
           "color": "black",
           "width": 0.8
          }
         },
         "name": "Canoeing",
         "orientation": "h",
         "text": [
          "Berlin",
          "London",
          "Helsinki",
          "Melbourne",
          "Roma",
          "Tokyo",
          "Mexico City",
          "Munich",
          "Montreal",
          "Moskva",
          "Los Angeles",
          "Seoul",
          "Barcelona",
          "Atlanta",
          "Sydney",
          "Athina",
          "Beijing",
          "London",
          "Rio de Janeiro"
         ],
         "type": "box",
         "x": [
          143,
          139,
          184,
          146,
          211,
          167,
          203,
          359,
          340,
          253,
          299,
          388,
          587,
          575,
          448,
          434,
          436,
          418,
          441
         ]
        },
        {
         "marker": {
          "line": {
           "color": "black",
           "width": 0.8
          }
         },
         "name": "Cricket",
         "orientation": "h",
         "text": [
          "Paris"
         ],
         "type": "box",
         "x": [
          24
         ]
        },
        {
         "marker": {
          "line": {
           "color": "black",
           "width": 0.8
          }
         },
         "name": "Croquet",
         "orientation": "h",
         "text": [
          "Paris"
         ],
         "type": "box",
         "x": [
          19
         ]
        },
        {
         "marker": {
          "line": {
           "color": "black",
           "width": 0.8
          }
         },
         "name": "Cross Country Skiing",
         "orientation": "h",
         "text": [],
         "type": "box",
         "x": []
        },
        {
         "marker": {
          "line": {
           "color": "black",
           "width": 0.8
          }
         },
         "name": "Curling",
         "orientation": "h",
         "text": [],
         "type": "box",
         "x": []
        },
        {
         "marker": {
          "line": {
           "color": "black",
           "width": 0.8
          }
         },
         "name": "Cycling",
         "orientation": "h",
         "text": [
          "Athina",
          "Paris",
          "St. Louis",
          "Athina",
          "London",
          "Stockholm",
          "Antwerpen",
          "Paris",
          "Amsterdam",
          "Los Angeles",
          "Berlin",
          "London",
          "Helsinki",
          "Melbourne",
          "Roma",
          "Tokyo",
          "Mexico City",
          "Munich",
          "Montreal",
          "Moskva",
          "Los Angeles",
          "Seoul",
          "Barcelona",
          "Atlanta",
          "Sydney",
          "Athina",
          "Beijing",
          "London",
          "Rio de Janeiro"
         ],
         "type": "box",
         "x": [
          41,
          92,
          61,
          138,
          269,
          242,
          212,
          249,
          227,
          109,
          301,
          320,
          389,
          292,
          423,
          451,
          483,
          526,
          392,
          307,
          475,
          518,
          566,
          584,
          621,
          623,
          652,
          629,
          667
         ]
        },
        {
         "marker": {
          "line": {
           "color": "black",
           "width": 0.8
          }
         },
         "name": "Diving",
         "orientation": "h",
         "text": [
          "St. Louis",
          "Athina",
          "London",
          "Stockholm",
          "Antwerpen",
          "Paris",
          "Amsterdam",
          "Los Angeles",
          "Berlin",
          "London",
          "Helsinki",
          "Melbourne",
          "Roma",
          "Tokyo",
          "Mexico City",
          "Munich",
          "Montreal",
          "Moskva",
          "Los Angeles",
          "Seoul",
          "Barcelona",
          "Atlanta",
          "Sydney",
          "Athina",
          "Beijing",
          "London",
          "Rio de Janeiro"
         ],
         "type": "box",
         "x": [
          5,
          24,
          47,
          86,
          70,
          90,
          74,
          36,
          88,
          84,
          97,
          82,
          96,
          102,
          109,
          124,
          105,
          88,
          101,
          108,
          112,
          139,
          238,
          196,
          182,
          181,
          178
         ]
        },
        {
         "marker": {
          "line": {
           "color": "black",
           "width": 0.8
          }
         },
         "name": "Equestrianism",
         "orientation": "h",
         "text": [
          "Paris",
          "Stockholm",
          "Antwerpen",
          "Paris",
          "Amsterdam",
          "Los Angeles",
          "Berlin",
          "London",
          "Helsinki",
          "Stockholm",
          "Roma",
          "Tokyo",
          "Mexico City",
          "Munich",
          "Montreal",
          "Moskva",
          "Los Angeles",
          "Seoul",
          "Barcelona",
          "Atlanta",
          "Sydney",
          "Athina",
          "Beijing",
          "London",
          "Rio de Janeiro"
         ],
         "type": "box",
         "x": [
          79,
          128,
          132,
          194,
          232,
          65,
          256,
          207,
          263,
          298,
          276,
          224,
          233,
          326,
          246,
          122,
          281,
          324,
          404,
          343,
          295,
          371,
          340,
          350,
          355
         ]
        },
        {
         "marker": {
          "line": {
           "color": "black",
           "width": 0.8
          }
         },
         "name": "Fencing",
         "orientation": "h",
         "text": [
          "Athina",
          "Paris",
          "St. Louis",
          "Athina",
          "London",
          "Stockholm",
          "Antwerpen",
          "Paris",
          "Amsterdam",
          "Los Angeles",
          "Berlin",
          "London",
          "Helsinki",
          "Melbourne",
          "Roma",
          "Tokyo",
          "Mexico City",
          "Munich",
          "Montreal",
          "Moskva",
          "Los Angeles",
          "Seoul",
          "Barcelona",
          "Atlanta",
          "Sydney",
          "Athina",
          "Beijing",
          "London",
          "Rio de Janeiro"
         ],
         "type": "box",
         "x": [
          15,
          317,
          28,
          161,
          240,
          379,
          350,
          424,
          430,
          192,
          556,
          508,
          509,
          278,
          601,
          481,
          490,
          499,
          485,
          321,
          424,
          506,
          458,
          388,
          349,
          323,
          332,
          345,
          346
         ]
        },
        {
         "marker": {
          "line": {
           "color": "black",
           "width": 0.8
          }
         },
         "name": "Figure Skating",
         "orientation": "h",
         "text": [
          "London",
          "Antwerpen"
         ],
         "type": "box",
         "x": [
          23,
          31
         ]
        },
        {
         "marker": {
          "line": {
           "color": "black",
           "width": 0.8
          }
         },
         "name": "Football",
         "orientation": "h",
         "text": [
          "Paris",
          "St. Louis",
          "Athina",
          "London",
          "Stockholm",
          "Antwerpen",
          "Paris",
          "Amsterdam",
          "Berlin",
          "London",
          "Helsinki",
          "Melbourne",
          "Roma",
          "Tokyo",
          "Mexico City",
          "Munich",
          "Montreal",
          "Moskva",
          "Los Angeles",
          "Seoul",
          "Barcelona",
          "Atlanta",
          "Sydney",
          "Athina",
          "Beijing",
          "London",
          "Rio de Janeiro"
         ],
         "type": "box",
         "x": [
          35,
          36,
          45,
          72,
          163,
          190,
          279,
          219,
          201,
          218,
          294,
          143,
          235,
          214,
          273,
          269,
          202,
          256,
          246,
          270,
          272,
          388,
          391,
          425,
          469,
          467,
          473
         ]
        },
        {
         "marker": {
          "line": {
           "color": "black",
           "width": 0.8
          }
         },
         "name": "Freestyle Skiing",
         "orientation": "h",
         "text": [],
         "type": "box",
         "x": []
        },
        {
         "marker": {
          "line": {
           "color": "black",
           "width": 0.8
          }
         },
         "name": "Golf",
         "orientation": "h",
         "text": [
          "Paris",
          "St. Louis",
          "Rio de Janeiro"
         ],
         "type": "box",
         "x": [
          22,
          105,
          120
         ]
        },
        {
         "marker": {
          "line": {
           "color": "black",
           "width": 0.8
          }
         },
         "name": "Gymnastics",
         "orientation": "h",
         "text": [
          "Athina",
          "Paris",
          "St. Louis",
          "Athina",
          "London",
          "Stockholm",
          "Antwerpen",
          "Paris",
          "Amsterdam",
          "Los Angeles",
          "Berlin",
          "London",
          "Helsinki",
          "Melbourne",
          "Roma",
          "Tokyo",
          "Mexico City",
          "Munich",
          "Montreal",
          "Moskva",
          "Los Angeles",
          "Seoul",
          "Barcelona",
          "Atlanta",
          "Sydney",
          "Athina",
          "Beijing",
          "London",
          "Rio de Janeiro"
         ],
         "type": "box",
         "x": [
          97,
          135,
          458,
          156,
          349,
          310,
          263,
          638,
          664,
          147,
          947,
          1060,
          2391,
          913,
          1746,
          1484,
          1496,
          1584,
          1204,
          866,
          930,
          1217,
          1255,
          1397,
          1144,
          1151,
          996,
          848,
          861
         ]
        },
        {
         "marker": {
          "line": {
           "color": "black",
           "width": 0.8
          }
         },
         "name": "Handball",
         "orientation": "h",
         "text": [
          "Berlin",
          "Munich",
          "Montreal",
          "Moskva",
          "Los Angeles",
          "Seoul",
          "Barcelona",
          "Atlanta",
          "Sydney",
          "Athina",
          "Beijing",
          "London",
          "Rio de Janeiro"
         ],
         "type": "box",
         "x": [
          105,
          243,
          243,
          248,
          259,
          281,
          292,
          300,
          323,
          328,
          343,
          347,
          353
         ]
        },
        {
         "marker": {
          "line": {
           "color": "black",
           "width": 0.8
          }
         },
         "name": "Hockey",
         "orientation": "h",
         "text": [
          "London",
          "Antwerpen",
          "Amsterdam",
          "Los Angeles",
          "Berlin",
          "London",
          "Helsinki",
          "Melbourne",
          "Roma",
          "Tokyo",
          "Mexico City",
          "Munich",
          "Montreal",
          "Moskva",
          "Los Angeles",
          "Seoul",
          "Barcelona",
          "Atlanta",
          "Sydney",
          "Athina",
          "Beijing",
          "London",
          "Rio de Janeiro"
         ],
         "type": "box",
         "x": [
          68,
          51,
          137,
          40,
          167,
          187,
          157,
          173,
          236,
          226,
          253,
          263,
          172,
          187,
          286,
          314,
          314,
          320,
          350,
          352,
          387,
          387,
          390
         ]
        },
        {
         "marker": {
          "line": {
           "color": "black",
           "width": 0.8
          }
         },
         "name": "Ice Hockey",
         "orientation": "h",
         "text": [
          "Antwerpen"
         ],
         "type": "box",
         "x": [
          60
         ]
        },
        {
         "marker": {
          "line": {
           "color": "black",
           "width": 0.8
          }
         },
         "name": "Jeu De Paume",
         "orientation": "h",
         "text": [
          "London"
         ],
         "type": "box",
         "x": [
          11
         ]
        },
        {
         "marker": {
          "line": {
           "color": "black",
           "width": 0.8
          }
         },
         "name": "Judo",
         "orientation": "h",
         "text": [
          "Tokyo",
          "Munich",
          "Montreal",
          "Moskva",
          "Los Angeles",
          "Seoul",
          "Barcelona",
          "Atlanta",
          "Sydney",
          "Athina",
          "Beijing",
          "London",
          "Rio de Janeiro"
         ],
         "type": "box",
         "x": [
          72,
          166,
          154,
          193,
          212,
          243,
          433,
          387,
          398,
          384,
          386,
          384,
          389
         ]
        },
        {
         "marker": {
          "line": {
           "color": "black",
           "width": 0.8
          }
         },
         "name": "Lacrosse",
         "orientation": "h",
         "text": [
          "St. Louis",
          "London"
         ],
         "type": "box",
         "x": [
          36,
          24
         ]
        },
        {
         "marker": {
          "line": {
           "color": "black",
           "width": 0.8
          }
         },
         "name": "Luge",
         "orientation": "h",
         "text": [],
         "type": "box",
         "x": []
        },
        {
         "marker": {
          "line": {
           "color": "black",
           "width": 0.8
          }
         },
         "name": "Military Ski Patrol",
         "orientation": "h",
         "text": [],
         "type": "box",
         "x": []
        },
        {
         "marker": {
          "line": {
           "color": "black",
           "width": 0.8
          }
         },
         "name": "Modern Pentathlon",
         "orientation": "h",
         "text": [
          "Stockholm",
          "Antwerpen",
          "Paris",
          "Amsterdam",
          "Los Angeles",
          "Berlin",
          "London",
          "Helsinki",
          "Melbourne",
          "Roma",
          "Tokyo",
          "Mexico City",
          "Munich",
          "Montreal",
          "Moskva",
          "Los Angeles",
          "Seoul",
          "Barcelona",
          "Atlanta",
          "Sydney",
          "Athina",
          "Beijing",
          "London",
          "Rio de Janeiro"
         ],
         "type": "box",
         "x": [
          32,
          23,
          38,
          37,
          25,
          42,
          45,
          99,
          76,
          111,
          70,
          93,
          116,
          89,
          79,
          103,
          122,
          117,
          32,
          48,
          64,
          72,
          72,
          72
         ]
        },
        {
         "marker": {
          "line": {
           "color": "black",
           "width": 0.8
          }
         },
         "name": "Motorboating",
         "orientation": "h",
         "text": [
          "London"
         ],
         "type": "box",
         "x": [
          17
         ]
        },
        {
         "marker": {
          "line": {
           "color": "black",
           "width": 0.8
          }
         },
         "name": "Nordic Combined",
         "orientation": "h",
         "text": [],
         "type": "box",
         "x": []
        },
        {
         "marker": {
          "line": {
           "color": "black",
           "width": 0.8
          }
         },
         "name": "Polo",
         "orientation": "h",
         "text": [
          "Paris",
          "London",
          "Antwerpen",
          "Paris",
          "Berlin"
         ],
         "type": "box",
         "x": [
          21,
          12,
          17,
          24,
          21
         ]
        },
        {
         "marker": {
          "line": {
           "color": "black",
           "width": 0.8
          }
         },
         "name": "Racquets",
         "orientation": "h",
         "text": [
          "London"
         ],
         "type": "box",
         "x": [
          12
         ]
        },
        {
         "marker": {
          "line": {
           "color": "black",
           "width": 0.8
          }
         },
         "name": "Rhythmic Gymnastics",
         "orientation": "h",
         "text": [
          "Los Angeles",
          "Seoul",
          "Barcelona",
          "Atlanta",
          "Sydney",
          "Athina",
          "Beijing",
          "London",
          "Rio de Janeiro"
         ],
         "type": "box",
         "x": [
          33,
          39,
          42,
          90,
          84,
          84,
          95,
          95,
          96
         ]
        },
        {
         "marker": {
          "line": {
           "color": "black",
           "width": 0.8
          }
         },
         "name": "Roque",
         "orientation": "h",
         "text": [
          "St. Louis"
         ],
         "type": "box",
         "x": [
          4
         ]
        },
        {
         "marker": {
          "line": {
           "color": "black",
           "width": 0.8
          }
         },
         "name": "Rowing",
         "orientation": "h",
         "text": [
          "Paris",
          "St. Louis",
          "Athina",
          "London",
          "Stockholm",
          "Antwerpen",
          "Paris",
          "Amsterdam",
          "Los Angeles",
          "Berlin",
          "London",
          "Helsinki",
          "Melbourne",
          "Roma",
          "Tokyo",
          "Mexico City",
          "Munich",
          "Montreal",
          "Moskva",
          "Los Angeles",
          "Seoul",
          "Barcelona",
          "Atlanta",
          "Sydney",
          "Athina",
          "Beijing",
          "London",
          "Rio de Janeiro"
         ],
         "type": "box",
         "x": [
          133,
          46,
          200,
          87,
          197,
          144,
          196,
          247,
          166,
          348,
          318,
          406,
          258,
          431,
          378,
          358,
          442,
          598,
          488,
          465,
          624,
          661,
          621,
          561,
          559,
          563,
          550,
          550
         ]
        },
        {
         "marker": {
          "line": {
           "color": "black",
           "width": 0.8
          }
         },
         "name": "Rugby",
         "orientation": "h",
         "text": [
          "Paris",
          "London",
          "Antwerpen",
          "Paris"
         ],
         "type": "box",
         "x": [
          47,
          30,
          31,
          54
         ]
        },
        {
         "marker": {
          "line": {
           "color": "black",
           "width": 0.8
          }
         },
         "name": "Rugby Sevens",
         "orientation": "h",
         "text": [
          "Rio de Janeiro"
         ],
         "type": "box",
         "x": [
          299
         ]
        },
        {
         "marker": {
          "line": {
           "color": "black",
           "width": 0.8
          }
         },
         "name": "Sailing",
         "orientation": "h",
         "text": [
          "Paris",
          "London",
          "Stockholm",
          "Antwerpen",
          "Paris",
          "Amsterdam",
          "Los Angeles",
          "Berlin",
          "London",
          "Helsinki",
          "Melbourne",
          "Roma",
          "Tokyo",
          "Mexico City",
          "Munich",
          "Montreal",
          "Moskva",
          "Los Angeles",
          "Seoul",
          "Barcelona",
          "Atlanta",
          "Sydney",
          "Athina",
          "Beijing",
          "London",
          "Rio de Janeiro"
         ],
         "type": "box",
         "x": [
          280,
          64,
          109,
          101,
          69,
          128,
          57,
          172,
          186,
          227,
          154,
          290,
          225,
          252,
          323,
          257,
          156,
          300,
          375,
          441,
          458,
          402,
          401,
          400,
          379,
          380
         ]
        },
        {
         "marker": {
          "line": {
           "color": "black",
           "width": 0.8
          }
         },
         "name": "Shooting",
         "orientation": "h",
         "text": [
          "Athina",
          "Paris",
          "Athina",
          "London",
          "Stockholm",
          "Antwerpen",
          "Paris",
          "Los Angeles",
          "Berlin",
          "London",
          "Helsinki",
          "Melbourne",
          "Roma",
          "Tokyo",
          "Mexico City",
          "Munich",
          "Montreal",
          "Moskva",
          "Los Angeles",
          "Seoul",
          "Barcelona",
          "Atlanta",
          "Sydney",
          "Athina",
          "Beijing",
          "London",
          "Rio de Janeiro"
         ],
         "type": "box",
         "x": [
          65,
          221,
          320,
          444,
          794,
          838,
          508,
          44,
          162,
          216,
          289,
          219,
          389,
          312,
          410,
          472,
          369,
          267,
          539,
          545,
          564,
          612,
          599,
          558,
          577,
          560,
          555
         ]
        },
        {
         "marker": {
          "line": {
           "color": "black",
           "width": 0.8
          }
         },
         "name": "Short Track Speed Skating",
         "orientation": "h",
         "text": [],
         "type": "box",
         "x": []
        },
        {
         "marker": {
          "line": {
           "color": "black",
           "width": 0.8
          }
         },
         "name": "Skeleton",
         "orientation": "h",
         "text": [],
         "type": "box",
         "x": []
        },
        {
         "marker": {
          "line": {
           "color": "black",
           "width": 0.8
          }
         },
         "name": "Ski Jumping",
         "orientation": "h",
         "text": [],
         "type": "box",
         "x": []
        },
        {
         "marker": {
          "line": {
           "color": "black",
           "width": 0.8
          }
         },
         "name": "Snowboarding",
         "orientation": "h",
         "text": [],
         "type": "box",
         "x": []
        },
        {
         "marker": {
          "line": {
           "color": "black",
           "width": 0.8
          }
         },
         "name": "Softball",
         "orientation": "h",
         "text": [
          "Atlanta",
          "Sydney",
          "Athina",
          "Beijing"
         ],
         "type": "box",
         "x": [
          120,
          120,
          118,
          120
         ]
        },
        {
         "marker": {
          "line": {
           "color": "black",
           "width": 0.8
          }
         },
         "name": "Speed Skating",
         "orientation": "h",
         "text": [],
         "type": "box",
         "x": []
        },
        {
         "marker": {
          "line": {
           "color": "black",
           "width": 0.8
          }
         },
         "name": "Swimming",
         "orientation": "h",
         "text": [
          "Athina",
          "Paris",
          "St. Louis",
          "Athina",
          "London",
          "Stockholm",
          "Antwerpen",
          "Paris",
          "Amsterdam",
          "Los Angeles",
          "Berlin",
          "London",
          "Helsinki",
          "Melbourne",
          "Roma",
          "Tokyo",
          "Mexico City",
          "Munich",
          "Montreal",
          "Moskva",
          "Los Angeles",
          "Seoul",
          "Barcelona",
          "Atlanta",
          "Sydney",
          "Athina",
          "Beijing",
          "London",
          "Rio de Janeiro"
         ],
         "type": "box",
         "x": [
          18,
          131,
          64,
          78,
          150,
          201,
          209,
          263,
          278,
          195,
          364,
          398,
          483,
          356,
          630,
          736,
          1231,
          1263,
          1076,
          761,
          1232,
          1614,
          1615,
          1635,
          1741,
          1618,
          1749,
          1538,
          1568
         ]
        },
        {
         "marker": {
          "line": {
           "color": "black",
           "width": 0.8
          }
         },
         "name": "Synchronized Swimming",
         "orientation": "h",
         "text": [
          "Los Angeles",
          "Seoul",
          "Barcelona",
          "Atlanta",
          "Sydney",
          "Athina",
          "Beijing",
          "London",
          "Rio de Janeiro"
         ],
         "type": "box",
         "x": [
          86,
          76,
          89,
          72,
          117,
          117,
          117,
          117,
          118
         ]
        },
        {
         "marker": {
          "line": {
           "color": "black",
           "width": 0.8
          }
         },
         "name": "Table Tennis",
         "orientation": "h",
         "text": [
          "Seoul",
          "Barcelona",
          "Atlanta",
          "Sydney",
          "Athina",
          "Beijing",
          "London",
          "Rio de Janeiro"
         ],
         "type": "box",
         "x": [
          206,
          248,
          251,
          268,
          260,
          250,
          236,
          236
         ]
        },
        {
         "marker": {
          "line": {
           "color": "black",
           "width": 0.8
          }
         },
         "name": "Taekwondo",
         "orientation": "h",
         "text": [
          "Sydney",
          "Athina",
          "Beijing",
          "London",
          "Rio de Janeiro"
         ],
         "type": "box",
         "x": [
          102,
          124,
          126,
          128,
          126
         ]
        },
        {
         "marker": {
          "line": {
           "color": "black",
           "width": 0.8
          }
         },
         "name": "Tennis",
         "orientation": "h",
         "text": [
          "Athina",
          "Paris",
          "St. Louis",
          "Athina",
          "London",
          "Stockholm",
          "Antwerpen",
          "Paris",
          "Seoul",
          "Barcelona",
          "Atlanta",
          "Sydney",
          "Athina",
          "Beijing",
          "London",
          "Rio de Janeiro"
         ],
         "type": "box",
         "x": [
          23,
          47,
          57,
          48,
          84,
          173,
          153,
          253,
          202,
          250,
          246,
          248,
          252,
          254,
          286,
          286
         ]
        },
        {
         "marker": {
          "line": {
           "color": "black",
           "width": 0.8
          }
         },
         "name": "Trampolining",
         "orientation": "h",
         "text": [
          "Sydney",
          "Athina",
          "Beijing",
          "London",
          "Rio de Janeiro"
         ],
         "type": "box",
         "x": [
          24,
          32,
          32,
          32,
          32
         ]
        },
        {
         "marker": {
          "line": {
           "color": "black",
           "width": 0.8
          }
         },
         "name": "Triathlon",
         "orientation": "h",
         "text": [
          "Sydney",
          "Athina",
          "Beijing",
          "London",
          "Rio de Janeiro"
         ],
         "type": "box",
         "x": [
          100,
          99,
          110,
          110,
          110
         ]
        },
        {
         "marker": {
          "line": {
           "color": "black",
           "width": 0.8
          }
         },
         "name": "Tug-Of-War",
         "orientation": "h",
         "text": [
          "Paris",
          "St. Louis",
          "Athina",
          "London",
          "Stockholm",
          "Antwerpen"
         ],
         "type": "box",
         "x": [
          12,
          30,
          32,
          40,
          16,
          40
         ]
        },
        {
         "marker": {
          "line": {
           "color": "black",
           "width": 0.8
          }
         },
         "name": "Volleyball",
         "orientation": "h",
         "text": [
          "Tokyo",
          "Mexico City",
          "Munich",
          "Montreal",
          "Moskva",
          "Los Angeles",
          "Seoul",
          "Barcelona",
          "Atlanta",
          "Sydney",
          "Athina",
          "Beijing",
          "London",
          "Rio de Janeiro"
         ],
         "type": "box",
         "x": [
          179,
          206,
          231,
          216,
          204,
          208,
          239,
          231,
          275,
          279,
          283,
          283,
          287,
          283
         ]
        },
        {
         "marker": {
          "line": {
           "color": "black",
           "width": 0.8
          }
         },
         "name": "Water Polo",
         "orientation": "h",
         "text": [
          "Paris",
          "St. Louis",
          "London",
          "Stockholm",
          "Antwerpen",
          "Paris",
          "Amsterdam",
          "Los Angeles",
          "Berlin",
          "London",
          "Helsinki",
          "Melbourne",
          "Roma",
          "Tokyo",
          "Mexico City",
          "Munich",
          "Montreal",
          "Moskva",
          "Los Angeles",
          "Seoul",
          "Barcelona",
          "Atlanta",
          "Sydney",
          "Athina",
          "Beijing",
          "London",
          "Rio de Janeiro"
         ],
         "type": "box",
         "x": [
          53,
          21,
          28,
          45,
          101,
          101,
          112,
          41,
          142,
          156,
          191,
          96,
          150,
          137,
          162,
          176,
          131,
          132,
          153,
          156,
          152,
          153,
          231,
          255,
          256,
          257,
          258
         ]
        },
        {
         "marker": {
          "line": {
           "color": "black",
           "width": 0.8
          }
         },
         "name": "Weightlifting",
         "orientation": "h",
         "text": [
          "Athina",
          "St. Louis",
          "Athina",
          "Antwerpen",
          "Paris",
          "Amsterdam",
          "Los Angeles",
          "Berlin",
          "London",
          "Helsinki",
          "Melbourne",
          "Roma",
          "Tokyo",
          "Mexico City",
          "Munich",
          "Montreal",
          "Moskva",
          "Los Angeles",
          "Seoul",
          "Barcelona",
          "Atlanta",
          "Sydney",
          "Athina",
          "Beijing",
          "London",
          "Rio de Janeiro"
         ],
         "type": "box",
         "x": [
          10,
          7,
          22,
          53,
          107,
          94,
          29,
          80,
          120,
          142,
          105,
          172,
          149,
          160,
          188,
          173,
          172,
          186,
          226,
          244,
          243,
          246,
          249,
          253,
          252,
          255
         ]
        },
        {
         "marker": {
          "line": {
           "color": "black",
           "width": 0.8
          }
         },
         "name": "Wrestling",
         "orientation": "h",
         "text": [
          "Athina",
          "St. Louis",
          "Athina",
          "London",
          "Stockholm",
          "Antwerpen",
          "Paris",
          "Amsterdam",
          "Los Angeles",
          "Berlin",
          "London",
          "Helsinki",
          "Melbourne",
          "Roma",
          "Tokyo",
          "Mexico City",
          "Munich",
          "Montreal",
          "Moskva",
          "Los Angeles",
          "Seoul",
          "Barcelona",
          "Atlanta",
          "Sydney",
          "Athina",
          "Beijing",
          "London",
          "Rio de Janeiro"
         ],
         "type": "box",
         "x": [
          5,
          48,
          39,
          133,
          170,
          161,
          244,
          169,
          90,
          210,
          229,
          262,
          195,
          337,
          302,
          333,
          409,
          349,
          270,
          286,
          457,
          371,
          401,
          314,
          342,
          343,
          339,
          346
         ]
        }
       ],
       "layout": {
        "height": 800,
        "hovermode": "closest",
        "showlegend": false,
        "template": {
         "data": {
          "bar": [
           {
            "error_x": {
             "color": "#2a3f5f"
            },
            "error_y": {
             "color": "#2a3f5f"
            },
            "marker": {
             "line": {
              "color": "#E5ECF6",
              "width": 0.5
             },
             "pattern": {
              "fillmode": "overlay",
              "size": 10,
              "solidity": 0.2
             }
            },
            "type": "bar"
           }
          ],
          "barpolar": [
           {
            "marker": {
             "line": {
              "color": "#E5ECF6",
              "width": 0.5
             },
             "pattern": {
              "fillmode": "overlay",
              "size": 10,
              "solidity": 0.2
             }
            },
            "type": "barpolar"
           }
          ],
          "carpet": [
           {
            "aaxis": {
             "endlinecolor": "#2a3f5f",
             "gridcolor": "white",
             "linecolor": "white",
             "minorgridcolor": "white",
             "startlinecolor": "#2a3f5f"
            },
            "baxis": {
             "endlinecolor": "#2a3f5f",
             "gridcolor": "white",
             "linecolor": "white",
             "minorgridcolor": "white",
             "startlinecolor": "#2a3f5f"
            },
            "type": "carpet"
           }
          ],
          "choropleth": [
           {
            "colorbar": {
             "outlinewidth": 0,
             "ticks": ""
            },
            "type": "choropleth"
           }
          ],
          "contour": [
           {
            "colorbar": {
             "outlinewidth": 0,
             "ticks": ""
            },
            "colorscale": [
             [
              0.0,
              "#0d0887"
             ],
             [
              0.1111111111111111,
              "#46039f"
             ],
             [
              0.2222222222222222,
              "#7201a8"
             ],
             [
              0.3333333333333333,
              "#9c179e"
             ],
             [
              0.4444444444444444,
              "#bd3786"
             ],
             [
              0.5555555555555556,
              "#d8576b"
             ],
             [
              0.6666666666666666,
              "#ed7953"
             ],
             [
              0.7777777777777778,
              "#fb9f3a"
             ],
             [
              0.8888888888888888,
              "#fdca26"
             ],
             [
              1.0,
              "#f0f921"
             ]
            ],
            "type": "contour"
           }
          ],
          "contourcarpet": [
           {
            "colorbar": {
             "outlinewidth": 0,
             "ticks": ""
            },
            "type": "contourcarpet"
           }
          ],
          "heatmap": [
           {
            "colorbar": {
             "outlinewidth": 0,
             "ticks": ""
            },
            "colorscale": [
             [
              0.0,
              "#0d0887"
             ],
             [
              0.1111111111111111,
              "#46039f"
             ],
             [
              0.2222222222222222,
              "#7201a8"
             ],
             [
              0.3333333333333333,
              "#9c179e"
             ],
             [
              0.4444444444444444,
              "#bd3786"
             ],
             [
              0.5555555555555556,
              "#d8576b"
             ],
             [
              0.6666666666666666,
              "#ed7953"
             ],
             [
              0.7777777777777778,
              "#fb9f3a"
             ],
             [
              0.8888888888888888,
              "#fdca26"
             ],
             [
              1.0,
              "#f0f921"
             ]
            ],
            "type": "heatmap"
           }
          ],
          "heatmapgl": [
           {
            "colorbar": {
             "outlinewidth": 0,
             "ticks": ""
            },
            "colorscale": [
             [
              0.0,
              "#0d0887"
             ],
             [
              0.1111111111111111,
              "#46039f"
             ],
             [
              0.2222222222222222,
              "#7201a8"
             ],
             [
              0.3333333333333333,
              "#9c179e"
             ],
             [
              0.4444444444444444,
              "#bd3786"
             ],
             [
              0.5555555555555556,
              "#d8576b"
             ],
             [
              0.6666666666666666,
              "#ed7953"
             ],
             [
              0.7777777777777778,
              "#fb9f3a"
             ],
             [
              0.8888888888888888,
              "#fdca26"
             ],
             [
              1.0,
              "#f0f921"
             ]
            ],
            "type": "heatmapgl"
           }
          ],
          "histogram": [
           {
            "marker": {
             "pattern": {
              "fillmode": "overlay",
              "size": 10,
              "solidity": 0.2
             }
            },
            "type": "histogram"
           }
          ],
          "histogram2d": [
           {
            "colorbar": {
             "outlinewidth": 0,
             "ticks": ""
            },
            "colorscale": [
             [
              0.0,
              "#0d0887"
             ],
             [
              0.1111111111111111,
              "#46039f"
             ],
             [
              0.2222222222222222,
              "#7201a8"
             ],
             [
              0.3333333333333333,
              "#9c179e"
             ],
             [
              0.4444444444444444,
              "#bd3786"
             ],
             [
              0.5555555555555556,
              "#d8576b"
             ],
             [
              0.6666666666666666,
              "#ed7953"
             ],
             [
              0.7777777777777778,
              "#fb9f3a"
             ],
             [
              0.8888888888888888,
              "#fdca26"
             ],
             [
              1.0,
              "#f0f921"
             ]
            ],
            "type": "histogram2d"
           }
          ],
          "histogram2dcontour": [
           {
            "colorbar": {
             "outlinewidth": 0,
             "ticks": ""
            },
            "colorscale": [
             [
              0.0,
              "#0d0887"
             ],
             [
              0.1111111111111111,
              "#46039f"
             ],
             [
              0.2222222222222222,
              "#7201a8"
             ],
             [
              0.3333333333333333,
              "#9c179e"
             ],
             [
              0.4444444444444444,
              "#bd3786"
             ],
             [
              0.5555555555555556,
              "#d8576b"
             ],
             [
              0.6666666666666666,
              "#ed7953"
             ],
             [
              0.7777777777777778,
              "#fb9f3a"
             ],
             [
              0.8888888888888888,
              "#fdca26"
             ],
             [
              1.0,
              "#f0f921"
             ]
            ],
            "type": "histogram2dcontour"
           }
          ],
          "mesh3d": [
           {
            "colorbar": {
             "outlinewidth": 0,
             "ticks": ""
            },
            "type": "mesh3d"
           }
          ],
          "parcoords": [
           {
            "line": {
             "colorbar": {
              "outlinewidth": 0,
              "ticks": ""
             }
            },
            "type": "parcoords"
           }
          ],
          "pie": [
           {
            "automargin": true,
            "type": "pie"
           }
          ],
          "scatter": [
           {
            "fillpattern": {
             "fillmode": "overlay",
             "size": 10,
             "solidity": 0.2
            },
            "type": "scatter"
           }
          ],
          "scatter3d": [
           {
            "line": {
             "colorbar": {
              "outlinewidth": 0,
              "ticks": ""
             }
            },
            "marker": {
             "colorbar": {
              "outlinewidth": 0,
              "ticks": ""
             }
            },
            "type": "scatter3d"
           }
          ],
          "scattercarpet": [
           {
            "marker": {
             "colorbar": {
              "outlinewidth": 0,
              "ticks": ""
             }
            },
            "type": "scattercarpet"
           }
          ],
          "scattergeo": [
           {
            "marker": {
             "colorbar": {
              "outlinewidth": 0,
              "ticks": ""
             }
            },
            "type": "scattergeo"
           }
          ],
          "scattergl": [
           {
            "marker": {
             "colorbar": {
              "outlinewidth": 0,
              "ticks": ""
             }
            },
            "type": "scattergl"
           }
          ],
          "scattermapbox": [
           {
            "marker": {
             "colorbar": {
              "outlinewidth": 0,
              "ticks": ""
             }
            },
            "type": "scattermapbox"
           }
          ],
          "scatterpolar": [
           {
            "marker": {
             "colorbar": {
              "outlinewidth": 0,
              "ticks": ""
             }
            },
            "type": "scatterpolar"
           }
          ],
          "scatterpolargl": [
           {
            "marker": {
             "colorbar": {
              "outlinewidth": 0,
              "ticks": ""
             }
            },
            "type": "scatterpolargl"
           }
          ],
          "scatterternary": [
           {
            "marker": {
             "colorbar": {
              "outlinewidth": 0,
              "ticks": ""
             }
            },
            "type": "scatterternary"
           }
          ],
          "surface": [
           {
            "colorbar": {
             "outlinewidth": 0,
             "ticks": ""
            },
            "colorscale": [
             [
              0.0,
              "#0d0887"
             ],
             [
              0.1111111111111111,
              "#46039f"
             ],
             [
              0.2222222222222222,
              "#7201a8"
             ],
             [
              0.3333333333333333,
              "#9c179e"
             ],
             [
              0.4444444444444444,
              "#bd3786"
             ],
             [
              0.5555555555555556,
              "#d8576b"
             ],
             [
              0.6666666666666666,
              "#ed7953"
             ],
             [
              0.7777777777777778,
              "#fb9f3a"
             ],
             [
              0.8888888888888888,
              "#fdca26"
             ],
             [
              1.0,
              "#f0f921"
             ]
            ],
            "type": "surface"
           }
          ],
          "table": [
           {
            "cells": {
             "fill": {
              "color": "#EBF0F8"
             },
             "line": {
              "color": "white"
             }
            },
            "header": {
             "fill": {
              "color": "#C8D4E3"
             },
             "line": {
              "color": "white"
             }
            },
            "type": "table"
           }
          ]
         },
         "layout": {
          "annotationdefaults": {
           "arrowcolor": "#2a3f5f",
           "arrowhead": 0,
           "arrowwidth": 1
          },
          "autotypenumbers": "strict",
          "coloraxis": {
           "colorbar": {
            "outlinewidth": 0,
            "ticks": ""
           }
          },
          "colorscale": {
           "diverging": [
            [
             0,
             "#8e0152"
            ],
            [
             0.1,
             "#c51b7d"
            ],
            [
             0.2,
             "#de77ae"
            ],
            [
             0.3,
             "#f1b6da"
            ],
            [
             0.4,
             "#fde0ef"
            ],
            [
             0.5,
             "#f7f7f7"
            ],
            [
             0.6,
             "#e6f5d0"
            ],
            [
             0.7,
             "#b8e186"
            ],
            [
             0.8,
             "#7fbc41"
            ],
            [
             0.9,
             "#4d9221"
            ],
            [
             1,
             "#276419"
            ]
           ],
           "sequential": [
            [
             0.0,
             "#0d0887"
            ],
            [
             0.1111111111111111,
             "#46039f"
            ],
            [
             0.2222222222222222,
             "#7201a8"
            ],
            [
             0.3333333333333333,
             "#9c179e"
            ],
            [
             0.4444444444444444,
             "#bd3786"
            ],
            [
             0.5555555555555556,
             "#d8576b"
            ],
            [
             0.6666666666666666,
             "#ed7953"
            ],
            [
             0.7777777777777778,
             "#fb9f3a"
            ],
            [
             0.8888888888888888,
             "#fdca26"
            ],
            [
             1.0,
             "#f0f921"
            ]
           ],
           "sequentialminus": [
            [
             0.0,
             "#0d0887"
            ],
            [
             0.1111111111111111,
             "#46039f"
            ],
            [
             0.2222222222222222,
             "#7201a8"
            ],
            [
             0.3333333333333333,
             "#9c179e"
            ],
            [
             0.4444444444444444,
             "#bd3786"
            ],
            [
             0.5555555555555556,
             "#d8576b"
            ],
            [
             0.6666666666666666,
             "#ed7953"
            ],
            [
             0.7777777777777778,
             "#fb9f3a"
            ],
            [
             0.8888888888888888,
             "#fdca26"
            ],
            [
             1.0,
             "#f0f921"
            ]
           ]
          },
          "colorway": [
           "#636efa",
           "#EF553B",
           "#00cc96",
           "#ab63fa",
           "#FFA15A",
           "#19d3f3",
           "#FF6692",
           "#B6E880",
           "#FF97FF",
           "#FECB52"
          ],
          "font": {
           "color": "#2a3f5f"
          },
          "geo": {
           "bgcolor": "white",
           "lakecolor": "white",
           "landcolor": "#E5ECF6",
           "showlakes": true,
           "showland": true,
           "subunitcolor": "white"
          },
          "hoverlabel": {
           "align": "left"
          },
          "hovermode": "closest",
          "mapbox": {
           "style": "light"
          },
          "paper_bgcolor": "white",
          "plot_bgcolor": "#E5ECF6",
          "polar": {
           "angularaxis": {
            "gridcolor": "white",
            "linecolor": "white",
            "ticks": ""
           },
           "bgcolor": "#E5ECF6",
           "radialaxis": {
            "gridcolor": "white",
            "linecolor": "white",
            "ticks": ""
           }
          },
          "scene": {
           "xaxis": {
            "backgroundcolor": "#E5ECF6",
            "gridcolor": "white",
            "gridwidth": 2,
            "linecolor": "white",
            "showbackground": true,
            "ticks": "",
            "zerolinecolor": "white"
           },
           "yaxis": {
            "backgroundcolor": "#E5ECF6",
            "gridcolor": "white",
            "gridwidth": 2,
            "linecolor": "white",
            "showbackground": true,
            "ticks": "",
            "zerolinecolor": "white"
           },
           "zaxis": {
            "backgroundcolor": "#E5ECF6",
            "gridcolor": "white",
            "gridwidth": 2,
            "linecolor": "white",
            "showbackground": true,
            "ticks": "",
            "zerolinecolor": "white"
           }
          },
          "shapedefaults": {
           "line": {
            "color": "#2a3f5f"
           }
          },
          "ternary": {
           "aaxis": {
            "gridcolor": "white",
            "linecolor": "white",
            "ticks": ""
           },
           "baxis": {
            "gridcolor": "white",
            "linecolor": "white",
            "ticks": ""
           },
           "bgcolor": "#E5ECF6",
           "caxis": {
            "gridcolor": "white",
            "linecolor": "white",
            "ticks": ""
           }
          },
          "title": {
           "x": 0.05
          },
          "xaxis": {
           "automargin": true,
           "gridcolor": "white",
           "linecolor": "white",
           "ticks": "",
           "title": {
            "standoff": 15
           },
           "zerolinecolor": "white",
           "zerolinewidth": 2
          },
          "yaxis": {
           "automargin": true,
           "gridcolor": "white",
           "linecolor": "white",
           "ticks": "",
           "title": {
            "standoff": 15
           },
           "zerolinecolor": "white",
           "zerolinewidth": 2
          }
         }
        },
        "title": {
         "text": "Athlets per Sport (Summer Olympics)"
        },
        "width": 800,
        "xaxis": {
         "showticklabels": true,
         "title": {
          "text": "Number of athlets"
         }
        },
        "yaxis": {
         "showticklabels": true,
         "tickfont": {
          "color": "black",
          "family": "Old Standard TT, serif",
          "size": 8
         },
         "title": {
          "text": "Sport"
         }
        }
       }
      },
      "text/html": [
       "<div>                            <div id=\"941ca5a3-4163-4f87-98c2-a7f2daa0f490\" class=\"plotly-graph-div\" style=\"height:800px; width:800px;\"></div>            <script type=\"text/javascript\">                require([\"plotly\"], function(Plotly) {                    window.PLOTLYENV=window.PLOTLYENV || {};                                    if (document.getElementById(\"941ca5a3-4163-4f87-98c2-a7f2daa0f490\")) {                    Plotly.newPlot(                        \"941ca5a3-4163-4f87-98c2-a7f2daa0f490\",                        [{\"marker\":{\"line\":{\"color\":\"black\",\"width\":0.8}},\"name\":\"Aeronautics\",\"orientation\":\"h\",\"text\":[\"Berlin\"],\"x\":[1],\"type\":\"box\"},{\"marker\":{\"line\":{\"color\":\"black\",\"width\":0.8}},\"name\":\"Alpine Skiing\",\"orientation\":\"h\",\"text\":[],\"x\":[],\"type\":\"box\"},{\"marker\":{\"line\":{\"color\":\"black\",\"width\":0.8}},\"name\":\"Alpinism\",\"orientation\":\"h\",\"text\":[\"Los Angeles\",\"Berlin\"],\"x\":[2,2],\"type\":\"box\"},{\"marker\":{\"line\":{\"color\":\"black\",\"width\":0.8}},\"name\":\"Archery\",\"orientation\":\"h\",\"text\":[\"Paris\",\"St. Louis\",\"London\",\"Antwerpen\",\"Munich\",\"Montreal\",\"Moskva\",\"Los Angeles\",\"Seoul\",\"Barcelona\",\"Atlanta\",\"Sydney\",\"Athina\",\"Beijing\",\"London\",\"Rio de Janeiro\"],\"x\":[32,70,77,86,95,64,67,109,257,247,218,206,212,194,200,200],\"type\":\"box\"},{\"marker\":{\"line\":{\"color\":\"black\",\"width\":0.8}},\"name\":\"Art Competitions\",\"orientation\":\"h\",\"text\":[\"Stockholm\",\"Antwerpen\",\"Paris\",\"Amsterdam\",\"Los Angeles\",\"Berlin\",\"London\"],\"x\":[33,11,318,808,1124,813,471],\"type\":\"box\"},{\"marker\":{\"line\":{\"color\":\"black\",\"width\":0.8}},\"name\":\"Athletics\",\"orientation\":\"h\",\"text\":[\"Athina\",\"Paris\",\"St. Louis\",\"Athina\",\"London\",\"Stockholm\",\"Antwerpen\",\"Paris\",\"Amsterdam\",\"Los Angeles\",\"Berlin\",\"London\",\"Helsinki\",\"Melbourne\",\"Roma\",\"Tokyo\",\"Mexico City\",\"Munich\",\"Montreal\",\"Moskva\",\"Los Angeles\",\"Seoul\",\"Barcelona\",\"Atlanta\",\"Sydney\",\"Athina\",\"Beijing\",\"London\",\"Rio de Janeiro\"],\"x\":[106,234,201,470,778,962,849,1003,992,522,1007,1051,1344,1013,1312,1335,1345,1686,1297,1268,1674,2062,2054,2386,2468,2175,2244,2278,2508],\"type\":\"box\"},{\"marker\":{\"line\":{\"color\":\"black\",\"width\":0.8}},\"name\":\"Badminton\",\"orientation\":\"h\",\"text\":[\"Barcelona\",\"Atlanta\",\"Sydney\",\"Athina\",\"Beijing\",\"London\",\"Rio de Janeiro\"],\"x\":[226,263,225,200,184,182,177],\"type\":\"box\"},{\"marker\":{\"line\":{\"color\":\"black\",\"width\":0.8}},\"name\":\"Baseball\",\"orientation\":\"h\",\"text\":[\"Barcelona\",\"Atlanta\",\"Sydney\",\"Athina\",\"Beijing\"],\"x\":[160,160,192,191,191],\"type\":\"box\"},{\"marker\":{\"line\":{\"color\":\"black\",\"width\":0.8}},\"name\":\"Basketball\",\"orientation\":\"h\",\"text\":[\"Berlin\",\"London\",\"Helsinki\",\"Melbourne\",\"Roma\",\"Tokyo\",\"Mexico City\",\"Munich\",\"Montreal\",\"Moskva\",\"Los Angeles\",\"Seoul\",\"Barcelona\",\"Atlanta\",\"Sydney\",\"Athina\",\"Beijing\",\"London\",\"Rio de Janeiro\"],\"x\":[199,287,294,169,192,189,191,190,213,215,213,236,236,284,286,287,287,287,281],\"type\":\"box\"},{\"marker\":{\"line\":{\"color\":\"black\",\"width\":0.8}},\"name\":\"Basque Pelota\",\"orientation\":\"h\",\"text\":[\"Paris\"],\"x\":[2],\"type\":\"box\"},{\"marker\":{\"line\":{\"color\":\"black\",\"width\":0.8}},\"name\":\"Beach Volleyball\",\"orientation\":\"h\",\"text\":[\"Atlanta\",\"Sydney\",\"Athina\",\"Beijing\",\"London\",\"Rio de Janeiro\"],\"x\":[84,96,96,96,96,96],\"type\":\"box\"},{\"marker\":{\"line\":{\"color\":\"black\",\"width\":0.8}},\"name\":\"Biathlon\",\"orientation\":\"h\",\"text\":[],\"x\":[],\"type\":\"box\"},{\"marker\":{\"line\":{\"color\":\"black\",\"width\":0.8}},\"name\":\"Bobsleigh\",\"orientation\":\"h\",\"text\":[],\"x\":[],\"type\":\"box\"},{\"marker\":{\"line\":{\"color\":\"black\",\"width\":0.8}},\"name\":\"Boxing\",\"orientation\":\"h\",\"text\":[\"St. Louis\",\"London\",\"Antwerpen\",\"Paris\",\"Amsterdam\",\"Los Angeles\",\"Berlin\",\"London\",\"Helsinki\",\"Melbourne\",\"Roma\",\"Tokyo\",\"Mexico City\",\"Munich\",\"Montreal\",\"Moskva\",\"Los Angeles\",\"Seoul\",\"Barcelona\",\"Atlanta\",\"Sydney\",\"Athina\",\"Beijing\",\"London\",\"Rio de Janeiro\"],\"x\":[24,42,116,181,144,85,179,205,249,161,281,269,307,354,266,271,354,432,336,355,307,280,283,283,283],\"type\":\"box\"},{\"marker\":{\"line\":{\"color\":\"black\",\"width\":0.8}},\"name\":\"Canoeing\",\"orientation\":\"h\",\"text\":[\"Berlin\",\"London\",\"Helsinki\",\"Melbourne\",\"Roma\",\"Tokyo\",\"Mexico City\",\"Munich\",\"Montreal\",\"Moskva\",\"Los Angeles\",\"Seoul\",\"Barcelona\",\"Atlanta\",\"Sydney\",\"Athina\",\"Beijing\",\"London\",\"Rio de Janeiro\"],\"x\":[143,139,184,146,211,167,203,359,340,253,299,388,587,575,448,434,436,418,441],\"type\":\"box\"},{\"marker\":{\"line\":{\"color\":\"black\",\"width\":0.8}},\"name\":\"Cricket\",\"orientation\":\"h\",\"text\":[\"Paris\"],\"x\":[24],\"type\":\"box\"},{\"marker\":{\"line\":{\"color\":\"black\",\"width\":0.8}},\"name\":\"Croquet\",\"orientation\":\"h\",\"text\":[\"Paris\"],\"x\":[19],\"type\":\"box\"},{\"marker\":{\"line\":{\"color\":\"black\",\"width\":0.8}},\"name\":\"Cross Country Skiing\",\"orientation\":\"h\",\"text\":[],\"x\":[],\"type\":\"box\"},{\"marker\":{\"line\":{\"color\":\"black\",\"width\":0.8}},\"name\":\"Curling\",\"orientation\":\"h\",\"text\":[],\"x\":[],\"type\":\"box\"},{\"marker\":{\"line\":{\"color\":\"black\",\"width\":0.8}},\"name\":\"Cycling\",\"orientation\":\"h\",\"text\":[\"Athina\",\"Paris\",\"St. Louis\",\"Athina\",\"London\",\"Stockholm\",\"Antwerpen\",\"Paris\",\"Amsterdam\",\"Los Angeles\",\"Berlin\",\"London\",\"Helsinki\",\"Melbourne\",\"Roma\",\"Tokyo\",\"Mexico City\",\"Munich\",\"Montreal\",\"Moskva\",\"Los Angeles\",\"Seoul\",\"Barcelona\",\"Atlanta\",\"Sydney\",\"Athina\",\"Beijing\",\"London\",\"Rio de Janeiro\"],\"x\":[41,92,61,138,269,242,212,249,227,109,301,320,389,292,423,451,483,526,392,307,475,518,566,584,621,623,652,629,667],\"type\":\"box\"},{\"marker\":{\"line\":{\"color\":\"black\",\"width\":0.8}},\"name\":\"Diving\",\"orientation\":\"h\",\"text\":[\"St. Louis\",\"Athina\",\"London\",\"Stockholm\",\"Antwerpen\",\"Paris\",\"Amsterdam\",\"Los Angeles\",\"Berlin\",\"London\",\"Helsinki\",\"Melbourne\",\"Roma\",\"Tokyo\",\"Mexico City\",\"Munich\",\"Montreal\",\"Moskva\",\"Los Angeles\",\"Seoul\",\"Barcelona\",\"Atlanta\",\"Sydney\",\"Athina\",\"Beijing\",\"London\",\"Rio de Janeiro\"],\"x\":[5,24,47,86,70,90,74,36,88,84,97,82,96,102,109,124,105,88,101,108,112,139,238,196,182,181,178],\"type\":\"box\"},{\"marker\":{\"line\":{\"color\":\"black\",\"width\":0.8}},\"name\":\"Equestrianism\",\"orientation\":\"h\",\"text\":[\"Paris\",\"Stockholm\",\"Antwerpen\",\"Paris\",\"Amsterdam\",\"Los Angeles\",\"Berlin\",\"London\",\"Helsinki\",\"Stockholm\",\"Roma\",\"Tokyo\",\"Mexico City\",\"Munich\",\"Montreal\",\"Moskva\",\"Los Angeles\",\"Seoul\",\"Barcelona\",\"Atlanta\",\"Sydney\",\"Athina\",\"Beijing\",\"London\",\"Rio de Janeiro\"],\"x\":[79,128,132,194,232,65,256,207,263,298,276,224,233,326,246,122,281,324,404,343,295,371,340,350,355],\"type\":\"box\"},{\"marker\":{\"line\":{\"color\":\"black\",\"width\":0.8}},\"name\":\"Fencing\",\"orientation\":\"h\",\"text\":[\"Athina\",\"Paris\",\"St. Louis\",\"Athina\",\"London\",\"Stockholm\",\"Antwerpen\",\"Paris\",\"Amsterdam\",\"Los Angeles\",\"Berlin\",\"London\",\"Helsinki\",\"Melbourne\",\"Roma\",\"Tokyo\",\"Mexico City\",\"Munich\",\"Montreal\",\"Moskva\",\"Los Angeles\",\"Seoul\",\"Barcelona\",\"Atlanta\",\"Sydney\",\"Athina\",\"Beijing\",\"London\",\"Rio de Janeiro\"],\"x\":[15,317,28,161,240,379,350,424,430,192,556,508,509,278,601,481,490,499,485,321,424,506,458,388,349,323,332,345,346],\"type\":\"box\"},{\"marker\":{\"line\":{\"color\":\"black\",\"width\":0.8}},\"name\":\"Figure Skating\",\"orientation\":\"h\",\"text\":[\"London\",\"Antwerpen\"],\"x\":[23,31],\"type\":\"box\"},{\"marker\":{\"line\":{\"color\":\"black\",\"width\":0.8}},\"name\":\"Football\",\"orientation\":\"h\",\"text\":[\"Paris\",\"St. Louis\",\"Athina\",\"London\",\"Stockholm\",\"Antwerpen\",\"Paris\",\"Amsterdam\",\"Berlin\",\"London\",\"Helsinki\",\"Melbourne\",\"Roma\",\"Tokyo\",\"Mexico City\",\"Munich\",\"Montreal\",\"Moskva\",\"Los Angeles\",\"Seoul\",\"Barcelona\",\"Atlanta\",\"Sydney\",\"Athina\",\"Beijing\",\"London\",\"Rio de Janeiro\"],\"x\":[35,36,45,72,163,190,279,219,201,218,294,143,235,214,273,269,202,256,246,270,272,388,391,425,469,467,473],\"type\":\"box\"},{\"marker\":{\"line\":{\"color\":\"black\",\"width\":0.8}},\"name\":\"Freestyle Skiing\",\"orientation\":\"h\",\"text\":[],\"x\":[],\"type\":\"box\"},{\"marker\":{\"line\":{\"color\":\"black\",\"width\":0.8}},\"name\":\"Golf\",\"orientation\":\"h\",\"text\":[\"Paris\",\"St. Louis\",\"Rio de Janeiro\"],\"x\":[22,105,120],\"type\":\"box\"},{\"marker\":{\"line\":{\"color\":\"black\",\"width\":0.8}},\"name\":\"Gymnastics\",\"orientation\":\"h\",\"text\":[\"Athina\",\"Paris\",\"St. Louis\",\"Athina\",\"London\",\"Stockholm\",\"Antwerpen\",\"Paris\",\"Amsterdam\",\"Los Angeles\",\"Berlin\",\"London\",\"Helsinki\",\"Melbourne\",\"Roma\",\"Tokyo\",\"Mexico City\",\"Munich\",\"Montreal\",\"Moskva\",\"Los Angeles\",\"Seoul\",\"Barcelona\",\"Atlanta\",\"Sydney\",\"Athina\",\"Beijing\",\"London\",\"Rio de Janeiro\"],\"x\":[97,135,458,156,349,310,263,638,664,147,947,1060,2391,913,1746,1484,1496,1584,1204,866,930,1217,1255,1397,1144,1151,996,848,861],\"type\":\"box\"},{\"marker\":{\"line\":{\"color\":\"black\",\"width\":0.8}},\"name\":\"Handball\",\"orientation\":\"h\",\"text\":[\"Berlin\",\"Munich\",\"Montreal\",\"Moskva\",\"Los Angeles\",\"Seoul\",\"Barcelona\",\"Atlanta\",\"Sydney\",\"Athina\",\"Beijing\",\"London\",\"Rio de Janeiro\"],\"x\":[105,243,243,248,259,281,292,300,323,328,343,347,353],\"type\":\"box\"},{\"marker\":{\"line\":{\"color\":\"black\",\"width\":0.8}},\"name\":\"Hockey\",\"orientation\":\"h\",\"text\":[\"London\",\"Antwerpen\",\"Amsterdam\",\"Los Angeles\",\"Berlin\",\"London\",\"Helsinki\",\"Melbourne\",\"Roma\",\"Tokyo\",\"Mexico City\",\"Munich\",\"Montreal\",\"Moskva\",\"Los Angeles\",\"Seoul\",\"Barcelona\",\"Atlanta\",\"Sydney\",\"Athina\",\"Beijing\",\"London\",\"Rio de Janeiro\"],\"x\":[68,51,137,40,167,187,157,173,236,226,253,263,172,187,286,314,314,320,350,352,387,387,390],\"type\":\"box\"},{\"marker\":{\"line\":{\"color\":\"black\",\"width\":0.8}},\"name\":\"Ice Hockey\",\"orientation\":\"h\",\"text\":[\"Antwerpen\"],\"x\":[60],\"type\":\"box\"},{\"marker\":{\"line\":{\"color\":\"black\",\"width\":0.8}},\"name\":\"Jeu De Paume\",\"orientation\":\"h\",\"text\":[\"London\"],\"x\":[11],\"type\":\"box\"},{\"marker\":{\"line\":{\"color\":\"black\",\"width\":0.8}},\"name\":\"Judo\",\"orientation\":\"h\",\"text\":[\"Tokyo\",\"Munich\",\"Montreal\",\"Moskva\",\"Los Angeles\",\"Seoul\",\"Barcelona\",\"Atlanta\",\"Sydney\",\"Athina\",\"Beijing\",\"London\",\"Rio de Janeiro\"],\"x\":[72,166,154,193,212,243,433,387,398,384,386,384,389],\"type\":\"box\"},{\"marker\":{\"line\":{\"color\":\"black\",\"width\":0.8}},\"name\":\"Lacrosse\",\"orientation\":\"h\",\"text\":[\"St. Louis\",\"London\"],\"x\":[36,24],\"type\":\"box\"},{\"marker\":{\"line\":{\"color\":\"black\",\"width\":0.8}},\"name\":\"Luge\",\"orientation\":\"h\",\"text\":[],\"x\":[],\"type\":\"box\"},{\"marker\":{\"line\":{\"color\":\"black\",\"width\":0.8}},\"name\":\"Military Ski Patrol\",\"orientation\":\"h\",\"text\":[],\"x\":[],\"type\":\"box\"},{\"marker\":{\"line\":{\"color\":\"black\",\"width\":0.8}},\"name\":\"Modern Pentathlon\",\"orientation\":\"h\",\"text\":[\"Stockholm\",\"Antwerpen\",\"Paris\",\"Amsterdam\",\"Los Angeles\",\"Berlin\",\"London\",\"Helsinki\",\"Melbourne\",\"Roma\",\"Tokyo\",\"Mexico City\",\"Munich\",\"Montreal\",\"Moskva\",\"Los Angeles\",\"Seoul\",\"Barcelona\",\"Atlanta\",\"Sydney\",\"Athina\",\"Beijing\",\"London\",\"Rio de Janeiro\"],\"x\":[32,23,38,37,25,42,45,99,76,111,70,93,116,89,79,103,122,117,32,48,64,72,72,72],\"type\":\"box\"},{\"marker\":{\"line\":{\"color\":\"black\",\"width\":0.8}},\"name\":\"Motorboating\",\"orientation\":\"h\",\"text\":[\"London\"],\"x\":[17],\"type\":\"box\"},{\"marker\":{\"line\":{\"color\":\"black\",\"width\":0.8}},\"name\":\"Nordic Combined\",\"orientation\":\"h\",\"text\":[],\"x\":[],\"type\":\"box\"},{\"marker\":{\"line\":{\"color\":\"black\",\"width\":0.8}},\"name\":\"Polo\",\"orientation\":\"h\",\"text\":[\"Paris\",\"London\",\"Antwerpen\",\"Paris\",\"Berlin\"],\"x\":[21,12,17,24,21],\"type\":\"box\"},{\"marker\":{\"line\":{\"color\":\"black\",\"width\":0.8}},\"name\":\"Racquets\",\"orientation\":\"h\",\"text\":[\"London\"],\"x\":[12],\"type\":\"box\"},{\"marker\":{\"line\":{\"color\":\"black\",\"width\":0.8}},\"name\":\"Rhythmic Gymnastics\",\"orientation\":\"h\",\"text\":[\"Los Angeles\",\"Seoul\",\"Barcelona\",\"Atlanta\",\"Sydney\",\"Athina\",\"Beijing\",\"London\",\"Rio de Janeiro\"],\"x\":[33,39,42,90,84,84,95,95,96],\"type\":\"box\"},{\"marker\":{\"line\":{\"color\":\"black\",\"width\":0.8}},\"name\":\"Roque\",\"orientation\":\"h\",\"text\":[\"St. Louis\"],\"x\":[4],\"type\":\"box\"},{\"marker\":{\"line\":{\"color\":\"black\",\"width\":0.8}},\"name\":\"Rowing\",\"orientation\":\"h\",\"text\":[\"Paris\",\"St. Louis\",\"Athina\",\"London\",\"Stockholm\",\"Antwerpen\",\"Paris\",\"Amsterdam\",\"Los Angeles\",\"Berlin\",\"London\",\"Helsinki\",\"Melbourne\",\"Roma\",\"Tokyo\",\"Mexico City\",\"Munich\",\"Montreal\",\"Moskva\",\"Los Angeles\",\"Seoul\",\"Barcelona\",\"Atlanta\",\"Sydney\",\"Athina\",\"Beijing\",\"London\",\"Rio de Janeiro\"],\"x\":[133,46,200,87,197,144,196,247,166,348,318,406,258,431,378,358,442,598,488,465,624,661,621,561,559,563,550,550],\"type\":\"box\"},{\"marker\":{\"line\":{\"color\":\"black\",\"width\":0.8}},\"name\":\"Rugby\",\"orientation\":\"h\",\"text\":[\"Paris\",\"London\",\"Antwerpen\",\"Paris\"],\"x\":[47,30,31,54],\"type\":\"box\"},{\"marker\":{\"line\":{\"color\":\"black\",\"width\":0.8}},\"name\":\"Rugby Sevens\",\"orientation\":\"h\",\"text\":[\"Rio de Janeiro\"],\"x\":[299],\"type\":\"box\"},{\"marker\":{\"line\":{\"color\":\"black\",\"width\":0.8}},\"name\":\"Sailing\",\"orientation\":\"h\",\"text\":[\"Paris\",\"London\",\"Stockholm\",\"Antwerpen\",\"Paris\",\"Amsterdam\",\"Los Angeles\",\"Berlin\",\"London\",\"Helsinki\",\"Melbourne\",\"Roma\",\"Tokyo\",\"Mexico City\",\"Munich\",\"Montreal\",\"Moskva\",\"Los Angeles\",\"Seoul\",\"Barcelona\",\"Atlanta\",\"Sydney\",\"Athina\",\"Beijing\",\"London\",\"Rio de Janeiro\"],\"x\":[280,64,109,101,69,128,57,172,186,227,154,290,225,252,323,257,156,300,375,441,458,402,401,400,379,380],\"type\":\"box\"},{\"marker\":{\"line\":{\"color\":\"black\",\"width\":0.8}},\"name\":\"Shooting\",\"orientation\":\"h\",\"text\":[\"Athina\",\"Paris\",\"Athina\",\"London\",\"Stockholm\",\"Antwerpen\",\"Paris\",\"Los Angeles\",\"Berlin\",\"London\",\"Helsinki\",\"Melbourne\",\"Roma\",\"Tokyo\",\"Mexico City\",\"Munich\",\"Montreal\",\"Moskva\",\"Los Angeles\",\"Seoul\",\"Barcelona\",\"Atlanta\",\"Sydney\",\"Athina\",\"Beijing\",\"London\",\"Rio de Janeiro\"],\"x\":[65,221,320,444,794,838,508,44,162,216,289,219,389,312,410,472,369,267,539,545,564,612,599,558,577,560,555],\"type\":\"box\"},{\"marker\":{\"line\":{\"color\":\"black\",\"width\":0.8}},\"name\":\"Short Track Speed Skating\",\"orientation\":\"h\",\"text\":[],\"x\":[],\"type\":\"box\"},{\"marker\":{\"line\":{\"color\":\"black\",\"width\":0.8}},\"name\":\"Skeleton\",\"orientation\":\"h\",\"text\":[],\"x\":[],\"type\":\"box\"},{\"marker\":{\"line\":{\"color\":\"black\",\"width\":0.8}},\"name\":\"Ski Jumping\",\"orientation\":\"h\",\"text\":[],\"x\":[],\"type\":\"box\"},{\"marker\":{\"line\":{\"color\":\"black\",\"width\":0.8}},\"name\":\"Snowboarding\",\"orientation\":\"h\",\"text\":[],\"x\":[],\"type\":\"box\"},{\"marker\":{\"line\":{\"color\":\"black\",\"width\":0.8}},\"name\":\"Softball\",\"orientation\":\"h\",\"text\":[\"Atlanta\",\"Sydney\",\"Athina\",\"Beijing\"],\"x\":[120,120,118,120],\"type\":\"box\"},{\"marker\":{\"line\":{\"color\":\"black\",\"width\":0.8}},\"name\":\"Speed Skating\",\"orientation\":\"h\",\"text\":[],\"x\":[],\"type\":\"box\"},{\"marker\":{\"line\":{\"color\":\"black\",\"width\":0.8}},\"name\":\"Swimming\",\"orientation\":\"h\",\"text\":[\"Athina\",\"Paris\",\"St. Louis\",\"Athina\",\"London\",\"Stockholm\",\"Antwerpen\",\"Paris\",\"Amsterdam\",\"Los Angeles\",\"Berlin\",\"London\",\"Helsinki\",\"Melbourne\",\"Roma\",\"Tokyo\",\"Mexico City\",\"Munich\",\"Montreal\",\"Moskva\",\"Los Angeles\",\"Seoul\",\"Barcelona\",\"Atlanta\",\"Sydney\",\"Athina\",\"Beijing\",\"London\",\"Rio de Janeiro\"],\"x\":[18,131,64,78,150,201,209,263,278,195,364,398,483,356,630,736,1231,1263,1076,761,1232,1614,1615,1635,1741,1618,1749,1538,1568],\"type\":\"box\"},{\"marker\":{\"line\":{\"color\":\"black\",\"width\":0.8}},\"name\":\"Synchronized Swimming\",\"orientation\":\"h\",\"text\":[\"Los Angeles\",\"Seoul\",\"Barcelona\",\"Atlanta\",\"Sydney\",\"Athina\",\"Beijing\",\"London\",\"Rio de Janeiro\"],\"x\":[86,76,89,72,117,117,117,117,118],\"type\":\"box\"},{\"marker\":{\"line\":{\"color\":\"black\",\"width\":0.8}},\"name\":\"Table Tennis\",\"orientation\":\"h\",\"text\":[\"Seoul\",\"Barcelona\",\"Atlanta\",\"Sydney\",\"Athina\",\"Beijing\",\"London\",\"Rio de Janeiro\"],\"x\":[206,248,251,268,260,250,236,236],\"type\":\"box\"},{\"marker\":{\"line\":{\"color\":\"black\",\"width\":0.8}},\"name\":\"Taekwondo\",\"orientation\":\"h\",\"text\":[\"Sydney\",\"Athina\",\"Beijing\",\"London\",\"Rio de Janeiro\"],\"x\":[102,124,126,128,126],\"type\":\"box\"},{\"marker\":{\"line\":{\"color\":\"black\",\"width\":0.8}},\"name\":\"Tennis\",\"orientation\":\"h\",\"text\":[\"Athina\",\"Paris\",\"St. Louis\",\"Athina\",\"London\",\"Stockholm\",\"Antwerpen\",\"Paris\",\"Seoul\",\"Barcelona\",\"Atlanta\",\"Sydney\",\"Athina\",\"Beijing\",\"London\",\"Rio de Janeiro\"],\"x\":[23,47,57,48,84,173,153,253,202,250,246,248,252,254,286,286],\"type\":\"box\"},{\"marker\":{\"line\":{\"color\":\"black\",\"width\":0.8}},\"name\":\"Trampolining\",\"orientation\":\"h\",\"text\":[\"Sydney\",\"Athina\",\"Beijing\",\"London\",\"Rio de Janeiro\"],\"x\":[24,32,32,32,32],\"type\":\"box\"},{\"marker\":{\"line\":{\"color\":\"black\",\"width\":0.8}},\"name\":\"Triathlon\",\"orientation\":\"h\",\"text\":[\"Sydney\",\"Athina\",\"Beijing\",\"London\",\"Rio de Janeiro\"],\"x\":[100,99,110,110,110],\"type\":\"box\"},{\"marker\":{\"line\":{\"color\":\"black\",\"width\":0.8}},\"name\":\"Tug-Of-War\",\"orientation\":\"h\",\"text\":[\"Paris\",\"St. Louis\",\"Athina\",\"London\",\"Stockholm\",\"Antwerpen\"],\"x\":[12,30,32,40,16,40],\"type\":\"box\"},{\"marker\":{\"line\":{\"color\":\"black\",\"width\":0.8}},\"name\":\"Volleyball\",\"orientation\":\"h\",\"text\":[\"Tokyo\",\"Mexico City\",\"Munich\",\"Montreal\",\"Moskva\",\"Los Angeles\",\"Seoul\",\"Barcelona\",\"Atlanta\",\"Sydney\",\"Athina\",\"Beijing\",\"London\",\"Rio de Janeiro\"],\"x\":[179,206,231,216,204,208,239,231,275,279,283,283,287,283],\"type\":\"box\"},{\"marker\":{\"line\":{\"color\":\"black\",\"width\":0.8}},\"name\":\"Water Polo\",\"orientation\":\"h\",\"text\":[\"Paris\",\"St. Louis\",\"London\",\"Stockholm\",\"Antwerpen\",\"Paris\",\"Amsterdam\",\"Los Angeles\",\"Berlin\",\"London\",\"Helsinki\",\"Melbourne\",\"Roma\",\"Tokyo\",\"Mexico City\",\"Munich\",\"Montreal\",\"Moskva\",\"Los Angeles\",\"Seoul\",\"Barcelona\",\"Atlanta\",\"Sydney\",\"Athina\",\"Beijing\",\"London\",\"Rio de Janeiro\"],\"x\":[53,21,28,45,101,101,112,41,142,156,191,96,150,137,162,176,131,132,153,156,152,153,231,255,256,257,258],\"type\":\"box\"},{\"marker\":{\"line\":{\"color\":\"black\",\"width\":0.8}},\"name\":\"Weightlifting\",\"orientation\":\"h\",\"text\":[\"Athina\",\"St. Louis\",\"Athina\",\"Antwerpen\",\"Paris\",\"Amsterdam\",\"Los Angeles\",\"Berlin\",\"London\",\"Helsinki\",\"Melbourne\",\"Roma\",\"Tokyo\",\"Mexico City\",\"Munich\",\"Montreal\",\"Moskva\",\"Los Angeles\",\"Seoul\",\"Barcelona\",\"Atlanta\",\"Sydney\",\"Athina\",\"Beijing\",\"London\",\"Rio de Janeiro\"],\"x\":[10,7,22,53,107,94,29,80,120,142,105,172,149,160,188,173,172,186,226,244,243,246,249,253,252,255],\"type\":\"box\"},{\"marker\":{\"line\":{\"color\":\"black\",\"width\":0.8}},\"name\":\"Wrestling\",\"orientation\":\"h\",\"text\":[\"Athina\",\"St. Louis\",\"Athina\",\"London\",\"Stockholm\",\"Antwerpen\",\"Paris\",\"Amsterdam\",\"Los Angeles\",\"Berlin\",\"London\",\"Helsinki\",\"Melbourne\",\"Roma\",\"Tokyo\",\"Mexico City\",\"Munich\",\"Montreal\",\"Moskva\",\"Los Angeles\",\"Seoul\",\"Barcelona\",\"Atlanta\",\"Sydney\",\"Athina\",\"Beijing\",\"London\",\"Rio de Janeiro\"],\"x\":[5,48,39,133,170,161,244,169,90,210,229,262,195,337,302,333,409,349,270,286,457,371,401,314,342,343,339,346],\"type\":\"box\"}],                        {\"height\":800,\"hovermode\":\"closest\",\"showlegend\":false,\"template\":{\"data\":{\"barpolar\":[{\"marker\":{\"line\":{\"color\":\"#E5ECF6\",\"width\":0.5},\"pattern\":{\"fillmode\":\"overlay\",\"size\":10,\"solidity\":0.2}},\"type\":\"barpolar\"}],\"bar\":[{\"error_x\":{\"color\":\"#2a3f5f\"},\"error_y\":{\"color\":\"#2a3f5f\"},\"marker\":{\"line\":{\"color\":\"#E5ECF6\",\"width\":0.5},\"pattern\":{\"fillmode\":\"overlay\",\"size\":10,\"solidity\":0.2}},\"type\":\"bar\"}],\"carpet\":[{\"aaxis\":{\"endlinecolor\":\"#2a3f5f\",\"gridcolor\":\"white\",\"linecolor\":\"white\",\"minorgridcolor\":\"white\",\"startlinecolor\":\"#2a3f5f\"},\"baxis\":{\"endlinecolor\":\"#2a3f5f\",\"gridcolor\":\"white\",\"linecolor\":\"white\",\"minorgridcolor\":\"white\",\"startlinecolor\":\"#2a3f5f\"},\"type\":\"carpet\"}],\"choropleth\":[{\"colorbar\":{\"outlinewidth\":0,\"ticks\":\"\"},\"type\":\"choropleth\"}],\"contourcarpet\":[{\"colorbar\":{\"outlinewidth\":0,\"ticks\":\"\"},\"type\":\"contourcarpet\"}],\"contour\":[{\"colorbar\":{\"outlinewidth\":0,\"ticks\":\"\"},\"colorscale\":[[0.0,\"#0d0887\"],[0.1111111111111111,\"#46039f\"],[0.2222222222222222,\"#7201a8\"],[0.3333333333333333,\"#9c179e\"],[0.4444444444444444,\"#bd3786\"],[0.5555555555555556,\"#d8576b\"],[0.6666666666666666,\"#ed7953\"],[0.7777777777777778,\"#fb9f3a\"],[0.8888888888888888,\"#fdca26\"],[1.0,\"#f0f921\"]],\"type\":\"contour\"}],\"heatmapgl\":[{\"colorbar\":{\"outlinewidth\":0,\"ticks\":\"\"},\"colorscale\":[[0.0,\"#0d0887\"],[0.1111111111111111,\"#46039f\"],[0.2222222222222222,\"#7201a8\"],[0.3333333333333333,\"#9c179e\"],[0.4444444444444444,\"#bd3786\"],[0.5555555555555556,\"#d8576b\"],[0.6666666666666666,\"#ed7953\"],[0.7777777777777778,\"#fb9f3a\"],[0.8888888888888888,\"#fdca26\"],[1.0,\"#f0f921\"]],\"type\":\"heatmapgl\"}],\"heatmap\":[{\"colorbar\":{\"outlinewidth\":0,\"ticks\":\"\"},\"colorscale\":[[0.0,\"#0d0887\"],[0.1111111111111111,\"#46039f\"],[0.2222222222222222,\"#7201a8\"],[0.3333333333333333,\"#9c179e\"],[0.4444444444444444,\"#bd3786\"],[0.5555555555555556,\"#d8576b\"],[0.6666666666666666,\"#ed7953\"],[0.7777777777777778,\"#fb9f3a\"],[0.8888888888888888,\"#fdca26\"],[1.0,\"#f0f921\"]],\"type\":\"heatmap\"}],\"histogram2dcontour\":[{\"colorbar\":{\"outlinewidth\":0,\"ticks\":\"\"},\"colorscale\":[[0.0,\"#0d0887\"],[0.1111111111111111,\"#46039f\"],[0.2222222222222222,\"#7201a8\"],[0.3333333333333333,\"#9c179e\"],[0.4444444444444444,\"#bd3786\"],[0.5555555555555556,\"#d8576b\"],[0.6666666666666666,\"#ed7953\"],[0.7777777777777778,\"#fb9f3a\"],[0.8888888888888888,\"#fdca26\"],[1.0,\"#f0f921\"]],\"type\":\"histogram2dcontour\"}],\"histogram2d\":[{\"colorbar\":{\"outlinewidth\":0,\"ticks\":\"\"},\"colorscale\":[[0.0,\"#0d0887\"],[0.1111111111111111,\"#46039f\"],[0.2222222222222222,\"#7201a8\"],[0.3333333333333333,\"#9c179e\"],[0.4444444444444444,\"#bd3786\"],[0.5555555555555556,\"#d8576b\"],[0.6666666666666666,\"#ed7953\"],[0.7777777777777778,\"#fb9f3a\"],[0.8888888888888888,\"#fdca26\"],[1.0,\"#f0f921\"]],\"type\":\"histogram2d\"}],\"histogram\":[{\"marker\":{\"pattern\":{\"fillmode\":\"overlay\",\"size\":10,\"solidity\":0.2}},\"type\":\"histogram\"}],\"mesh3d\":[{\"colorbar\":{\"outlinewidth\":0,\"ticks\":\"\"},\"type\":\"mesh3d\"}],\"parcoords\":[{\"line\":{\"colorbar\":{\"outlinewidth\":0,\"ticks\":\"\"}},\"type\":\"parcoords\"}],\"pie\":[{\"automargin\":true,\"type\":\"pie\"}],\"scatter3d\":[{\"line\":{\"colorbar\":{\"outlinewidth\":0,\"ticks\":\"\"}},\"marker\":{\"colorbar\":{\"outlinewidth\":0,\"ticks\":\"\"}},\"type\":\"scatter3d\"}],\"scattercarpet\":[{\"marker\":{\"colorbar\":{\"outlinewidth\":0,\"ticks\":\"\"}},\"type\":\"scattercarpet\"}],\"scattergeo\":[{\"marker\":{\"colorbar\":{\"outlinewidth\":0,\"ticks\":\"\"}},\"type\":\"scattergeo\"}],\"scattergl\":[{\"marker\":{\"colorbar\":{\"outlinewidth\":0,\"ticks\":\"\"}},\"type\":\"scattergl\"}],\"scattermapbox\":[{\"marker\":{\"colorbar\":{\"outlinewidth\":0,\"ticks\":\"\"}},\"type\":\"scattermapbox\"}],\"scatterpolargl\":[{\"marker\":{\"colorbar\":{\"outlinewidth\":0,\"ticks\":\"\"}},\"type\":\"scatterpolargl\"}],\"scatterpolar\":[{\"marker\":{\"colorbar\":{\"outlinewidth\":0,\"ticks\":\"\"}},\"type\":\"scatterpolar\"}],\"scatter\":[{\"fillpattern\":{\"fillmode\":\"overlay\",\"size\":10,\"solidity\":0.2},\"type\":\"scatter\"}],\"scatterternary\":[{\"marker\":{\"colorbar\":{\"outlinewidth\":0,\"ticks\":\"\"}},\"type\":\"scatterternary\"}],\"surface\":[{\"colorbar\":{\"outlinewidth\":0,\"ticks\":\"\"},\"colorscale\":[[0.0,\"#0d0887\"],[0.1111111111111111,\"#46039f\"],[0.2222222222222222,\"#7201a8\"],[0.3333333333333333,\"#9c179e\"],[0.4444444444444444,\"#bd3786\"],[0.5555555555555556,\"#d8576b\"],[0.6666666666666666,\"#ed7953\"],[0.7777777777777778,\"#fb9f3a\"],[0.8888888888888888,\"#fdca26\"],[1.0,\"#f0f921\"]],\"type\":\"surface\"}],\"table\":[{\"cells\":{\"fill\":{\"color\":\"#EBF0F8\"},\"line\":{\"color\":\"white\"}},\"header\":{\"fill\":{\"color\":\"#C8D4E3\"},\"line\":{\"color\":\"white\"}},\"type\":\"table\"}]},\"layout\":{\"annotationdefaults\":{\"arrowcolor\":\"#2a3f5f\",\"arrowhead\":0,\"arrowwidth\":1},\"autotypenumbers\":\"strict\",\"coloraxis\":{\"colorbar\":{\"outlinewidth\":0,\"ticks\":\"\"}},\"colorscale\":{\"diverging\":[[0,\"#8e0152\"],[0.1,\"#c51b7d\"],[0.2,\"#de77ae\"],[0.3,\"#f1b6da\"],[0.4,\"#fde0ef\"],[0.5,\"#f7f7f7\"],[0.6,\"#e6f5d0\"],[0.7,\"#b8e186\"],[0.8,\"#7fbc41\"],[0.9,\"#4d9221\"],[1,\"#276419\"]],\"sequential\":[[0.0,\"#0d0887\"],[0.1111111111111111,\"#46039f\"],[0.2222222222222222,\"#7201a8\"],[0.3333333333333333,\"#9c179e\"],[0.4444444444444444,\"#bd3786\"],[0.5555555555555556,\"#d8576b\"],[0.6666666666666666,\"#ed7953\"],[0.7777777777777778,\"#fb9f3a\"],[0.8888888888888888,\"#fdca26\"],[1.0,\"#f0f921\"]],\"sequentialminus\":[[0.0,\"#0d0887\"],[0.1111111111111111,\"#46039f\"],[0.2222222222222222,\"#7201a8\"],[0.3333333333333333,\"#9c179e\"],[0.4444444444444444,\"#bd3786\"],[0.5555555555555556,\"#d8576b\"],[0.6666666666666666,\"#ed7953\"],[0.7777777777777778,\"#fb9f3a\"],[0.8888888888888888,\"#fdca26\"],[1.0,\"#f0f921\"]]},\"colorway\":[\"#636efa\",\"#EF553B\",\"#00cc96\",\"#ab63fa\",\"#FFA15A\",\"#19d3f3\",\"#FF6692\",\"#B6E880\",\"#FF97FF\",\"#FECB52\"],\"font\":{\"color\":\"#2a3f5f\"},\"geo\":{\"bgcolor\":\"white\",\"lakecolor\":\"white\",\"landcolor\":\"#E5ECF6\",\"showlakes\":true,\"showland\":true,\"subunitcolor\":\"white\"},\"hoverlabel\":{\"align\":\"left\"},\"hovermode\":\"closest\",\"mapbox\":{\"style\":\"light\"},\"paper_bgcolor\":\"white\",\"plot_bgcolor\":\"#E5ECF6\",\"polar\":{\"angularaxis\":{\"gridcolor\":\"white\",\"linecolor\":\"white\",\"ticks\":\"\"},\"bgcolor\":\"#E5ECF6\",\"radialaxis\":{\"gridcolor\":\"white\",\"linecolor\":\"white\",\"ticks\":\"\"}},\"scene\":{\"xaxis\":{\"backgroundcolor\":\"#E5ECF6\",\"gridcolor\":\"white\",\"gridwidth\":2,\"linecolor\":\"white\",\"showbackground\":true,\"ticks\":\"\",\"zerolinecolor\":\"white\"},\"yaxis\":{\"backgroundcolor\":\"#E5ECF6\",\"gridcolor\":\"white\",\"gridwidth\":2,\"linecolor\":\"white\",\"showbackground\":true,\"ticks\":\"\",\"zerolinecolor\":\"white\"},\"zaxis\":{\"backgroundcolor\":\"#E5ECF6\",\"gridcolor\":\"white\",\"gridwidth\":2,\"linecolor\":\"white\",\"showbackground\":true,\"ticks\":\"\",\"zerolinecolor\":\"white\"}},\"shapedefaults\":{\"line\":{\"color\":\"#2a3f5f\"}},\"ternary\":{\"aaxis\":{\"gridcolor\":\"white\",\"linecolor\":\"white\",\"ticks\":\"\"},\"baxis\":{\"gridcolor\":\"white\",\"linecolor\":\"white\",\"ticks\":\"\"},\"bgcolor\":\"#E5ECF6\",\"caxis\":{\"gridcolor\":\"white\",\"linecolor\":\"white\",\"ticks\":\"\"}},\"title\":{\"x\":0.05},\"xaxis\":{\"automargin\":true,\"gridcolor\":\"white\",\"linecolor\":\"white\",\"ticks\":\"\",\"title\":{\"standoff\":15},\"zerolinecolor\":\"white\",\"zerolinewidth\":2},\"yaxis\":{\"automargin\":true,\"gridcolor\":\"white\",\"linecolor\":\"white\",\"ticks\":\"\",\"title\":{\"standoff\":15},\"zerolinecolor\":\"white\",\"zerolinewidth\":2}}},\"title\":{\"text\":\"Athlets per Sport (Summer Olympics)\"},\"width\":800,\"xaxis\":{\"showticklabels\":true,\"title\":{\"text\":\"Number of athlets\"}},\"yaxis\":{\"showticklabels\":true,\"tickfont\":{\"color\":\"black\",\"family\":\"Old Standard TT, serif\",\"size\":8},\"title\":{\"text\":\"Sport\"}}},                        {\"responsive\": true}                    ).then(function(){\n",
       "                            \n",
       "var gd = document.getElementById('941ca5a3-4163-4f87-98c2-a7f2daa0f490');\n",
       "var x = new MutationObserver(function (mutations, observer) {{\n",
       "        var display = window.getComputedStyle(gd).display;\n",
       "        if (!display || display === 'none') {{\n",
       "            console.log([gd, 'removed!']);\n",
       "            Plotly.purge(gd);\n",
       "            observer.disconnect();\n",
       "        }}\n",
       "}});\n",
       "\n",
       "// Listen for the removal of the full notebook cells\n",
       "var notebookContainer = gd.closest('#notebook-container');\n",
       "if (notebookContainer) {{\n",
       "    x.observe(notebookContainer, {childList: true});\n",
       "}}\n",
       "\n",
       "// Listen for the clearing of the current output cell\n",
       "var outputEl = gd.closest('.output');\n",
       "if (outputEl) {{\n",
       "    x.observe(outputEl, {childList: true});\n",
       "}}\n",
       "\n",
       "                        })                };                });            </script>        </div>"
      ]
     },
     "metadata": {},
     "output_type": "display_data"
    }
   ],
   "source": [
    "def draw_trace(dataset, sport):\n",
    "    dfS = dataset[dataset['Sport']==sport];\n",
    "    trace = go.Box(\n",
    "        x = dfS['Athlets'],\n",
    "        name=sport,\n",
    "         marker=dict(\n",
    "                    line=dict(\n",
    "                        color='black',\n",
    "                        width=0.8),\n",
    "                ),\n",
    "        text=dfS['City'], \n",
    "        orientation = 'h'\n",
    "    )\n",
    "    return trace\n",
    "\n",
    "\n",
    "def draw_group(dataset, title,height=800):\n",
    "    data = list()\n",
    "    for sport in sports:\n",
    "        data.append(draw_trace(dataset, sport))\n",
    "\n",
    "\n",
    "    layout = dict(title = title,\n",
    "              xaxis = dict(title = 'Number of athlets',showticklabels=True),\n",
    "              yaxis = dict(title = 'Sport', showticklabels=True, tickfont=dict(\n",
    "                family='Old Standard TT, serif',\n",
    "                size=8,\n",
    "                color='black'),), \n",
    "              hovermode = 'closest',\n",
    "              showlegend=False,\n",
    "                  width=800,\n",
    "                  height=height,\n",
    "             )\n",
    "    fig = dict(data=data, layout=layout)\n",
    "    iplot(fig, filename='events-sports1')\n",
    "\n",
    "# select only Summer Olympics\n",
    "df_S = df[df['Season']=='Summer']\n",
    "# draw the boxplots for the Summer Olympics\n",
    "draw_group(df_S, \"Athlets per Sport (Summer Olympics)\")"
   ]
  },
  {
   "cell_type": "markdown",
   "id": "cc5a7ffe",
   "metadata": {
    "_uuid": "420f2a0ecd09c1c1aab4fe080ab0e88d6571a8e4",
    "papermill": {
     "duration": 0.089652,
     "end_time": "2022-07-27T20:00:45.107886",
     "exception": false,
     "start_time": "2022-07-27T20:00:45.018234",
     "status": "completed"
    },
    "tags": []
   },
   "source": [
    "Let's now use the same function defined above to plot the sports in Winter Olympics."
   ]
  },
  {
   "cell_type": "code",
   "execution_count": 25,
   "id": "f31a9cdd",
   "metadata": {
    "_uuid": "63ea158da58bde293562438c6d7a60002b627676",
    "execution": {
     "iopub.execute_input": "2022-07-27T20:00:45.291598Z",
     "iopub.status.busy": "2022-07-27T20:00:45.291176Z",
     "iopub.status.idle": "2022-07-27T20:00:45.627386Z",
     "shell.execute_reply": "2022-07-27T20:00:45.625916Z"
    },
    "papermill": {
     "duration": 0.434378,
     "end_time": "2022-07-27T20:00:45.633638",
     "exception": false,
     "start_time": "2022-07-27T20:00:45.199260",
     "status": "completed"
    },
    "tags": []
   },
   "outputs": [
    {
     "data": {
      "application/vnd.plotly.v1+json": {
       "config": {
        "linkText": "Export to plot.ly",
        "plotlyServerURL": "https://plot.ly",
        "showLink": false
       },
       "data": [
        {
         "marker": {
          "line": {
           "color": "black",
           "width": 0.8
          }
         },
         "name": "Aeronautics",
         "orientation": "h",
         "text": [],
         "type": "box",
         "x": []
        },
        {
         "marker": {
          "line": {
           "color": "black",
           "width": 0.8
          }
         },
         "name": "Alpine Skiing",
         "orientation": "h",
         "text": [
          "Garmisch-Partenkirchen",
          "Sankt Moritz",
          "Oslo",
          "Cortina d'Ampezzo",
          "Squaw Valley",
          "Innsbruck",
          "Grenoble",
          "Sapporo",
          "Innsbruck",
          "Lake Placid",
          "Sarajevo",
          "Calgary",
          "Albertville",
          "Lillehammer",
          "Nagano",
          "Salt Lake City",
          "Torino",
          "Vancouver",
          "Sochi"
         ],
         "type": "box",
         "x": [
          103,
          360,
          378,
          403,
          320,
          411,
          422,
          325,
          390,
          327,
          401,
          668,
          750,
          544,
          477,
          559,
          619,
          685,
          687
         ]
        },
        {
         "marker": {
          "line": {
           "color": "black",
           "width": 0.8
          }
         },
         "name": "Alpinism",
         "orientation": "h",
         "text": [
          "Chamonix"
         ],
         "type": "box",
         "x": [
          21
         ]
        },
        {
         "marker": {
          "line": {
           "color": "black",
           "width": 0.8
          }
         },
         "name": "Archery",
         "orientation": "h",
         "text": [],
         "type": "box",
         "x": []
        },
        {
         "marker": {
          "line": {
           "color": "black",
           "width": 0.8
          }
         },
         "name": "Art Competitions",
         "orientation": "h",
         "text": [],
         "type": "box",
         "x": []
        },
        {
         "marker": {
          "line": {
           "color": "black",
           "width": 0.8
          }
         },
         "name": "Athletics",
         "orientation": "h",
         "text": [],
         "type": "box",
         "x": []
        },
        {
         "marker": {
          "line": {
           "color": "black",
           "width": 0.8
          }
         },
         "name": "Badminton",
         "orientation": "h",
         "text": [],
         "type": "box",
         "x": []
        },
        {
         "marker": {
          "line": {
           "color": "black",
           "width": 0.8
          }
         },
         "name": "Baseball",
         "orientation": "h",
         "text": [],
         "type": "box",
         "x": []
        },
        {
         "marker": {
          "line": {
           "color": "black",
           "width": 0.8
          }
         },
         "name": "Basketball",
         "orientation": "h",
         "text": [],
         "type": "box",
         "x": []
        },
        {
         "marker": {
          "line": {
           "color": "black",
           "width": 0.8
          }
         },
         "name": "Basque Pelota",
         "orientation": "h",
         "text": [],
         "type": "box",
         "x": []
        },
        {
         "marker": {
          "line": {
           "color": "black",
           "width": 0.8
          }
         },
         "name": "Beach Volleyball",
         "orientation": "h",
         "text": [],
         "type": "box",
         "x": []
        },
        {
         "marker": {
          "line": {
           "color": "black",
           "width": 0.8
          }
         },
         "name": "Biathlon",
         "orientation": "h",
         "text": [
          "Squaw Valley",
          "Innsbruck",
          "Grenoble",
          "Sapporo",
          "Innsbruck",
          "Lake Placid",
          "Sarajevo",
          "Calgary",
          "Albertville",
          "Lillehammer",
          "Nagano",
          "Salt Lake City",
          "Torino",
          "Vancouver",
          "Sochi"
         ],
         "type": "box",
         "x": [
          30,
          51,
          116,
          106,
          112,
          159,
          195,
          207,
          457,
          416,
          413,
          564,
          658,
          683,
          726
         ]
        },
        {
         "marker": {
          "line": {
           "color": "black",
           "width": 0.8
          }
         },
         "name": "Bobsleigh",
         "orientation": "h",
         "text": [
          "Chamonix",
          "Sankt Moritz",
          "Lake Placid",
          "Garmisch-Partenkirchen",
          "Sankt Moritz",
          "Oslo",
          "Cortina d'Ampezzo",
          "Innsbruck",
          "Grenoble",
          "Sapporo",
          "Innsbruck",
          "Lake Placid",
          "Sarajevo",
          "Calgary",
          "Albertville",
          "Lillehammer",
          "Nagano",
          "Salt Lake City",
          "Torino",
          "Vancouver",
          "Sochi"
         ],
         "type": "box",
         "x": [
          39,
          116,
          52,
          118,
          92,
          96,
          135,
          117,
          120,
          114,
          133,
          108,
          152,
          186,
          216,
          207,
          204,
          240,
          191,
          199,
          223
         ]
        },
        {
         "marker": {
          "line": {
           "color": "black",
           "width": 0.8
          }
         },
         "name": "Boxing",
         "orientation": "h",
         "text": [],
         "type": "box",
         "x": []
        },
        {
         "marker": {
          "line": {
           "color": "black",
           "width": 0.8
          }
         },
         "name": "Canoeing",
         "orientation": "h",
         "text": [],
         "type": "box",
         "x": []
        },
        {
         "marker": {
          "line": {
           "color": "black",
           "width": 0.8
          }
         },
         "name": "Cricket",
         "orientation": "h",
         "text": [],
         "type": "box",
         "x": []
        },
        {
         "marker": {
          "line": {
           "color": "black",
           "width": 0.8
          }
         },
         "name": "Croquet",
         "orientation": "h",
         "text": [],
         "type": "box",
         "x": []
        },
        {
         "marker": {
          "line": {
           "color": "black",
           "width": 0.8
          }
         },
         "name": "Cross Country Skiing",
         "orientation": "h",
         "text": [
          "Chamonix",
          "Sankt Moritz",
          "Lake Placid",
          "Garmisch-Partenkirchen",
          "Sankt Moritz",
          "Oslo",
          "Cortina d'Ampezzo",
          "Squaw Valley",
          "Innsbruck",
          "Grenoble",
          "Sapporo",
          "Innsbruck",
          "Lake Placid",
          "Sarajevo",
          "Calgary",
          "Albertville",
          "Lillehammer",
          "Nagano",
          "Salt Lake City",
          "Torino",
          "Vancouver",
          "Sochi"
         ],
         "type": "box",
         "x": [
          74,
          90,
          74,
          175,
          156,
          188,
          275,
          216,
          332,
          344,
          335,
          395,
          309,
          477,
          528,
          717,
          639,
          733,
          774,
          812,
          725,
          765
         ]
        },
        {
         "marker": {
          "line": {
           "color": "black",
           "width": 0.8
          }
         },
         "name": "Curling",
         "orientation": "h",
         "text": [
          "Chamonix",
          "Nagano",
          "Salt Lake City",
          "Torino",
          "Vancouver",
          "Sochi"
         ],
         "type": "box",
         "x": [
          16,
          80,
          96,
          91,
          93,
          87
         ]
        },
        {
         "marker": {
          "line": {
           "color": "black",
           "width": 0.8
          }
         },
         "name": "Cycling",
         "orientation": "h",
         "text": [],
         "type": "box",
         "x": []
        },
        {
         "marker": {
          "line": {
           "color": "black",
           "width": 0.8
          }
         },
         "name": "Diving",
         "orientation": "h",
         "text": [],
         "type": "box",
         "x": []
        },
        {
         "marker": {
          "line": {
           "color": "black",
           "width": 0.8
          }
         },
         "name": "Equestrianism",
         "orientation": "h",
         "text": [],
         "type": "box",
         "x": []
        },
        {
         "marker": {
          "line": {
           "color": "black",
           "width": 0.8
          }
         },
         "name": "Fencing",
         "orientation": "h",
         "text": [],
         "type": "box",
         "x": []
        },
        {
         "marker": {
          "line": {
           "color": "black",
           "width": 0.8
          }
         },
         "name": "Figure Skating",
         "orientation": "h",
         "text": [
          "Chamonix",
          "Sankt Moritz",
          "Lake Placid",
          "Garmisch-Partenkirchen",
          "Sankt Moritz",
          "Oslo",
          "Cortina d'Ampezzo",
          "Squaw Valley",
          "Innsbruck",
          "Grenoble",
          "Sapporo",
          "Innsbruck",
          "Lake Placid",
          "Sarajevo",
          "Calgary",
          "Albertville",
          "Lillehammer",
          "Nagano",
          "Salt Lake City",
          "Torino",
          "Vancouver",
          "Sochi"
         ],
         "type": "box",
         "x": [
          37,
          63,
          41,
          87,
          71,
          65,
          59,
          71,
          88,
          96,
          68,
          105,
          85,
          114,
          129,
          133,
          130,
          145,
          143,
          147,
          146,
          221
         ]
        },
        {
         "marker": {
          "line": {
           "color": "black",
           "width": 0.8
          }
         },
         "name": "Football",
         "orientation": "h",
         "text": [],
         "type": "box",
         "x": []
        },
        {
         "marker": {
          "line": {
           "color": "black",
           "width": 0.8
          }
         },
         "name": "Freestyle Skiing",
         "orientation": "h",
         "text": [
          "Albertville",
          "Lillehammer",
          "Nagano",
          "Salt Lake City",
          "Torino",
          "Vancouver",
          "Sochi"
         ],
         "type": "box",
         "x": [
          71,
          99,
          110,
          105,
          116,
          172,
          264
         ]
        },
        {
         "marker": {
          "line": {
           "color": "black",
           "width": 0.8
          }
         },
         "name": "Golf",
         "orientation": "h",
         "text": [],
         "type": "box",
         "x": []
        },
        {
         "marker": {
          "line": {
           "color": "black",
           "width": 0.8
          }
         },
         "name": "Gymnastics",
         "orientation": "h",
         "text": [],
         "type": "box",
         "x": []
        },
        {
         "marker": {
          "line": {
           "color": "black",
           "width": 0.8
          }
         },
         "name": "Handball",
         "orientation": "h",
         "text": [],
         "type": "box",
         "x": []
        },
        {
         "marker": {
          "line": {
           "color": "black",
           "width": 0.8
          }
         },
         "name": "Hockey",
         "orientation": "h",
         "text": [],
         "type": "box",
         "x": []
        },
        {
         "marker": {
          "line": {
           "color": "black",
           "width": 0.8
          }
         },
         "name": "Ice Hockey",
         "orientation": "h",
         "text": [
          "Chamonix",
          "Sankt Moritz",
          "Lake Placid",
          "Garmisch-Partenkirchen",
          "Sankt Moritz",
          "Oslo",
          "Cortina d'Ampezzo",
          "Squaw Valley",
          "Innsbruck",
          "Grenoble",
          "Sapporo",
          "Innsbruck",
          "Lake Placid",
          "Sarajevo",
          "Calgary",
          "Albertville",
          "Lillehammer",
          "Nagano",
          "Salt Lake City",
          "Torino",
          "Vancouver",
          "Sochi"
         ],
         "type": "box",
         "x": [
          82,
          124,
          48,
          173,
          139,
          147,
          169,
          152,
          270,
          250,
          208,
          217,
          239,
          239,
          265,
          267,
          268,
          426,
          468,
          442,
          420,
          443
         ]
        },
        {
         "marker": {
          "line": {
           "color": "black",
           "width": 0.8
          }
         },
         "name": "Jeu De Paume",
         "orientation": "h",
         "text": [],
         "type": "box",
         "x": []
        },
        {
         "marker": {
          "line": {
           "color": "black",
           "width": 0.8
          }
         },
         "name": "Judo",
         "orientation": "h",
         "text": [],
         "type": "box",
         "x": []
        },
        {
         "marker": {
          "line": {
           "color": "black",
           "width": 0.8
          }
         },
         "name": "Lacrosse",
         "orientation": "h",
         "text": [],
         "type": "box",
         "x": []
        },
        {
         "marker": {
          "line": {
           "color": "black",
           "width": 0.8
          }
         },
         "name": "Luge",
         "orientation": "h",
         "text": [
          "Innsbruck",
          "Grenoble",
          "Sapporo",
          "Innsbruck",
          "Lake Placid",
          "Sarajevo",
          "Calgary",
          "Albertville",
          "Lillehammer",
          "Nagano",
          "Salt Lake City",
          "Torino",
          "Vancouver",
          "Sochi"
         ],
         "type": "box",
         "x": [
          85,
          106,
          107,
          119,
          94,
          89,
          98,
          98,
          98,
          97,
          117,
          108,
          107,
          156
         ]
        },
        {
         "marker": {
          "line": {
           "color": "black",
           "width": 0.8
          }
         },
         "name": "Military Ski Patrol",
         "orientation": "h",
         "text": [
          "Chamonix"
         ],
         "type": "box",
         "x": [
          24
         ]
        },
        {
         "marker": {
          "line": {
           "color": "black",
           "width": 0.8
          }
         },
         "name": "Modern Pentathlon",
         "orientation": "h",
         "text": [],
         "type": "box",
         "x": []
        },
        {
         "marker": {
          "line": {
           "color": "black",
           "width": 0.8
          }
         },
         "name": "Motorboating",
         "orientation": "h",
         "text": [],
         "type": "box",
         "x": []
        },
        {
         "marker": {
          "line": {
           "color": "black",
           "width": 0.8
          }
         },
         "name": "Nordic Combined",
         "orientation": "h",
         "text": [
          "Chamonix",
          "Sankt Moritz",
          "Lake Placid",
          "Garmisch-Partenkirchen",
          "Sankt Moritz",
          "Oslo",
          "Cortina d'Ampezzo",
          "Squaw Valley",
          "Innsbruck",
          "Grenoble",
          "Sapporo",
          "Innsbruck",
          "Lake Placid",
          "Sarajevo",
          "Calgary",
          "Albertville",
          "Lillehammer",
          "Nagano",
          "Salt Lake City",
          "Torino",
          "Vancouver",
          "Sochi"
         ],
         "type": "box",
         "x": [
          30,
          35,
          33,
          51,
          39,
          25,
          36,
          33,
          32,
          41,
          40,
          34,
          31,
          28,
          75,
          78,
          89,
          92,
          125,
          138,
          131,
          128
         ]
        },
        {
         "marker": {
          "line": {
           "color": "black",
           "width": 0.8
          }
         },
         "name": "Polo",
         "orientation": "h",
         "text": [],
         "type": "box",
         "x": []
        },
        {
         "marker": {
          "line": {
           "color": "black",
           "width": 0.8
          }
         },
         "name": "Racquets",
         "orientation": "h",
         "text": [],
         "type": "box",
         "x": []
        },
        {
         "marker": {
          "line": {
           "color": "black",
           "width": 0.8
          }
         },
         "name": "Rhythmic Gymnastics",
         "orientation": "h",
         "text": [],
         "type": "box",
         "x": []
        },
        {
         "marker": {
          "line": {
           "color": "black",
           "width": 0.8
          }
         },
         "name": "Roque",
         "orientation": "h",
         "text": [],
         "type": "box",
         "x": []
        },
        {
         "marker": {
          "line": {
           "color": "black",
           "width": 0.8
          }
         },
         "name": "Rowing",
         "orientation": "h",
         "text": [],
         "type": "box",
         "x": []
        },
        {
         "marker": {
          "line": {
           "color": "black",
           "width": 0.8
          }
         },
         "name": "Rugby",
         "orientation": "h",
         "text": [],
         "type": "box",
         "x": []
        },
        {
         "marker": {
          "line": {
           "color": "black",
           "width": 0.8
          }
         },
         "name": "Rugby Sevens",
         "orientation": "h",
         "text": [],
         "type": "box",
         "x": []
        },
        {
         "marker": {
          "line": {
           "color": "black",
           "width": 0.8
          }
         },
         "name": "Sailing",
         "orientation": "h",
         "text": [],
         "type": "box",
         "x": []
        },
        {
         "marker": {
          "line": {
           "color": "black",
           "width": 0.8
          }
         },
         "name": "Shooting",
         "orientation": "h",
         "text": [],
         "type": "box",
         "x": []
        },
        {
         "marker": {
          "line": {
           "color": "black",
           "width": 0.8
          }
         },
         "name": "Short Track Speed Skating",
         "orientation": "h",
         "text": [
          "Albertville",
          "Lillehammer",
          "Nagano",
          "Salt Lake City",
          "Torino",
          "Vancouver",
          "Sochi"
         ],
         "type": "box",
         "x": [
          124,
          188,
          190,
          251,
          239,
          273,
          269
         ]
        },
        {
         "marker": {
          "line": {
           "color": "black",
           "width": 0.8
          }
         },
         "name": "Skeleton",
         "orientation": "h",
         "text": [
          "Sankt Moritz",
          "Sankt Moritz",
          "Salt Lake City",
          "Torino",
          "Vancouver",
          "Sochi"
         ],
         "type": "box",
         "x": [
          10,
          15,
          39,
          42,
          47,
          46
         ]
        },
        {
         "marker": {
          "line": {
           "color": "black",
           "width": 0.8
          }
         },
         "name": "Ski Jumping",
         "orientation": "h",
         "text": [
          "Chamonix",
          "Sankt Moritz",
          "Lake Placid",
          "Garmisch-Partenkirchen",
          "Sankt Moritz",
          "Oslo",
          "Cortina d'Ampezzo",
          "Squaw Valley",
          "Innsbruck",
          "Grenoble",
          "Sapporo",
          "Innsbruck",
          "Lake Placid",
          "Sarajevo",
          "Calgary",
          "Albertville",
          "Lillehammer",
          "Nagano",
          "Salt Lake City",
          "Torino",
          "Vancouver",
          "Sochi"
         ],
         "type": "box",
         "x": [
          27,
          38,
          34,
          48,
          49,
          44,
          51,
          45,
          105,
          116,
          108,
          109,
          98,
          111,
          157,
          171,
          164,
          176,
          178,
          202,
          170,
          200
         ]
        },
        {
         "marker": {
          "line": {
           "color": "black",
           "width": 0.8
          }
         },
         "name": "Snowboarding",
         "orientation": "h",
         "text": [
          "Nagano",
          "Salt Lake City",
          "Torino",
          "Vancouver",
          "Sochi"
         ],
         "type": "box",
         "x": [
          127,
          118,
          198,
          185,
          308
         ]
        },
        {
         "marker": {
          "line": {
           "color": "black",
           "width": 0.8
          }
         },
         "name": "Softball",
         "orientation": "h",
         "text": [],
         "type": "box",
         "x": []
        },
        {
         "marker": {
          "line": {
           "color": "black",
           "width": 0.8
          }
         },
         "name": "Speed Skating",
         "orientation": "h",
         "text": [
          "Chamonix",
          "Sankt Moritz",
          "Lake Placid",
          "Garmisch-Partenkirchen",
          "Sankt Moritz",
          "Oslo",
          "Cortina d'Ampezzo",
          "Squaw Valley",
          "Innsbruck",
          "Grenoble",
          "Sapporo",
          "Innsbruck",
          "Lake Placid",
          "Sarajevo",
          "Calgary",
          "Albertville",
          "Lillehammer",
          "Nagano",
          "Salt Lake City",
          "Torino",
          "Vancouver",
          "Sochi"
         ],
         "type": "box",
         "x": [
          110,
          106,
          70,
          140,
          154,
          145,
          179,
          249,
          287,
          280,
          244,
          247,
          296,
          328,
          326,
          354,
          318,
          335,
          332,
          379,
          366,
          368
         ]
        },
        {
         "marker": {
          "line": {
           "color": "black",
           "width": 0.8
          }
         },
         "name": "Swimming",
         "orientation": "h",
         "text": [],
         "type": "box",
         "x": []
        },
        {
         "marker": {
          "line": {
           "color": "black",
           "width": 0.8
          }
         },
         "name": "Synchronized Swimming",
         "orientation": "h",
         "text": [],
         "type": "box",
         "x": []
        },
        {
         "marker": {
          "line": {
           "color": "black",
           "width": 0.8
          }
         },
         "name": "Table Tennis",
         "orientation": "h",
         "text": [],
         "type": "box",
         "x": []
        },
        {
         "marker": {
          "line": {
           "color": "black",
           "width": 0.8
          }
         },
         "name": "Taekwondo",
         "orientation": "h",
         "text": [],
         "type": "box",
         "x": []
        },
        {
         "marker": {
          "line": {
           "color": "black",
           "width": 0.8
          }
         },
         "name": "Tennis",
         "orientation": "h",
         "text": [],
         "type": "box",
         "x": []
        },
        {
         "marker": {
          "line": {
           "color": "black",
           "width": 0.8
          }
         },
         "name": "Trampolining",
         "orientation": "h",
         "text": [],
         "type": "box",
         "x": []
        },
        {
         "marker": {
          "line": {
           "color": "black",
           "width": 0.8
          }
         },
         "name": "Triathlon",
         "orientation": "h",
         "text": [],
         "type": "box",
         "x": []
        },
        {
         "marker": {
          "line": {
           "color": "black",
           "width": 0.8
          }
         },
         "name": "Tug-Of-War",
         "orientation": "h",
         "text": [],
         "type": "box",
         "x": []
        },
        {
         "marker": {
          "line": {
           "color": "black",
           "width": 0.8
          }
         },
         "name": "Volleyball",
         "orientation": "h",
         "text": [],
         "type": "box",
         "x": []
        },
        {
         "marker": {
          "line": {
           "color": "black",
           "width": 0.8
          }
         },
         "name": "Water Polo",
         "orientation": "h",
         "text": [],
         "type": "box",
         "x": []
        },
        {
         "marker": {
          "line": {
           "color": "black",
           "width": 0.8
          }
         },
         "name": "Weightlifting",
         "orientation": "h",
         "text": [],
         "type": "box",
         "x": []
        },
        {
         "marker": {
          "line": {
           "color": "black",
           "width": 0.8
          }
         },
         "name": "Wrestling",
         "orientation": "h",
         "text": [],
         "type": "box",
         "x": []
        }
       ],
       "layout": {
        "height": 600,
        "hovermode": "closest",
        "showlegend": false,
        "template": {
         "data": {
          "bar": [
           {
            "error_x": {
             "color": "#2a3f5f"
            },
            "error_y": {
             "color": "#2a3f5f"
            },
            "marker": {
             "line": {
              "color": "#E5ECF6",
              "width": 0.5
             },
             "pattern": {
              "fillmode": "overlay",
              "size": 10,
              "solidity": 0.2
             }
            },
            "type": "bar"
           }
          ],
          "barpolar": [
           {
            "marker": {
             "line": {
              "color": "#E5ECF6",
              "width": 0.5
             },
             "pattern": {
              "fillmode": "overlay",
              "size": 10,
              "solidity": 0.2
             }
            },
            "type": "barpolar"
           }
          ],
          "carpet": [
           {
            "aaxis": {
             "endlinecolor": "#2a3f5f",
             "gridcolor": "white",
             "linecolor": "white",
             "minorgridcolor": "white",
             "startlinecolor": "#2a3f5f"
            },
            "baxis": {
             "endlinecolor": "#2a3f5f",
             "gridcolor": "white",
             "linecolor": "white",
             "minorgridcolor": "white",
             "startlinecolor": "#2a3f5f"
            },
            "type": "carpet"
           }
          ],
          "choropleth": [
           {
            "colorbar": {
             "outlinewidth": 0,
             "ticks": ""
            },
            "type": "choropleth"
           }
          ],
          "contour": [
           {
            "colorbar": {
             "outlinewidth": 0,
             "ticks": ""
            },
            "colorscale": [
             [
              0.0,
              "#0d0887"
             ],
             [
              0.1111111111111111,
              "#46039f"
             ],
             [
              0.2222222222222222,
              "#7201a8"
             ],
             [
              0.3333333333333333,
              "#9c179e"
             ],
             [
              0.4444444444444444,
              "#bd3786"
             ],
             [
              0.5555555555555556,
              "#d8576b"
             ],
             [
              0.6666666666666666,
              "#ed7953"
             ],
             [
              0.7777777777777778,
              "#fb9f3a"
             ],
             [
              0.8888888888888888,
              "#fdca26"
             ],
             [
              1.0,
              "#f0f921"
             ]
            ],
            "type": "contour"
           }
          ],
          "contourcarpet": [
           {
            "colorbar": {
             "outlinewidth": 0,
             "ticks": ""
            },
            "type": "contourcarpet"
           }
          ],
          "heatmap": [
           {
            "colorbar": {
             "outlinewidth": 0,
             "ticks": ""
            },
            "colorscale": [
             [
              0.0,
              "#0d0887"
             ],
             [
              0.1111111111111111,
              "#46039f"
             ],
             [
              0.2222222222222222,
              "#7201a8"
             ],
             [
              0.3333333333333333,
              "#9c179e"
             ],
             [
              0.4444444444444444,
              "#bd3786"
             ],
             [
              0.5555555555555556,
              "#d8576b"
             ],
             [
              0.6666666666666666,
              "#ed7953"
             ],
             [
              0.7777777777777778,
              "#fb9f3a"
             ],
             [
              0.8888888888888888,
              "#fdca26"
             ],
             [
              1.0,
              "#f0f921"
             ]
            ],
            "type": "heatmap"
           }
          ],
          "heatmapgl": [
           {
            "colorbar": {
             "outlinewidth": 0,
             "ticks": ""
            },
            "colorscale": [
             [
              0.0,
              "#0d0887"
             ],
             [
              0.1111111111111111,
              "#46039f"
             ],
             [
              0.2222222222222222,
              "#7201a8"
             ],
             [
              0.3333333333333333,
              "#9c179e"
             ],
             [
              0.4444444444444444,
              "#bd3786"
             ],
             [
              0.5555555555555556,
              "#d8576b"
             ],
             [
              0.6666666666666666,
              "#ed7953"
             ],
             [
              0.7777777777777778,
              "#fb9f3a"
             ],
             [
              0.8888888888888888,
              "#fdca26"
             ],
             [
              1.0,
              "#f0f921"
             ]
            ],
            "type": "heatmapgl"
           }
          ],
          "histogram": [
           {
            "marker": {
             "pattern": {
              "fillmode": "overlay",
              "size": 10,
              "solidity": 0.2
             }
            },
            "type": "histogram"
           }
          ],
          "histogram2d": [
           {
            "colorbar": {
             "outlinewidth": 0,
             "ticks": ""
            },
            "colorscale": [
             [
              0.0,
              "#0d0887"
             ],
             [
              0.1111111111111111,
              "#46039f"
             ],
             [
              0.2222222222222222,
              "#7201a8"
             ],
             [
              0.3333333333333333,
              "#9c179e"
             ],
             [
              0.4444444444444444,
              "#bd3786"
             ],
             [
              0.5555555555555556,
              "#d8576b"
             ],
             [
              0.6666666666666666,
              "#ed7953"
             ],
             [
              0.7777777777777778,
              "#fb9f3a"
             ],
             [
              0.8888888888888888,
              "#fdca26"
             ],
             [
              1.0,
              "#f0f921"
             ]
            ],
            "type": "histogram2d"
           }
          ],
          "histogram2dcontour": [
           {
            "colorbar": {
             "outlinewidth": 0,
             "ticks": ""
            },
            "colorscale": [
             [
              0.0,
              "#0d0887"
             ],
             [
              0.1111111111111111,
              "#46039f"
             ],
             [
              0.2222222222222222,
              "#7201a8"
             ],
             [
              0.3333333333333333,
              "#9c179e"
             ],
             [
              0.4444444444444444,
              "#bd3786"
             ],
             [
              0.5555555555555556,
              "#d8576b"
             ],
             [
              0.6666666666666666,
              "#ed7953"
             ],
             [
              0.7777777777777778,
              "#fb9f3a"
             ],
             [
              0.8888888888888888,
              "#fdca26"
             ],
             [
              1.0,
              "#f0f921"
             ]
            ],
            "type": "histogram2dcontour"
           }
          ],
          "mesh3d": [
           {
            "colorbar": {
             "outlinewidth": 0,
             "ticks": ""
            },
            "type": "mesh3d"
           }
          ],
          "parcoords": [
           {
            "line": {
             "colorbar": {
              "outlinewidth": 0,
              "ticks": ""
             }
            },
            "type": "parcoords"
           }
          ],
          "pie": [
           {
            "automargin": true,
            "type": "pie"
           }
          ],
          "scatter": [
           {
            "fillpattern": {
             "fillmode": "overlay",
             "size": 10,
             "solidity": 0.2
            },
            "type": "scatter"
           }
          ],
          "scatter3d": [
           {
            "line": {
             "colorbar": {
              "outlinewidth": 0,
              "ticks": ""
             }
            },
            "marker": {
             "colorbar": {
              "outlinewidth": 0,
              "ticks": ""
             }
            },
            "type": "scatter3d"
           }
          ],
          "scattercarpet": [
           {
            "marker": {
             "colorbar": {
              "outlinewidth": 0,
              "ticks": ""
             }
            },
            "type": "scattercarpet"
           }
          ],
          "scattergeo": [
           {
            "marker": {
             "colorbar": {
              "outlinewidth": 0,
              "ticks": ""
             }
            },
            "type": "scattergeo"
           }
          ],
          "scattergl": [
           {
            "marker": {
             "colorbar": {
              "outlinewidth": 0,
              "ticks": ""
             }
            },
            "type": "scattergl"
           }
          ],
          "scattermapbox": [
           {
            "marker": {
             "colorbar": {
              "outlinewidth": 0,
              "ticks": ""
             }
            },
            "type": "scattermapbox"
           }
          ],
          "scatterpolar": [
           {
            "marker": {
             "colorbar": {
              "outlinewidth": 0,
              "ticks": ""
             }
            },
            "type": "scatterpolar"
           }
          ],
          "scatterpolargl": [
           {
            "marker": {
             "colorbar": {
              "outlinewidth": 0,
              "ticks": ""
             }
            },
            "type": "scatterpolargl"
           }
          ],
          "scatterternary": [
           {
            "marker": {
             "colorbar": {
              "outlinewidth": 0,
              "ticks": ""
             }
            },
            "type": "scatterternary"
           }
          ],
          "surface": [
           {
            "colorbar": {
             "outlinewidth": 0,
             "ticks": ""
            },
            "colorscale": [
             [
              0.0,
              "#0d0887"
             ],
             [
              0.1111111111111111,
              "#46039f"
             ],
             [
              0.2222222222222222,
              "#7201a8"
             ],
             [
              0.3333333333333333,
              "#9c179e"
             ],
             [
              0.4444444444444444,
              "#bd3786"
             ],
             [
              0.5555555555555556,
              "#d8576b"
             ],
             [
              0.6666666666666666,
              "#ed7953"
             ],
             [
              0.7777777777777778,
              "#fb9f3a"
             ],
             [
              0.8888888888888888,
              "#fdca26"
             ],
             [
              1.0,
              "#f0f921"
             ]
            ],
            "type": "surface"
           }
          ],
          "table": [
           {
            "cells": {
             "fill": {
              "color": "#EBF0F8"
             },
             "line": {
              "color": "white"
             }
            },
            "header": {
             "fill": {
              "color": "#C8D4E3"
             },
             "line": {
              "color": "white"
             }
            },
            "type": "table"
           }
          ]
         },
         "layout": {
          "annotationdefaults": {
           "arrowcolor": "#2a3f5f",
           "arrowhead": 0,
           "arrowwidth": 1
          },
          "autotypenumbers": "strict",
          "coloraxis": {
           "colorbar": {
            "outlinewidth": 0,
            "ticks": ""
           }
          },
          "colorscale": {
           "diverging": [
            [
             0,
             "#8e0152"
            ],
            [
             0.1,
             "#c51b7d"
            ],
            [
             0.2,
             "#de77ae"
            ],
            [
             0.3,
             "#f1b6da"
            ],
            [
             0.4,
             "#fde0ef"
            ],
            [
             0.5,
             "#f7f7f7"
            ],
            [
             0.6,
             "#e6f5d0"
            ],
            [
             0.7,
             "#b8e186"
            ],
            [
             0.8,
             "#7fbc41"
            ],
            [
             0.9,
             "#4d9221"
            ],
            [
             1,
             "#276419"
            ]
           ],
           "sequential": [
            [
             0.0,
             "#0d0887"
            ],
            [
             0.1111111111111111,
             "#46039f"
            ],
            [
             0.2222222222222222,
             "#7201a8"
            ],
            [
             0.3333333333333333,
             "#9c179e"
            ],
            [
             0.4444444444444444,
             "#bd3786"
            ],
            [
             0.5555555555555556,
             "#d8576b"
            ],
            [
             0.6666666666666666,
             "#ed7953"
            ],
            [
             0.7777777777777778,
             "#fb9f3a"
            ],
            [
             0.8888888888888888,
             "#fdca26"
            ],
            [
             1.0,
             "#f0f921"
            ]
           ],
           "sequentialminus": [
            [
             0.0,
             "#0d0887"
            ],
            [
             0.1111111111111111,
             "#46039f"
            ],
            [
             0.2222222222222222,
             "#7201a8"
            ],
            [
             0.3333333333333333,
             "#9c179e"
            ],
            [
             0.4444444444444444,
             "#bd3786"
            ],
            [
             0.5555555555555556,
             "#d8576b"
            ],
            [
             0.6666666666666666,
             "#ed7953"
            ],
            [
             0.7777777777777778,
             "#fb9f3a"
            ],
            [
             0.8888888888888888,
             "#fdca26"
            ],
            [
             1.0,
             "#f0f921"
            ]
           ]
          },
          "colorway": [
           "#636efa",
           "#EF553B",
           "#00cc96",
           "#ab63fa",
           "#FFA15A",
           "#19d3f3",
           "#FF6692",
           "#B6E880",
           "#FF97FF",
           "#FECB52"
          ],
          "font": {
           "color": "#2a3f5f"
          },
          "geo": {
           "bgcolor": "white",
           "lakecolor": "white",
           "landcolor": "#E5ECF6",
           "showlakes": true,
           "showland": true,
           "subunitcolor": "white"
          },
          "hoverlabel": {
           "align": "left"
          },
          "hovermode": "closest",
          "mapbox": {
           "style": "light"
          },
          "paper_bgcolor": "white",
          "plot_bgcolor": "#E5ECF6",
          "polar": {
           "angularaxis": {
            "gridcolor": "white",
            "linecolor": "white",
            "ticks": ""
           },
           "bgcolor": "#E5ECF6",
           "radialaxis": {
            "gridcolor": "white",
            "linecolor": "white",
            "ticks": ""
           }
          },
          "scene": {
           "xaxis": {
            "backgroundcolor": "#E5ECF6",
            "gridcolor": "white",
            "gridwidth": 2,
            "linecolor": "white",
            "showbackground": true,
            "ticks": "",
            "zerolinecolor": "white"
           },
           "yaxis": {
            "backgroundcolor": "#E5ECF6",
            "gridcolor": "white",
            "gridwidth": 2,
            "linecolor": "white",
            "showbackground": true,
            "ticks": "",
            "zerolinecolor": "white"
           },
           "zaxis": {
            "backgroundcolor": "#E5ECF6",
            "gridcolor": "white",
            "gridwidth": 2,
            "linecolor": "white",
            "showbackground": true,
            "ticks": "",
            "zerolinecolor": "white"
           }
          },
          "shapedefaults": {
           "line": {
            "color": "#2a3f5f"
           }
          },
          "ternary": {
           "aaxis": {
            "gridcolor": "white",
            "linecolor": "white",
            "ticks": ""
           },
           "baxis": {
            "gridcolor": "white",
            "linecolor": "white",
            "ticks": ""
           },
           "bgcolor": "#E5ECF6",
           "caxis": {
            "gridcolor": "white",
            "linecolor": "white",
            "ticks": ""
           }
          },
          "title": {
           "x": 0.05
          },
          "xaxis": {
           "automargin": true,
           "gridcolor": "white",
           "linecolor": "white",
           "ticks": "",
           "title": {
            "standoff": 15
           },
           "zerolinecolor": "white",
           "zerolinewidth": 2
          },
          "yaxis": {
           "automargin": true,
           "gridcolor": "white",
           "linecolor": "white",
           "ticks": "",
           "title": {
            "standoff": 15
           },
           "zerolinecolor": "white",
           "zerolinewidth": 2
          }
         }
        },
        "title": {
         "text": "Athlets per Sport (Winter Olympics)"
        },
        "width": 800,
        "xaxis": {
         "showticklabels": true,
         "title": {
          "text": "Number of athlets"
         }
        },
        "yaxis": {
         "showticklabels": true,
         "tickfont": {
          "color": "black",
          "family": "Old Standard TT, serif",
          "size": 8
         },
         "title": {
          "text": "Sport"
         }
        }
       }
      },
      "text/html": [
       "<div>                            <div id=\"bdc14906-09d6-4199-967d-3228c7eb8972\" class=\"plotly-graph-div\" style=\"height:600px; width:800px;\"></div>            <script type=\"text/javascript\">                require([\"plotly\"], function(Plotly) {                    window.PLOTLYENV=window.PLOTLYENV || {};                                    if (document.getElementById(\"bdc14906-09d6-4199-967d-3228c7eb8972\")) {                    Plotly.newPlot(                        \"bdc14906-09d6-4199-967d-3228c7eb8972\",                        [{\"marker\":{\"line\":{\"color\":\"black\",\"width\":0.8}},\"name\":\"Aeronautics\",\"orientation\":\"h\",\"text\":[],\"x\":[],\"type\":\"box\"},{\"marker\":{\"line\":{\"color\":\"black\",\"width\":0.8}},\"name\":\"Alpine Skiing\",\"orientation\":\"h\",\"text\":[\"Garmisch-Partenkirchen\",\"Sankt Moritz\",\"Oslo\",\"Cortina d'Ampezzo\",\"Squaw Valley\",\"Innsbruck\",\"Grenoble\",\"Sapporo\",\"Innsbruck\",\"Lake Placid\",\"Sarajevo\",\"Calgary\",\"Albertville\",\"Lillehammer\",\"Nagano\",\"Salt Lake City\",\"Torino\",\"Vancouver\",\"Sochi\"],\"x\":[103,360,378,403,320,411,422,325,390,327,401,668,750,544,477,559,619,685,687],\"type\":\"box\"},{\"marker\":{\"line\":{\"color\":\"black\",\"width\":0.8}},\"name\":\"Alpinism\",\"orientation\":\"h\",\"text\":[\"Chamonix\"],\"x\":[21],\"type\":\"box\"},{\"marker\":{\"line\":{\"color\":\"black\",\"width\":0.8}},\"name\":\"Archery\",\"orientation\":\"h\",\"text\":[],\"x\":[],\"type\":\"box\"},{\"marker\":{\"line\":{\"color\":\"black\",\"width\":0.8}},\"name\":\"Art Competitions\",\"orientation\":\"h\",\"text\":[],\"x\":[],\"type\":\"box\"},{\"marker\":{\"line\":{\"color\":\"black\",\"width\":0.8}},\"name\":\"Athletics\",\"orientation\":\"h\",\"text\":[],\"x\":[],\"type\":\"box\"},{\"marker\":{\"line\":{\"color\":\"black\",\"width\":0.8}},\"name\":\"Badminton\",\"orientation\":\"h\",\"text\":[],\"x\":[],\"type\":\"box\"},{\"marker\":{\"line\":{\"color\":\"black\",\"width\":0.8}},\"name\":\"Baseball\",\"orientation\":\"h\",\"text\":[],\"x\":[],\"type\":\"box\"},{\"marker\":{\"line\":{\"color\":\"black\",\"width\":0.8}},\"name\":\"Basketball\",\"orientation\":\"h\",\"text\":[],\"x\":[],\"type\":\"box\"},{\"marker\":{\"line\":{\"color\":\"black\",\"width\":0.8}},\"name\":\"Basque Pelota\",\"orientation\":\"h\",\"text\":[],\"x\":[],\"type\":\"box\"},{\"marker\":{\"line\":{\"color\":\"black\",\"width\":0.8}},\"name\":\"Beach Volleyball\",\"orientation\":\"h\",\"text\":[],\"x\":[],\"type\":\"box\"},{\"marker\":{\"line\":{\"color\":\"black\",\"width\":0.8}},\"name\":\"Biathlon\",\"orientation\":\"h\",\"text\":[\"Squaw Valley\",\"Innsbruck\",\"Grenoble\",\"Sapporo\",\"Innsbruck\",\"Lake Placid\",\"Sarajevo\",\"Calgary\",\"Albertville\",\"Lillehammer\",\"Nagano\",\"Salt Lake City\",\"Torino\",\"Vancouver\",\"Sochi\"],\"x\":[30,51,116,106,112,159,195,207,457,416,413,564,658,683,726],\"type\":\"box\"},{\"marker\":{\"line\":{\"color\":\"black\",\"width\":0.8}},\"name\":\"Bobsleigh\",\"orientation\":\"h\",\"text\":[\"Chamonix\",\"Sankt Moritz\",\"Lake Placid\",\"Garmisch-Partenkirchen\",\"Sankt Moritz\",\"Oslo\",\"Cortina d'Ampezzo\",\"Innsbruck\",\"Grenoble\",\"Sapporo\",\"Innsbruck\",\"Lake Placid\",\"Sarajevo\",\"Calgary\",\"Albertville\",\"Lillehammer\",\"Nagano\",\"Salt Lake City\",\"Torino\",\"Vancouver\",\"Sochi\"],\"x\":[39,116,52,118,92,96,135,117,120,114,133,108,152,186,216,207,204,240,191,199,223],\"type\":\"box\"},{\"marker\":{\"line\":{\"color\":\"black\",\"width\":0.8}},\"name\":\"Boxing\",\"orientation\":\"h\",\"text\":[],\"x\":[],\"type\":\"box\"},{\"marker\":{\"line\":{\"color\":\"black\",\"width\":0.8}},\"name\":\"Canoeing\",\"orientation\":\"h\",\"text\":[],\"x\":[],\"type\":\"box\"},{\"marker\":{\"line\":{\"color\":\"black\",\"width\":0.8}},\"name\":\"Cricket\",\"orientation\":\"h\",\"text\":[],\"x\":[],\"type\":\"box\"},{\"marker\":{\"line\":{\"color\":\"black\",\"width\":0.8}},\"name\":\"Croquet\",\"orientation\":\"h\",\"text\":[],\"x\":[],\"type\":\"box\"},{\"marker\":{\"line\":{\"color\":\"black\",\"width\":0.8}},\"name\":\"Cross Country Skiing\",\"orientation\":\"h\",\"text\":[\"Chamonix\",\"Sankt Moritz\",\"Lake Placid\",\"Garmisch-Partenkirchen\",\"Sankt Moritz\",\"Oslo\",\"Cortina d'Ampezzo\",\"Squaw Valley\",\"Innsbruck\",\"Grenoble\",\"Sapporo\",\"Innsbruck\",\"Lake Placid\",\"Sarajevo\",\"Calgary\",\"Albertville\",\"Lillehammer\",\"Nagano\",\"Salt Lake City\",\"Torino\",\"Vancouver\",\"Sochi\"],\"x\":[74,90,74,175,156,188,275,216,332,344,335,395,309,477,528,717,639,733,774,812,725,765],\"type\":\"box\"},{\"marker\":{\"line\":{\"color\":\"black\",\"width\":0.8}},\"name\":\"Curling\",\"orientation\":\"h\",\"text\":[\"Chamonix\",\"Nagano\",\"Salt Lake City\",\"Torino\",\"Vancouver\",\"Sochi\"],\"x\":[16,80,96,91,93,87],\"type\":\"box\"},{\"marker\":{\"line\":{\"color\":\"black\",\"width\":0.8}},\"name\":\"Cycling\",\"orientation\":\"h\",\"text\":[],\"x\":[],\"type\":\"box\"},{\"marker\":{\"line\":{\"color\":\"black\",\"width\":0.8}},\"name\":\"Diving\",\"orientation\":\"h\",\"text\":[],\"x\":[],\"type\":\"box\"},{\"marker\":{\"line\":{\"color\":\"black\",\"width\":0.8}},\"name\":\"Equestrianism\",\"orientation\":\"h\",\"text\":[],\"x\":[],\"type\":\"box\"},{\"marker\":{\"line\":{\"color\":\"black\",\"width\":0.8}},\"name\":\"Fencing\",\"orientation\":\"h\",\"text\":[],\"x\":[],\"type\":\"box\"},{\"marker\":{\"line\":{\"color\":\"black\",\"width\":0.8}},\"name\":\"Figure Skating\",\"orientation\":\"h\",\"text\":[\"Chamonix\",\"Sankt Moritz\",\"Lake Placid\",\"Garmisch-Partenkirchen\",\"Sankt Moritz\",\"Oslo\",\"Cortina d'Ampezzo\",\"Squaw Valley\",\"Innsbruck\",\"Grenoble\",\"Sapporo\",\"Innsbruck\",\"Lake Placid\",\"Sarajevo\",\"Calgary\",\"Albertville\",\"Lillehammer\",\"Nagano\",\"Salt Lake City\",\"Torino\",\"Vancouver\",\"Sochi\"],\"x\":[37,63,41,87,71,65,59,71,88,96,68,105,85,114,129,133,130,145,143,147,146,221],\"type\":\"box\"},{\"marker\":{\"line\":{\"color\":\"black\",\"width\":0.8}},\"name\":\"Football\",\"orientation\":\"h\",\"text\":[],\"x\":[],\"type\":\"box\"},{\"marker\":{\"line\":{\"color\":\"black\",\"width\":0.8}},\"name\":\"Freestyle Skiing\",\"orientation\":\"h\",\"text\":[\"Albertville\",\"Lillehammer\",\"Nagano\",\"Salt Lake City\",\"Torino\",\"Vancouver\",\"Sochi\"],\"x\":[71,99,110,105,116,172,264],\"type\":\"box\"},{\"marker\":{\"line\":{\"color\":\"black\",\"width\":0.8}},\"name\":\"Golf\",\"orientation\":\"h\",\"text\":[],\"x\":[],\"type\":\"box\"},{\"marker\":{\"line\":{\"color\":\"black\",\"width\":0.8}},\"name\":\"Gymnastics\",\"orientation\":\"h\",\"text\":[],\"x\":[],\"type\":\"box\"},{\"marker\":{\"line\":{\"color\":\"black\",\"width\":0.8}},\"name\":\"Handball\",\"orientation\":\"h\",\"text\":[],\"x\":[],\"type\":\"box\"},{\"marker\":{\"line\":{\"color\":\"black\",\"width\":0.8}},\"name\":\"Hockey\",\"orientation\":\"h\",\"text\":[],\"x\":[],\"type\":\"box\"},{\"marker\":{\"line\":{\"color\":\"black\",\"width\":0.8}},\"name\":\"Ice Hockey\",\"orientation\":\"h\",\"text\":[\"Chamonix\",\"Sankt Moritz\",\"Lake Placid\",\"Garmisch-Partenkirchen\",\"Sankt Moritz\",\"Oslo\",\"Cortina d'Ampezzo\",\"Squaw Valley\",\"Innsbruck\",\"Grenoble\",\"Sapporo\",\"Innsbruck\",\"Lake Placid\",\"Sarajevo\",\"Calgary\",\"Albertville\",\"Lillehammer\",\"Nagano\",\"Salt Lake City\",\"Torino\",\"Vancouver\",\"Sochi\"],\"x\":[82,124,48,173,139,147,169,152,270,250,208,217,239,239,265,267,268,426,468,442,420,443],\"type\":\"box\"},{\"marker\":{\"line\":{\"color\":\"black\",\"width\":0.8}},\"name\":\"Jeu De Paume\",\"orientation\":\"h\",\"text\":[],\"x\":[],\"type\":\"box\"},{\"marker\":{\"line\":{\"color\":\"black\",\"width\":0.8}},\"name\":\"Judo\",\"orientation\":\"h\",\"text\":[],\"x\":[],\"type\":\"box\"},{\"marker\":{\"line\":{\"color\":\"black\",\"width\":0.8}},\"name\":\"Lacrosse\",\"orientation\":\"h\",\"text\":[],\"x\":[],\"type\":\"box\"},{\"marker\":{\"line\":{\"color\":\"black\",\"width\":0.8}},\"name\":\"Luge\",\"orientation\":\"h\",\"text\":[\"Innsbruck\",\"Grenoble\",\"Sapporo\",\"Innsbruck\",\"Lake Placid\",\"Sarajevo\",\"Calgary\",\"Albertville\",\"Lillehammer\",\"Nagano\",\"Salt Lake City\",\"Torino\",\"Vancouver\",\"Sochi\"],\"x\":[85,106,107,119,94,89,98,98,98,97,117,108,107,156],\"type\":\"box\"},{\"marker\":{\"line\":{\"color\":\"black\",\"width\":0.8}},\"name\":\"Military Ski Patrol\",\"orientation\":\"h\",\"text\":[\"Chamonix\"],\"x\":[24],\"type\":\"box\"},{\"marker\":{\"line\":{\"color\":\"black\",\"width\":0.8}},\"name\":\"Modern Pentathlon\",\"orientation\":\"h\",\"text\":[],\"x\":[],\"type\":\"box\"},{\"marker\":{\"line\":{\"color\":\"black\",\"width\":0.8}},\"name\":\"Motorboating\",\"orientation\":\"h\",\"text\":[],\"x\":[],\"type\":\"box\"},{\"marker\":{\"line\":{\"color\":\"black\",\"width\":0.8}},\"name\":\"Nordic Combined\",\"orientation\":\"h\",\"text\":[\"Chamonix\",\"Sankt Moritz\",\"Lake Placid\",\"Garmisch-Partenkirchen\",\"Sankt Moritz\",\"Oslo\",\"Cortina d'Ampezzo\",\"Squaw Valley\",\"Innsbruck\",\"Grenoble\",\"Sapporo\",\"Innsbruck\",\"Lake Placid\",\"Sarajevo\",\"Calgary\",\"Albertville\",\"Lillehammer\",\"Nagano\",\"Salt Lake City\",\"Torino\",\"Vancouver\",\"Sochi\"],\"x\":[30,35,33,51,39,25,36,33,32,41,40,34,31,28,75,78,89,92,125,138,131,128],\"type\":\"box\"},{\"marker\":{\"line\":{\"color\":\"black\",\"width\":0.8}},\"name\":\"Polo\",\"orientation\":\"h\",\"text\":[],\"x\":[],\"type\":\"box\"},{\"marker\":{\"line\":{\"color\":\"black\",\"width\":0.8}},\"name\":\"Racquets\",\"orientation\":\"h\",\"text\":[],\"x\":[],\"type\":\"box\"},{\"marker\":{\"line\":{\"color\":\"black\",\"width\":0.8}},\"name\":\"Rhythmic Gymnastics\",\"orientation\":\"h\",\"text\":[],\"x\":[],\"type\":\"box\"},{\"marker\":{\"line\":{\"color\":\"black\",\"width\":0.8}},\"name\":\"Roque\",\"orientation\":\"h\",\"text\":[],\"x\":[],\"type\":\"box\"},{\"marker\":{\"line\":{\"color\":\"black\",\"width\":0.8}},\"name\":\"Rowing\",\"orientation\":\"h\",\"text\":[],\"x\":[],\"type\":\"box\"},{\"marker\":{\"line\":{\"color\":\"black\",\"width\":0.8}},\"name\":\"Rugby\",\"orientation\":\"h\",\"text\":[],\"x\":[],\"type\":\"box\"},{\"marker\":{\"line\":{\"color\":\"black\",\"width\":0.8}},\"name\":\"Rugby Sevens\",\"orientation\":\"h\",\"text\":[],\"x\":[],\"type\":\"box\"},{\"marker\":{\"line\":{\"color\":\"black\",\"width\":0.8}},\"name\":\"Sailing\",\"orientation\":\"h\",\"text\":[],\"x\":[],\"type\":\"box\"},{\"marker\":{\"line\":{\"color\":\"black\",\"width\":0.8}},\"name\":\"Shooting\",\"orientation\":\"h\",\"text\":[],\"x\":[],\"type\":\"box\"},{\"marker\":{\"line\":{\"color\":\"black\",\"width\":0.8}},\"name\":\"Short Track Speed Skating\",\"orientation\":\"h\",\"text\":[\"Albertville\",\"Lillehammer\",\"Nagano\",\"Salt Lake City\",\"Torino\",\"Vancouver\",\"Sochi\"],\"x\":[124,188,190,251,239,273,269],\"type\":\"box\"},{\"marker\":{\"line\":{\"color\":\"black\",\"width\":0.8}},\"name\":\"Skeleton\",\"orientation\":\"h\",\"text\":[\"Sankt Moritz\",\"Sankt Moritz\",\"Salt Lake City\",\"Torino\",\"Vancouver\",\"Sochi\"],\"x\":[10,15,39,42,47,46],\"type\":\"box\"},{\"marker\":{\"line\":{\"color\":\"black\",\"width\":0.8}},\"name\":\"Ski Jumping\",\"orientation\":\"h\",\"text\":[\"Chamonix\",\"Sankt Moritz\",\"Lake Placid\",\"Garmisch-Partenkirchen\",\"Sankt Moritz\",\"Oslo\",\"Cortina d'Ampezzo\",\"Squaw Valley\",\"Innsbruck\",\"Grenoble\",\"Sapporo\",\"Innsbruck\",\"Lake Placid\",\"Sarajevo\",\"Calgary\",\"Albertville\",\"Lillehammer\",\"Nagano\",\"Salt Lake City\",\"Torino\",\"Vancouver\",\"Sochi\"],\"x\":[27,38,34,48,49,44,51,45,105,116,108,109,98,111,157,171,164,176,178,202,170,200],\"type\":\"box\"},{\"marker\":{\"line\":{\"color\":\"black\",\"width\":0.8}},\"name\":\"Snowboarding\",\"orientation\":\"h\",\"text\":[\"Nagano\",\"Salt Lake City\",\"Torino\",\"Vancouver\",\"Sochi\"],\"x\":[127,118,198,185,308],\"type\":\"box\"},{\"marker\":{\"line\":{\"color\":\"black\",\"width\":0.8}},\"name\":\"Softball\",\"orientation\":\"h\",\"text\":[],\"x\":[],\"type\":\"box\"},{\"marker\":{\"line\":{\"color\":\"black\",\"width\":0.8}},\"name\":\"Speed Skating\",\"orientation\":\"h\",\"text\":[\"Chamonix\",\"Sankt Moritz\",\"Lake Placid\",\"Garmisch-Partenkirchen\",\"Sankt Moritz\",\"Oslo\",\"Cortina d'Ampezzo\",\"Squaw Valley\",\"Innsbruck\",\"Grenoble\",\"Sapporo\",\"Innsbruck\",\"Lake Placid\",\"Sarajevo\",\"Calgary\",\"Albertville\",\"Lillehammer\",\"Nagano\",\"Salt Lake City\",\"Torino\",\"Vancouver\",\"Sochi\"],\"x\":[110,106,70,140,154,145,179,249,287,280,244,247,296,328,326,354,318,335,332,379,366,368],\"type\":\"box\"},{\"marker\":{\"line\":{\"color\":\"black\",\"width\":0.8}},\"name\":\"Swimming\",\"orientation\":\"h\",\"text\":[],\"x\":[],\"type\":\"box\"},{\"marker\":{\"line\":{\"color\":\"black\",\"width\":0.8}},\"name\":\"Synchronized Swimming\",\"orientation\":\"h\",\"text\":[],\"x\":[],\"type\":\"box\"},{\"marker\":{\"line\":{\"color\":\"black\",\"width\":0.8}},\"name\":\"Table Tennis\",\"orientation\":\"h\",\"text\":[],\"x\":[],\"type\":\"box\"},{\"marker\":{\"line\":{\"color\":\"black\",\"width\":0.8}},\"name\":\"Taekwondo\",\"orientation\":\"h\",\"text\":[],\"x\":[],\"type\":\"box\"},{\"marker\":{\"line\":{\"color\":\"black\",\"width\":0.8}},\"name\":\"Tennis\",\"orientation\":\"h\",\"text\":[],\"x\":[],\"type\":\"box\"},{\"marker\":{\"line\":{\"color\":\"black\",\"width\":0.8}},\"name\":\"Trampolining\",\"orientation\":\"h\",\"text\":[],\"x\":[],\"type\":\"box\"},{\"marker\":{\"line\":{\"color\":\"black\",\"width\":0.8}},\"name\":\"Triathlon\",\"orientation\":\"h\",\"text\":[],\"x\":[],\"type\":\"box\"},{\"marker\":{\"line\":{\"color\":\"black\",\"width\":0.8}},\"name\":\"Tug-Of-War\",\"orientation\":\"h\",\"text\":[],\"x\":[],\"type\":\"box\"},{\"marker\":{\"line\":{\"color\":\"black\",\"width\":0.8}},\"name\":\"Volleyball\",\"orientation\":\"h\",\"text\":[],\"x\":[],\"type\":\"box\"},{\"marker\":{\"line\":{\"color\":\"black\",\"width\":0.8}},\"name\":\"Water Polo\",\"orientation\":\"h\",\"text\":[],\"x\":[],\"type\":\"box\"},{\"marker\":{\"line\":{\"color\":\"black\",\"width\":0.8}},\"name\":\"Weightlifting\",\"orientation\":\"h\",\"text\":[],\"x\":[],\"type\":\"box\"},{\"marker\":{\"line\":{\"color\":\"black\",\"width\":0.8}},\"name\":\"Wrestling\",\"orientation\":\"h\",\"text\":[],\"x\":[],\"type\":\"box\"}],                        {\"height\":600,\"hovermode\":\"closest\",\"showlegend\":false,\"template\":{\"data\":{\"barpolar\":[{\"marker\":{\"line\":{\"color\":\"#E5ECF6\",\"width\":0.5},\"pattern\":{\"fillmode\":\"overlay\",\"size\":10,\"solidity\":0.2}},\"type\":\"barpolar\"}],\"bar\":[{\"error_x\":{\"color\":\"#2a3f5f\"},\"error_y\":{\"color\":\"#2a3f5f\"},\"marker\":{\"line\":{\"color\":\"#E5ECF6\",\"width\":0.5},\"pattern\":{\"fillmode\":\"overlay\",\"size\":10,\"solidity\":0.2}},\"type\":\"bar\"}],\"carpet\":[{\"aaxis\":{\"endlinecolor\":\"#2a3f5f\",\"gridcolor\":\"white\",\"linecolor\":\"white\",\"minorgridcolor\":\"white\",\"startlinecolor\":\"#2a3f5f\"},\"baxis\":{\"endlinecolor\":\"#2a3f5f\",\"gridcolor\":\"white\",\"linecolor\":\"white\",\"minorgridcolor\":\"white\",\"startlinecolor\":\"#2a3f5f\"},\"type\":\"carpet\"}],\"choropleth\":[{\"colorbar\":{\"outlinewidth\":0,\"ticks\":\"\"},\"type\":\"choropleth\"}],\"contourcarpet\":[{\"colorbar\":{\"outlinewidth\":0,\"ticks\":\"\"},\"type\":\"contourcarpet\"}],\"contour\":[{\"colorbar\":{\"outlinewidth\":0,\"ticks\":\"\"},\"colorscale\":[[0.0,\"#0d0887\"],[0.1111111111111111,\"#46039f\"],[0.2222222222222222,\"#7201a8\"],[0.3333333333333333,\"#9c179e\"],[0.4444444444444444,\"#bd3786\"],[0.5555555555555556,\"#d8576b\"],[0.6666666666666666,\"#ed7953\"],[0.7777777777777778,\"#fb9f3a\"],[0.8888888888888888,\"#fdca26\"],[1.0,\"#f0f921\"]],\"type\":\"contour\"}],\"heatmapgl\":[{\"colorbar\":{\"outlinewidth\":0,\"ticks\":\"\"},\"colorscale\":[[0.0,\"#0d0887\"],[0.1111111111111111,\"#46039f\"],[0.2222222222222222,\"#7201a8\"],[0.3333333333333333,\"#9c179e\"],[0.4444444444444444,\"#bd3786\"],[0.5555555555555556,\"#d8576b\"],[0.6666666666666666,\"#ed7953\"],[0.7777777777777778,\"#fb9f3a\"],[0.8888888888888888,\"#fdca26\"],[1.0,\"#f0f921\"]],\"type\":\"heatmapgl\"}],\"heatmap\":[{\"colorbar\":{\"outlinewidth\":0,\"ticks\":\"\"},\"colorscale\":[[0.0,\"#0d0887\"],[0.1111111111111111,\"#46039f\"],[0.2222222222222222,\"#7201a8\"],[0.3333333333333333,\"#9c179e\"],[0.4444444444444444,\"#bd3786\"],[0.5555555555555556,\"#d8576b\"],[0.6666666666666666,\"#ed7953\"],[0.7777777777777778,\"#fb9f3a\"],[0.8888888888888888,\"#fdca26\"],[1.0,\"#f0f921\"]],\"type\":\"heatmap\"}],\"histogram2dcontour\":[{\"colorbar\":{\"outlinewidth\":0,\"ticks\":\"\"},\"colorscale\":[[0.0,\"#0d0887\"],[0.1111111111111111,\"#46039f\"],[0.2222222222222222,\"#7201a8\"],[0.3333333333333333,\"#9c179e\"],[0.4444444444444444,\"#bd3786\"],[0.5555555555555556,\"#d8576b\"],[0.6666666666666666,\"#ed7953\"],[0.7777777777777778,\"#fb9f3a\"],[0.8888888888888888,\"#fdca26\"],[1.0,\"#f0f921\"]],\"type\":\"histogram2dcontour\"}],\"histogram2d\":[{\"colorbar\":{\"outlinewidth\":0,\"ticks\":\"\"},\"colorscale\":[[0.0,\"#0d0887\"],[0.1111111111111111,\"#46039f\"],[0.2222222222222222,\"#7201a8\"],[0.3333333333333333,\"#9c179e\"],[0.4444444444444444,\"#bd3786\"],[0.5555555555555556,\"#d8576b\"],[0.6666666666666666,\"#ed7953\"],[0.7777777777777778,\"#fb9f3a\"],[0.8888888888888888,\"#fdca26\"],[1.0,\"#f0f921\"]],\"type\":\"histogram2d\"}],\"histogram\":[{\"marker\":{\"pattern\":{\"fillmode\":\"overlay\",\"size\":10,\"solidity\":0.2}},\"type\":\"histogram\"}],\"mesh3d\":[{\"colorbar\":{\"outlinewidth\":0,\"ticks\":\"\"},\"type\":\"mesh3d\"}],\"parcoords\":[{\"line\":{\"colorbar\":{\"outlinewidth\":0,\"ticks\":\"\"}},\"type\":\"parcoords\"}],\"pie\":[{\"automargin\":true,\"type\":\"pie\"}],\"scatter3d\":[{\"line\":{\"colorbar\":{\"outlinewidth\":0,\"ticks\":\"\"}},\"marker\":{\"colorbar\":{\"outlinewidth\":0,\"ticks\":\"\"}},\"type\":\"scatter3d\"}],\"scattercarpet\":[{\"marker\":{\"colorbar\":{\"outlinewidth\":0,\"ticks\":\"\"}},\"type\":\"scattercarpet\"}],\"scattergeo\":[{\"marker\":{\"colorbar\":{\"outlinewidth\":0,\"ticks\":\"\"}},\"type\":\"scattergeo\"}],\"scattergl\":[{\"marker\":{\"colorbar\":{\"outlinewidth\":0,\"ticks\":\"\"}},\"type\":\"scattergl\"}],\"scattermapbox\":[{\"marker\":{\"colorbar\":{\"outlinewidth\":0,\"ticks\":\"\"}},\"type\":\"scattermapbox\"}],\"scatterpolargl\":[{\"marker\":{\"colorbar\":{\"outlinewidth\":0,\"ticks\":\"\"}},\"type\":\"scatterpolargl\"}],\"scatterpolar\":[{\"marker\":{\"colorbar\":{\"outlinewidth\":0,\"ticks\":\"\"}},\"type\":\"scatterpolar\"}],\"scatter\":[{\"fillpattern\":{\"fillmode\":\"overlay\",\"size\":10,\"solidity\":0.2},\"type\":\"scatter\"}],\"scatterternary\":[{\"marker\":{\"colorbar\":{\"outlinewidth\":0,\"ticks\":\"\"}},\"type\":\"scatterternary\"}],\"surface\":[{\"colorbar\":{\"outlinewidth\":0,\"ticks\":\"\"},\"colorscale\":[[0.0,\"#0d0887\"],[0.1111111111111111,\"#46039f\"],[0.2222222222222222,\"#7201a8\"],[0.3333333333333333,\"#9c179e\"],[0.4444444444444444,\"#bd3786\"],[0.5555555555555556,\"#d8576b\"],[0.6666666666666666,\"#ed7953\"],[0.7777777777777778,\"#fb9f3a\"],[0.8888888888888888,\"#fdca26\"],[1.0,\"#f0f921\"]],\"type\":\"surface\"}],\"table\":[{\"cells\":{\"fill\":{\"color\":\"#EBF0F8\"},\"line\":{\"color\":\"white\"}},\"header\":{\"fill\":{\"color\":\"#C8D4E3\"},\"line\":{\"color\":\"white\"}},\"type\":\"table\"}]},\"layout\":{\"annotationdefaults\":{\"arrowcolor\":\"#2a3f5f\",\"arrowhead\":0,\"arrowwidth\":1},\"autotypenumbers\":\"strict\",\"coloraxis\":{\"colorbar\":{\"outlinewidth\":0,\"ticks\":\"\"}},\"colorscale\":{\"diverging\":[[0,\"#8e0152\"],[0.1,\"#c51b7d\"],[0.2,\"#de77ae\"],[0.3,\"#f1b6da\"],[0.4,\"#fde0ef\"],[0.5,\"#f7f7f7\"],[0.6,\"#e6f5d0\"],[0.7,\"#b8e186\"],[0.8,\"#7fbc41\"],[0.9,\"#4d9221\"],[1,\"#276419\"]],\"sequential\":[[0.0,\"#0d0887\"],[0.1111111111111111,\"#46039f\"],[0.2222222222222222,\"#7201a8\"],[0.3333333333333333,\"#9c179e\"],[0.4444444444444444,\"#bd3786\"],[0.5555555555555556,\"#d8576b\"],[0.6666666666666666,\"#ed7953\"],[0.7777777777777778,\"#fb9f3a\"],[0.8888888888888888,\"#fdca26\"],[1.0,\"#f0f921\"]],\"sequentialminus\":[[0.0,\"#0d0887\"],[0.1111111111111111,\"#46039f\"],[0.2222222222222222,\"#7201a8\"],[0.3333333333333333,\"#9c179e\"],[0.4444444444444444,\"#bd3786\"],[0.5555555555555556,\"#d8576b\"],[0.6666666666666666,\"#ed7953\"],[0.7777777777777778,\"#fb9f3a\"],[0.8888888888888888,\"#fdca26\"],[1.0,\"#f0f921\"]]},\"colorway\":[\"#636efa\",\"#EF553B\",\"#00cc96\",\"#ab63fa\",\"#FFA15A\",\"#19d3f3\",\"#FF6692\",\"#B6E880\",\"#FF97FF\",\"#FECB52\"],\"font\":{\"color\":\"#2a3f5f\"},\"geo\":{\"bgcolor\":\"white\",\"lakecolor\":\"white\",\"landcolor\":\"#E5ECF6\",\"showlakes\":true,\"showland\":true,\"subunitcolor\":\"white\"},\"hoverlabel\":{\"align\":\"left\"},\"hovermode\":\"closest\",\"mapbox\":{\"style\":\"light\"},\"paper_bgcolor\":\"white\",\"plot_bgcolor\":\"#E5ECF6\",\"polar\":{\"angularaxis\":{\"gridcolor\":\"white\",\"linecolor\":\"white\",\"ticks\":\"\"},\"bgcolor\":\"#E5ECF6\",\"radialaxis\":{\"gridcolor\":\"white\",\"linecolor\":\"white\",\"ticks\":\"\"}},\"scene\":{\"xaxis\":{\"backgroundcolor\":\"#E5ECF6\",\"gridcolor\":\"white\",\"gridwidth\":2,\"linecolor\":\"white\",\"showbackground\":true,\"ticks\":\"\",\"zerolinecolor\":\"white\"},\"yaxis\":{\"backgroundcolor\":\"#E5ECF6\",\"gridcolor\":\"white\",\"gridwidth\":2,\"linecolor\":\"white\",\"showbackground\":true,\"ticks\":\"\",\"zerolinecolor\":\"white\"},\"zaxis\":{\"backgroundcolor\":\"#E5ECF6\",\"gridcolor\":\"white\",\"gridwidth\":2,\"linecolor\":\"white\",\"showbackground\":true,\"ticks\":\"\",\"zerolinecolor\":\"white\"}},\"shapedefaults\":{\"line\":{\"color\":\"#2a3f5f\"}},\"ternary\":{\"aaxis\":{\"gridcolor\":\"white\",\"linecolor\":\"white\",\"ticks\":\"\"},\"baxis\":{\"gridcolor\":\"white\",\"linecolor\":\"white\",\"ticks\":\"\"},\"bgcolor\":\"#E5ECF6\",\"caxis\":{\"gridcolor\":\"white\",\"linecolor\":\"white\",\"ticks\":\"\"}},\"title\":{\"x\":0.05},\"xaxis\":{\"automargin\":true,\"gridcolor\":\"white\",\"linecolor\":\"white\",\"ticks\":\"\",\"title\":{\"standoff\":15},\"zerolinecolor\":\"white\",\"zerolinewidth\":2},\"yaxis\":{\"automargin\":true,\"gridcolor\":\"white\",\"linecolor\":\"white\",\"ticks\":\"\",\"title\":{\"standoff\":15},\"zerolinecolor\":\"white\",\"zerolinewidth\":2}}},\"title\":{\"text\":\"Athlets per Sport (Winter Olympics)\"},\"width\":800,\"xaxis\":{\"showticklabels\":true,\"title\":{\"text\":\"Number of athlets\"}},\"yaxis\":{\"showticklabels\":true,\"tickfont\":{\"color\":\"black\",\"family\":\"Old Standard TT, serif\",\"size\":8},\"title\":{\"text\":\"Sport\"}}},                        {\"responsive\": true}                    ).then(function(){\n",
       "                            \n",
       "var gd = document.getElementById('bdc14906-09d6-4199-967d-3228c7eb8972');\n",
       "var x = new MutationObserver(function (mutations, observer) {{\n",
       "        var display = window.getComputedStyle(gd).display;\n",
       "        if (!display || display === 'none') {{\n",
       "            console.log([gd, 'removed!']);\n",
       "            Plotly.purge(gd);\n",
       "            observer.disconnect();\n",
       "        }}\n",
       "}});\n",
       "\n",
       "// Listen for the removal of the full notebook cells\n",
       "var notebookContainer = gd.closest('#notebook-container');\n",
       "if (notebookContainer) {{\n",
       "    x.observe(notebookContainer, {childList: true});\n",
       "}}\n",
       "\n",
       "// Listen for the clearing of the current output cell\n",
       "var outputEl = gd.closest('.output');\n",
       "if (outputEl) {{\n",
       "    x.observe(outputEl, {childList: true});\n",
       "}}\n",
       "\n",
       "                        })                };                });            </script>        </div>"
      ]
     },
     "metadata": {},
     "output_type": "display_data"
    }
   ],
   "source": [
    "# select only Winter Olympics\n",
    "df_W = df[df['Season']=='Winter']\n",
    "# draw the boxplots for the Summer Olympics\n",
    "draw_group(df_W, \"Athlets per Sport (Winter Olympics)\",600)"
   ]
  },
  {
   "cell_type": "markdown",
   "id": "3ac91c39",
   "metadata": {
    "papermill": {
     "duration": 0.105448,
     "end_time": "2022-07-27T20:00:45.844754",
     "exception": false,
     "start_time": "2022-07-27T20:00:45.739306",
     "status": "completed"
    },
    "tags": []
   },
   "source": [
    "# 9. Use a Heatmap to show the number of athlets per Game event and per Sport."
   ]
  },
  {
   "cell_type": "code",
   "execution_count": 26,
   "id": "71f8f52c",
   "metadata": {
    "_uuid": "28f71864c95e89942fe457208e7544882e2df33b",
    "execution": {
     "iopub.execute_input": "2022-07-27T20:00:46.059014Z",
     "iopub.status.busy": "2022-07-27T20:00:46.058612Z",
     "iopub.status.idle": "2022-07-27T20:00:46.091531Z",
     "shell.execute_reply": "2022-07-27T20:00:46.090253Z"
    },
    "papermill": {
     "duration": 0.143599,
     "end_time": "2022-07-27T20:00:46.094446",
     "exception": false,
     "start_time": "2022-07-27T20:00:45.950847",
     "status": "completed"
    },
    "tags": []
   },
   "outputs": [],
   "source": [
    "piv = pd.pivot_table(df_S, values=\"Athlets\",index=[\"Year\"], columns=[\"Sport\"], fill_value=0)\n",
    "m = piv.values"
   ]
  },
  {
   "cell_type": "markdown",
   "id": "46f9cd0f",
   "metadata": {
    "_uuid": "4fed23816c181757d0ac4636af6b4caee554c4d5",
    "papermill": {
     "duration": 0.105507,
     "end_time": "2022-07-27T20:00:46.307876",
     "exception": false,
     "start_time": "2022-07-27T20:00:46.202369",
     "status": "completed"
    },
    "tags": []
   },
   "source": [
    "We prepare the `Heatmap`.\n",
    "\n",
    "The attributes we use are:\n",
    "* z - the matrix with values to be displayed;\n",
    "* x - the columns names;\n",
    "* y - the rows names;  \n",
    "* colorsacale - the color scale to be used for display; "
   ]
  },
  {
   "cell_type": "code",
   "execution_count": 27,
   "id": "f0e16f7b",
   "metadata": {
    "_uuid": "9f2254fd094bf7774a856598c5825aec00055588",
    "execution": {
     "iopub.execute_input": "2022-07-27T20:00:46.521211Z",
     "iopub.status.busy": "2022-07-27T20:00:46.520807Z",
     "iopub.status.idle": "2022-07-27T20:00:46.576433Z",
     "shell.execute_reply": "2022-07-27T20:00:46.574946Z"
    },
    "papermill": {
     "duration": 0.168264,
     "end_time": "2022-07-27T20:00:46.581879",
     "exception": false,
     "start_time": "2022-07-27T20:00:46.413615",
     "status": "completed"
    },
    "tags": []
   },
   "outputs": [
    {
     "data": {
      "application/vnd.plotly.v1+json": {
       "config": {
        "linkText": "Export to plot.ly",
        "plotlyServerURL": "https://plot.ly",
        "showLink": false
       },
       "data": [
        {
         "colorscale": [
          [
           0.0,
           "rgb(255,245,240)"
          ],
          [
           0.125,
           "rgb(254,224,210)"
          ],
          [
           0.25,
           "rgb(252,187,161)"
          ],
          [
           0.375,
           "rgb(252,146,114)"
          ],
          [
           0.5,
           "rgb(251,106,74)"
          ],
          [
           0.625,
           "rgb(239,59,44)"
          ],
          [
           0.75,
           "rgb(203,24,29)"
          ],
          [
           0.875,
           "rgb(165,15,21)"
          ],
          [
           1.0,
           "rgb(103,0,13)"
          ]
         ],
         "reversescale": false,
         "type": "heatmap",
         "x": [
          "Aeronautics",
          "Alpinism",
          "Archery",
          "Art Competitions",
          "Athletics",
          "Badminton",
          "Baseball",
          "Basketball",
          "Basque Pelota",
          "Beach Volleyball",
          "Boxing",
          "Canoeing",
          "Cricket",
          "Croquet",
          "Cycling",
          "Diving",
          "Equestrianism",
          "Fencing",
          "Figure Skating",
          "Football",
          "Golf",
          "Gymnastics",
          "Handball",
          "Hockey",
          "Ice Hockey",
          "Jeu De Paume",
          "Judo",
          "Lacrosse",
          "Modern Pentathlon",
          "Motorboating",
          "Polo",
          "Racquets",
          "Rhythmic Gymnastics",
          "Roque",
          "Rowing",
          "Rugby",
          "Rugby Sevens",
          "Sailing",
          "Shooting",
          "Softball",
          "Swimming",
          "Synchronized Swimming",
          "Table Tennis",
          "Taekwondo",
          "Tennis",
          "Trampolining",
          "Triathlon",
          "Tug-Of-War",
          "Volleyball",
          "Water Polo",
          "Weightlifting",
          "Wrestling"
         ],
         "y": [
          1896,
          1900,
          1904,
          1906,
          1908,
          1912,
          1920,
          1924,
          1928,
          1932,
          1936,
          1948,
          1952,
          1956,
          1960,
          1964,
          1968,
          1972,
          1976,
          1980,
          1984,
          1988,
          1992,
          1996,
          2000,
          2004,
          2008,
          2012,
          2016
         ],
         "z": [
          [
           0,
           0,
           0,
           0,
           106,
           0,
           0,
           0,
           0,
           0,
           0,
           0,
           0,
           0,
           41,
           0,
           0,
           15,
           0,
           0,
           0,
           97,
           0,
           0,
           0,
           0,
           0,
           0,
           0,
           0,
           0,
           0,
           0,
           0,
           0,
           0,
           0,
           0,
           65,
           0,
           18,
           0,
           0,
           0,
           23,
           0,
           0,
           0,
           0,
           0,
           10,
           5
          ],
          [
           0,
           0,
           32,
           0,
           234,
           0,
           0,
           0,
           2,
           0,
           0,
           0,
           24,
           19,
           92,
           0,
           79,
           317,
           0,
           35,
           22,
           135,
           0,
           0,
           0,
           0,
           0,
           0,
           0,
           0,
           21,
           0,
           0,
           0,
           133,
           47,
           0,
           280,
           221,
           0,
           131,
           0,
           0,
           0,
           47,
           0,
           0,
           12,
           0,
           53,
           0,
           0
          ],
          [
           0,
           0,
           70,
           0,
           201,
           0,
           0,
           0,
           0,
           0,
           24,
           0,
           0,
           0,
           61,
           5,
           0,
           28,
           0,
           36,
           105,
           458,
           0,
           0,
           0,
           0,
           0,
           36,
           0,
           0,
           0,
           0,
           0,
           4,
           46,
           0,
           0,
           0,
           0,
           0,
           64,
           0,
           0,
           0,
           57,
           0,
           0,
           30,
           0,
           21,
           7,
           48
          ],
          [
           0,
           0,
           0,
           0,
           470,
           0,
           0,
           0,
           0,
           0,
           0,
           0,
           0,
           0,
           138,
           24,
           0,
           161,
           0,
           45,
           0,
           156,
           0,
           0,
           0,
           0,
           0,
           0,
           0,
           0,
           0,
           0,
           0,
           0,
           200,
           0,
           0,
           0,
           320,
           0,
           78,
           0,
           0,
           0,
           48,
           0,
           0,
           32,
           0,
           0,
           22,
           39
          ],
          [
           0,
           0,
           77,
           0,
           778,
           0,
           0,
           0,
           0,
           0,
           42,
           0,
           0,
           0,
           269,
           47,
           0,
           240,
           23,
           72,
           0,
           349,
           0,
           68,
           0,
           11,
           0,
           24,
           0,
           17,
           12,
           12,
           0,
           0,
           87,
           30,
           0,
           64,
           444,
           0,
           150,
           0,
           0,
           0,
           84,
           0,
           0,
           40,
           0,
           28,
           0,
           133
          ],
          [
           0,
           0,
           0,
           33,
           962,
           0,
           0,
           0,
           0,
           0,
           0,
           0,
           0,
           0,
           242,
           86,
           128,
           379,
           0,
           163,
           0,
           310,
           0,
           0,
           0,
           0,
           0,
           0,
           32,
           0,
           0,
           0,
           0,
           0,
           197,
           0,
           0,
           109,
           794,
           0,
           201,
           0,
           0,
           0,
           173,
           0,
           0,
           16,
           0,
           45,
           0,
           170
          ],
          [
           0,
           0,
           86,
           11,
           849,
           0,
           0,
           0,
           0,
           0,
           116,
           0,
           0,
           0,
           212,
           70,
           132,
           350,
           31,
           190,
           0,
           263,
           0,
           51,
           60,
           0,
           0,
           0,
           23,
           0,
           17,
           0,
           0,
           0,
           144,
           31,
           0,
           101,
           838,
           0,
           209,
           0,
           0,
           0,
           153,
           0,
           0,
           40,
           0,
           101,
           53,
           161
          ],
          [
           0,
           0,
           0,
           318,
           1003,
           0,
           0,
           0,
           0,
           0,
           181,
           0,
           0,
           0,
           249,
           90,
           194,
           424,
           0,
           279,
           0,
           638,
           0,
           0,
           0,
           0,
           0,
           0,
           38,
           0,
           24,
           0,
           0,
           0,
           196,
           54,
           0,
           69,
           508,
           0,
           263,
           0,
           0,
           0,
           253,
           0,
           0,
           0,
           0,
           101,
           107,
           244
          ],
          [
           0,
           0,
           0,
           808,
           992,
           0,
           0,
           0,
           0,
           0,
           144,
           0,
           0,
           0,
           227,
           74,
           232,
           430,
           0,
           219,
           0,
           664,
           0,
           137,
           0,
           0,
           0,
           0,
           37,
           0,
           0,
           0,
           0,
           0,
           247,
           0,
           0,
           128,
           0,
           0,
           278,
           0,
           0,
           0,
           0,
           0,
           0,
           0,
           0,
           112,
           94,
           169
          ],
          [
           0,
           2,
           0,
           1124,
           522,
           0,
           0,
           0,
           0,
           0,
           85,
           0,
           0,
           0,
           109,
           36,
           65,
           192,
           0,
           0,
           0,
           147,
           0,
           40,
           0,
           0,
           0,
           0,
           25,
           0,
           0,
           0,
           0,
           0,
           166,
           0,
           0,
           57,
           44,
           0,
           195,
           0,
           0,
           0,
           0,
           0,
           0,
           0,
           0,
           41,
           29,
           90
          ],
          [
           1,
           2,
           0,
           813,
           1007,
           0,
           0,
           199,
           0,
           0,
           179,
           143,
           0,
           0,
           301,
           88,
           256,
           556,
           0,
           201,
           0,
           947,
           105,
           167,
           0,
           0,
           0,
           0,
           42,
           0,
           21,
           0,
           0,
           0,
           348,
           0,
           0,
           172,
           162,
           0,
           364,
           0,
           0,
           0,
           0,
           0,
           0,
           0,
           0,
           142,
           80,
           210
          ],
          [
           0,
           0,
           0,
           471,
           1051,
           0,
           0,
           287,
           0,
           0,
           205,
           139,
           0,
           0,
           320,
           84,
           207,
           508,
           0,
           218,
           0,
           1060,
           0,
           187,
           0,
           0,
           0,
           0,
           45,
           0,
           0,
           0,
           0,
           0,
           318,
           0,
           0,
           186,
           216,
           0,
           398,
           0,
           0,
           0,
           0,
           0,
           0,
           0,
           0,
           156,
           120,
           229
          ],
          [
           0,
           0,
           0,
           0,
           1344,
           0,
           0,
           294,
           0,
           0,
           249,
           184,
           0,
           0,
           389,
           97,
           263,
           509,
           0,
           294,
           0,
           2391,
           0,
           157,
           0,
           0,
           0,
           0,
           99,
           0,
           0,
           0,
           0,
           0,
           406,
           0,
           0,
           227,
           289,
           0,
           483,
           0,
           0,
           0,
           0,
           0,
           0,
           0,
           0,
           191,
           142,
           262
          ],
          [
           0,
           0,
           0,
           0,
           1013,
           0,
           0,
           169,
           0,
           0,
           161,
           146,
           0,
           0,
           292,
           82,
           298,
           278,
           0,
           143,
           0,
           913,
           0,
           173,
           0,
           0,
           0,
           0,
           76,
           0,
           0,
           0,
           0,
           0,
           258,
           0,
           0,
           154,
           219,
           0,
           356,
           0,
           0,
           0,
           0,
           0,
           0,
           0,
           0,
           96,
           105,
           195
          ],
          [
           0,
           0,
           0,
           0,
           1312,
           0,
           0,
           192,
           0,
           0,
           281,
           211,
           0,
           0,
           423,
           96,
           276,
           601,
           0,
           235,
           0,
           1746,
           0,
           236,
           0,
           0,
           0,
           0,
           111,
           0,
           0,
           0,
           0,
           0,
           431,
           0,
           0,
           290,
           389,
           0,
           630,
           0,
           0,
           0,
           0,
           0,
           0,
           0,
           0,
           150,
           172,
           337
          ],
          [
           0,
           0,
           0,
           0,
           1335,
           0,
           0,
           189,
           0,
           0,
           269,
           167,
           0,
           0,
           451,
           102,
           224,
           481,
           0,
           214,
           0,
           1484,
           0,
           226,
           0,
           0,
           72,
           0,
           70,
           0,
           0,
           0,
           0,
           0,
           378,
           0,
           0,
           225,
           312,
           0,
           736,
           0,
           0,
           0,
           0,
           0,
           0,
           0,
           179,
           137,
           149,
           302
          ],
          [
           0,
           0,
           0,
           0,
           1345,
           0,
           0,
           191,
           0,
           0,
           307,
           203,
           0,
           0,
           483,
           109,
           233,
           490,
           0,
           273,
           0,
           1496,
           0,
           253,
           0,
           0,
           0,
           0,
           93,
           0,
           0,
           0,
           0,
           0,
           358,
           0,
           0,
           252,
           410,
           0,
           1231,
           0,
           0,
           0,
           0,
           0,
           0,
           0,
           206,
           162,
           160,
           333
          ],
          [
           0,
           0,
           95,
           0,
           1686,
           0,
           0,
           190,
           0,
           0,
           354,
           359,
           0,
           0,
           526,
           124,
           326,
           499,
           0,
           269,
           0,
           1584,
           243,
           263,
           0,
           0,
           166,
           0,
           116,
           0,
           0,
           0,
           0,
           0,
           442,
           0,
           0,
           323,
           472,
           0,
           1263,
           0,
           0,
           0,
           0,
           0,
           0,
           0,
           231,
           176,
           188,
           409
          ],
          [
           0,
           0,
           64,
           0,
           1297,
           0,
           0,
           213,
           0,
           0,
           266,
           340,
           0,
           0,
           392,
           105,
           246,
           485,
           0,
           202,
           0,
           1204,
           243,
           172,
           0,
           0,
           154,
           0,
           89,
           0,
           0,
           0,
           0,
           0,
           598,
           0,
           0,
           257,
           369,
           0,
           1076,
           0,
           0,
           0,
           0,
           0,
           0,
           0,
           216,
           131,
           173,
           349
          ],
          [
           0,
           0,
           67,
           0,
           1268,
           0,
           0,
           215,
           0,
           0,
           271,
           253,
           0,
           0,
           307,
           88,
           122,
           321,
           0,
           256,
           0,
           866,
           248,
           187,
           0,
           0,
           193,
           0,
           79,
           0,
           0,
           0,
           0,
           0,
           488,
           0,
           0,
           156,
           267,
           0,
           761,
           0,
           0,
           0,
           0,
           0,
           0,
           0,
           204,
           132,
           172,
           270
          ],
          [
           0,
           0,
           109,
           0,
           1674,
           0,
           0,
           213,
           0,
           0,
           354,
           299,
           0,
           0,
           475,
           101,
           281,
           424,
           0,
           246,
           0,
           930,
           259,
           286,
           0,
           0,
           212,
           0,
           103,
           0,
           0,
           0,
           33,
           0,
           465,
           0,
           0,
           300,
           539,
           0,
           1232,
           86,
           0,
           0,
           0,
           0,
           0,
           0,
           208,
           153,
           186,
           286
          ],
          [
           0,
           0,
           257,
           0,
           2062,
           0,
           0,
           236,
           0,
           0,
           432,
           388,
           0,
           0,
           518,
           108,
           324,
           506,
           0,
           270,
           0,
           1217,
           281,
           314,
           0,
           0,
           243,
           0,
           122,
           0,
           0,
           0,
           39,
           0,
           624,
           0,
           0,
           375,
           545,
           0,
           1614,
           76,
           206,
           0,
           202,
           0,
           0,
           0,
           239,
           156,
           226,
           457
          ],
          [
           0,
           0,
           247,
           0,
           2054,
           226,
           160,
           236,
           0,
           0,
           336,
           587,
           0,
           0,
           566,
           112,
           404,
           458,
           0,
           272,
           0,
           1255,
           292,
           314,
           0,
           0,
           433,
           0,
           117,
           0,
           0,
           0,
           42,
           0,
           661,
           0,
           0,
           441,
           564,
           0,
           1615,
           89,
           248,
           0,
           250,
           0,
           0,
           0,
           231,
           152,
           244,
           371
          ],
          [
           0,
           0,
           218,
           0,
           2386,
           263,
           160,
           284,
           0,
           84,
           355,
           575,
           0,
           0,
           584,
           139,
           343,
           388,
           0,
           388,
           0,
           1397,
           300,
           320,
           0,
           0,
           387,
           0,
           32,
           0,
           0,
           0,
           90,
           0,
           621,
           0,
           0,
           458,
           612,
           120,
           1635,
           72,
           251,
           0,
           246,
           0,
           0,
           0,
           275,
           153,
           243,
           401
          ],
          [
           0,
           0,
           206,
           0,
           2468,
           225,
           192,
           286,
           0,
           96,
           307,
           448,
           0,
           0,
           621,
           238,
           295,
           349,
           0,
           391,
           0,
           1144,
           323,
           350,
           0,
           0,
           398,
           0,
           48,
           0,
           0,
           0,
           84,
           0,
           561,
           0,
           0,
           402,
           599,
           120,
           1741,
           117,
           268,
           102,
           248,
           24,
           100,
           0,
           279,
           231,
           246,
           314
          ],
          [
           0,
           0,
           212,
           0,
           2175,
           200,
           191,
           287,
           0,
           96,
           280,
           434,
           0,
           0,
           623,
           196,
           371,
           323,
           0,
           425,
           0,
           1151,
           328,
           352,
           0,
           0,
           384,
           0,
           64,
           0,
           0,
           0,
           84,
           0,
           559,
           0,
           0,
           401,
           558,
           118,
           1618,
           117,
           260,
           124,
           252,
           32,
           99,
           0,
           283,
           255,
           249,
           342
          ],
          [
           0,
           0,
           194,
           0,
           2244,
           184,
           191,
           287,
           0,
           96,
           283,
           436,
           0,
           0,
           652,
           182,
           340,
           332,
           0,
           469,
           0,
           996,
           343,
           387,
           0,
           0,
           386,
           0,
           72,
           0,
           0,
           0,
           95,
           0,
           563,
           0,
           0,
           400,
           577,
           120,
           1749,
           117,
           250,
           126,
           254,
           32,
           110,
           0,
           283,
           256,
           253,
           343
          ],
          [
           0,
           0,
           200,
           0,
           2278,
           182,
           0,
           287,
           0,
           96,
           283,
           418,
           0,
           0,
           629,
           181,
           350,
           345,
           0,
           467,
           0,
           848,
           347,
           387,
           0,
           0,
           384,
           0,
           72,
           0,
           0,
           0,
           95,
           0,
           550,
           0,
           0,
           379,
           560,
           0,
           1538,
           117,
           236,
           128,
           286,
           32,
           110,
           0,
           287,
           257,
           252,
           339
          ],
          [
           0,
           0,
           200,
           0,
           2508,
           177,
           0,
           281,
           0,
           96,
           283,
           441,
           0,
           0,
           667,
           178,
           355,
           346,
           0,
           473,
           120,
           861,
           353,
           390,
           0,
           0,
           389,
           0,
           72,
           0,
           0,
           0,
           96,
           0,
           550,
           0,
           299,
           380,
           555,
           0,
           1568,
           118,
           236,
           126,
           286,
           32,
           110,
           0,
           283,
           258,
           255,
           346
          ]
         ]
        }
       ],
       "layout": {
        "height": 800,
        "hovermode": "closest",
        "showlegend": false,
        "template": {
         "data": {
          "bar": [
           {
            "error_x": {
             "color": "#2a3f5f"
            },
            "error_y": {
             "color": "#2a3f5f"
            },
            "marker": {
             "line": {
              "color": "#E5ECF6",
              "width": 0.5
             },
             "pattern": {
              "fillmode": "overlay",
              "size": 10,
              "solidity": 0.2
             }
            },
            "type": "bar"
           }
          ],
          "barpolar": [
           {
            "marker": {
             "line": {
              "color": "#E5ECF6",
              "width": 0.5
             },
             "pattern": {
              "fillmode": "overlay",
              "size": 10,
              "solidity": 0.2
             }
            },
            "type": "barpolar"
           }
          ],
          "carpet": [
           {
            "aaxis": {
             "endlinecolor": "#2a3f5f",
             "gridcolor": "white",
             "linecolor": "white",
             "minorgridcolor": "white",
             "startlinecolor": "#2a3f5f"
            },
            "baxis": {
             "endlinecolor": "#2a3f5f",
             "gridcolor": "white",
             "linecolor": "white",
             "minorgridcolor": "white",
             "startlinecolor": "#2a3f5f"
            },
            "type": "carpet"
           }
          ],
          "choropleth": [
           {
            "colorbar": {
             "outlinewidth": 0,
             "ticks": ""
            },
            "type": "choropleth"
           }
          ],
          "contour": [
           {
            "colorbar": {
             "outlinewidth": 0,
             "ticks": ""
            },
            "colorscale": [
             [
              0.0,
              "#0d0887"
             ],
             [
              0.1111111111111111,
              "#46039f"
             ],
             [
              0.2222222222222222,
              "#7201a8"
             ],
             [
              0.3333333333333333,
              "#9c179e"
             ],
             [
              0.4444444444444444,
              "#bd3786"
             ],
             [
              0.5555555555555556,
              "#d8576b"
             ],
             [
              0.6666666666666666,
              "#ed7953"
             ],
             [
              0.7777777777777778,
              "#fb9f3a"
             ],
             [
              0.8888888888888888,
              "#fdca26"
             ],
             [
              1.0,
              "#f0f921"
             ]
            ],
            "type": "contour"
           }
          ],
          "contourcarpet": [
           {
            "colorbar": {
             "outlinewidth": 0,
             "ticks": ""
            },
            "type": "contourcarpet"
           }
          ],
          "heatmap": [
           {
            "colorbar": {
             "outlinewidth": 0,
             "ticks": ""
            },
            "colorscale": [
             [
              0.0,
              "#0d0887"
             ],
             [
              0.1111111111111111,
              "#46039f"
             ],
             [
              0.2222222222222222,
              "#7201a8"
             ],
             [
              0.3333333333333333,
              "#9c179e"
             ],
             [
              0.4444444444444444,
              "#bd3786"
             ],
             [
              0.5555555555555556,
              "#d8576b"
             ],
             [
              0.6666666666666666,
              "#ed7953"
             ],
             [
              0.7777777777777778,
              "#fb9f3a"
             ],
             [
              0.8888888888888888,
              "#fdca26"
             ],
             [
              1.0,
              "#f0f921"
             ]
            ],
            "type": "heatmap"
           }
          ],
          "heatmapgl": [
           {
            "colorbar": {
             "outlinewidth": 0,
             "ticks": ""
            },
            "colorscale": [
             [
              0.0,
              "#0d0887"
             ],
             [
              0.1111111111111111,
              "#46039f"
             ],
             [
              0.2222222222222222,
              "#7201a8"
             ],
             [
              0.3333333333333333,
              "#9c179e"
             ],
             [
              0.4444444444444444,
              "#bd3786"
             ],
             [
              0.5555555555555556,
              "#d8576b"
             ],
             [
              0.6666666666666666,
              "#ed7953"
             ],
             [
              0.7777777777777778,
              "#fb9f3a"
             ],
             [
              0.8888888888888888,
              "#fdca26"
             ],
             [
              1.0,
              "#f0f921"
             ]
            ],
            "type": "heatmapgl"
           }
          ],
          "histogram": [
           {
            "marker": {
             "pattern": {
              "fillmode": "overlay",
              "size": 10,
              "solidity": 0.2
             }
            },
            "type": "histogram"
           }
          ],
          "histogram2d": [
           {
            "colorbar": {
             "outlinewidth": 0,
             "ticks": ""
            },
            "colorscale": [
             [
              0.0,
              "#0d0887"
             ],
             [
              0.1111111111111111,
              "#46039f"
             ],
             [
              0.2222222222222222,
              "#7201a8"
             ],
             [
              0.3333333333333333,
              "#9c179e"
             ],
             [
              0.4444444444444444,
              "#bd3786"
             ],
             [
              0.5555555555555556,
              "#d8576b"
             ],
             [
              0.6666666666666666,
              "#ed7953"
             ],
             [
              0.7777777777777778,
              "#fb9f3a"
             ],
             [
              0.8888888888888888,
              "#fdca26"
             ],
             [
              1.0,
              "#f0f921"
             ]
            ],
            "type": "histogram2d"
           }
          ],
          "histogram2dcontour": [
           {
            "colorbar": {
             "outlinewidth": 0,
             "ticks": ""
            },
            "colorscale": [
             [
              0.0,
              "#0d0887"
             ],
             [
              0.1111111111111111,
              "#46039f"
             ],
             [
              0.2222222222222222,
              "#7201a8"
             ],
             [
              0.3333333333333333,
              "#9c179e"
             ],
             [
              0.4444444444444444,
              "#bd3786"
             ],
             [
              0.5555555555555556,
              "#d8576b"
             ],
             [
              0.6666666666666666,
              "#ed7953"
             ],
             [
              0.7777777777777778,
              "#fb9f3a"
             ],
             [
              0.8888888888888888,
              "#fdca26"
             ],
             [
              1.0,
              "#f0f921"
             ]
            ],
            "type": "histogram2dcontour"
           }
          ],
          "mesh3d": [
           {
            "colorbar": {
             "outlinewidth": 0,
             "ticks": ""
            },
            "type": "mesh3d"
           }
          ],
          "parcoords": [
           {
            "line": {
             "colorbar": {
              "outlinewidth": 0,
              "ticks": ""
             }
            },
            "type": "parcoords"
           }
          ],
          "pie": [
           {
            "automargin": true,
            "type": "pie"
           }
          ],
          "scatter": [
           {
            "fillpattern": {
             "fillmode": "overlay",
             "size": 10,
             "solidity": 0.2
            },
            "type": "scatter"
           }
          ],
          "scatter3d": [
           {
            "line": {
             "colorbar": {
              "outlinewidth": 0,
              "ticks": ""
             }
            },
            "marker": {
             "colorbar": {
              "outlinewidth": 0,
              "ticks": ""
             }
            },
            "type": "scatter3d"
           }
          ],
          "scattercarpet": [
           {
            "marker": {
             "colorbar": {
              "outlinewidth": 0,
              "ticks": ""
             }
            },
            "type": "scattercarpet"
           }
          ],
          "scattergeo": [
           {
            "marker": {
             "colorbar": {
              "outlinewidth": 0,
              "ticks": ""
             }
            },
            "type": "scattergeo"
           }
          ],
          "scattergl": [
           {
            "marker": {
             "colorbar": {
              "outlinewidth": 0,
              "ticks": ""
             }
            },
            "type": "scattergl"
           }
          ],
          "scattermapbox": [
           {
            "marker": {
             "colorbar": {
              "outlinewidth": 0,
              "ticks": ""
             }
            },
            "type": "scattermapbox"
           }
          ],
          "scatterpolar": [
           {
            "marker": {
             "colorbar": {
              "outlinewidth": 0,
              "ticks": ""
             }
            },
            "type": "scatterpolar"
           }
          ],
          "scatterpolargl": [
           {
            "marker": {
             "colorbar": {
              "outlinewidth": 0,
              "ticks": ""
             }
            },
            "type": "scatterpolargl"
           }
          ],
          "scatterternary": [
           {
            "marker": {
             "colorbar": {
              "outlinewidth": 0,
              "ticks": ""
             }
            },
            "type": "scatterternary"
           }
          ],
          "surface": [
           {
            "colorbar": {
             "outlinewidth": 0,
             "ticks": ""
            },
            "colorscale": [
             [
              0.0,
              "#0d0887"
             ],
             [
              0.1111111111111111,
              "#46039f"
             ],
             [
              0.2222222222222222,
              "#7201a8"
             ],
             [
              0.3333333333333333,
              "#9c179e"
             ],
             [
              0.4444444444444444,
              "#bd3786"
             ],
             [
              0.5555555555555556,
              "#d8576b"
             ],
             [
              0.6666666666666666,
              "#ed7953"
             ],
             [
              0.7777777777777778,
              "#fb9f3a"
             ],
             [
              0.8888888888888888,
              "#fdca26"
             ],
             [
              1.0,
              "#f0f921"
             ]
            ],
            "type": "surface"
           }
          ],
          "table": [
           {
            "cells": {
             "fill": {
              "color": "#EBF0F8"
             },
             "line": {
              "color": "white"
             }
            },
            "header": {
             "fill": {
              "color": "#C8D4E3"
             },
             "line": {
              "color": "white"
             }
            },
            "type": "table"
           }
          ]
         },
         "layout": {
          "annotationdefaults": {
           "arrowcolor": "#2a3f5f",
           "arrowhead": 0,
           "arrowwidth": 1
          },
          "autotypenumbers": "strict",
          "coloraxis": {
           "colorbar": {
            "outlinewidth": 0,
            "ticks": ""
           }
          },
          "colorscale": {
           "diverging": [
            [
             0,
             "#8e0152"
            ],
            [
             0.1,
             "#c51b7d"
            ],
            [
             0.2,
             "#de77ae"
            ],
            [
             0.3,
             "#f1b6da"
            ],
            [
             0.4,
             "#fde0ef"
            ],
            [
             0.5,
             "#f7f7f7"
            ],
            [
             0.6,
             "#e6f5d0"
            ],
            [
             0.7,
             "#b8e186"
            ],
            [
             0.8,
             "#7fbc41"
            ],
            [
             0.9,
             "#4d9221"
            ],
            [
             1,
             "#276419"
            ]
           ],
           "sequential": [
            [
             0.0,
             "#0d0887"
            ],
            [
             0.1111111111111111,
             "#46039f"
            ],
            [
             0.2222222222222222,
             "#7201a8"
            ],
            [
             0.3333333333333333,
             "#9c179e"
            ],
            [
             0.4444444444444444,
             "#bd3786"
            ],
            [
             0.5555555555555556,
             "#d8576b"
            ],
            [
             0.6666666666666666,
             "#ed7953"
            ],
            [
             0.7777777777777778,
             "#fb9f3a"
            ],
            [
             0.8888888888888888,
             "#fdca26"
            ],
            [
             1.0,
             "#f0f921"
            ]
           ],
           "sequentialminus": [
            [
             0.0,
             "#0d0887"
            ],
            [
             0.1111111111111111,
             "#46039f"
            ],
            [
             0.2222222222222222,
             "#7201a8"
            ],
            [
             0.3333333333333333,
             "#9c179e"
            ],
            [
             0.4444444444444444,
             "#bd3786"
            ],
            [
             0.5555555555555556,
             "#d8576b"
            ],
            [
             0.6666666666666666,
             "#ed7953"
            ],
            [
             0.7777777777777778,
             "#fb9f3a"
            ],
            [
             0.8888888888888888,
             "#fdca26"
            ],
            [
             1.0,
             "#f0f921"
            ]
           ]
          },
          "colorway": [
           "#636efa",
           "#EF553B",
           "#00cc96",
           "#ab63fa",
           "#FFA15A",
           "#19d3f3",
           "#FF6692",
           "#B6E880",
           "#FF97FF",
           "#FECB52"
          ],
          "font": {
           "color": "#2a3f5f"
          },
          "geo": {
           "bgcolor": "white",
           "lakecolor": "white",
           "landcolor": "#E5ECF6",
           "showlakes": true,
           "showland": true,
           "subunitcolor": "white"
          },
          "hoverlabel": {
           "align": "left"
          },
          "hovermode": "closest",
          "mapbox": {
           "style": "light"
          },
          "paper_bgcolor": "white",
          "plot_bgcolor": "#E5ECF6",
          "polar": {
           "angularaxis": {
            "gridcolor": "white",
            "linecolor": "white",
            "ticks": ""
           },
           "bgcolor": "#E5ECF6",
           "radialaxis": {
            "gridcolor": "white",
            "linecolor": "white",
            "ticks": ""
           }
          },
          "scene": {
           "xaxis": {
            "backgroundcolor": "#E5ECF6",
            "gridcolor": "white",
            "gridwidth": 2,
            "linecolor": "white",
            "showbackground": true,
            "ticks": "",
            "zerolinecolor": "white"
           },
           "yaxis": {
            "backgroundcolor": "#E5ECF6",
            "gridcolor": "white",
            "gridwidth": 2,
            "linecolor": "white",
            "showbackground": true,
            "ticks": "",
            "zerolinecolor": "white"
           },
           "zaxis": {
            "backgroundcolor": "#E5ECF6",
            "gridcolor": "white",
            "gridwidth": 2,
            "linecolor": "white",
            "showbackground": true,
            "ticks": "",
            "zerolinecolor": "white"
           }
          },
          "shapedefaults": {
           "line": {
            "color": "#2a3f5f"
           }
          },
          "ternary": {
           "aaxis": {
            "gridcolor": "white",
            "linecolor": "white",
            "ticks": ""
           },
           "baxis": {
            "gridcolor": "white",
            "linecolor": "white",
            "ticks": ""
           },
           "bgcolor": "#E5ECF6",
           "caxis": {
            "gridcolor": "white",
            "linecolor": "white",
            "ticks": ""
           }
          },
          "title": {
           "x": 0.05
          },
          "xaxis": {
           "automargin": true,
           "gridcolor": "white",
           "linecolor": "white",
           "ticks": "",
           "title": {
            "standoff": 15
           },
           "zerolinecolor": "white",
           "zerolinewidth": 2
          },
          "yaxis": {
           "automargin": true,
           "gridcolor": "white",
           "linecolor": "white",
           "ticks": "",
           "title": {
            "standoff": 15
           },
           "zerolinecolor": "white",
           "zerolinewidth": 2
          }
         }
        },
        "title": {
         "text": "Number of athlets per year and sport (Summer Olympics)"
        },
        "width": 1000,
        "xaxis": {
         "showticklabels": true,
         "tickangle": 45,
         "tickfont": {
          "color": "black",
          "size": 10
         },
         "title": {
          "text": "Sport"
         }
        },
        "yaxis": {
         "showticklabels": true,
         "tickfont": {
          "color": "black",
          "size": 10
         },
         "title": {
          "text": "Year"
         }
        }
       }
      },
      "text/html": [
       "<div>                            <div id=\"244b7d38-4ac2-4b88-8592-565475247fc2\" class=\"plotly-graph-div\" style=\"height:800px; width:1000px;\"></div>            <script type=\"text/javascript\">                require([\"plotly\"], function(Plotly) {                    window.PLOTLYENV=window.PLOTLYENV || {};                                    if (document.getElementById(\"244b7d38-4ac2-4b88-8592-565475247fc2\")) {                    Plotly.newPlot(                        \"244b7d38-4ac2-4b88-8592-565475247fc2\",                        [{\"colorscale\":[[0.0,\"rgb(255,245,240)\"],[0.125,\"rgb(254,224,210)\"],[0.25,\"rgb(252,187,161)\"],[0.375,\"rgb(252,146,114)\"],[0.5,\"rgb(251,106,74)\"],[0.625,\"rgb(239,59,44)\"],[0.75,\"rgb(203,24,29)\"],[0.875,\"rgb(165,15,21)\"],[1.0,\"rgb(103,0,13)\"]],\"reversescale\":false,\"x\":[\"Aeronautics\",\"Alpinism\",\"Archery\",\"Art Competitions\",\"Athletics\",\"Badminton\",\"Baseball\",\"Basketball\",\"Basque Pelota\",\"Beach Volleyball\",\"Boxing\",\"Canoeing\",\"Cricket\",\"Croquet\",\"Cycling\",\"Diving\",\"Equestrianism\",\"Fencing\",\"Figure Skating\",\"Football\",\"Golf\",\"Gymnastics\",\"Handball\",\"Hockey\",\"Ice Hockey\",\"Jeu De Paume\",\"Judo\",\"Lacrosse\",\"Modern Pentathlon\",\"Motorboating\",\"Polo\",\"Racquets\",\"Rhythmic Gymnastics\",\"Roque\",\"Rowing\",\"Rugby\",\"Rugby Sevens\",\"Sailing\",\"Shooting\",\"Softball\",\"Swimming\",\"Synchronized Swimming\",\"Table Tennis\",\"Taekwondo\",\"Tennis\",\"Trampolining\",\"Triathlon\",\"Tug-Of-War\",\"Volleyball\",\"Water Polo\",\"Weightlifting\",\"Wrestling\"],\"y\":[1896,1900,1904,1906,1908,1912,1920,1924,1928,1932,1936,1948,1952,1956,1960,1964,1968,1972,1976,1980,1984,1988,1992,1996,2000,2004,2008,2012,2016],\"z\":[[0,0,0,0,106,0,0,0,0,0,0,0,0,0,41,0,0,15,0,0,0,97,0,0,0,0,0,0,0,0,0,0,0,0,0,0,0,0,65,0,18,0,0,0,23,0,0,0,0,0,10,5],[0,0,32,0,234,0,0,0,2,0,0,0,24,19,92,0,79,317,0,35,22,135,0,0,0,0,0,0,0,0,21,0,0,0,133,47,0,280,221,0,131,0,0,0,47,0,0,12,0,53,0,0],[0,0,70,0,201,0,0,0,0,0,24,0,0,0,61,5,0,28,0,36,105,458,0,0,0,0,0,36,0,0,0,0,0,4,46,0,0,0,0,0,64,0,0,0,57,0,0,30,0,21,7,48],[0,0,0,0,470,0,0,0,0,0,0,0,0,0,138,24,0,161,0,45,0,156,0,0,0,0,0,0,0,0,0,0,0,0,200,0,0,0,320,0,78,0,0,0,48,0,0,32,0,0,22,39],[0,0,77,0,778,0,0,0,0,0,42,0,0,0,269,47,0,240,23,72,0,349,0,68,0,11,0,24,0,17,12,12,0,0,87,30,0,64,444,0,150,0,0,0,84,0,0,40,0,28,0,133],[0,0,0,33,962,0,0,0,0,0,0,0,0,0,242,86,128,379,0,163,0,310,0,0,0,0,0,0,32,0,0,0,0,0,197,0,0,109,794,0,201,0,0,0,173,0,0,16,0,45,0,170],[0,0,86,11,849,0,0,0,0,0,116,0,0,0,212,70,132,350,31,190,0,263,0,51,60,0,0,0,23,0,17,0,0,0,144,31,0,101,838,0,209,0,0,0,153,0,0,40,0,101,53,161],[0,0,0,318,1003,0,0,0,0,0,181,0,0,0,249,90,194,424,0,279,0,638,0,0,0,0,0,0,38,0,24,0,0,0,196,54,0,69,508,0,263,0,0,0,253,0,0,0,0,101,107,244],[0,0,0,808,992,0,0,0,0,0,144,0,0,0,227,74,232,430,0,219,0,664,0,137,0,0,0,0,37,0,0,0,0,0,247,0,0,128,0,0,278,0,0,0,0,0,0,0,0,112,94,169],[0,2,0,1124,522,0,0,0,0,0,85,0,0,0,109,36,65,192,0,0,0,147,0,40,0,0,0,0,25,0,0,0,0,0,166,0,0,57,44,0,195,0,0,0,0,0,0,0,0,41,29,90],[1,2,0,813,1007,0,0,199,0,0,179,143,0,0,301,88,256,556,0,201,0,947,105,167,0,0,0,0,42,0,21,0,0,0,348,0,0,172,162,0,364,0,0,0,0,0,0,0,0,142,80,210],[0,0,0,471,1051,0,0,287,0,0,205,139,0,0,320,84,207,508,0,218,0,1060,0,187,0,0,0,0,45,0,0,0,0,0,318,0,0,186,216,0,398,0,0,0,0,0,0,0,0,156,120,229],[0,0,0,0,1344,0,0,294,0,0,249,184,0,0,389,97,263,509,0,294,0,2391,0,157,0,0,0,0,99,0,0,0,0,0,406,0,0,227,289,0,483,0,0,0,0,0,0,0,0,191,142,262],[0,0,0,0,1013,0,0,169,0,0,161,146,0,0,292,82,298,278,0,143,0,913,0,173,0,0,0,0,76,0,0,0,0,0,258,0,0,154,219,0,356,0,0,0,0,0,0,0,0,96,105,195],[0,0,0,0,1312,0,0,192,0,0,281,211,0,0,423,96,276,601,0,235,0,1746,0,236,0,0,0,0,111,0,0,0,0,0,431,0,0,290,389,0,630,0,0,0,0,0,0,0,0,150,172,337],[0,0,0,0,1335,0,0,189,0,0,269,167,0,0,451,102,224,481,0,214,0,1484,0,226,0,0,72,0,70,0,0,0,0,0,378,0,0,225,312,0,736,0,0,0,0,0,0,0,179,137,149,302],[0,0,0,0,1345,0,0,191,0,0,307,203,0,0,483,109,233,490,0,273,0,1496,0,253,0,0,0,0,93,0,0,0,0,0,358,0,0,252,410,0,1231,0,0,0,0,0,0,0,206,162,160,333],[0,0,95,0,1686,0,0,190,0,0,354,359,0,0,526,124,326,499,0,269,0,1584,243,263,0,0,166,0,116,0,0,0,0,0,442,0,0,323,472,0,1263,0,0,0,0,0,0,0,231,176,188,409],[0,0,64,0,1297,0,0,213,0,0,266,340,0,0,392,105,246,485,0,202,0,1204,243,172,0,0,154,0,89,0,0,0,0,0,598,0,0,257,369,0,1076,0,0,0,0,0,0,0,216,131,173,349],[0,0,67,0,1268,0,0,215,0,0,271,253,0,0,307,88,122,321,0,256,0,866,248,187,0,0,193,0,79,0,0,0,0,0,488,0,0,156,267,0,761,0,0,0,0,0,0,0,204,132,172,270],[0,0,109,0,1674,0,0,213,0,0,354,299,0,0,475,101,281,424,0,246,0,930,259,286,0,0,212,0,103,0,0,0,33,0,465,0,0,300,539,0,1232,86,0,0,0,0,0,0,208,153,186,286],[0,0,257,0,2062,0,0,236,0,0,432,388,0,0,518,108,324,506,0,270,0,1217,281,314,0,0,243,0,122,0,0,0,39,0,624,0,0,375,545,0,1614,76,206,0,202,0,0,0,239,156,226,457],[0,0,247,0,2054,226,160,236,0,0,336,587,0,0,566,112,404,458,0,272,0,1255,292,314,0,0,433,0,117,0,0,0,42,0,661,0,0,441,564,0,1615,89,248,0,250,0,0,0,231,152,244,371],[0,0,218,0,2386,263,160,284,0,84,355,575,0,0,584,139,343,388,0,388,0,1397,300,320,0,0,387,0,32,0,0,0,90,0,621,0,0,458,612,120,1635,72,251,0,246,0,0,0,275,153,243,401],[0,0,206,0,2468,225,192,286,0,96,307,448,0,0,621,238,295,349,0,391,0,1144,323,350,0,0,398,0,48,0,0,0,84,0,561,0,0,402,599,120,1741,117,268,102,248,24,100,0,279,231,246,314],[0,0,212,0,2175,200,191,287,0,96,280,434,0,0,623,196,371,323,0,425,0,1151,328,352,0,0,384,0,64,0,0,0,84,0,559,0,0,401,558,118,1618,117,260,124,252,32,99,0,283,255,249,342],[0,0,194,0,2244,184,191,287,0,96,283,436,0,0,652,182,340,332,0,469,0,996,343,387,0,0,386,0,72,0,0,0,95,0,563,0,0,400,577,120,1749,117,250,126,254,32,110,0,283,256,253,343],[0,0,200,0,2278,182,0,287,0,96,283,418,0,0,629,181,350,345,0,467,0,848,347,387,0,0,384,0,72,0,0,0,95,0,550,0,0,379,560,0,1538,117,236,128,286,32,110,0,287,257,252,339],[0,0,200,0,2508,177,0,281,0,96,283,441,0,0,667,178,355,346,0,473,120,861,353,390,0,0,389,0,72,0,0,0,96,0,550,0,299,380,555,0,1568,118,236,126,286,32,110,0,283,258,255,346]],\"type\":\"heatmap\"}],                        {\"height\":800,\"hovermode\":\"closest\",\"showlegend\":false,\"template\":{\"data\":{\"barpolar\":[{\"marker\":{\"line\":{\"color\":\"#E5ECF6\",\"width\":0.5},\"pattern\":{\"fillmode\":\"overlay\",\"size\":10,\"solidity\":0.2}},\"type\":\"barpolar\"}],\"bar\":[{\"error_x\":{\"color\":\"#2a3f5f\"},\"error_y\":{\"color\":\"#2a3f5f\"},\"marker\":{\"line\":{\"color\":\"#E5ECF6\",\"width\":0.5},\"pattern\":{\"fillmode\":\"overlay\",\"size\":10,\"solidity\":0.2}},\"type\":\"bar\"}],\"carpet\":[{\"aaxis\":{\"endlinecolor\":\"#2a3f5f\",\"gridcolor\":\"white\",\"linecolor\":\"white\",\"minorgridcolor\":\"white\",\"startlinecolor\":\"#2a3f5f\"},\"baxis\":{\"endlinecolor\":\"#2a3f5f\",\"gridcolor\":\"white\",\"linecolor\":\"white\",\"minorgridcolor\":\"white\",\"startlinecolor\":\"#2a3f5f\"},\"type\":\"carpet\"}],\"choropleth\":[{\"colorbar\":{\"outlinewidth\":0,\"ticks\":\"\"},\"type\":\"choropleth\"}],\"contourcarpet\":[{\"colorbar\":{\"outlinewidth\":0,\"ticks\":\"\"},\"type\":\"contourcarpet\"}],\"contour\":[{\"colorbar\":{\"outlinewidth\":0,\"ticks\":\"\"},\"colorscale\":[[0.0,\"#0d0887\"],[0.1111111111111111,\"#46039f\"],[0.2222222222222222,\"#7201a8\"],[0.3333333333333333,\"#9c179e\"],[0.4444444444444444,\"#bd3786\"],[0.5555555555555556,\"#d8576b\"],[0.6666666666666666,\"#ed7953\"],[0.7777777777777778,\"#fb9f3a\"],[0.8888888888888888,\"#fdca26\"],[1.0,\"#f0f921\"]],\"type\":\"contour\"}],\"heatmapgl\":[{\"colorbar\":{\"outlinewidth\":0,\"ticks\":\"\"},\"colorscale\":[[0.0,\"#0d0887\"],[0.1111111111111111,\"#46039f\"],[0.2222222222222222,\"#7201a8\"],[0.3333333333333333,\"#9c179e\"],[0.4444444444444444,\"#bd3786\"],[0.5555555555555556,\"#d8576b\"],[0.6666666666666666,\"#ed7953\"],[0.7777777777777778,\"#fb9f3a\"],[0.8888888888888888,\"#fdca26\"],[1.0,\"#f0f921\"]],\"type\":\"heatmapgl\"}],\"heatmap\":[{\"colorbar\":{\"outlinewidth\":0,\"ticks\":\"\"},\"colorscale\":[[0.0,\"#0d0887\"],[0.1111111111111111,\"#46039f\"],[0.2222222222222222,\"#7201a8\"],[0.3333333333333333,\"#9c179e\"],[0.4444444444444444,\"#bd3786\"],[0.5555555555555556,\"#d8576b\"],[0.6666666666666666,\"#ed7953\"],[0.7777777777777778,\"#fb9f3a\"],[0.8888888888888888,\"#fdca26\"],[1.0,\"#f0f921\"]],\"type\":\"heatmap\"}],\"histogram2dcontour\":[{\"colorbar\":{\"outlinewidth\":0,\"ticks\":\"\"},\"colorscale\":[[0.0,\"#0d0887\"],[0.1111111111111111,\"#46039f\"],[0.2222222222222222,\"#7201a8\"],[0.3333333333333333,\"#9c179e\"],[0.4444444444444444,\"#bd3786\"],[0.5555555555555556,\"#d8576b\"],[0.6666666666666666,\"#ed7953\"],[0.7777777777777778,\"#fb9f3a\"],[0.8888888888888888,\"#fdca26\"],[1.0,\"#f0f921\"]],\"type\":\"histogram2dcontour\"}],\"histogram2d\":[{\"colorbar\":{\"outlinewidth\":0,\"ticks\":\"\"},\"colorscale\":[[0.0,\"#0d0887\"],[0.1111111111111111,\"#46039f\"],[0.2222222222222222,\"#7201a8\"],[0.3333333333333333,\"#9c179e\"],[0.4444444444444444,\"#bd3786\"],[0.5555555555555556,\"#d8576b\"],[0.6666666666666666,\"#ed7953\"],[0.7777777777777778,\"#fb9f3a\"],[0.8888888888888888,\"#fdca26\"],[1.0,\"#f0f921\"]],\"type\":\"histogram2d\"}],\"histogram\":[{\"marker\":{\"pattern\":{\"fillmode\":\"overlay\",\"size\":10,\"solidity\":0.2}},\"type\":\"histogram\"}],\"mesh3d\":[{\"colorbar\":{\"outlinewidth\":0,\"ticks\":\"\"},\"type\":\"mesh3d\"}],\"parcoords\":[{\"line\":{\"colorbar\":{\"outlinewidth\":0,\"ticks\":\"\"}},\"type\":\"parcoords\"}],\"pie\":[{\"automargin\":true,\"type\":\"pie\"}],\"scatter3d\":[{\"line\":{\"colorbar\":{\"outlinewidth\":0,\"ticks\":\"\"}},\"marker\":{\"colorbar\":{\"outlinewidth\":0,\"ticks\":\"\"}},\"type\":\"scatter3d\"}],\"scattercarpet\":[{\"marker\":{\"colorbar\":{\"outlinewidth\":0,\"ticks\":\"\"}},\"type\":\"scattercarpet\"}],\"scattergeo\":[{\"marker\":{\"colorbar\":{\"outlinewidth\":0,\"ticks\":\"\"}},\"type\":\"scattergeo\"}],\"scattergl\":[{\"marker\":{\"colorbar\":{\"outlinewidth\":0,\"ticks\":\"\"}},\"type\":\"scattergl\"}],\"scattermapbox\":[{\"marker\":{\"colorbar\":{\"outlinewidth\":0,\"ticks\":\"\"}},\"type\":\"scattermapbox\"}],\"scatterpolargl\":[{\"marker\":{\"colorbar\":{\"outlinewidth\":0,\"ticks\":\"\"}},\"type\":\"scatterpolargl\"}],\"scatterpolar\":[{\"marker\":{\"colorbar\":{\"outlinewidth\":0,\"ticks\":\"\"}},\"type\":\"scatterpolar\"}],\"scatter\":[{\"fillpattern\":{\"fillmode\":\"overlay\",\"size\":10,\"solidity\":0.2},\"type\":\"scatter\"}],\"scatterternary\":[{\"marker\":{\"colorbar\":{\"outlinewidth\":0,\"ticks\":\"\"}},\"type\":\"scatterternary\"}],\"surface\":[{\"colorbar\":{\"outlinewidth\":0,\"ticks\":\"\"},\"colorscale\":[[0.0,\"#0d0887\"],[0.1111111111111111,\"#46039f\"],[0.2222222222222222,\"#7201a8\"],[0.3333333333333333,\"#9c179e\"],[0.4444444444444444,\"#bd3786\"],[0.5555555555555556,\"#d8576b\"],[0.6666666666666666,\"#ed7953\"],[0.7777777777777778,\"#fb9f3a\"],[0.8888888888888888,\"#fdca26\"],[1.0,\"#f0f921\"]],\"type\":\"surface\"}],\"table\":[{\"cells\":{\"fill\":{\"color\":\"#EBF0F8\"},\"line\":{\"color\":\"white\"}},\"header\":{\"fill\":{\"color\":\"#C8D4E3\"},\"line\":{\"color\":\"white\"}},\"type\":\"table\"}]},\"layout\":{\"annotationdefaults\":{\"arrowcolor\":\"#2a3f5f\",\"arrowhead\":0,\"arrowwidth\":1},\"autotypenumbers\":\"strict\",\"coloraxis\":{\"colorbar\":{\"outlinewidth\":0,\"ticks\":\"\"}},\"colorscale\":{\"diverging\":[[0,\"#8e0152\"],[0.1,\"#c51b7d\"],[0.2,\"#de77ae\"],[0.3,\"#f1b6da\"],[0.4,\"#fde0ef\"],[0.5,\"#f7f7f7\"],[0.6,\"#e6f5d0\"],[0.7,\"#b8e186\"],[0.8,\"#7fbc41\"],[0.9,\"#4d9221\"],[1,\"#276419\"]],\"sequential\":[[0.0,\"#0d0887\"],[0.1111111111111111,\"#46039f\"],[0.2222222222222222,\"#7201a8\"],[0.3333333333333333,\"#9c179e\"],[0.4444444444444444,\"#bd3786\"],[0.5555555555555556,\"#d8576b\"],[0.6666666666666666,\"#ed7953\"],[0.7777777777777778,\"#fb9f3a\"],[0.8888888888888888,\"#fdca26\"],[1.0,\"#f0f921\"]],\"sequentialminus\":[[0.0,\"#0d0887\"],[0.1111111111111111,\"#46039f\"],[0.2222222222222222,\"#7201a8\"],[0.3333333333333333,\"#9c179e\"],[0.4444444444444444,\"#bd3786\"],[0.5555555555555556,\"#d8576b\"],[0.6666666666666666,\"#ed7953\"],[0.7777777777777778,\"#fb9f3a\"],[0.8888888888888888,\"#fdca26\"],[1.0,\"#f0f921\"]]},\"colorway\":[\"#636efa\",\"#EF553B\",\"#00cc96\",\"#ab63fa\",\"#FFA15A\",\"#19d3f3\",\"#FF6692\",\"#B6E880\",\"#FF97FF\",\"#FECB52\"],\"font\":{\"color\":\"#2a3f5f\"},\"geo\":{\"bgcolor\":\"white\",\"lakecolor\":\"white\",\"landcolor\":\"#E5ECF6\",\"showlakes\":true,\"showland\":true,\"subunitcolor\":\"white\"},\"hoverlabel\":{\"align\":\"left\"},\"hovermode\":\"closest\",\"mapbox\":{\"style\":\"light\"},\"paper_bgcolor\":\"white\",\"plot_bgcolor\":\"#E5ECF6\",\"polar\":{\"angularaxis\":{\"gridcolor\":\"white\",\"linecolor\":\"white\",\"ticks\":\"\"},\"bgcolor\":\"#E5ECF6\",\"radialaxis\":{\"gridcolor\":\"white\",\"linecolor\":\"white\",\"ticks\":\"\"}},\"scene\":{\"xaxis\":{\"backgroundcolor\":\"#E5ECF6\",\"gridcolor\":\"white\",\"gridwidth\":2,\"linecolor\":\"white\",\"showbackground\":true,\"ticks\":\"\",\"zerolinecolor\":\"white\"},\"yaxis\":{\"backgroundcolor\":\"#E5ECF6\",\"gridcolor\":\"white\",\"gridwidth\":2,\"linecolor\":\"white\",\"showbackground\":true,\"ticks\":\"\",\"zerolinecolor\":\"white\"},\"zaxis\":{\"backgroundcolor\":\"#E5ECF6\",\"gridcolor\":\"white\",\"gridwidth\":2,\"linecolor\":\"white\",\"showbackground\":true,\"ticks\":\"\",\"zerolinecolor\":\"white\"}},\"shapedefaults\":{\"line\":{\"color\":\"#2a3f5f\"}},\"ternary\":{\"aaxis\":{\"gridcolor\":\"white\",\"linecolor\":\"white\",\"ticks\":\"\"},\"baxis\":{\"gridcolor\":\"white\",\"linecolor\":\"white\",\"ticks\":\"\"},\"bgcolor\":\"#E5ECF6\",\"caxis\":{\"gridcolor\":\"white\",\"linecolor\":\"white\",\"ticks\":\"\"}},\"title\":{\"x\":0.05},\"xaxis\":{\"automargin\":true,\"gridcolor\":\"white\",\"linecolor\":\"white\",\"ticks\":\"\",\"title\":{\"standoff\":15},\"zerolinecolor\":\"white\",\"zerolinewidth\":2},\"yaxis\":{\"automargin\":true,\"gridcolor\":\"white\",\"linecolor\":\"white\",\"ticks\":\"\",\"title\":{\"standoff\":15},\"zerolinecolor\":\"white\",\"zerolinewidth\":2}}},\"title\":{\"text\":\"Number of athlets per year and sport (Summer Olympics)\"},\"width\":1000,\"xaxis\":{\"showticklabels\":true,\"tickangle\":45,\"tickfont\":{\"color\":\"black\",\"size\":10},\"title\":{\"text\":\"Sport\"}},\"yaxis\":{\"showticklabels\":true,\"tickfont\":{\"color\":\"black\",\"size\":10},\"title\":{\"text\":\"Year\"}}},                        {\"responsive\": true}                    ).then(function(){\n",
       "                            \n",
       "var gd = document.getElementById('244b7d38-4ac2-4b88-8592-565475247fc2');\n",
       "var x = new MutationObserver(function (mutations, observer) {{\n",
       "        var display = window.getComputedStyle(gd).display;\n",
       "        if (!display || display === 'none') {{\n",
       "            console.log([gd, 'removed!']);\n",
       "            Plotly.purge(gd);\n",
       "            observer.disconnect();\n",
       "        }}\n",
       "}});\n",
       "\n",
       "// Listen for the removal of the full notebook cells\n",
       "var notebookContainer = gd.closest('#notebook-container');\n",
       "if (notebookContainer) {{\n",
       "    x.observe(notebookContainer, {childList: true});\n",
       "}}\n",
       "\n",
       "// Listen for the clearing of the current output cell\n",
       "var outputEl = gd.closest('.output');\n",
       "if (outputEl) {{\n",
       "    x.observe(outputEl, {childList: true});\n",
       "}}\n",
       "\n",
       "                        })                };                });            </script>        </div>"
      ]
     },
     "metadata": {},
     "output_type": "display_data"
    }
   ],
   "source": [
    "trace = go.Heatmap(z = m, y= list(piv.index), x=list(piv.columns),colorscale='Reds',reversescale=False)\n",
    "data=[trace]\n",
    "layout = dict(title = \"Number of athlets per year and sport (Summer Olympics)\",\n",
    "              xaxis = dict(title = 'Sport',\n",
    "                        showticklabels=True,\n",
    "                           tickangle = 45,\n",
    "                        tickfont=dict(\n",
    "                                size=10,\n",
    "                                color='black'),\n",
    "                          ),\n",
    "              yaxis = dict(title = 'Year', \n",
    "                        showticklabels=True, \n",
    "                        tickfont=dict(\n",
    "                            size=10,\n",
    "                            color='black'),\n",
    "                      ), \n",
    "              hovermode = 'closest',\n",
    "              showlegend=False,\n",
    "                  width=1000,\n",
    "                  height=800,\n",
    "             )\n",
    "fig = dict(data=data, layout=layout)\n",
    "iplot(fig, filename='labelled-heatmap')"
   ]
  },
  {
   "cell_type": "markdown",
   "id": "04194e6c",
   "metadata": {
    "_uuid": "0a6b271f0e2d07ea7bc501cf32ef0ba2d75c880b",
    "papermill": {
     "duration": 0.1157,
     "end_time": "2022-07-27T20:00:46.814118",
     "exception": false,
     "start_time": "2022-07-27T20:00:46.698418",
     "status": "completed"
    },
    "tags": []
   },
   "source": [
    "Let's show also the corresponding heatmap plot for Winter Olympics."
   ]
  },
  {
   "cell_type": "code",
   "execution_count": 28,
   "id": "11f77205",
   "metadata": {
    "_uuid": "b3e553ad4f779c5c11eb6e7366d22f15c66778c5",
    "execution": {
     "iopub.execute_input": "2022-07-27T20:00:47.047065Z",
     "iopub.status.busy": "2022-07-27T20:00:47.046675Z",
     "iopub.status.idle": "2022-07-27T20:00:47.067954Z",
     "shell.execute_reply": "2022-07-27T20:00:47.066707Z"
    },
    "papermill": {
     "duration": 0.142043,
     "end_time": "2022-07-27T20:00:47.070887",
     "exception": false,
     "start_time": "2022-07-27T20:00:46.928844",
     "status": "completed"
    },
    "tags": []
   },
   "outputs": [],
   "source": [
    "piv = pd.pivot_table(df_W, values=\"Athlets\",index=[\"Year\"], columns=[\"Sport\"], fill_value=0)\n",
    "m = piv.values"
   ]
  },
  {
   "cell_type": "code",
   "execution_count": 29,
   "id": "5290de06",
   "metadata": {
    "_uuid": "eb870dfb3f3f1b86c6a050a3423464dbbb73f406",
    "execution": {
     "iopub.execute_input": "2022-07-27T20:00:47.310332Z",
     "iopub.status.busy": "2022-07-27T20:00:47.309941Z",
     "iopub.status.idle": "2022-07-27T20:00:47.353415Z",
     "shell.execute_reply": "2022-07-27T20:00:47.352175Z"
    },
    "papermill": {
     "duration": 0.168565,
     "end_time": "2022-07-27T20:00:47.356754",
     "exception": false,
     "start_time": "2022-07-27T20:00:47.188189",
     "status": "completed"
    },
    "tags": []
   },
   "outputs": [
    {
     "data": {
      "application/vnd.plotly.v1+json": {
       "config": {
        "linkText": "Export to plot.ly",
        "plotlyServerURL": "https://plot.ly",
        "showLink": false
       },
       "data": [
        {
         "colorscale": [
          [
           0.0,
           "rgb(247,251,255)"
          ],
          [
           0.125,
           "rgb(222,235,247)"
          ],
          [
           0.25,
           "rgb(198,219,239)"
          ],
          [
           0.375,
           "rgb(158,202,225)"
          ],
          [
           0.5,
           "rgb(107,174,214)"
          ],
          [
           0.625,
           "rgb(66,146,198)"
          ],
          [
           0.75,
           "rgb(33,113,181)"
          ],
          [
           0.875,
           "rgb(8,81,156)"
          ],
          [
           1.0,
           "rgb(8,48,107)"
          ]
         ],
         "reversescale": true,
         "type": "heatmap",
         "x": [
          "Alpine Skiing",
          "Alpinism",
          "Biathlon",
          "Bobsleigh",
          "Cross Country Skiing",
          "Curling",
          "Figure Skating",
          "Freestyle Skiing",
          "Ice Hockey",
          "Luge",
          "Military Ski Patrol",
          "Nordic Combined",
          "Short Track Speed Skating",
          "Skeleton",
          "Ski Jumping",
          "Snowboarding",
          "Speed Skating"
         ],
         "y": [
          1924,
          1928,
          1932,
          1936,
          1948,
          1952,
          1956,
          1960,
          1964,
          1968,
          1972,
          1976,
          1980,
          1984,
          1988,
          1992,
          1994,
          1998,
          2002,
          2006,
          2010,
          2014
         ],
         "z": [
          [
           0,
           21,
           0,
           39,
           74,
           16,
           37,
           0,
           82,
           0,
           24,
           30,
           0,
           0,
           27,
           0,
           110
          ],
          [
           0,
           0,
           0,
           116,
           90,
           0,
           63,
           0,
           124,
           0,
           0,
           35,
           0,
           10,
           38,
           0,
           106
          ],
          [
           0,
           0,
           0,
           52,
           74,
           0,
           41,
           0,
           48,
           0,
           0,
           33,
           0,
           0,
           34,
           0,
           70
          ],
          [
           103,
           0,
           0,
           118,
           175,
           0,
           87,
           0,
           173,
           0,
           0,
           51,
           0,
           0,
           48,
           0,
           140
          ],
          [
           360,
           0,
           0,
           92,
           156,
           0,
           71,
           0,
           139,
           0,
           0,
           39,
           0,
           15,
           49,
           0,
           154
          ],
          [
           378,
           0,
           0,
           96,
           188,
           0,
           65,
           0,
           147,
           0,
           0,
           25,
           0,
           0,
           44,
           0,
           145
          ],
          [
           403,
           0,
           0,
           135,
           275,
           0,
           59,
           0,
           169,
           0,
           0,
           36,
           0,
           0,
           51,
           0,
           179
          ],
          [
           320,
           0,
           30,
           0,
           216,
           0,
           71,
           0,
           152,
           0,
           0,
           33,
           0,
           0,
           45,
           0,
           249
          ],
          [
           411,
           0,
           51,
           117,
           332,
           0,
           88,
           0,
           270,
           85,
           0,
           32,
           0,
           0,
           105,
           0,
           287
          ],
          [
           422,
           0,
           116,
           120,
           344,
           0,
           96,
           0,
           250,
           106,
           0,
           41,
           0,
           0,
           116,
           0,
           280
          ],
          [
           325,
           0,
           106,
           114,
           335,
           0,
           68,
           0,
           208,
           107,
           0,
           40,
           0,
           0,
           108,
           0,
           244
          ],
          [
           390,
           0,
           112,
           133,
           395,
           0,
           105,
           0,
           217,
           119,
           0,
           34,
           0,
           0,
           109,
           0,
           247
          ],
          [
           327,
           0,
           159,
           108,
           309,
           0,
           85,
           0,
           239,
           94,
           0,
           31,
           0,
           0,
           98,
           0,
           296
          ],
          [
           401,
           0,
           195,
           152,
           477,
           0,
           114,
           0,
           239,
           89,
           0,
           28,
           0,
           0,
           111,
           0,
           328
          ],
          [
           668,
           0,
           207,
           186,
           528,
           0,
           129,
           0,
           265,
           98,
           0,
           75,
           0,
           0,
           157,
           0,
           326
          ],
          [
           750,
           0,
           457,
           216,
           717,
           0,
           133,
           71,
           267,
           98,
           0,
           78,
           124,
           0,
           171,
           0,
           354
          ],
          [
           544,
           0,
           416,
           207,
           639,
           0,
           130,
           99,
           268,
           98,
           0,
           89,
           188,
           0,
           164,
           0,
           318
          ],
          [
           477,
           0,
           413,
           204,
           733,
           80,
           145,
           110,
           426,
           97,
           0,
           92,
           190,
           0,
           176,
           127,
           335
          ],
          [
           559,
           0,
           564,
           240,
           774,
           96,
           143,
           105,
           468,
           117,
           0,
           125,
           251,
           39,
           178,
           118,
           332
          ],
          [
           619,
           0,
           658,
           191,
           812,
           91,
           147,
           116,
           442,
           108,
           0,
           138,
           239,
           42,
           202,
           198,
           379
          ],
          [
           685,
           0,
           683,
           199,
           725,
           93,
           146,
           172,
           420,
           107,
           0,
           131,
           273,
           47,
           170,
           185,
           366
          ],
          [
           687,
           0,
           726,
           223,
           765,
           87,
           221,
           264,
           443,
           156,
           0,
           128,
           269,
           46,
           200,
           308,
           368
          ]
         ]
        }
       ],
       "layout": {
        "height": 800,
        "hovermode": "closest",
        "showlegend": false,
        "template": {
         "data": {
          "bar": [
           {
            "error_x": {
             "color": "#2a3f5f"
            },
            "error_y": {
             "color": "#2a3f5f"
            },
            "marker": {
             "line": {
              "color": "#E5ECF6",
              "width": 0.5
             },
             "pattern": {
              "fillmode": "overlay",
              "size": 10,
              "solidity": 0.2
             }
            },
            "type": "bar"
           }
          ],
          "barpolar": [
           {
            "marker": {
             "line": {
              "color": "#E5ECF6",
              "width": 0.5
             },
             "pattern": {
              "fillmode": "overlay",
              "size": 10,
              "solidity": 0.2
             }
            },
            "type": "barpolar"
           }
          ],
          "carpet": [
           {
            "aaxis": {
             "endlinecolor": "#2a3f5f",
             "gridcolor": "white",
             "linecolor": "white",
             "minorgridcolor": "white",
             "startlinecolor": "#2a3f5f"
            },
            "baxis": {
             "endlinecolor": "#2a3f5f",
             "gridcolor": "white",
             "linecolor": "white",
             "minorgridcolor": "white",
             "startlinecolor": "#2a3f5f"
            },
            "type": "carpet"
           }
          ],
          "choropleth": [
           {
            "colorbar": {
             "outlinewidth": 0,
             "ticks": ""
            },
            "type": "choropleth"
           }
          ],
          "contour": [
           {
            "colorbar": {
             "outlinewidth": 0,
             "ticks": ""
            },
            "colorscale": [
             [
              0.0,
              "#0d0887"
             ],
             [
              0.1111111111111111,
              "#46039f"
             ],
             [
              0.2222222222222222,
              "#7201a8"
             ],
             [
              0.3333333333333333,
              "#9c179e"
             ],
             [
              0.4444444444444444,
              "#bd3786"
             ],
             [
              0.5555555555555556,
              "#d8576b"
             ],
             [
              0.6666666666666666,
              "#ed7953"
             ],
             [
              0.7777777777777778,
              "#fb9f3a"
             ],
             [
              0.8888888888888888,
              "#fdca26"
             ],
             [
              1.0,
              "#f0f921"
             ]
            ],
            "type": "contour"
           }
          ],
          "contourcarpet": [
           {
            "colorbar": {
             "outlinewidth": 0,
             "ticks": ""
            },
            "type": "contourcarpet"
           }
          ],
          "heatmap": [
           {
            "colorbar": {
             "outlinewidth": 0,
             "ticks": ""
            },
            "colorscale": [
             [
              0.0,
              "#0d0887"
             ],
             [
              0.1111111111111111,
              "#46039f"
             ],
             [
              0.2222222222222222,
              "#7201a8"
             ],
             [
              0.3333333333333333,
              "#9c179e"
             ],
             [
              0.4444444444444444,
              "#bd3786"
             ],
             [
              0.5555555555555556,
              "#d8576b"
             ],
             [
              0.6666666666666666,
              "#ed7953"
             ],
             [
              0.7777777777777778,
              "#fb9f3a"
             ],
             [
              0.8888888888888888,
              "#fdca26"
             ],
             [
              1.0,
              "#f0f921"
             ]
            ],
            "type": "heatmap"
           }
          ],
          "heatmapgl": [
           {
            "colorbar": {
             "outlinewidth": 0,
             "ticks": ""
            },
            "colorscale": [
             [
              0.0,
              "#0d0887"
             ],
             [
              0.1111111111111111,
              "#46039f"
             ],
             [
              0.2222222222222222,
              "#7201a8"
             ],
             [
              0.3333333333333333,
              "#9c179e"
             ],
             [
              0.4444444444444444,
              "#bd3786"
             ],
             [
              0.5555555555555556,
              "#d8576b"
             ],
             [
              0.6666666666666666,
              "#ed7953"
             ],
             [
              0.7777777777777778,
              "#fb9f3a"
             ],
             [
              0.8888888888888888,
              "#fdca26"
             ],
             [
              1.0,
              "#f0f921"
             ]
            ],
            "type": "heatmapgl"
           }
          ],
          "histogram": [
           {
            "marker": {
             "pattern": {
              "fillmode": "overlay",
              "size": 10,
              "solidity": 0.2
             }
            },
            "type": "histogram"
           }
          ],
          "histogram2d": [
           {
            "colorbar": {
             "outlinewidth": 0,
             "ticks": ""
            },
            "colorscale": [
             [
              0.0,
              "#0d0887"
             ],
             [
              0.1111111111111111,
              "#46039f"
             ],
             [
              0.2222222222222222,
              "#7201a8"
             ],
             [
              0.3333333333333333,
              "#9c179e"
             ],
             [
              0.4444444444444444,
              "#bd3786"
             ],
             [
              0.5555555555555556,
              "#d8576b"
             ],
             [
              0.6666666666666666,
              "#ed7953"
             ],
             [
              0.7777777777777778,
              "#fb9f3a"
             ],
             [
              0.8888888888888888,
              "#fdca26"
             ],
             [
              1.0,
              "#f0f921"
             ]
            ],
            "type": "histogram2d"
           }
          ],
          "histogram2dcontour": [
           {
            "colorbar": {
             "outlinewidth": 0,
             "ticks": ""
            },
            "colorscale": [
             [
              0.0,
              "#0d0887"
             ],
             [
              0.1111111111111111,
              "#46039f"
             ],
             [
              0.2222222222222222,
              "#7201a8"
             ],
             [
              0.3333333333333333,
              "#9c179e"
             ],
             [
              0.4444444444444444,
              "#bd3786"
             ],
             [
              0.5555555555555556,
              "#d8576b"
             ],
             [
              0.6666666666666666,
              "#ed7953"
             ],
             [
              0.7777777777777778,
              "#fb9f3a"
             ],
             [
              0.8888888888888888,
              "#fdca26"
             ],
             [
              1.0,
              "#f0f921"
             ]
            ],
            "type": "histogram2dcontour"
           }
          ],
          "mesh3d": [
           {
            "colorbar": {
             "outlinewidth": 0,
             "ticks": ""
            },
            "type": "mesh3d"
           }
          ],
          "parcoords": [
           {
            "line": {
             "colorbar": {
              "outlinewidth": 0,
              "ticks": ""
             }
            },
            "type": "parcoords"
           }
          ],
          "pie": [
           {
            "automargin": true,
            "type": "pie"
           }
          ],
          "scatter": [
           {
            "fillpattern": {
             "fillmode": "overlay",
             "size": 10,
             "solidity": 0.2
            },
            "type": "scatter"
           }
          ],
          "scatter3d": [
           {
            "line": {
             "colorbar": {
              "outlinewidth": 0,
              "ticks": ""
             }
            },
            "marker": {
             "colorbar": {
              "outlinewidth": 0,
              "ticks": ""
             }
            },
            "type": "scatter3d"
           }
          ],
          "scattercarpet": [
           {
            "marker": {
             "colorbar": {
              "outlinewidth": 0,
              "ticks": ""
             }
            },
            "type": "scattercarpet"
           }
          ],
          "scattergeo": [
           {
            "marker": {
             "colorbar": {
              "outlinewidth": 0,
              "ticks": ""
             }
            },
            "type": "scattergeo"
           }
          ],
          "scattergl": [
           {
            "marker": {
             "colorbar": {
              "outlinewidth": 0,
              "ticks": ""
             }
            },
            "type": "scattergl"
           }
          ],
          "scattermapbox": [
           {
            "marker": {
             "colorbar": {
              "outlinewidth": 0,
              "ticks": ""
             }
            },
            "type": "scattermapbox"
           }
          ],
          "scatterpolar": [
           {
            "marker": {
             "colorbar": {
              "outlinewidth": 0,
              "ticks": ""
             }
            },
            "type": "scatterpolar"
           }
          ],
          "scatterpolargl": [
           {
            "marker": {
             "colorbar": {
              "outlinewidth": 0,
              "ticks": ""
             }
            },
            "type": "scatterpolargl"
           }
          ],
          "scatterternary": [
           {
            "marker": {
             "colorbar": {
              "outlinewidth": 0,
              "ticks": ""
             }
            },
            "type": "scatterternary"
           }
          ],
          "surface": [
           {
            "colorbar": {
             "outlinewidth": 0,
             "ticks": ""
            },
            "colorscale": [
             [
              0.0,
              "#0d0887"
             ],
             [
              0.1111111111111111,
              "#46039f"
             ],
             [
              0.2222222222222222,
              "#7201a8"
             ],
             [
              0.3333333333333333,
              "#9c179e"
             ],
             [
              0.4444444444444444,
              "#bd3786"
             ],
             [
              0.5555555555555556,
              "#d8576b"
             ],
             [
              0.6666666666666666,
              "#ed7953"
             ],
             [
              0.7777777777777778,
              "#fb9f3a"
             ],
             [
              0.8888888888888888,
              "#fdca26"
             ],
             [
              1.0,
              "#f0f921"
             ]
            ],
            "type": "surface"
           }
          ],
          "table": [
           {
            "cells": {
             "fill": {
              "color": "#EBF0F8"
             },
             "line": {
              "color": "white"
             }
            },
            "header": {
             "fill": {
              "color": "#C8D4E3"
             },
             "line": {
              "color": "white"
             }
            },
            "type": "table"
           }
          ]
         },
         "layout": {
          "annotationdefaults": {
           "arrowcolor": "#2a3f5f",
           "arrowhead": 0,
           "arrowwidth": 1
          },
          "autotypenumbers": "strict",
          "coloraxis": {
           "colorbar": {
            "outlinewidth": 0,
            "ticks": ""
           }
          },
          "colorscale": {
           "diverging": [
            [
             0,
             "#8e0152"
            ],
            [
             0.1,
             "#c51b7d"
            ],
            [
             0.2,
             "#de77ae"
            ],
            [
             0.3,
             "#f1b6da"
            ],
            [
             0.4,
             "#fde0ef"
            ],
            [
             0.5,
             "#f7f7f7"
            ],
            [
             0.6,
             "#e6f5d0"
            ],
            [
             0.7,
             "#b8e186"
            ],
            [
             0.8,
             "#7fbc41"
            ],
            [
             0.9,
             "#4d9221"
            ],
            [
             1,
             "#276419"
            ]
           ],
           "sequential": [
            [
             0.0,
             "#0d0887"
            ],
            [
             0.1111111111111111,
             "#46039f"
            ],
            [
             0.2222222222222222,
             "#7201a8"
            ],
            [
             0.3333333333333333,
             "#9c179e"
            ],
            [
             0.4444444444444444,
             "#bd3786"
            ],
            [
             0.5555555555555556,
             "#d8576b"
            ],
            [
             0.6666666666666666,
             "#ed7953"
            ],
            [
             0.7777777777777778,
             "#fb9f3a"
            ],
            [
             0.8888888888888888,
             "#fdca26"
            ],
            [
             1.0,
             "#f0f921"
            ]
           ],
           "sequentialminus": [
            [
             0.0,
             "#0d0887"
            ],
            [
             0.1111111111111111,
             "#46039f"
            ],
            [
             0.2222222222222222,
             "#7201a8"
            ],
            [
             0.3333333333333333,
             "#9c179e"
            ],
            [
             0.4444444444444444,
             "#bd3786"
            ],
            [
             0.5555555555555556,
             "#d8576b"
            ],
            [
             0.6666666666666666,
             "#ed7953"
            ],
            [
             0.7777777777777778,
             "#fb9f3a"
            ],
            [
             0.8888888888888888,
             "#fdca26"
            ],
            [
             1.0,
             "#f0f921"
            ]
           ]
          },
          "colorway": [
           "#636efa",
           "#EF553B",
           "#00cc96",
           "#ab63fa",
           "#FFA15A",
           "#19d3f3",
           "#FF6692",
           "#B6E880",
           "#FF97FF",
           "#FECB52"
          ],
          "font": {
           "color": "#2a3f5f"
          },
          "geo": {
           "bgcolor": "white",
           "lakecolor": "white",
           "landcolor": "#E5ECF6",
           "showlakes": true,
           "showland": true,
           "subunitcolor": "white"
          },
          "hoverlabel": {
           "align": "left"
          },
          "hovermode": "closest",
          "mapbox": {
           "style": "light"
          },
          "paper_bgcolor": "white",
          "plot_bgcolor": "#E5ECF6",
          "polar": {
           "angularaxis": {
            "gridcolor": "white",
            "linecolor": "white",
            "ticks": ""
           },
           "bgcolor": "#E5ECF6",
           "radialaxis": {
            "gridcolor": "white",
            "linecolor": "white",
            "ticks": ""
           }
          },
          "scene": {
           "xaxis": {
            "backgroundcolor": "#E5ECF6",
            "gridcolor": "white",
            "gridwidth": 2,
            "linecolor": "white",
            "showbackground": true,
            "ticks": "",
            "zerolinecolor": "white"
           },
           "yaxis": {
            "backgroundcolor": "#E5ECF6",
            "gridcolor": "white",
            "gridwidth": 2,
            "linecolor": "white",
            "showbackground": true,
            "ticks": "",
            "zerolinecolor": "white"
           },
           "zaxis": {
            "backgroundcolor": "#E5ECF6",
            "gridcolor": "white",
            "gridwidth": 2,
            "linecolor": "white",
            "showbackground": true,
            "ticks": "",
            "zerolinecolor": "white"
           }
          },
          "shapedefaults": {
           "line": {
            "color": "#2a3f5f"
           }
          },
          "ternary": {
           "aaxis": {
            "gridcolor": "white",
            "linecolor": "white",
            "ticks": ""
           },
           "baxis": {
            "gridcolor": "white",
            "linecolor": "white",
            "ticks": ""
           },
           "bgcolor": "#E5ECF6",
           "caxis": {
            "gridcolor": "white",
            "linecolor": "white",
            "ticks": ""
           }
          },
          "title": {
           "x": 0.05
          },
          "xaxis": {
           "automargin": true,
           "gridcolor": "white",
           "linecolor": "white",
           "ticks": "",
           "title": {
            "standoff": 15
           },
           "zerolinecolor": "white",
           "zerolinewidth": 2
          },
          "yaxis": {
           "automargin": true,
           "gridcolor": "white",
           "linecolor": "white",
           "ticks": "",
           "title": {
            "standoff": 15
           },
           "zerolinecolor": "white",
           "zerolinewidth": 2
          }
         }
        },
        "title": {
         "text": "Number of athlets per year and sport (Winter Olympics)"
        },
        "width": 800,
        "xaxis": {
         "showticklabels": true,
         "tickangle": 30,
         "tickfont": {
          "color": "black",
          "size": 8
         },
         "title": {
          "text": "Sport"
         }
        },
        "yaxis": {
         "showticklabels": true,
         "tickfont": {
          "color": "black",
          "size": 10
         },
         "title": {
          "text": "Year"
         }
        }
       }
      },
      "text/html": [
       "<div>                            <div id=\"b34c3a28-1eba-455d-9097-a468fe6475d0\" class=\"plotly-graph-div\" style=\"height:800px; width:800px;\"></div>            <script type=\"text/javascript\">                require([\"plotly\"], function(Plotly) {                    window.PLOTLYENV=window.PLOTLYENV || {};                                    if (document.getElementById(\"b34c3a28-1eba-455d-9097-a468fe6475d0\")) {                    Plotly.newPlot(                        \"b34c3a28-1eba-455d-9097-a468fe6475d0\",                        [{\"colorscale\":[[0.0,\"rgb(247,251,255)\"],[0.125,\"rgb(222,235,247)\"],[0.25,\"rgb(198,219,239)\"],[0.375,\"rgb(158,202,225)\"],[0.5,\"rgb(107,174,214)\"],[0.625,\"rgb(66,146,198)\"],[0.75,\"rgb(33,113,181)\"],[0.875,\"rgb(8,81,156)\"],[1.0,\"rgb(8,48,107)\"]],\"reversescale\":true,\"x\":[\"Alpine Skiing\",\"Alpinism\",\"Biathlon\",\"Bobsleigh\",\"Cross Country Skiing\",\"Curling\",\"Figure Skating\",\"Freestyle Skiing\",\"Ice Hockey\",\"Luge\",\"Military Ski Patrol\",\"Nordic Combined\",\"Short Track Speed Skating\",\"Skeleton\",\"Ski Jumping\",\"Snowboarding\",\"Speed Skating\"],\"y\":[1924,1928,1932,1936,1948,1952,1956,1960,1964,1968,1972,1976,1980,1984,1988,1992,1994,1998,2002,2006,2010,2014],\"z\":[[0,21,0,39,74,16,37,0,82,0,24,30,0,0,27,0,110],[0,0,0,116,90,0,63,0,124,0,0,35,0,10,38,0,106],[0,0,0,52,74,0,41,0,48,0,0,33,0,0,34,0,70],[103,0,0,118,175,0,87,0,173,0,0,51,0,0,48,0,140],[360,0,0,92,156,0,71,0,139,0,0,39,0,15,49,0,154],[378,0,0,96,188,0,65,0,147,0,0,25,0,0,44,0,145],[403,0,0,135,275,0,59,0,169,0,0,36,0,0,51,0,179],[320,0,30,0,216,0,71,0,152,0,0,33,0,0,45,0,249],[411,0,51,117,332,0,88,0,270,85,0,32,0,0,105,0,287],[422,0,116,120,344,0,96,0,250,106,0,41,0,0,116,0,280],[325,0,106,114,335,0,68,0,208,107,0,40,0,0,108,0,244],[390,0,112,133,395,0,105,0,217,119,0,34,0,0,109,0,247],[327,0,159,108,309,0,85,0,239,94,0,31,0,0,98,0,296],[401,0,195,152,477,0,114,0,239,89,0,28,0,0,111,0,328],[668,0,207,186,528,0,129,0,265,98,0,75,0,0,157,0,326],[750,0,457,216,717,0,133,71,267,98,0,78,124,0,171,0,354],[544,0,416,207,639,0,130,99,268,98,0,89,188,0,164,0,318],[477,0,413,204,733,80,145,110,426,97,0,92,190,0,176,127,335],[559,0,564,240,774,96,143,105,468,117,0,125,251,39,178,118,332],[619,0,658,191,812,91,147,116,442,108,0,138,239,42,202,198,379],[685,0,683,199,725,93,146,172,420,107,0,131,273,47,170,185,366],[687,0,726,223,765,87,221,264,443,156,0,128,269,46,200,308,368]],\"type\":\"heatmap\"}],                        {\"height\":800,\"hovermode\":\"closest\",\"showlegend\":false,\"template\":{\"data\":{\"barpolar\":[{\"marker\":{\"line\":{\"color\":\"#E5ECF6\",\"width\":0.5},\"pattern\":{\"fillmode\":\"overlay\",\"size\":10,\"solidity\":0.2}},\"type\":\"barpolar\"}],\"bar\":[{\"error_x\":{\"color\":\"#2a3f5f\"},\"error_y\":{\"color\":\"#2a3f5f\"},\"marker\":{\"line\":{\"color\":\"#E5ECF6\",\"width\":0.5},\"pattern\":{\"fillmode\":\"overlay\",\"size\":10,\"solidity\":0.2}},\"type\":\"bar\"}],\"carpet\":[{\"aaxis\":{\"endlinecolor\":\"#2a3f5f\",\"gridcolor\":\"white\",\"linecolor\":\"white\",\"minorgridcolor\":\"white\",\"startlinecolor\":\"#2a3f5f\"},\"baxis\":{\"endlinecolor\":\"#2a3f5f\",\"gridcolor\":\"white\",\"linecolor\":\"white\",\"minorgridcolor\":\"white\",\"startlinecolor\":\"#2a3f5f\"},\"type\":\"carpet\"}],\"choropleth\":[{\"colorbar\":{\"outlinewidth\":0,\"ticks\":\"\"},\"type\":\"choropleth\"}],\"contourcarpet\":[{\"colorbar\":{\"outlinewidth\":0,\"ticks\":\"\"},\"type\":\"contourcarpet\"}],\"contour\":[{\"colorbar\":{\"outlinewidth\":0,\"ticks\":\"\"},\"colorscale\":[[0.0,\"#0d0887\"],[0.1111111111111111,\"#46039f\"],[0.2222222222222222,\"#7201a8\"],[0.3333333333333333,\"#9c179e\"],[0.4444444444444444,\"#bd3786\"],[0.5555555555555556,\"#d8576b\"],[0.6666666666666666,\"#ed7953\"],[0.7777777777777778,\"#fb9f3a\"],[0.8888888888888888,\"#fdca26\"],[1.0,\"#f0f921\"]],\"type\":\"contour\"}],\"heatmapgl\":[{\"colorbar\":{\"outlinewidth\":0,\"ticks\":\"\"},\"colorscale\":[[0.0,\"#0d0887\"],[0.1111111111111111,\"#46039f\"],[0.2222222222222222,\"#7201a8\"],[0.3333333333333333,\"#9c179e\"],[0.4444444444444444,\"#bd3786\"],[0.5555555555555556,\"#d8576b\"],[0.6666666666666666,\"#ed7953\"],[0.7777777777777778,\"#fb9f3a\"],[0.8888888888888888,\"#fdca26\"],[1.0,\"#f0f921\"]],\"type\":\"heatmapgl\"}],\"heatmap\":[{\"colorbar\":{\"outlinewidth\":0,\"ticks\":\"\"},\"colorscale\":[[0.0,\"#0d0887\"],[0.1111111111111111,\"#46039f\"],[0.2222222222222222,\"#7201a8\"],[0.3333333333333333,\"#9c179e\"],[0.4444444444444444,\"#bd3786\"],[0.5555555555555556,\"#d8576b\"],[0.6666666666666666,\"#ed7953\"],[0.7777777777777778,\"#fb9f3a\"],[0.8888888888888888,\"#fdca26\"],[1.0,\"#f0f921\"]],\"type\":\"heatmap\"}],\"histogram2dcontour\":[{\"colorbar\":{\"outlinewidth\":0,\"ticks\":\"\"},\"colorscale\":[[0.0,\"#0d0887\"],[0.1111111111111111,\"#46039f\"],[0.2222222222222222,\"#7201a8\"],[0.3333333333333333,\"#9c179e\"],[0.4444444444444444,\"#bd3786\"],[0.5555555555555556,\"#d8576b\"],[0.6666666666666666,\"#ed7953\"],[0.7777777777777778,\"#fb9f3a\"],[0.8888888888888888,\"#fdca26\"],[1.0,\"#f0f921\"]],\"type\":\"histogram2dcontour\"}],\"histogram2d\":[{\"colorbar\":{\"outlinewidth\":0,\"ticks\":\"\"},\"colorscale\":[[0.0,\"#0d0887\"],[0.1111111111111111,\"#46039f\"],[0.2222222222222222,\"#7201a8\"],[0.3333333333333333,\"#9c179e\"],[0.4444444444444444,\"#bd3786\"],[0.5555555555555556,\"#d8576b\"],[0.6666666666666666,\"#ed7953\"],[0.7777777777777778,\"#fb9f3a\"],[0.8888888888888888,\"#fdca26\"],[1.0,\"#f0f921\"]],\"type\":\"histogram2d\"}],\"histogram\":[{\"marker\":{\"pattern\":{\"fillmode\":\"overlay\",\"size\":10,\"solidity\":0.2}},\"type\":\"histogram\"}],\"mesh3d\":[{\"colorbar\":{\"outlinewidth\":0,\"ticks\":\"\"},\"type\":\"mesh3d\"}],\"parcoords\":[{\"line\":{\"colorbar\":{\"outlinewidth\":0,\"ticks\":\"\"}},\"type\":\"parcoords\"}],\"pie\":[{\"automargin\":true,\"type\":\"pie\"}],\"scatter3d\":[{\"line\":{\"colorbar\":{\"outlinewidth\":0,\"ticks\":\"\"}},\"marker\":{\"colorbar\":{\"outlinewidth\":0,\"ticks\":\"\"}},\"type\":\"scatter3d\"}],\"scattercarpet\":[{\"marker\":{\"colorbar\":{\"outlinewidth\":0,\"ticks\":\"\"}},\"type\":\"scattercarpet\"}],\"scattergeo\":[{\"marker\":{\"colorbar\":{\"outlinewidth\":0,\"ticks\":\"\"}},\"type\":\"scattergeo\"}],\"scattergl\":[{\"marker\":{\"colorbar\":{\"outlinewidth\":0,\"ticks\":\"\"}},\"type\":\"scattergl\"}],\"scattermapbox\":[{\"marker\":{\"colorbar\":{\"outlinewidth\":0,\"ticks\":\"\"}},\"type\":\"scattermapbox\"}],\"scatterpolargl\":[{\"marker\":{\"colorbar\":{\"outlinewidth\":0,\"ticks\":\"\"}},\"type\":\"scatterpolargl\"}],\"scatterpolar\":[{\"marker\":{\"colorbar\":{\"outlinewidth\":0,\"ticks\":\"\"}},\"type\":\"scatterpolar\"}],\"scatter\":[{\"fillpattern\":{\"fillmode\":\"overlay\",\"size\":10,\"solidity\":0.2},\"type\":\"scatter\"}],\"scatterternary\":[{\"marker\":{\"colorbar\":{\"outlinewidth\":0,\"ticks\":\"\"}},\"type\":\"scatterternary\"}],\"surface\":[{\"colorbar\":{\"outlinewidth\":0,\"ticks\":\"\"},\"colorscale\":[[0.0,\"#0d0887\"],[0.1111111111111111,\"#46039f\"],[0.2222222222222222,\"#7201a8\"],[0.3333333333333333,\"#9c179e\"],[0.4444444444444444,\"#bd3786\"],[0.5555555555555556,\"#d8576b\"],[0.6666666666666666,\"#ed7953\"],[0.7777777777777778,\"#fb9f3a\"],[0.8888888888888888,\"#fdca26\"],[1.0,\"#f0f921\"]],\"type\":\"surface\"}],\"table\":[{\"cells\":{\"fill\":{\"color\":\"#EBF0F8\"},\"line\":{\"color\":\"white\"}},\"header\":{\"fill\":{\"color\":\"#C8D4E3\"},\"line\":{\"color\":\"white\"}},\"type\":\"table\"}]},\"layout\":{\"annotationdefaults\":{\"arrowcolor\":\"#2a3f5f\",\"arrowhead\":0,\"arrowwidth\":1},\"autotypenumbers\":\"strict\",\"coloraxis\":{\"colorbar\":{\"outlinewidth\":0,\"ticks\":\"\"}},\"colorscale\":{\"diverging\":[[0,\"#8e0152\"],[0.1,\"#c51b7d\"],[0.2,\"#de77ae\"],[0.3,\"#f1b6da\"],[0.4,\"#fde0ef\"],[0.5,\"#f7f7f7\"],[0.6,\"#e6f5d0\"],[0.7,\"#b8e186\"],[0.8,\"#7fbc41\"],[0.9,\"#4d9221\"],[1,\"#276419\"]],\"sequential\":[[0.0,\"#0d0887\"],[0.1111111111111111,\"#46039f\"],[0.2222222222222222,\"#7201a8\"],[0.3333333333333333,\"#9c179e\"],[0.4444444444444444,\"#bd3786\"],[0.5555555555555556,\"#d8576b\"],[0.6666666666666666,\"#ed7953\"],[0.7777777777777778,\"#fb9f3a\"],[0.8888888888888888,\"#fdca26\"],[1.0,\"#f0f921\"]],\"sequentialminus\":[[0.0,\"#0d0887\"],[0.1111111111111111,\"#46039f\"],[0.2222222222222222,\"#7201a8\"],[0.3333333333333333,\"#9c179e\"],[0.4444444444444444,\"#bd3786\"],[0.5555555555555556,\"#d8576b\"],[0.6666666666666666,\"#ed7953\"],[0.7777777777777778,\"#fb9f3a\"],[0.8888888888888888,\"#fdca26\"],[1.0,\"#f0f921\"]]},\"colorway\":[\"#636efa\",\"#EF553B\",\"#00cc96\",\"#ab63fa\",\"#FFA15A\",\"#19d3f3\",\"#FF6692\",\"#B6E880\",\"#FF97FF\",\"#FECB52\"],\"font\":{\"color\":\"#2a3f5f\"},\"geo\":{\"bgcolor\":\"white\",\"lakecolor\":\"white\",\"landcolor\":\"#E5ECF6\",\"showlakes\":true,\"showland\":true,\"subunitcolor\":\"white\"},\"hoverlabel\":{\"align\":\"left\"},\"hovermode\":\"closest\",\"mapbox\":{\"style\":\"light\"},\"paper_bgcolor\":\"white\",\"plot_bgcolor\":\"#E5ECF6\",\"polar\":{\"angularaxis\":{\"gridcolor\":\"white\",\"linecolor\":\"white\",\"ticks\":\"\"},\"bgcolor\":\"#E5ECF6\",\"radialaxis\":{\"gridcolor\":\"white\",\"linecolor\":\"white\",\"ticks\":\"\"}},\"scene\":{\"xaxis\":{\"backgroundcolor\":\"#E5ECF6\",\"gridcolor\":\"white\",\"gridwidth\":2,\"linecolor\":\"white\",\"showbackground\":true,\"ticks\":\"\",\"zerolinecolor\":\"white\"},\"yaxis\":{\"backgroundcolor\":\"#E5ECF6\",\"gridcolor\":\"white\",\"gridwidth\":2,\"linecolor\":\"white\",\"showbackground\":true,\"ticks\":\"\",\"zerolinecolor\":\"white\"},\"zaxis\":{\"backgroundcolor\":\"#E5ECF6\",\"gridcolor\":\"white\",\"gridwidth\":2,\"linecolor\":\"white\",\"showbackground\":true,\"ticks\":\"\",\"zerolinecolor\":\"white\"}},\"shapedefaults\":{\"line\":{\"color\":\"#2a3f5f\"}},\"ternary\":{\"aaxis\":{\"gridcolor\":\"white\",\"linecolor\":\"white\",\"ticks\":\"\"},\"baxis\":{\"gridcolor\":\"white\",\"linecolor\":\"white\",\"ticks\":\"\"},\"bgcolor\":\"#E5ECF6\",\"caxis\":{\"gridcolor\":\"white\",\"linecolor\":\"white\",\"ticks\":\"\"}},\"title\":{\"x\":0.05},\"xaxis\":{\"automargin\":true,\"gridcolor\":\"white\",\"linecolor\":\"white\",\"ticks\":\"\",\"title\":{\"standoff\":15},\"zerolinecolor\":\"white\",\"zerolinewidth\":2},\"yaxis\":{\"automargin\":true,\"gridcolor\":\"white\",\"linecolor\":\"white\",\"ticks\":\"\",\"title\":{\"standoff\":15},\"zerolinecolor\":\"white\",\"zerolinewidth\":2}}},\"title\":{\"text\":\"Number of athlets per year and sport (Winter Olympics)\"},\"width\":800,\"xaxis\":{\"showticklabels\":true,\"tickangle\":30,\"tickfont\":{\"color\":\"black\",\"size\":8},\"title\":{\"text\":\"Sport\"}},\"yaxis\":{\"showticklabels\":true,\"tickfont\":{\"color\":\"black\",\"size\":10},\"title\":{\"text\":\"Year\"}}},                        {\"responsive\": true}                    ).then(function(){\n",
       "                            \n",
       "var gd = document.getElementById('b34c3a28-1eba-455d-9097-a468fe6475d0');\n",
       "var x = new MutationObserver(function (mutations, observer) {{\n",
       "        var display = window.getComputedStyle(gd).display;\n",
       "        if (!display || display === 'none') {{\n",
       "            console.log([gd, 'removed!']);\n",
       "            Plotly.purge(gd);\n",
       "            observer.disconnect();\n",
       "        }}\n",
       "}});\n",
       "\n",
       "// Listen for the removal of the full notebook cells\n",
       "var notebookContainer = gd.closest('#notebook-container');\n",
       "if (notebookContainer) {{\n",
       "    x.observe(notebookContainer, {childList: true});\n",
       "}}\n",
       "\n",
       "// Listen for the clearing of the current output cell\n",
       "var outputEl = gd.closest('.output');\n",
       "if (outputEl) {{\n",
       "    x.observe(outputEl, {childList: true});\n",
       "}}\n",
       "\n",
       "                        })                };                });            </script>        </div>"
      ]
     },
     "metadata": {},
     "output_type": "display_data"
    }
   ],
   "source": [
    "trace = go.Heatmap(z = m, y= list(piv.index), x=list(piv.columns),colorscale='Blues',reversescale=True)\n",
    "data=[trace]\n",
    "layout = dict(title = \"Number of athlets per year and sport (Winter Olympics)\",\n",
    "              xaxis = dict(title = 'Sport',\n",
    "                        showticklabels=True,\n",
    "                           tickangle = 30,\n",
    "                        tickfont=dict(\n",
    "                                size=8,\n",
    "                                color='black'),\n",
    "                          ),\n",
    "              yaxis = dict(title = 'Year', \n",
    "                        showticklabels=True, \n",
    "                        tickfont=dict(\n",
    "                            size=10,\n",
    "                            color='black'),\n",
    "                      ), \n",
    "              hovermode = 'closest',\n",
    "              showlegend=False,\n",
    "                  width=800,\n",
    "                  height=800,\n",
    "             )\n",
    "fig = dict(data=data, layout=layout)\n",
    "iplot(fig, filename='labelled-heatmap')"
   ]
  },
  {
   "cell_type": "markdown",
   "id": "6bdd1da8",
   "metadata": {
    "papermill": {
     "duration": 0.121405,
     "end_time": "2022-07-27T20:00:47.601153",
     "exception": false,
     "start_time": "2022-07-27T20:00:47.479748",
     "status": "completed"
    },
    "tags": []
   },
   "source": [
    "# 10. Show the number of athlets per Game event and per Sport in a pie plot for only the Summer Olympics data"
   ]
  },
  {
   "cell_type": "code",
   "execution_count": 30,
   "id": "06288efc",
   "metadata": {
    "_uuid": "e07dcc50be5f733e2afbbb9580a98eff9ce54fdc",
    "execution": {
     "iopub.execute_input": "2022-07-27T20:00:47.891911Z",
     "iopub.status.busy": "2022-07-27T20:00:47.891501Z",
     "iopub.status.idle": "2022-07-27T20:00:47.952935Z",
     "shell.execute_reply": "2022-07-27T20:00:47.951642Z"
    },
    "papermill": {
     "duration": 0.232661,
     "end_time": "2022-07-27T20:00:47.956165",
     "exception": false,
     "start_time": "2022-07-27T20:00:47.723504",
     "status": "completed"
    },
    "tags": []
   },
   "outputs": [
    {
     "data": {
      "application/vnd.plotly.v1+json": {
       "config": {
        "linkText": "Export to plot.ly",
        "plotlyServerURL": "https://plot.ly",
        "showLink": false
       },
       "data": [
        {
         "hoverinfo": "label",
         "labels": [
          "Sunny side of pyramid",
          "Shaddy side of pyramid",
          "Sky"
         ],
         "marker": {
          "colors": [
           "gold",
           "brown",
           "lightblue"
          ],
          "line": {
           "color": "#000000",
           "width": 1
          }
         },
         "rotation": 220,
         "textfont": {
          "size": 20
         },
         "textinfo": "none",
         "type": "pie",
         "values": [
          300,
          150,
          1200
         ]
        }
       ],
       "layout": {
        "template": {
         "data": {
          "bar": [
           {
            "error_x": {
             "color": "#2a3f5f"
            },
            "error_y": {
             "color": "#2a3f5f"
            },
            "marker": {
             "line": {
              "color": "#E5ECF6",
              "width": 0.5
             },
             "pattern": {
              "fillmode": "overlay",
              "size": 10,
              "solidity": 0.2
             }
            },
            "type": "bar"
           }
          ],
          "barpolar": [
           {
            "marker": {
             "line": {
              "color": "#E5ECF6",
              "width": 0.5
             },
             "pattern": {
              "fillmode": "overlay",
              "size": 10,
              "solidity": 0.2
             }
            },
            "type": "barpolar"
           }
          ],
          "carpet": [
           {
            "aaxis": {
             "endlinecolor": "#2a3f5f",
             "gridcolor": "white",
             "linecolor": "white",
             "minorgridcolor": "white",
             "startlinecolor": "#2a3f5f"
            },
            "baxis": {
             "endlinecolor": "#2a3f5f",
             "gridcolor": "white",
             "linecolor": "white",
             "minorgridcolor": "white",
             "startlinecolor": "#2a3f5f"
            },
            "type": "carpet"
           }
          ],
          "choropleth": [
           {
            "colorbar": {
             "outlinewidth": 0,
             "ticks": ""
            },
            "type": "choropleth"
           }
          ],
          "contour": [
           {
            "colorbar": {
             "outlinewidth": 0,
             "ticks": ""
            },
            "colorscale": [
             [
              0.0,
              "#0d0887"
             ],
             [
              0.1111111111111111,
              "#46039f"
             ],
             [
              0.2222222222222222,
              "#7201a8"
             ],
             [
              0.3333333333333333,
              "#9c179e"
             ],
             [
              0.4444444444444444,
              "#bd3786"
             ],
             [
              0.5555555555555556,
              "#d8576b"
             ],
             [
              0.6666666666666666,
              "#ed7953"
             ],
             [
              0.7777777777777778,
              "#fb9f3a"
             ],
             [
              0.8888888888888888,
              "#fdca26"
             ],
             [
              1.0,
              "#f0f921"
             ]
            ],
            "type": "contour"
           }
          ],
          "contourcarpet": [
           {
            "colorbar": {
             "outlinewidth": 0,
             "ticks": ""
            },
            "type": "contourcarpet"
           }
          ],
          "heatmap": [
           {
            "colorbar": {
             "outlinewidth": 0,
             "ticks": ""
            },
            "colorscale": [
             [
              0.0,
              "#0d0887"
             ],
             [
              0.1111111111111111,
              "#46039f"
             ],
             [
              0.2222222222222222,
              "#7201a8"
             ],
             [
              0.3333333333333333,
              "#9c179e"
             ],
             [
              0.4444444444444444,
              "#bd3786"
             ],
             [
              0.5555555555555556,
              "#d8576b"
             ],
             [
              0.6666666666666666,
              "#ed7953"
             ],
             [
              0.7777777777777778,
              "#fb9f3a"
             ],
             [
              0.8888888888888888,
              "#fdca26"
             ],
             [
              1.0,
              "#f0f921"
             ]
            ],
            "type": "heatmap"
           }
          ],
          "heatmapgl": [
           {
            "colorbar": {
             "outlinewidth": 0,
             "ticks": ""
            },
            "colorscale": [
             [
              0.0,
              "#0d0887"
             ],
             [
              0.1111111111111111,
              "#46039f"
             ],
             [
              0.2222222222222222,
              "#7201a8"
             ],
             [
              0.3333333333333333,
              "#9c179e"
             ],
             [
              0.4444444444444444,
              "#bd3786"
             ],
             [
              0.5555555555555556,
              "#d8576b"
             ],
             [
              0.6666666666666666,
              "#ed7953"
             ],
             [
              0.7777777777777778,
              "#fb9f3a"
             ],
             [
              0.8888888888888888,
              "#fdca26"
             ],
             [
              1.0,
              "#f0f921"
             ]
            ],
            "type": "heatmapgl"
           }
          ],
          "histogram": [
           {
            "marker": {
             "pattern": {
              "fillmode": "overlay",
              "size": 10,
              "solidity": 0.2
             }
            },
            "type": "histogram"
           }
          ],
          "histogram2d": [
           {
            "colorbar": {
             "outlinewidth": 0,
             "ticks": ""
            },
            "colorscale": [
             [
              0.0,
              "#0d0887"
             ],
             [
              0.1111111111111111,
              "#46039f"
             ],
             [
              0.2222222222222222,
              "#7201a8"
             ],
             [
              0.3333333333333333,
              "#9c179e"
             ],
             [
              0.4444444444444444,
              "#bd3786"
             ],
             [
              0.5555555555555556,
              "#d8576b"
             ],
             [
              0.6666666666666666,
              "#ed7953"
             ],
             [
              0.7777777777777778,
              "#fb9f3a"
             ],
             [
              0.8888888888888888,
              "#fdca26"
             ],
             [
              1.0,
              "#f0f921"
             ]
            ],
            "type": "histogram2d"
           }
          ],
          "histogram2dcontour": [
           {
            "colorbar": {
             "outlinewidth": 0,
             "ticks": ""
            },
            "colorscale": [
             [
              0.0,
              "#0d0887"
             ],
             [
              0.1111111111111111,
              "#46039f"
             ],
             [
              0.2222222222222222,
              "#7201a8"
             ],
             [
              0.3333333333333333,
              "#9c179e"
             ],
             [
              0.4444444444444444,
              "#bd3786"
             ],
             [
              0.5555555555555556,
              "#d8576b"
             ],
             [
              0.6666666666666666,
              "#ed7953"
             ],
             [
              0.7777777777777778,
              "#fb9f3a"
             ],
             [
              0.8888888888888888,
              "#fdca26"
             ],
             [
              1.0,
              "#f0f921"
             ]
            ],
            "type": "histogram2dcontour"
           }
          ],
          "mesh3d": [
           {
            "colorbar": {
             "outlinewidth": 0,
             "ticks": ""
            },
            "type": "mesh3d"
           }
          ],
          "parcoords": [
           {
            "line": {
             "colorbar": {
              "outlinewidth": 0,
              "ticks": ""
             }
            },
            "type": "parcoords"
           }
          ],
          "pie": [
           {
            "automargin": true,
            "type": "pie"
           }
          ],
          "scatter": [
           {
            "fillpattern": {
             "fillmode": "overlay",
             "size": 10,
             "solidity": 0.2
            },
            "type": "scatter"
           }
          ],
          "scatter3d": [
           {
            "line": {
             "colorbar": {
              "outlinewidth": 0,
              "ticks": ""
             }
            },
            "marker": {
             "colorbar": {
              "outlinewidth": 0,
              "ticks": ""
             }
            },
            "type": "scatter3d"
           }
          ],
          "scattercarpet": [
           {
            "marker": {
             "colorbar": {
              "outlinewidth": 0,
              "ticks": ""
             }
            },
            "type": "scattercarpet"
           }
          ],
          "scattergeo": [
           {
            "marker": {
             "colorbar": {
              "outlinewidth": 0,
              "ticks": ""
             }
            },
            "type": "scattergeo"
           }
          ],
          "scattergl": [
           {
            "marker": {
             "colorbar": {
              "outlinewidth": 0,
              "ticks": ""
             }
            },
            "type": "scattergl"
           }
          ],
          "scattermapbox": [
           {
            "marker": {
             "colorbar": {
              "outlinewidth": 0,
              "ticks": ""
             }
            },
            "type": "scattermapbox"
           }
          ],
          "scatterpolar": [
           {
            "marker": {
             "colorbar": {
              "outlinewidth": 0,
              "ticks": ""
             }
            },
            "type": "scatterpolar"
           }
          ],
          "scatterpolargl": [
           {
            "marker": {
             "colorbar": {
              "outlinewidth": 0,
              "ticks": ""
             }
            },
            "type": "scatterpolargl"
           }
          ],
          "scatterternary": [
           {
            "marker": {
             "colorbar": {
              "outlinewidth": 0,
              "ticks": ""
             }
            },
            "type": "scatterternary"
           }
          ],
          "surface": [
           {
            "colorbar": {
             "outlinewidth": 0,
             "ticks": ""
            },
            "colorscale": [
             [
              0.0,
              "#0d0887"
             ],
             [
              0.1111111111111111,
              "#46039f"
             ],
             [
              0.2222222222222222,
              "#7201a8"
             ],
             [
              0.3333333333333333,
              "#9c179e"
             ],
             [
              0.4444444444444444,
              "#bd3786"
             ],
             [
              0.5555555555555556,
              "#d8576b"
             ],
             [
              0.6666666666666666,
              "#ed7953"
             ],
             [
              0.7777777777777778,
              "#fb9f3a"
             ],
             [
              0.8888888888888888,
              "#fdca26"
             ],
             [
              1.0,
              "#f0f921"
             ]
            ],
            "type": "surface"
           }
          ],
          "table": [
           {
            "cells": {
             "fill": {
              "color": "#EBF0F8"
             },
             "line": {
              "color": "white"
             }
            },
            "header": {
             "fill": {
              "color": "#C8D4E3"
             },
             "line": {
              "color": "white"
             }
            },
            "type": "table"
           }
          ]
         },
         "layout": {
          "annotationdefaults": {
           "arrowcolor": "#2a3f5f",
           "arrowhead": 0,
           "arrowwidth": 1
          },
          "autotypenumbers": "strict",
          "coloraxis": {
           "colorbar": {
            "outlinewidth": 0,
            "ticks": ""
           }
          },
          "colorscale": {
           "diverging": [
            [
             0,
             "#8e0152"
            ],
            [
             0.1,
             "#c51b7d"
            ],
            [
             0.2,
             "#de77ae"
            ],
            [
             0.3,
             "#f1b6da"
            ],
            [
             0.4,
             "#fde0ef"
            ],
            [
             0.5,
             "#f7f7f7"
            ],
            [
             0.6,
             "#e6f5d0"
            ],
            [
             0.7,
             "#b8e186"
            ],
            [
             0.8,
             "#7fbc41"
            ],
            [
             0.9,
             "#4d9221"
            ],
            [
             1,
             "#276419"
            ]
           ],
           "sequential": [
            [
             0.0,
             "#0d0887"
            ],
            [
             0.1111111111111111,
             "#46039f"
            ],
            [
             0.2222222222222222,
             "#7201a8"
            ],
            [
             0.3333333333333333,
             "#9c179e"
            ],
            [
             0.4444444444444444,
             "#bd3786"
            ],
            [
             0.5555555555555556,
             "#d8576b"
            ],
            [
             0.6666666666666666,
             "#ed7953"
            ],
            [
             0.7777777777777778,
             "#fb9f3a"
            ],
            [
             0.8888888888888888,
             "#fdca26"
            ],
            [
             1.0,
             "#f0f921"
            ]
           ],
           "sequentialminus": [
            [
             0.0,
             "#0d0887"
            ],
            [
             0.1111111111111111,
             "#46039f"
            ],
            [
             0.2222222222222222,
             "#7201a8"
            ],
            [
             0.3333333333333333,
             "#9c179e"
            ],
            [
             0.4444444444444444,
             "#bd3786"
            ],
            [
             0.5555555555555556,
             "#d8576b"
            ],
            [
             0.6666666666666666,
             "#ed7953"
            ],
            [
             0.7777777777777778,
             "#fb9f3a"
            ],
            [
             0.8888888888888888,
             "#fdca26"
            ],
            [
             1.0,
             "#f0f921"
            ]
           ]
          },
          "colorway": [
           "#636efa",
           "#EF553B",
           "#00cc96",
           "#ab63fa",
           "#FFA15A",
           "#19d3f3",
           "#FF6692",
           "#B6E880",
           "#FF97FF",
           "#FECB52"
          ],
          "font": {
           "color": "#2a3f5f"
          },
          "geo": {
           "bgcolor": "white",
           "lakecolor": "white",
           "landcolor": "#E5ECF6",
           "showlakes": true,
           "showland": true,
           "subunitcolor": "white"
          },
          "hoverlabel": {
           "align": "left"
          },
          "hovermode": "closest",
          "mapbox": {
           "style": "light"
          },
          "paper_bgcolor": "white",
          "plot_bgcolor": "#E5ECF6",
          "polar": {
           "angularaxis": {
            "gridcolor": "white",
            "linecolor": "white",
            "ticks": ""
           },
           "bgcolor": "#E5ECF6",
           "radialaxis": {
            "gridcolor": "white",
            "linecolor": "white",
            "ticks": ""
           }
          },
          "scene": {
           "xaxis": {
            "backgroundcolor": "#E5ECF6",
            "gridcolor": "white",
            "gridwidth": 2,
            "linecolor": "white",
            "showbackground": true,
            "ticks": "",
            "zerolinecolor": "white"
           },
           "yaxis": {
            "backgroundcolor": "#E5ECF6",
            "gridcolor": "white",
            "gridwidth": 2,
            "linecolor": "white",
            "showbackground": true,
            "ticks": "",
            "zerolinecolor": "white"
           },
           "zaxis": {
            "backgroundcolor": "#E5ECF6",
            "gridcolor": "white",
            "gridwidth": 2,
            "linecolor": "white",
            "showbackground": true,
            "ticks": "",
            "zerolinecolor": "white"
           }
          },
          "shapedefaults": {
           "line": {
            "color": "#2a3f5f"
           }
          },
          "ternary": {
           "aaxis": {
            "gridcolor": "white",
            "linecolor": "white",
            "ticks": ""
           },
           "baxis": {
            "gridcolor": "white",
            "linecolor": "white",
            "ticks": ""
           },
           "bgcolor": "#E5ECF6",
           "caxis": {
            "gridcolor": "white",
            "linecolor": "white",
            "ticks": ""
           }
          },
          "title": {
           "x": 0.05
          },
          "xaxis": {
           "automargin": true,
           "gridcolor": "white",
           "linecolor": "white",
           "ticks": "",
           "title": {
            "standoff": 15
           },
           "zerolinecolor": "white",
           "zerolinewidth": 2
          },
          "yaxis": {
           "automargin": true,
           "gridcolor": "white",
           "linecolor": "white",
           "ticks": "",
           "title": {
            "standoff": 15
           },
           "zerolinecolor": "white",
           "zerolinewidth": 2
          }
         }
        }
       }
      },
      "text/html": [
       "<div>                            <div id=\"0c951edd-2cca-48c3-98f3-edd5d7592f74\" class=\"plotly-graph-div\" style=\"height:525px; width:100%;\"></div>            <script type=\"text/javascript\">                require([\"plotly\"], function(Plotly) {                    window.PLOTLYENV=window.PLOTLYENV || {};                                    if (document.getElementById(\"0c951edd-2cca-48c3-98f3-edd5d7592f74\")) {                    Plotly.newPlot(                        \"0c951edd-2cca-48c3-98f3-edd5d7592f74\",                        [{\"hoverinfo\":\"label\",\"labels\":[\"Sunny side of pyramid\",\"Shaddy side of pyramid\",\"Sky\"],\"marker\":{\"colors\":[\"gold\",\"brown\",\"lightblue\"],\"line\":{\"color\":\"#000000\",\"width\":1}},\"rotation\":220,\"textfont\":{\"size\":20},\"textinfo\":\"none\",\"values\":[300,150,1200],\"type\":\"pie\"}],                        {\"template\":{\"data\":{\"barpolar\":[{\"marker\":{\"line\":{\"color\":\"#E5ECF6\",\"width\":0.5},\"pattern\":{\"fillmode\":\"overlay\",\"size\":10,\"solidity\":0.2}},\"type\":\"barpolar\"}],\"bar\":[{\"error_x\":{\"color\":\"#2a3f5f\"},\"error_y\":{\"color\":\"#2a3f5f\"},\"marker\":{\"line\":{\"color\":\"#E5ECF6\",\"width\":0.5},\"pattern\":{\"fillmode\":\"overlay\",\"size\":10,\"solidity\":0.2}},\"type\":\"bar\"}],\"carpet\":[{\"aaxis\":{\"endlinecolor\":\"#2a3f5f\",\"gridcolor\":\"white\",\"linecolor\":\"white\",\"minorgridcolor\":\"white\",\"startlinecolor\":\"#2a3f5f\"},\"baxis\":{\"endlinecolor\":\"#2a3f5f\",\"gridcolor\":\"white\",\"linecolor\":\"white\",\"minorgridcolor\":\"white\",\"startlinecolor\":\"#2a3f5f\"},\"type\":\"carpet\"}],\"choropleth\":[{\"colorbar\":{\"outlinewidth\":0,\"ticks\":\"\"},\"type\":\"choropleth\"}],\"contourcarpet\":[{\"colorbar\":{\"outlinewidth\":0,\"ticks\":\"\"},\"type\":\"contourcarpet\"}],\"contour\":[{\"colorbar\":{\"outlinewidth\":0,\"ticks\":\"\"},\"colorscale\":[[0.0,\"#0d0887\"],[0.1111111111111111,\"#46039f\"],[0.2222222222222222,\"#7201a8\"],[0.3333333333333333,\"#9c179e\"],[0.4444444444444444,\"#bd3786\"],[0.5555555555555556,\"#d8576b\"],[0.6666666666666666,\"#ed7953\"],[0.7777777777777778,\"#fb9f3a\"],[0.8888888888888888,\"#fdca26\"],[1.0,\"#f0f921\"]],\"type\":\"contour\"}],\"heatmapgl\":[{\"colorbar\":{\"outlinewidth\":0,\"ticks\":\"\"},\"colorscale\":[[0.0,\"#0d0887\"],[0.1111111111111111,\"#46039f\"],[0.2222222222222222,\"#7201a8\"],[0.3333333333333333,\"#9c179e\"],[0.4444444444444444,\"#bd3786\"],[0.5555555555555556,\"#d8576b\"],[0.6666666666666666,\"#ed7953\"],[0.7777777777777778,\"#fb9f3a\"],[0.8888888888888888,\"#fdca26\"],[1.0,\"#f0f921\"]],\"type\":\"heatmapgl\"}],\"heatmap\":[{\"colorbar\":{\"outlinewidth\":0,\"ticks\":\"\"},\"colorscale\":[[0.0,\"#0d0887\"],[0.1111111111111111,\"#46039f\"],[0.2222222222222222,\"#7201a8\"],[0.3333333333333333,\"#9c179e\"],[0.4444444444444444,\"#bd3786\"],[0.5555555555555556,\"#d8576b\"],[0.6666666666666666,\"#ed7953\"],[0.7777777777777778,\"#fb9f3a\"],[0.8888888888888888,\"#fdca26\"],[1.0,\"#f0f921\"]],\"type\":\"heatmap\"}],\"histogram2dcontour\":[{\"colorbar\":{\"outlinewidth\":0,\"ticks\":\"\"},\"colorscale\":[[0.0,\"#0d0887\"],[0.1111111111111111,\"#46039f\"],[0.2222222222222222,\"#7201a8\"],[0.3333333333333333,\"#9c179e\"],[0.4444444444444444,\"#bd3786\"],[0.5555555555555556,\"#d8576b\"],[0.6666666666666666,\"#ed7953\"],[0.7777777777777778,\"#fb9f3a\"],[0.8888888888888888,\"#fdca26\"],[1.0,\"#f0f921\"]],\"type\":\"histogram2dcontour\"}],\"histogram2d\":[{\"colorbar\":{\"outlinewidth\":0,\"ticks\":\"\"},\"colorscale\":[[0.0,\"#0d0887\"],[0.1111111111111111,\"#46039f\"],[0.2222222222222222,\"#7201a8\"],[0.3333333333333333,\"#9c179e\"],[0.4444444444444444,\"#bd3786\"],[0.5555555555555556,\"#d8576b\"],[0.6666666666666666,\"#ed7953\"],[0.7777777777777778,\"#fb9f3a\"],[0.8888888888888888,\"#fdca26\"],[1.0,\"#f0f921\"]],\"type\":\"histogram2d\"}],\"histogram\":[{\"marker\":{\"pattern\":{\"fillmode\":\"overlay\",\"size\":10,\"solidity\":0.2}},\"type\":\"histogram\"}],\"mesh3d\":[{\"colorbar\":{\"outlinewidth\":0,\"ticks\":\"\"},\"type\":\"mesh3d\"}],\"parcoords\":[{\"line\":{\"colorbar\":{\"outlinewidth\":0,\"ticks\":\"\"}},\"type\":\"parcoords\"}],\"pie\":[{\"automargin\":true,\"type\":\"pie\"}],\"scatter3d\":[{\"line\":{\"colorbar\":{\"outlinewidth\":0,\"ticks\":\"\"}},\"marker\":{\"colorbar\":{\"outlinewidth\":0,\"ticks\":\"\"}},\"type\":\"scatter3d\"}],\"scattercarpet\":[{\"marker\":{\"colorbar\":{\"outlinewidth\":0,\"ticks\":\"\"}},\"type\":\"scattercarpet\"}],\"scattergeo\":[{\"marker\":{\"colorbar\":{\"outlinewidth\":0,\"ticks\":\"\"}},\"type\":\"scattergeo\"}],\"scattergl\":[{\"marker\":{\"colorbar\":{\"outlinewidth\":0,\"ticks\":\"\"}},\"type\":\"scattergl\"}],\"scattermapbox\":[{\"marker\":{\"colorbar\":{\"outlinewidth\":0,\"ticks\":\"\"}},\"type\":\"scattermapbox\"}],\"scatterpolargl\":[{\"marker\":{\"colorbar\":{\"outlinewidth\":0,\"ticks\":\"\"}},\"type\":\"scatterpolargl\"}],\"scatterpolar\":[{\"marker\":{\"colorbar\":{\"outlinewidth\":0,\"ticks\":\"\"}},\"type\":\"scatterpolar\"}],\"scatter\":[{\"fillpattern\":{\"fillmode\":\"overlay\",\"size\":10,\"solidity\":0.2},\"type\":\"scatter\"}],\"scatterternary\":[{\"marker\":{\"colorbar\":{\"outlinewidth\":0,\"ticks\":\"\"}},\"type\":\"scatterternary\"}],\"surface\":[{\"colorbar\":{\"outlinewidth\":0,\"ticks\":\"\"},\"colorscale\":[[0.0,\"#0d0887\"],[0.1111111111111111,\"#46039f\"],[0.2222222222222222,\"#7201a8\"],[0.3333333333333333,\"#9c179e\"],[0.4444444444444444,\"#bd3786\"],[0.5555555555555556,\"#d8576b\"],[0.6666666666666666,\"#ed7953\"],[0.7777777777777778,\"#fb9f3a\"],[0.8888888888888888,\"#fdca26\"],[1.0,\"#f0f921\"]],\"type\":\"surface\"}],\"table\":[{\"cells\":{\"fill\":{\"color\":\"#EBF0F8\"},\"line\":{\"color\":\"white\"}},\"header\":{\"fill\":{\"color\":\"#C8D4E3\"},\"line\":{\"color\":\"white\"}},\"type\":\"table\"}]},\"layout\":{\"annotationdefaults\":{\"arrowcolor\":\"#2a3f5f\",\"arrowhead\":0,\"arrowwidth\":1},\"autotypenumbers\":\"strict\",\"coloraxis\":{\"colorbar\":{\"outlinewidth\":0,\"ticks\":\"\"}},\"colorscale\":{\"diverging\":[[0,\"#8e0152\"],[0.1,\"#c51b7d\"],[0.2,\"#de77ae\"],[0.3,\"#f1b6da\"],[0.4,\"#fde0ef\"],[0.5,\"#f7f7f7\"],[0.6,\"#e6f5d0\"],[0.7,\"#b8e186\"],[0.8,\"#7fbc41\"],[0.9,\"#4d9221\"],[1,\"#276419\"]],\"sequential\":[[0.0,\"#0d0887\"],[0.1111111111111111,\"#46039f\"],[0.2222222222222222,\"#7201a8\"],[0.3333333333333333,\"#9c179e\"],[0.4444444444444444,\"#bd3786\"],[0.5555555555555556,\"#d8576b\"],[0.6666666666666666,\"#ed7953\"],[0.7777777777777778,\"#fb9f3a\"],[0.8888888888888888,\"#fdca26\"],[1.0,\"#f0f921\"]],\"sequentialminus\":[[0.0,\"#0d0887\"],[0.1111111111111111,\"#46039f\"],[0.2222222222222222,\"#7201a8\"],[0.3333333333333333,\"#9c179e\"],[0.4444444444444444,\"#bd3786\"],[0.5555555555555556,\"#d8576b\"],[0.6666666666666666,\"#ed7953\"],[0.7777777777777778,\"#fb9f3a\"],[0.8888888888888888,\"#fdca26\"],[1.0,\"#f0f921\"]]},\"colorway\":[\"#636efa\",\"#EF553B\",\"#00cc96\",\"#ab63fa\",\"#FFA15A\",\"#19d3f3\",\"#FF6692\",\"#B6E880\",\"#FF97FF\",\"#FECB52\"],\"font\":{\"color\":\"#2a3f5f\"},\"geo\":{\"bgcolor\":\"white\",\"lakecolor\":\"white\",\"landcolor\":\"#E5ECF6\",\"showlakes\":true,\"showland\":true,\"subunitcolor\":\"white\"},\"hoverlabel\":{\"align\":\"left\"},\"hovermode\":\"closest\",\"mapbox\":{\"style\":\"light\"},\"paper_bgcolor\":\"white\",\"plot_bgcolor\":\"#E5ECF6\",\"polar\":{\"angularaxis\":{\"gridcolor\":\"white\",\"linecolor\":\"white\",\"ticks\":\"\"},\"bgcolor\":\"#E5ECF6\",\"radialaxis\":{\"gridcolor\":\"white\",\"linecolor\":\"white\",\"ticks\":\"\"}},\"scene\":{\"xaxis\":{\"backgroundcolor\":\"#E5ECF6\",\"gridcolor\":\"white\",\"gridwidth\":2,\"linecolor\":\"white\",\"showbackground\":true,\"ticks\":\"\",\"zerolinecolor\":\"white\"},\"yaxis\":{\"backgroundcolor\":\"#E5ECF6\",\"gridcolor\":\"white\",\"gridwidth\":2,\"linecolor\":\"white\",\"showbackground\":true,\"ticks\":\"\",\"zerolinecolor\":\"white\"},\"zaxis\":{\"backgroundcolor\":\"#E5ECF6\",\"gridcolor\":\"white\",\"gridwidth\":2,\"linecolor\":\"white\",\"showbackground\":true,\"ticks\":\"\",\"zerolinecolor\":\"white\"}},\"shapedefaults\":{\"line\":{\"color\":\"#2a3f5f\"}},\"ternary\":{\"aaxis\":{\"gridcolor\":\"white\",\"linecolor\":\"white\",\"ticks\":\"\"},\"baxis\":{\"gridcolor\":\"white\",\"linecolor\":\"white\",\"ticks\":\"\"},\"bgcolor\":\"#E5ECF6\",\"caxis\":{\"gridcolor\":\"white\",\"linecolor\":\"white\",\"ticks\":\"\"}},\"title\":{\"x\":0.05},\"xaxis\":{\"automargin\":true,\"gridcolor\":\"white\",\"linecolor\":\"white\",\"ticks\":\"\",\"title\":{\"standoff\":15},\"zerolinecolor\":\"white\",\"zerolinewidth\":2},\"yaxis\":{\"automargin\":true,\"gridcolor\":\"white\",\"linecolor\":\"white\",\"ticks\":\"\",\"title\":{\"standoff\":15},\"zerolinecolor\":\"white\",\"zerolinewidth\":2}}}},                        {\"responsive\": true}                    ).then(function(){\n",
       "                            \n",
       "var gd = document.getElementById('0c951edd-2cca-48c3-98f3-edd5d7592f74');\n",
       "var x = new MutationObserver(function (mutations, observer) {{\n",
       "        var display = window.getComputedStyle(gd).display;\n",
       "        if (!display || display === 'none') {{\n",
       "            console.log([gd, 'removed!']);\n",
       "            Plotly.purge(gd);\n",
       "            observer.disconnect();\n",
       "        }}\n",
       "}});\n",
       "\n",
       "// Listen for the removal of the full notebook cells\n",
       "var notebookContainer = gd.closest('#notebook-container');\n",
       "if (notebookContainer) {{\n",
       "    x.observe(notebookContainer, {childList: true});\n",
       "}}\n",
       "\n",
       "// Listen for the clearing of the current output cell\n",
       "var outputEl = gd.closest('.output');\n",
       "if (outputEl) {{\n",
       "    x.observe(outputEl, {childList: true});\n",
       "}}\n",
       "\n",
       "                        })                };                });            </script>        </div>"
      ]
     },
     "metadata": {},
     "output_type": "display_data"
    }
   ],
   "source": [
    "labels = ['Sunny side of pyramid','Shaddy side of pyramid','Sky']\n",
    "values = [300,150,1200]\n",
    "colors = ['gold', 'brown', 'lightblue']\n",
    "\n",
    "BOTTOM_OF_THE_PYRAMID_ACCORDING_TO_NEWTON_LAWS = 220\n",
    "\n",
    "trace = go.Pie(labels=labels, values=values,\n",
    "               hoverinfo='label', textinfo='none', \n",
    "               textfont=dict(size=20),\n",
    "               rotation=BOTTOM_OF_THE_PYRAMID_ACCORDING_TO_NEWTON_LAWS,\n",
    "               marker=dict(colors=colors, \n",
    "                           line=dict(color='#000000', width=1)))\n",
    "iplot([trace], filename='styled_pie_chart')"
   ]
  },
  {
   "cell_type": "markdown",
   "id": "1e1872ba",
   "metadata": {
    "_uuid": "8e1c1a38d5db83d447951bc66ff4cda7076d0e92",
    "papermill": {
     "duration": 0.129863,
     "end_time": "2022-07-27T20:00:48.214545",
     "exception": false,
     "start_time": "2022-07-27T20:00:48.084682",
     "status": "completed"
    },
    "tags": []
   },
   "source": [
    "We used `rotation` to align the base part of the pyramid to the ground. \n",
    "\n",
    "We used `textinfo` = `none` to remove percent or label text from the pie slices.\n",
    "\n",
    "\n",
    "Let's use here to show the proportion of athlets number per sports, separatelly for Summer and Winter Olympics."
   ]
  },
  {
   "cell_type": "code",
   "execution_count": 31,
   "id": "97f83467",
   "metadata": {
    "_uuid": "ea65faf0b3be1347d6cdf471394521c88ea67418",
    "execution": {
     "iopub.execute_input": "2022-07-27T20:00:48.475248Z",
     "iopub.status.busy": "2022-07-27T20:00:48.474850Z",
     "iopub.status.idle": "2022-07-27T20:00:48.564784Z",
     "shell.execute_reply": "2022-07-27T20:00:48.563444Z"
    },
    "papermill": {
     "duration": 0.223206,
     "end_time": "2022-07-27T20:00:48.567318",
     "exception": false,
     "start_time": "2022-07-27T20:00:48.344112",
     "status": "completed"
    },
    "tags": []
   },
   "outputs": [
    {
     "data": {
      "text/html": [
       "<div>\n",
       "<style scoped>\n",
       "    .dataframe tbody tr th:only-of-type {\n",
       "        vertical-align: middle;\n",
       "    }\n",
       "\n",
       "    .dataframe tbody tr th {\n",
       "        vertical-align: top;\n",
       "    }\n",
       "\n",
       "    .dataframe thead th {\n",
       "        text-align: right;\n",
       "    }\n",
       "</style>\n",
       "<table border=\"1\" class=\"dataframe\">\n",
       "  <thead>\n",
       "    <tr style=\"text-align: right;\">\n",
       "      <th></th>\n",
       "      <th>Season</th>\n",
       "      <th>Sport</th>\n",
       "      <th>Athlets</th>\n",
       "    </tr>\n",
       "  </thead>\n",
       "  <tbody>\n",
       "    <tr>\n",
       "      <th>0</th>\n",
       "      <td>Summer</td>\n",
       "      <td>Athletics</td>\n",
       "      <td>38624</td>\n",
       "    </tr>\n",
       "    <tr>\n",
       "      <th>1</th>\n",
       "      <td>Summer</td>\n",
       "      <td>Gymnastics</td>\n",
       "      <td>26707</td>\n",
       "    </tr>\n",
       "    <tr>\n",
       "      <th>2</th>\n",
       "      <td>Summer</td>\n",
       "      <td>Swimming</td>\n",
       "      <td>23195</td>\n",
       "    </tr>\n",
       "  </tbody>\n",
       "</table>\n",
       "</div>"
      ],
      "text/plain": [
       "   Season       Sport  Athlets\n",
       "0  Summer   Athletics    38624\n",
       "1  Summer  Gymnastics    26707\n",
       "2  Summer    Swimming    23195"
      ]
     },
     "execution_count": 31,
     "metadata": {},
     "output_type": "execute_result"
    }
   ],
   "source": [
    "tmp = athlete_events_df.groupby(['Season'])['Sport'].value_counts()\n",
    "df = pd.DataFrame(data={'Athlets': tmp.values}, index=tmp.index).reset_index()\n",
    "df.head(3)"
   ]
  },
  {
   "cell_type": "code",
   "execution_count": 32,
   "id": "30406621",
   "metadata": {
    "_uuid": "22986bdf9956d14494db77ed3f4cbd829ebabe69",
    "execution": {
     "iopub.execute_input": "2022-07-27T20:00:48.827094Z",
     "iopub.status.busy": "2022-07-27T20:00:48.826105Z",
     "iopub.status.idle": "2022-07-27T20:00:48.873088Z",
     "shell.execute_reply": "2022-07-27T20:00:48.871784Z"
    },
    "papermill": {
     "duration": 0.181059,
     "end_time": "2022-07-27T20:00:48.876391",
     "exception": false,
     "start_time": "2022-07-27T20:00:48.695332",
     "status": "completed"
    },
    "tags": []
   },
   "outputs": [
    {
     "data": {
      "application/vnd.plotly.v1+json": {
       "config": {
        "linkText": "Export to plot.ly",
        "plotlyServerURL": "https://plot.ly",
        "showLink": false
       },
       "data": [
        {
         "hoverinfo": "label+value+percent",
         "labels": [
          "Athletics",
          "Gymnastics",
          "Swimming",
          "Shooting",
          "Cycling",
          "Fencing",
          "Rowing",
          "Wrestling",
          "Football",
          "Sailing",
          "Equestrianism",
          "Canoeing",
          "Boxing",
          "Hockey",
          "Basketball",
          "Weightlifting",
          "Water Polo",
          "Judo",
          "Handball",
          "Art Competitions",
          "Volleyball",
          "Tennis",
          "Diving",
          "Archery",
          "Table Tennis",
          "Modern Pentathlon",
          "Badminton",
          "Synchronized Swimming",
          "Baseball",
          "Rhythmic Gymnastics",
          "Taekwondo",
          "Beach Volleyball",
          "Triathlon",
          "Softball",
          "Rugby Sevens",
          "Golf",
          "Tug-Of-War",
          "Rugby",
          "Trampolining",
          "Polo",
          "Ice Hockey",
          "Lacrosse",
          "Figure Skating",
          "Cricket",
          "Croquet",
          "Motorboating",
          "Racquets",
          "Jeu De Paume",
          "Alpinism",
          "Roque",
          "Basque Pelota",
          "Aeronautics"
         ],
         "marker": {
          "colors": [
           "gold",
           "brown",
           "lightblue"
          ],
          "line": {
           "color": "#000000",
           "width": 1
          }
         },
         "rotation": 180,
         "textfont": {
          "size": 8
         },
         "textinfo": "value+percent",
         "type": "pie",
         "values": [
          38624,
          26707,
          23195,
          11448,
          10859,
          10735,
          10595,
          7154,
          6745,
          6586,
          6344,
          6171,
          6047,
          5417,
          4536,
          3937,
          3846,
          3801,
          3665,
          3578,
          3404,
          2862,
          2842,
          2334,
          1955,
          1677,
          1457,
          909,
          894,
          658,
          606,
          564,
          529,
          478,
          299,
          247,
          170,
          162,
          152,
          95,
          60,
          60,
          54,
          24,
          19,
          17,
          12,
          11,
          4,
          4,
          2,
          1
         ]
        }
       ],
       "layout": {
        "height": 1200,
        "legend": {
         "orientation": "h"
        },
        "template": {
         "data": {
          "bar": [
           {
            "error_x": {
             "color": "#2a3f5f"
            },
            "error_y": {
             "color": "#2a3f5f"
            },
            "marker": {
             "line": {
              "color": "#E5ECF6",
              "width": 0.5
             },
             "pattern": {
              "fillmode": "overlay",
              "size": 10,
              "solidity": 0.2
             }
            },
            "type": "bar"
           }
          ],
          "barpolar": [
           {
            "marker": {
             "line": {
              "color": "#E5ECF6",
              "width": 0.5
             },
             "pattern": {
              "fillmode": "overlay",
              "size": 10,
              "solidity": 0.2
             }
            },
            "type": "barpolar"
           }
          ],
          "carpet": [
           {
            "aaxis": {
             "endlinecolor": "#2a3f5f",
             "gridcolor": "white",
             "linecolor": "white",
             "minorgridcolor": "white",
             "startlinecolor": "#2a3f5f"
            },
            "baxis": {
             "endlinecolor": "#2a3f5f",
             "gridcolor": "white",
             "linecolor": "white",
             "minorgridcolor": "white",
             "startlinecolor": "#2a3f5f"
            },
            "type": "carpet"
           }
          ],
          "choropleth": [
           {
            "colorbar": {
             "outlinewidth": 0,
             "ticks": ""
            },
            "type": "choropleth"
           }
          ],
          "contour": [
           {
            "colorbar": {
             "outlinewidth": 0,
             "ticks": ""
            },
            "colorscale": [
             [
              0.0,
              "#0d0887"
             ],
             [
              0.1111111111111111,
              "#46039f"
             ],
             [
              0.2222222222222222,
              "#7201a8"
             ],
             [
              0.3333333333333333,
              "#9c179e"
             ],
             [
              0.4444444444444444,
              "#bd3786"
             ],
             [
              0.5555555555555556,
              "#d8576b"
             ],
             [
              0.6666666666666666,
              "#ed7953"
             ],
             [
              0.7777777777777778,
              "#fb9f3a"
             ],
             [
              0.8888888888888888,
              "#fdca26"
             ],
             [
              1.0,
              "#f0f921"
             ]
            ],
            "type": "contour"
           }
          ],
          "contourcarpet": [
           {
            "colorbar": {
             "outlinewidth": 0,
             "ticks": ""
            },
            "type": "contourcarpet"
           }
          ],
          "heatmap": [
           {
            "colorbar": {
             "outlinewidth": 0,
             "ticks": ""
            },
            "colorscale": [
             [
              0.0,
              "#0d0887"
             ],
             [
              0.1111111111111111,
              "#46039f"
             ],
             [
              0.2222222222222222,
              "#7201a8"
             ],
             [
              0.3333333333333333,
              "#9c179e"
             ],
             [
              0.4444444444444444,
              "#bd3786"
             ],
             [
              0.5555555555555556,
              "#d8576b"
             ],
             [
              0.6666666666666666,
              "#ed7953"
             ],
             [
              0.7777777777777778,
              "#fb9f3a"
             ],
             [
              0.8888888888888888,
              "#fdca26"
             ],
             [
              1.0,
              "#f0f921"
             ]
            ],
            "type": "heatmap"
           }
          ],
          "heatmapgl": [
           {
            "colorbar": {
             "outlinewidth": 0,
             "ticks": ""
            },
            "colorscale": [
             [
              0.0,
              "#0d0887"
             ],
             [
              0.1111111111111111,
              "#46039f"
             ],
             [
              0.2222222222222222,
              "#7201a8"
             ],
             [
              0.3333333333333333,
              "#9c179e"
             ],
             [
              0.4444444444444444,
              "#bd3786"
             ],
             [
              0.5555555555555556,
              "#d8576b"
             ],
             [
              0.6666666666666666,
              "#ed7953"
             ],
             [
              0.7777777777777778,
              "#fb9f3a"
             ],
             [
              0.8888888888888888,
              "#fdca26"
             ],
             [
              1.0,
              "#f0f921"
             ]
            ],
            "type": "heatmapgl"
           }
          ],
          "histogram": [
           {
            "marker": {
             "pattern": {
              "fillmode": "overlay",
              "size": 10,
              "solidity": 0.2
             }
            },
            "type": "histogram"
           }
          ],
          "histogram2d": [
           {
            "colorbar": {
             "outlinewidth": 0,
             "ticks": ""
            },
            "colorscale": [
             [
              0.0,
              "#0d0887"
             ],
             [
              0.1111111111111111,
              "#46039f"
             ],
             [
              0.2222222222222222,
              "#7201a8"
             ],
             [
              0.3333333333333333,
              "#9c179e"
             ],
             [
              0.4444444444444444,
              "#bd3786"
             ],
             [
              0.5555555555555556,
              "#d8576b"
             ],
             [
              0.6666666666666666,
              "#ed7953"
             ],
             [
              0.7777777777777778,
              "#fb9f3a"
             ],
             [
              0.8888888888888888,
              "#fdca26"
             ],
             [
              1.0,
              "#f0f921"
             ]
            ],
            "type": "histogram2d"
           }
          ],
          "histogram2dcontour": [
           {
            "colorbar": {
             "outlinewidth": 0,
             "ticks": ""
            },
            "colorscale": [
             [
              0.0,
              "#0d0887"
             ],
             [
              0.1111111111111111,
              "#46039f"
             ],
             [
              0.2222222222222222,
              "#7201a8"
             ],
             [
              0.3333333333333333,
              "#9c179e"
             ],
             [
              0.4444444444444444,
              "#bd3786"
             ],
             [
              0.5555555555555556,
              "#d8576b"
             ],
             [
              0.6666666666666666,
              "#ed7953"
             ],
             [
              0.7777777777777778,
              "#fb9f3a"
             ],
             [
              0.8888888888888888,
              "#fdca26"
             ],
             [
              1.0,
              "#f0f921"
             ]
            ],
            "type": "histogram2dcontour"
           }
          ],
          "mesh3d": [
           {
            "colorbar": {
             "outlinewidth": 0,
             "ticks": ""
            },
            "type": "mesh3d"
           }
          ],
          "parcoords": [
           {
            "line": {
             "colorbar": {
              "outlinewidth": 0,
              "ticks": ""
             }
            },
            "type": "parcoords"
           }
          ],
          "pie": [
           {
            "automargin": true,
            "type": "pie"
           }
          ],
          "scatter": [
           {
            "fillpattern": {
             "fillmode": "overlay",
             "size": 10,
             "solidity": 0.2
            },
            "type": "scatter"
           }
          ],
          "scatter3d": [
           {
            "line": {
             "colorbar": {
              "outlinewidth": 0,
              "ticks": ""
             }
            },
            "marker": {
             "colorbar": {
              "outlinewidth": 0,
              "ticks": ""
             }
            },
            "type": "scatter3d"
           }
          ],
          "scattercarpet": [
           {
            "marker": {
             "colorbar": {
              "outlinewidth": 0,
              "ticks": ""
             }
            },
            "type": "scattercarpet"
           }
          ],
          "scattergeo": [
           {
            "marker": {
             "colorbar": {
              "outlinewidth": 0,
              "ticks": ""
             }
            },
            "type": "scattergeo"
           }
          ],
          "scattergl": [
           {
            "marker": {
             "colorbar": {
              "outlinewidth": 0,
              "ticks": ""
             }
            },
            "type": "scattergl"
           }
          ],
          "scattermapbox": [
           {
            "marker": {
             "colorbar": {
              "outlinewidth": 0,
              "ticks": ""
             }
            },
            "type": "scattermapbox"
           }
          ],
          "scatterpolar": [
           {
            "marker": {
             "colorbar": {
              "outlinewidth": 0,
              "ticks": ""
             }
            },
            "type": "scatterpolar"
           }
          ],
          "scatterpolargl": [
           {
            "marker": {
             "colorbar": {
              "outlinewidth": 0,
              "ticks": ""
             }
            },
            "type": "scatterpolargl"
           }
          ],
          "scatterternary": [
           {
            "marker": {
             "colorbar": {
              "outlinewidth": 0,
              "ticks": ""
             }
            },
            "type": "scatterternary"
           }
          ],
          "surface": [
           {
            "colorbar": {
             "outlinewidth": 0,
             "ticks": ""
            },
            "colorscale": [
             [
              0.0,
              "#0d0887"
             ],
             [
              0.1111111111111111,
              "#46039f"
             ],
             [
              0.2222222222222222,
              "#7201a8"
             ],
             [
              0.3333333333333333,
              "#9c179e"
             ],
             [
              0.4444444444444444,
              "#bd3786"
             ],
             [
              0.5555555555555556,
              "#d8576b"
             ],
             [
              0.6666666666666666,
              "#ed7953"
             ],
             [
              0.7777777777777778,
              "#fb9f3a"
             ],
             [
              0.8888888888888888,
              "#fdca26"
             ],
             [
              1.0,
              "#f0f921"
             ]
            ],
            "type": "surface"
           }
          ],
          "table": [
           {
            "cells": {
             "fill": {
              "color": "#EBF0F8"
             },
             "line": {
              "color": "white"
             }
            },
            "header": {
             "fill": {
              "color": "#C8D4E3"
             },
             "line": {
              "color": "white"
             }
            },
            "type": "table"
           }
          ]
         },
         "layout": {
          "annotationdefaults": {
           "arrowcolor": "#2a3f5f",
           "arrowhead": 0,
           "arrowwidth": 1
          },
          "autotypenumbers": "strict",
          "coloraxis": {
           "colorbar": {
            "outlinewidth": 0,
            "ticks": ""
           }
          },
          "colorscale": {
           "diverging": [
            [
             0,
             "#8e0152"
            ],
            [
             0.1,
             "#c51b7d"
            ],
            [
             0.2,
             "#de77ae"
            ],
            [
             0.3,
             "#f1b6da"
            ],
            [
             0.4,
             "#fde0ef"
            ],
            [
             0.5,
             "#f7f7f7"
            ],
            [
             0.6,
             "#e6f5d0"
            ],
            [
             0.7,
             "#b8e186"
            ],
            [
             0.8,
             "#7fbc41"
            ],
            [
             0.9,
             "#4d9221"
            ],
            [
             1,
             "#276419"
            ]
           ],
           "sequential": [
            [
             0.0,
             "#0d0887"
            ],
            [
             0.1111111111111111,
             "#46039f"
            ],
            [
             0.2222222222222222,
             "#7201a8"
            ],
            [
             0.3333333333333333,
             "#9c179e"
            ],
            [
             0.4444444444444444,
             "#bd3786"
            ],
            [
             0.5555555555555556,
             "#d8576b"
            ],
            [
             0.6666666666666666,
             "#ed7953"
            ],
            [
             0.7777777777777778,
             "#fb9f3a"
            ],
            [
             0.8888888888888888,
             "#fdca26"
            ],
            [
             1.0,
             "#f0f921"
            ]
           ],
           "sequentialminus": [
            [
             0.0,
             "#0d0887"
            ],
            [
             0.1111111111111111,
             "#46039f"
            ],
            [
             0.2222222222222222,
             "#7201a8"
            ],
            [
             0.3333333333333333,
             "#9c179e"
            ],
            [
             0.4444444444444444,
             "#bd3786"
            ],
            [
             0.5555555555555556,
             "#d8576b"
            ],
            [
             0.6666666666666666,
             "#ed7953"
            ],
            [
             0.7777777777777778,
             "#fb9f3a"
            ],
            [
             0.8888888888888888,
             "#fdca26"
            ],
            [
             1.0,
             "#f0f921"
            ]
           ]
          },
          "colorway": [
           "#636efa",
           "#EF553B",
           "#00cc96",
           "#ab63fa",
           "#FFA15A",
           "#19d3f3",
           "#FF6692",
           "#B6E880",
           "#FF97FF",
           "#FECB52"
          ],
          "font": {
           "color": "#2a3f5f"
          },
          "geo": {
           "bgcolor": "white",
           "lakecolor": "white",
           "landcolor": "#E5ECF6",
           "showlakes": true,
           "showland": true,
           "subunitcolor": "white"
          },
          "hoverlabel": {
           "align": "left"
          },
          "hovermode": "closest",
          "mapbox": {
           "style": "light"
          },
          "paper_bgcolor": "white",
          "plot_bgcolor": "#E5ECF6",
          "polar": {
           "angularaxis": {
            "gridcolor": "white",
            "linecolor": "white",
            "ticks": ""
           },
           "bgcolor": "#E5ECF6",
           "radialaxis": {
            "gridcolor": "white",
            "linecolor": "white",
            "ticks": ""
           }
          },
          "scene": {
           "xaxis": {
            "backgroundcolor": "#E5ECF6",
            "gridcolor": "white",
            "gridwidth": 2,
            "linecolor": "white",
            "showbackground": true,
            "ticks": "",
            "zerolinecolor": "white"
           },
           "yaxis": {
            "backgroundcolor": "#E5ECF6",
            "gridcolor": "white",
            "gridwidth": 2,
            "linecolor": "white",
            "showbackground": true,
            "ticks": "",
            "zerolinecolor": "white"
           },
           "zaxis": {
            "backgroundcolor": "#E5ECF6",
            "gridcolor": "white",
            "gridwidth": 2,
            "linecolor": "white",
            "showbackground": true,
            "ticks": "",
            "zerolinecolor": "white"
           }
          },
          "shapedefaults": {
           "line": {
            "color": "#2a3f5f"
           }
          },
          "ternary": {
           "aaxis": {
            "gridcolor": "white",
            "linecolor": "white",
            "ticks": ""
           },
           "baxis": {
            "gridcolor": "white",
            "linecolor": "white",
            "ticks": ""
           },
           "bgcolor": "#E5ECF6",
           "caxis": {
            "gridcolor": "white",
            "linecolor": "white",
            "ticks": ""
           }
          },
          "title": {
           "x": 0.05
          },
          "xaxis": {
           "automargin": true,
           "gridcolor": "white",
           "linecolor": "white",
           "ticks": "",
           "title": {
            "standoff": 15
           },
           "zerolinecolor": "white",
           "zerolinewidth": 2
          },
          "yaxis": {
           "automargin": true,
           "gridcolor": "white",
           "linecolor": "white",
           "ticks": "",
           "title": {
            "standoff": 15
           },
           "zerolinecolor": "white",
           "zerolinewidth": 2
          }
         }
        },
        "title": {
         "text": "Number of athlets per sport (Summer Olympics)"
        },
        "width": 800
       }
      },
      "text/html": [
       "<div>                            <div id=\"be16631f-1c04-48ca-8c65-d9933255305b\" class=\"plotly-graph-div\" style=\"height:1200px; width:800px;\"></div>            <script type=\"text/javascript\">                require([\"plotly\"], function(Plotly) {                    window.PLOTLYENV=window.PLOTLYENV || {};                                    if (document.getElementById(\"be16631f-1c04-48ca-8c65-d9933255305b\")) {                    Plotly.newPlot(                        \"be16631f-1c04-48ca-8c65-d9933255305b\",                        [{\"hoverinfo\":\"label+value+percent\",\"labels\":[\"Athletics\",\"Gymnastics\",\"Swimming\",\"Shooting\",\"Cycling\",\"Fencing\",\"Rowing\",\"Wrestling\",\"Football\",\"Sailing\",\"Equestrianism\",\"Canoeing\",\"Boxing\",\"Hockey\",\"Basketball\",\"Weightlifting\",\"Water Polo\",\"Judo\",\"Handball\",\"Art Competitions\",\"Volleyball\",\"Tennis\",\"Diving\",\"Archery\",\"Table Tennis\",\"Modern Pentathlon\",\"Badminton\",\"Synchronized Swimming\",\"Baseball\",\"Rhythmic Gymnastics\",\"Taekwondo\",\"Beach Volleyball\",\"Triathlon\",\"Softball\",\"Rugby Sevens\",\"Golf\",\"Tug-Of-War\",\"Rugby\",\"Trampolining\",\"Polo\",\"Ice Hockey\",\"Lacrosse\",\"Figure Skating\",\"Cricket\",\"Croquet\",\"Motorboating\",\"Racquets\",\"Jeu De Paume\",\"Alpinism\",\"Roque\",\"Basque Pelota\",\"Aeronautics\"],\"marker\":{\"colors\":[\"gold\",\"brown\",\"lightblue\"],\"line\":{\"color\":\"#000000\",\"width\":1}},\"rotation\":180,\"textfont\":{\"size\":8},\"textinfo\":\"value+percent\",\"values\":[38624,26707,23195,11448,10859,10735,10595,7154,6745,6586,6344,6171,6047,5417,4536,3937,3846,3801,3665,3578,3404,2862,2842,2334,1955,1677,1457,909,894,658,606,564,529,478,299,247,170,162,152,95,60,60,54,24,19,17,12,11,4,4,2,1],\"type\":\"pie\"}],                        {\"height\":1200,\"legend\":{\"orientation\":\"h\"},\"template\":{\"data\":{\"barpolar\":[{\"marker\":{\"line\":{\"color\":\"#E5ECF6\",\"width\":0.5},\"pattern\":{\"fillmode\":\"overlay\",\"size\":10,\"solidity\":0.2}},\"type\":\"barpolar\"}],\"bar\":[{\"error_x\":{\"color\":\"#2a3f5f\"},\"error_y\":{\"color\":\"#2a3f5f\"},\"marker\":{\"line\":{\"color\":\"#E5ECF6\",\"width\":0.5},\"pattern\":{\"fillmode\":\"overlay\",\"size\":10,\"solidity\":0.2}},\"type\":\"bar\"}],\"carpet\":[{\"aaxis\":{\"endlinecolor\":\"#2a3f5f\",\"gridcolor\":\"white\",\"linecolor\":\"white\",\"minorgridcolor\":\"white\",\"startlinecolor\":\"#2a3f5f\"},\"baxis\":{\"endlinecolor\":\"#2a3f5f\",\"gridcolor\":\"white\",\"linecolor\":\"white\",\"minorgridcolor\":\"white\",\"startlinecolor\":\"#2a3f5f\"},\"type\":\"carpet\"}],\"choropleth\":[{\"colorbar\":{\"outlinewidth\":0,\"ticks\":\"\"},\"type\":\"choropleth\"}],\"contourcarpet\":[{\"colorbar\":{\"outlinewidth\":0,\"ticks\":\"\"},\"type\":\"contourcarpet\"}],\"contour\":[{\"colorbar\":{\"outlinewidth\":0,\"ticks\":\"\"},\"colorscale\":[[0.0,\"#0d0887\"],[0.1111111111111111,\"#46039f\"],[0.2222222222222222,\"#7201a8\"],[0.3333333333333333,\"#9c179e\"],[0.4444444444444444,\"#bd3786\"],[0.5555555555555556,\"#d8576b\"],[0.6666666666666666,\"#ed7953\"],[0.7777777777777778,\"#fb9f3a\"],[0.8888888888888888,\"#fdca26\"],[1.0,\"#f0f921\"]],\"type\":\"contour\"}],\"heatmapgl\":[{\"colorbar\":{\"outlinewidth\":0,\"ticks\":\"\"},\"colorscale\":[[0.0,\"#0d0887\"],[0.1111111111111111,\"#46039f\"],[0.2222222222222222,\"#7201a8\"],[0.3333333333333333,\"#9c179e\"],[0.4444444444444444,\"#bd3786\"],[0.5555555555555556,\"#d8576b\"],[0.6666666666666666,\"#ed7953\"],[0.7777777777777778,\"#fb9f3a\"],[0.8888888888888888,\"#fdca26\"],[1.0,\"#f0f921\"]],\"type\":\"heatmapgl\"}],\"heatmap\":[{\"colorbar\":{\"outlinewidth\":0,\"ticks\":\"\"},\"colorscale\":[[0.0,\"#0d0887\"],[0.1111111111111111,\"#46039f\"],[0.2222222222222222,\"#7201a8\"],[0.3333333333333333,\"#9c179e\"],[0.4444444444444444,\"#bd3786\"],[0.5555555555555556,\"#d8576b\"],[0.6666666666666666,\"#ed7953\"],[0.7777777777777778,\"#fb9f3a\"],[0.8888888888888888,\"#fdca26\"],[1.0,\"#f0f921\"]],\"type\":\"heatmap\"}],\"histogram2dcontour\":[{\"colorbar\":{\"outlinewidth\":0,\"ticks\":\"\"},\"colorscale\":[[0.0,\"#0d0887\"],[0.1111111111111111,\"#46039f\"],[0.2222222222222222,\"#7201a8\"],[0.3333333333333333,\"#9c179e\"],[0.4444444444444444,\"#bd3786\"],[0.5555555555555556,\"#d8576b\"],[0.6666666666666666,\"#ed7953\"],[0.7777777777777778,\"#fb9f3a\"],[0.8888888888888888,\"#fdca26\"],[1.0,\"#f0f921\"]],\"type\":\"histogram2dcontour\"}],\"histogram2d\":[{\"colorbar\":{\"outlinewidth\":0,\"ticks\":\"\"},\"colorscale\":[[0.0,\"#0d0887\"],[0.1111111111111111,\"#46039f\"],[0.2222222222222222,\"#7201a8\"],[0.3333333333333333,\"#9c179e\"],[0.4444444444444444,\"#bd3786\"],[0.5555555555555556,\"#d8576b\"],[0.6666666666666666,\"#ed7953\"],[0.7777777777777778,\"#fb9f3a\"],[0.8888888888888888,\"#fdca26\"],[1.0,\"#f0f921\"]],\"type\":\"histogram2d\"}],\"histogram\":[{\"marker\":{\"pattern\":{\"fillmode\":\"overlay\",\"size\":10,\"solidity\":0.2}},\"type\":\"histogram\"}],\"mesh3d\":[{\"colorbar\":{\"outlinewidth\":0,\"ticks\":\"\"},\"type\":\"mesh3d\"}],\"parcoords\":[{\"line\":{\"colorbar\":{\"outlinewidth\":0,\"ticks\":\"\"}},\"type\":\"parcoords\"}],\"pie\":[{\"automargin\":true,\"type\":\"pie\"}],\"scatter3d\":[{\"line\":{\"colorbar\":{\"outlinewidth\":0,\"ticks\":\"\"}},\"marker\":{\"colorbar\":{\"outlinewidth\":0,\"ticks\":\"\"}},\"type\":\"scatter3d\"}],\"scattercarpet\":[{\"marker\":{\"colorbar\":{\"outlinewidth\":0,\"ticks\":\"\"}},\"type\":\"scattercarpet\"}],\"scattergeo\":[{\"marker\":{\"colorbar\":{\"outlinewidth\":0,\"ticks\":\"\"}},\"type\":\"scattergeo\"}],\"scattergl\":[{\"marker\":{\"colorbar\":{\"outlinewidth\":0,\"ticks\":\"\"}},\"type\":\"scattergl\"}],\"scattermapbox\":[{\"marker\":{\"colorbar\":{\"outlinewidth\":0,\"ticks\":\"\"}},\"type\":\"scattermapbox\"}],\"scatterpolargl\":[{\"marker\":{\"colorbar\":{\"outlinewidth\":0,\"ticks\":\"\"}},\"type\":\"scatterpolargl\"}],\"scatterpolar\":[{\"marker\":{\"colorbar\":{\"outlinewidth\":0,\"ticks\":\"\"}},\"type\":\"scatterpolar\"}],\"scatter\":[{\"fillpattern\":{\"fillmode\":\"overlay\",\"size\":10,\"solidity\":0.2},\"type\":\"scatter\"}],\"scatterternary\":[{\"marker\":{\"colorbar\":{\"outlinewidth\":0,\"ticks\":\"\"}},\"type\":\"scatterternary\"}],\"surface\":[{\"colorbar\":{\"outlinewidth\":0,\"ticks\":\"\"},\"colorscale\":[[0.0,\"#0d0887\"],[0.1111111111111111,\"#46039f\"],[0.2222222222222222,\"#7201a8\"],[0.3333333333333333,\"#9c179e\"],[0.4444444444444444,\"#bd3786\"],[0.5555555555555556,\"#d8576b\"],[0.6666666666666666,\"#ed7953\"],[0.7777777777777778,\"#fb9f3a\"],[0.8888888888888888,\"#fdca26\"],[1.0,\"#f0f921\"]],\"type\":\"surface\"}],\"table\":[{\"cells\":{\"fill\":{\"color\":\"#EBF0F8\"},\"line\":{\"color\":\"white\"}},\"header\":{\"fill\":{\"color\":\"#C8D4E3\"},\"line\":{\"color\":\"white\"}},\"type\":\"table\"}]},\"layout\":{\"annotationdefaults\":{\"arrowcolor\":\"#2a3f5f\",\"arrowhead\":0,\"arrowwidth\":1},\"autotypenumbers\":\"strict\",\"coloraxis\":{\"colorbar\":{\"outlinewidth\":0,\"ticks\":\"\"}},\"colorscale\":{\"diverging\":[[0,\"#8e0152\"],[0.1,\"#c51b7d\"],[0.2,\"#de77ae\"],[0.3,\"#f1b6da\"],[0.4,\"#fde0ef\"],[0.5,\"#f7f7f7\"],[0.6,\"#e6f5d0\"],[0.7,\"#b8e186\"],[0.8,\"#7fbc41\"],[0.9,\"#4d9221\"],[1,\"#276419\"]],\"sequential\":[[0.0,\"#0d0887\"],[0.1111111111111111,\"#46039f\"],[0.2222222222222222,\"#7201a8\"],[0.3333333333333333,\"#9c179e\"],[0.4444444444444444,\"#bd3786\"],[0.5555555555555556,\"#d8576b\"],[0.6666666666666666,\"#ed7953\"],[0.7777777777777778,\"#fb9f3a\"],[0.8888888888888888,\"#fdca26\"],[1.0,\"#f0f921\"]],\"sequentialminus\":[[0.0,\"#0d0887\"],[0.1111111111111111,\"#46039f\"],[0.2222222222222222,\"#7201a8\"],[0.3333333333333333,\"#9c179e\"],[0.4444444444444444,\"#bd3786\"],[0.5555555555555556,\"#d8576b\"],[0.6666666666666666,\"#ed7953\"],[0.7777777777777778,\"#fb9f3a\"],[0.8888888888888888,\"#fdca26\"],[1.0,\"#f0f921\"]]},\"colorway\":[\"#636efa\",\"#EF553B\",\"#00cc96\",\"#ab63fa\",\"#FFA15A\",\"#19d3f3\",\"#FF6692\",\"#B6E880\",\"#FF97FF\",\"#FECB52\"],\"font\":{\"color\":\"#2a3f5f\"},\"geo\":{\"bgcolor\":\"white\",\"lakecolor\":\"white\",\"landcolor\":\"#E5ECF6\",\"showlakes\":true,\"showland\":true,\"subunitcolor\":\"white\"},\"hoverlabel\":{\"align\":\"left\"},\"hovermode\":\"closest\",\"mapbox\":{\"style\":\"light\"},\"paper_bgcolor\":\"white\",\"plot_bgcolor\":\"#E5ECF6\",\"polar\":{\"angularaxis\":{\"gridcolor\":\"white\",\"linecolor\":\"white\",\"ticks\":\"\"},\"bgcolor\":\"#E5ECF6\",\"radialaxis\":{\"gridcolor\":\"white\",\"linecolor\":\"white\",\"ticks\":\"\"}},\"scene\":{\"xaxis\":{\"backgroundcolor\":\"#E5ECF6\",\"gridcolor\":\"white\",\"gridwidth\":2,\"linecolor\":\"white\",\"showbackground\":true,\"ticks\":\"\",\"zerolinecolor\":\"white\"},\"yaxis\":{\"backgroundcolor\":\"#E5ECF6\",\"gridcolor\":\"white\",\"gridwidth\":2,\"linecolor\":\"white\",\"showbackground\":true,\"ticks\":\"\",\"zerolinecolor\":\"white\"},\"zaxis\":{\"backgroundcolor\":\"#E5ECF6\",\"gridcolor\":\"white\",\"gridwidth\":2,\"linecolor\":\"white\",\"showbackground\":true,\"ticks\":\"\",\"zerolinecolor\":\"white\"}},\"shapedefaults\":{\"line\":{\"color\":\"#2a3f5f\"}},\"ternary\":{\"aaxis\":{\"gridcolor\":\"white\",\"linecolor\":\"white\",\"ticks\":\"\"},\"baxis\":{\"gridcolor\":\"white\",\"linecolor\":\"white\",\"ticks\":\"\"},\"bgcolor\":\"#E5ECF6\",\"caxis\":{\"gridcolor\":\"white\",\"linecolor\":\"white\",\"ticks\":\"\"}},\"title\":{\"x\":0.05},\"xaxis\":{\"automargin\":true,\"gridcolor\":\"white\",\"linecolor\":\"white\",\"ticks\":\"\",\"title\":{\"standoff\":15},\"zerolinecolor\":\"white\",\"zerolinewidth\":2},\"yaxis\":{\"automargin\":true,\"gridcolor\":\"white\",\"linecolor\":\"white\",\"ticks\":\"\",\"title\":{\"standoff\":15},\"zerolinecolor\":\"white\",\"zerolinewidth\":2}}},\"title\":{\"text\":\"Number of athlets per sport (Summer Olympics)\"},\"width\":800},                        {\"responsive\": true}                    ).then(function(){\n",
       "                            \n",
       "var gd = document.getElementById('be16631f-1c04-48ca-8c65-d9933255305b');\n",
       "var x = new MutationObserver(function (mutations, observer) {{\n",
       "        var display = window.getComputedStyle(gd).display;\n",
       "        if (!display || display === 'none') {{\n",
       "            console.log([gd, 'removed!']);\n",
       "            Plotly.purge(gd);\n",
       "            observer.disconnect();\n",
       "        }}\n",
       "}});\n",
       "\n",
       "// Listen for the removal of the full notebook cells\n",
       "var notebookContainer = gd.closest('#notebook-container');\n",
       "if (notebookContainer) {{\n",
       "    x.observe(notebookContainer, {childList: true});\n",
       "}}\n",
       "\n",
       "// Listen for the clearing of the current output cell\n",
       "var outputEl = gd.closest('.output');\n",
       "if (outputEl) {{\n",
       "    x.observe(outputEl, {childList: true});\n",
       "}}\n",
       "\n",
       "                        })                };                });            </script>        </div>"
      ]
     },
     "metadata": {},
     "output_type": "display_data"
    }
   ],
   "source": [
    "df_S = df[df['Season']=='Summer']\n",
    "\n",
    "trace = go.Pie(labels=df_S['Sport'], \n",
    "               values=df_S['Athlets'],\n",
    "               hoverinfo='label+value+percent', \n",
    "               textinfo='value+percent', \n",
    "               textfont=dict(size=8),\n",
    "               rotation=180,\n",
    "               marker=dict(colors=colors, \n",
    "\n",
    "                           line=dict(color='#000000', width=1)\n",
    "                        )\n",
    "            )\n",
    "\n",
    "data = [trace]\n",
    "layout = dict(title = \"Number of athlets per sport (Summer Olympics)\",\n",
    "                  width=800,\n",
    "                  height=1200,\n",
    "              legend=dict(orientation=\"h\")\n",
    "             )\n",
    "fig = dict(data=data,layout=layout)\n",
    "iplot(fig, filename='styled_pie_chart')"
   ]
  },
  {
   "cell_type": "code",
   "execution_count": 33,
   "id": "9cfbb029",
   "metadata": {
    "_uuid": "114590f7740b1bfe339f4bac69903fdcd3ae0449",
    "execution": {
     "iopub.execute_input": "2022-07-27T20:00:49.149168Z",
     "iopub.status.busy": "2022-07-27T20:00:49.148127Z",
     "iopub.status.idle": "2022-07-27T20:00:49.190414Z",
     "shell.execute_reply": "2022-07-27T20:00:49.189125Z"
    },
    "papermill": {
     "duration": 0.182516,
     "end_time": "2022-07-27T20:00:49.193749",
     "exception": false,
     "start_time": "2022-07-27T20:00:49.011233",
     "status": "completed"
    },
    "tags": []
   },
   "outputs": [
    {
     "data": {
      "application/vnd.plotly.v1+json": {
       "config": {
        "linkText": "Export to plot.ly",
        "plotlyServerURL": "https://plot.ly",
        "showLink": false
       },
       "data": [
        {
         "hoverinfo": "label+value+percent",
         "labels": [
          "Cross Country Skiing",
          "Alpine Skiing",
          "Speed Skating",
          "Ice Hockey",
          "Biathlon",
          "Bobsleigh",
          "Ski Jumping",
          "Figure Skating",
          "Short Track Speed Skating",
          "Luge",
          "Nordic Combined",
          "Freestyle Skiing",
          "Snowboarding",
          "Curling",
          "Skeleton",
          "Military Ski Patrol",
          "Alpinism"
         ],
         "marker": {
          "colors": [
           "gold",
           "brown",
           "lightblue"
          ],
          "line": {
           "color": "#000000",
           "width": 1
          }
         },
         "rotation": 180,
         "textfont": {
          "size": 8
         },
         "textinfo": "value+percent",
         "type": "pie",
         "values": [
          9133,
          8829,
          5613,
          5456,
          4893,
          3058,
          2401,
          2244,
          1534,
          1479,
          1344,
          937,
          936,
          463,
          199,
          24,
          21
         ]
        }
       ],
       "layout": {
        "height": 800,
        "legend": {
         "orientation": "h"
        },
        "template": {
         "data": {
          "bar": [
           {
            "error_x": {
             "color": "#2a3f5f"
            },
            "error_y": {
             "color": "#2a3f5f"
            },
            "marker": {
             "line": {
              "color": "#E5ECF6",
              "width": 0.5
             },
             "pattern": {
              "fillmode": "overlay",
              "size": 10,
              "solidity": 0.2
             }
            },
            "type": "bar"
           }
          ],
          "barpolar": [
           {
            "marker": {
             "line": {
              "color": "#E5ECF6",
              "width": 0.5
             },
             "pattern": {
              "fillmode": "overlay",
              "size": 10,
              "solidity": 0.2
             }
            },
            "type": "barpolar"
           }
          ],
          "carpet": [
           {
            "aaxis": {
             "endlinecolor": "#2a3f5f",
             "gridcolor": "white",
             "linecolor": "white",
             "minorgridcolor": "white",
             "startlinecolor": "#2a3f5f"
            },
            "baxis": {
             "endlinecolor": "#2a3f5f",
             "gridcolor": "white",
             "linecolor": "white",
             "minorgridcolor": "white",
             "startlinecolor": "#2a3f5f"
            },
            "type": "carpet"
           }
          ],
          "choropleth": [
           {
            "colorbar": {
             "outlinewidth": 0,
             "ticks": ""
            },
            "type": "choropleth"
           }
          ],
          "contour": [
           {
            "colorbar": {
             "outlinewidth": 0,
             "ticks": ""
            },
            "colorscale": [
             [
              0.0,
              "#0d0887"
             ],
             [
              0.1111111111111111,
              "#46039f"
             ],
             [
              0.2222222222222222,
              "#7201a8"
             ],
             [
              0.3333333333333333,
              "#9c179e"
             ],
             [
              0.4444444444444444,
              "#bd3786"
             ],
             [
              0.5555555555555556,
              "#d8576b"
             ],
             [
              0.6666666666666666,
              "#ed7953"
             ],
             [
              0.7777777777777778,
              "#fb9f3a"
             ],
             [
              0.8888888888888888,
              "#fdca26"
             ],
             [
              1.0,
              "#f0f921"
             ]
            ],
            "type": "contour"
           }
          ],
          "contourcarpet": [
           {
            "colorbar": {
             "outlinewidth": 0,
             "ticks": ""
            },
            "type": "contourcarpet"
           }
          ],
          "heatmap": [
           {
            "colorbar": {
             "outlinewidth": 0,
             "ticks": ""
            },
            "colorscale": [
             [
              0.0,
              "#0d0887"
             ],
             [
              0.1111111111111111,
              "#46039f"
             ],
             [
              0.2222222222222222,
              "#7201a8"
             ],
             [
              0.3333333333333333,
              "#9c179e"
             ],
             [
              0.4444444444444444,
              "#bd3786"
             ],
             [
              0.5555555555555556,
              "#d8576b"
             ],
             [
              0.6666666666666666,
              "#ed7953"
             ],
             [
              0.7777777777777778,
              "#fb9f3a"
             ],
             [
              0.8888888888888888,
              "#fdca26"
             ],
             [
              1.0,
              "#f0f921"
             ]
            ],
            "type": "heatmap"
           }
          ],
          "heatmapgl": [
           {
            "colorbar": {
             "outlinewidth": 0,
             "ticks": ""
            },
            "colorscale": [
             [
              0.0,
              "#0d0887"
             ],
             [
              0.1111111111111111,
              "#46039f"
             ],
             [
              0.2222222222222222,
              "#7201a8"
             ],
             [
              0.3333333333333333,
              "#9c179e"
             ],
             [
              0.4444444444444444,
              "#bd3786"
             ],
             [
              0.5555555555555556,
              "#d8576b"
             ],
             [
              0.6666666666666666,
              "#ed7953"
             ],
             [
              0.7777777777777778,
              "#fb9f3a"
             ],
             [
              0.8888888888888888,
              "#fdca26"
             ],
             [
              1.0,
              "#f0f921"
             ]
            ],
            "type": "heatmapgl"
           }
          ],
          "histogram": [
           {
            "marker": {
             "pattern": {
              "fillmode": "overlay",
              "size": 10,
              "solidity": 0.2
             }
            },
            "type": "histogram"
           }
          ],
          "histogram2d": [
           {
            "colorbar": {
             "outlinewidth": 0,
             "ticks": ""
            },
            "colorscale": [
             [
              0.0,
              "#0d0887"
             ],
             [
              0.1111111111111111,
              "#46039f"
             ],
             [
              0.2222222222222222,
              "#7201a8"
             ],
             [
              0.3333333333333333,
              "#9c179e"
             ],
             [
              0.4444444444444444,
              "#bd3786"
             ],
             [
              0.5555555555555556,
              "#d8576b"
             ],
             [
              0.6666666666666666,
              "#ed7953"
             ],
             [
              0.7777777777777778,
              "#fb9f3a"
             ],
             [
              0.8888888888888888,
              "#fdca26"
             ],
             [
              1.0,
              "#f0f921"
             ]
            ],
            "type": "histogram2d"
           }
          ],
          "histogram2dcontour": [
           {
            "colorbar": {
             "outlinewidth": 0,
             "ticks": ""
            },
            "colorscale": [
             [
              0.0,
              "#0d0887"
             ],
             [
              0.1111111111111111,
              "#46039f"
             ],
             [
              0.2222222222222222,
              "#7201a8"
             ],
             [
              0.3333333333333333,
              "#9c179e"
             ],
             [
              0.4444444444444444,
              "#bd3786"
             ],
             [
              0.5555555555555556,
              "#d8576b"
             ],
             [
              0.6666666666666666,
              "#ed7953"
             ],
             [
              0.7777777777777778,
              "#fb9f3a"
             ],
             [
              0.8888888888888888,
              "#fdca26"
             ],
             [
              1.0,
              "#f0f921"
             ]
            ],
            "type": "histogram2dcontour"
           }
          ],
          "mesh3d": [
           {
            "colorbar": {
             "outlinewidth": 0,
             "ticks": ""
            },
            "type": "mesh3d"
           }
          ],
          "parcoords": [
           {
            "line": {
             "colorbar": {
              "outlinewidth": 0,
              "ticks": ""
             }
            },
            "type": "parcoords"
           }
          ],
          "pie": [
           {
            "automargin": true,
            "type": "pie"
           }
          ],
          "scatter": [
           {
            "fillpattern": {
             "fillmode": "overlay",
             "size": 10,
             "solidity": 0.2
            },
            "type": "scatter"
           }
          ],
          "scatter3d": [
           {
            "line": {
             "colorbar": {
              "outlinewidth": 0,
              "ticks": ""
             }
            },
            "marker": {
             "colorbar": {
              "outlinewidth": 0,
              "ticks": ""
             }
            },
            "type": "scatter3d"
           }
          ],
          "scattercarpet": [
           {
            "marker": {
             "colorbar": {
              "outlinewidth": 0,
              "ticks": ""
             }
            },
            "type": "scattercarpet"
           }
          ],
          "scattergeo": [
           {
            "marker": {
             "colorbar": {
              "outlinewidth": 0,
              "ticks": ""
             }
            },
            "type": "scattergeo"
           }
          ],
          "scattergl": [
           {
            "marker": {
             "colorbar": {
              "outlinewidth": 0,
              "ticks": ""
             }
            },
            "type": "scattergl"
           }
          ],
          "scattermapbox": [
           {
            "marker": {
             "colorbar": {
              "outlinewidth": 0,
              "ticks": ""
             }
            },
            "type": "scattermapbox"
           }
          ],
          "scatterpolar": [
           {
            "marker": {
             "colorbar": {
              "outlinewidth": 0,
              "ticks": ""
             }
            },
            "type": "scatterpolar"
           }
          ],
          "scatterpolargl": [
           {
            "marker": {
             "colorbar": {
              "outlinewidth": 0,
              "ticks": ""
             }
            },
            "type": "scatterpolargl"
           }
          ],
          "scatterternary": [
           {
            "marker": {
             "colorbar": {
              "outlinewidth": 0,
              "ticks": ""
             }
            },
            "type": "scatterternary"
           }
          ],
          "surface": [
           {
            "colorbar": {
             "outlinewidth": 0,
             "ticks": ""
            },
            "colorscale": [
             [
              0.0,
              "#0d0887"
             ],
             [
              0.1111111111111111,
              "#46039f"
             ],
             [
              0.2222222222222222,
              "#7201a8"
             ],
             [
              0.3333333333333333,
              "#9c179e"
             ],
             [
              0.4444444444444444,
              "#bd3786"
             ],
             [
              0.5555555555555556,
              "#d8576b"
             ],
             [
              0.6666666666666666,
              "#ed7953"
             ],
             [
              0.7777777777777778,
              "#fb9f3a"
             ],
             [
              0.8888888888888888,
              "#fdca26"
             ],
             [
              1.0,
              "#f0f921"
             ]
            ],
            "type": "surface"
           }
          ],
          "table": [
           {
            "cells": {
             "fill": {
              "color": "#EBF0F8"
             },
             "line": {
              "color": "white"
             }
            },
            "header": {
             "fill": {
              "color": "#C8D4E3"
             },
             "line": {
              "color": "white"
             }
            },
            "type": "table"
           }
          ]
         },
         "layout": {
          "annotationdefaults": {
           "arrowcolor": "#2a3f5f",
           "arrowhead": 0,
           "arrowwidth": 1
          },
          "autotypenumbers": "strict",
          "coloraxis": {
           "colorbar": {
            "outlinewidth": 0,
            "ticks": ""
           }
          },
          "colorscale": {
           "diverging": [
            [
             0,
             "#8e0152"
            ],
            [
             0.1,
             "#c51b7d"
            ],
            [
             0.2,
             "#de77ae"
            ],
            [
             0.3,
             "#f1b6da"
            ],
            [
             0.4,
             "#fde0ef"
            ],
            [
             0.5,
             "#f7f7f7"
            ],
            [
             0.6,
             "#e6f5d0"
            ],
            [
             0.7,
             "#b8e186"
            ],
            [
             0.8,
             "#7fbc41"
            ],
            [
             0.9,
             "#4d9221"
            ],
            [
             1,
             "#276419"
            ]
           ],
           "sequential": [
            [
             0.0,
             "#0d0887"
            ],
            [
             0.1111111111111111,
             "#46039f"
            ],
            [
             0.2222222222222222,
             "#7201a8"
            ],
            [
             0.3333333333333333,
             "#9c179e"
            ],
            [
             0.4444444444444444,
             "#bd3786"
            ],
            [
             0.5555555555555556,
             "#d8576b"
            ],
            [
             0.6666666666666666,
             "#ed7953"
            ],
            [
             0.7777777777777778,
             "#fb9f3a"
            ],
            [
             0.8888888888888888,
             "#fdca26"
            ],
            [
             1.0,
             "#f0f921"
            ]
           ],
           "sequentialminus": [
            [
             0.0,
             "#0d0887"
            ],
            [
             0.1111111111111111,
             "#46039f"
            ],
            [
             0.2222222222222222,
             "#7201a8"
            ],
            [
             0.3333333333333333,
             "#9c179e"
            ],
            [
             0.4444444444444444,
             "#bd3786"
            ],
            [
             0.5555555555555556,
             "#d8576b"
            ],
            [
             0.6666666666666666,
             "#ed7953"
            ],
            [
             0.7777777777777778,
             "#fb9f3a"
            ],
            [
             0.8888888888888888,
             "#fdca26"
            ],
            [
             1.0,
             "#f0f921"
            ]
           ]
          },
          "colorway": [
           "#636efa",
           "#EF553B",
           "#00cc96",
           "#ab63fa",
           "#FFA15A",
           "#19d3f3",
           "#FF6692",
           "#B6E880",
           "#FF97FF",
           "#FECB52"
          ],
          "font": {
           "color": "#2a3f5f"
          },
          "geo": {
           "bgcolor": "white",
           "lakecolor": "white",
           "landcolor": "#E5ECF6",
           "showlakes": true,
           "showland": true,
           "subunitcolor": "white"
          },
          "hoverlabel": {
           "align": "left"
          },
          "hovermode": "closest",
          "mapbox": {
           "style": "light"
          },
          "paper_bgcolor": "white",
          "plot_bgcolor": "#E5ECF6",
          "polar": {
           "angularaxis": {
            "gridcolor": "white",
            "linecolor": "white",
            "ticks": ""
           },
           "bgcolor": "#E5ECF6",
           "radialaxis": {
            "gridcolor": "white",
            "linecolor": "white",
            "ticks": ""
           }
          },
          "scene": {
           "xaxis": {
            "backgroundcolor": "#E5ECF6",
            "gridcolor": "white",
            "gridwidth": 2,
            "linecolor": "white",
            "showbackground": true,
            "ticks": "",
            "zerolinecolor": "white"
           },
           "yaxis": {
            "backgroundcolor": "#E5ECF6",
            "gridcolor": "white",
            "gridwidth": 2,
            "linecolor": "white",
            "showbackground": true,
            "ticks": "",
            "zerolinecolor": "white"
           },
           "zaxis": {
            "backgroundcolor": "#E5ECF6",
            "gridcolor": "white",
            "gridwidth": 2,
            "linecolor": "white",
            "showbackground": true,
            "ticks": "",
            "zerolinecolor": "white"
           }
          },
          "shapedefaults": {
           "line": {
            "color": "#2a3f5f"
           }
          },
          "ternary": {
           "aaxis": {
            "gridcolor": "white",
            "linecolor": "white",
            "ticks": ""
           },
           "baxis": {
            "gridcolor": "white",
            "linecolor": "white",
            "ticks": ""
           },
           "bgcolor": "#E5ECF6",
           "caxis": {
            "gridcolor": "white",
            "linecolor": "white",
            "ticks": ""
           }
          },
          "title": {
           "x": 0.05
          },
          "xaxis": {
           "automargin": true,
           "gridcolor": "white",
           "linecolor": "white",
           "ticks": "",
           "title": {
            "standoff": 15
           },
           "zerolinecolor": "white",
           "zerolinewidth": 2
          },
          "yaxis": {
           "automargin": true,
           "gridcolor": "white",
           "linecolor": "white",
           "ticks": "",
           "title": {
            "standoff": 15
           },
           "zerolinecolor": "white",
           "zerolinewidth": 2
          }
         }
        },
        "title": {
         "text": "Number of athlets per sport (Winter Olympics)"
        },
        "width": 800
       }
      },
      "text/html": [
       "<div>                            <div id=\"41875bf0-a102-454a-85c4-807817432726\" class=\"plotly-graph-div\" style=\"height:800px; width:800px;\"></div>            <script type=\"text/javascript\">                require([\"plotly\"], function(Plotly) {                    window.PLOTLYENV=window.PLOTLYENV || {};                                    if (document.getElementById(\"41875bf0-a102-454a-85c4-807817432726\")) {                    Plotly.newPlot(                        \"41875bf0-a102-454a-85c4-807817432726\",                        [{\"hoverinfo\":\"label+value+percent\",\"labels\":[\"Cross Country Skiing\",\"Alpine Skiing\",\"Speed Skating\",\"Ice Hockey\",\"Biathlon\",\"Bobsleigh\",\"Ski Jumping\",\"Figure Skating\",\"Short Track Speed Skating\",\"Luge\",\"Nordic Combined\",\"Freestyle Skiing\",\"Snowboarding\",\"Curling\",\"Skeleton\",\"Military Ski Patrol\",\"Alpinism\"],\"marker\":{\"colors\":[\"gold\",\"brown\",\"lightblue\"],\"line\":{\"color\":\"#000000\",\"width\":1}},\"rotation\":180,\"textfont\":{\"size\":8},\"textinfo\":\"value+percent\",\"values\":[9133,8829,5613,5456,4893,3058,2401,2244,1534,1479,1344,937,936,463,199,24,21],\"type\":\"pie\"}],                        {\"height\":800,\"legend\":{\"orientation\":\"h\"},\"template\":{\"data\":{\"barpolar\":[{\"marker\":{\"line\":{\"color\":\"#E5ECF6\",\"width\":0.5},\"pattern\":{\"fillmode\":\"overlay\",\"size\":10,\"solidity\":0.2}},\"type\":\"barpolar\"}],\"bar\":[{\"error_x\":{\"color\":\"#2a3f5f\"},\"error_y\":{\"color\":\"#2a3f5f\"},\"marker\":{\"line\":{\"color\":\"#E5ECF6\",\"width\":0.5},\"pattern\":{\"fillmode\":\"overlay\",\"size\":10,\"solidity\":0.2}},\"type\":\"bar\"}],\"carpet\":[{\"aaxis\":{\"endlinecolor\":\"#2a3f5f\",\"gridcolor\":\"white\",\"linecolor\":\"white\",\"minorgridcolor\":\"white\",\"startlinecolor\":\"#2a3f5f\"},\"baxis\":{\"endlinecolor\":\"#2a3f5f\",\"gridcolor\":\"white\",\"linecolor\":\"white\",\"minorgridcolor\":\"white\",\"startlinecolor\":\"#2a3f5f\"},\"type\":\"carpet\"}],\"choropleth\":[{\"colorbar\":{\"outlinewidth\":0,\"ticks\":\"\"},\"type\":\"choropleth\"}],\"contourcarpet\":[{\"colorbar\":{\"outlinewidth\":0,\"ticks\":\"\"},\"type\":\"contourcarpet\"}],\"contour\":[{\"colorbar\":{\"outlinewidth\":0,\"ticks\":\"\"},\"colorscale\":[[0.0,\"#0d0887\"],[0.1111111111111111,\"#46039f\"],[0.2222222222222222,\"#7201a8\"],[0.3333333333333333,\"#9c179e\"],[0.4444444444444444,\"#bd3786\"],[0.5555555555555556,\"#d8576b\"],[0.6666666666666666,\"#ed7953\"],[0.7777777777777778,\"#fb9f3a\"],[0.8888888888888888,\"#fdca26\"],[1.0,\"#f0f921\"]],\"type\":\"contour\"}],\"heatmapgl\":[{\"colorbar\":{\"outlinewidth\":0,\"ticks\":\"\"},\"colorscale\":[[0.0,\"#0d0887\"],[0.1111111111111111,\"#46039f\"],[0.2222222222222222,\"#7201a8\"],[0.3333333333333333,\"#9c179e\"],[0.4444444444444444,\"#bd3786\"],[0.5555555555555556,\"#d8576b\"],[0.6666666666666666,\"#ed7953\"],[0.7777777777777778,\"#fb9f3a\"],[0.8888888888888888,\"#fdca26\"],[1.0,\"#f0f921\"]],\"type\":\"heatmapgl\"}],\"heatmap\":[{\"colorbar\":{\"outlinewidth\":0,\"ticks\":\"\"},\"colorscale\":[[0.0,\"#0d0887\"],[0.1111111111111111,\"#46039f\"],[0.2222222222222222,\"#7201a8\"],[0.3333333333333333,\"#9c179e\"],[0.4444444444444444,\"#bd3786\"],[0.5555555555555556,\"#d8576b\"],[0.6666666666666666,\"#ed7953\"],[0.7777777777777778,\"#fb9f3a\"],[0.8888888888888888,\"#fdca26\"],[1.0,\"#f0f921\"]],\"type\":\"heatmap\"}],\"histogram2dcontour\":[{\"colorbar\":{\"outlinewidth\":0,\"ticks\":\"\"},\"colorscale\":[[0.0,\"#0d0887\"],[0.1111111111111111,\"#46039f\"],[0.2222222222222222,\"#7201a8\"],[0.3333333333333333,\"#9c179e\"],[0.4444444444444444,\"#bd3786\"],[0.5555555555555556,\"#d8576b\"],[0.6666666666666666,\"#ed7953\"],[0.7777777777777778,\"#fb9f3a\"],[0.8888888888888888,\"#fdca26\"],[1.0,\"#f0f921\"]],\"type\":\"histogram2dcontour\"}],\"histogram2d\":[{\"colorbar\":{\"outlinewidth\":0,\"ticks\":\"\"},\"colorscale\":[[0.0,\"#0d0887\"],[0.1111111111111111,\"#46039f\"],[0.2222222222222222,\"#7201a8\"],[0.3333333333333333,\"#9c179e\"],[0.4444444444444444,\"#bd3786\"],[0.5555555555555556,\"#d8576b\"],[0.6666666666666666,\"#ed7953\"],[0.7777777777777778,\"#fb9f3a\"],[0.8888888888888888,\"#fdca26\"],[1.0,\"#f0f921\"]],\"type\":\"histogram2d\"}],\"histogram\":[{\"marker\":{\"pattern\":{\"fillmode\":\"overlay\",\"size\":10,\"solidity\":0.2}},\"type\":\"histogram\"}],\"mesh3d\":[{\"colorbar\":{\"outlinewidth\":0,\"ticks\":\"\"},\"type\":\"mesh3d\"}],\"parcoords\":[{\"line\":{\"colorbar\":{\"outlinewidth\":0,\"ticks\":\"\"}},\"type\":\"parcoords\"}],\"pie\":[{\"automargin\":true,\"type\":\"pie\"}],\"scatter3d\":[{\"line\":{\"colorbar\":{\"outlinewidth\":0,\"ticks\":\"\"}},\"marker\":{\"colorbar\":{\"outlinewidth\":0,\"ticks\":\"\"}},\"type\":\"scatter3d\"}],\"scattercarpet\":[{\"marker\":{\"colorbar\":{\"outlinewidth\":0,\"ticks\":\"\"}},\"type\":\"scattercarpet\"}],\"scattergeo\":[{\"marker\":{\"colorbar\":{\"outlinewidth\":0,\"ticks\":\"\"}},\"type\":\"scattergeo\"}],\"scattergl\":[{\"marker\":{\"colorbar\":{\"outlinewidth\":0,\"ticks\":\"\"}},\"type\":\"scattergl\"}],\"scattermapbox\":[{\"marker\":{\"colorbar\":{\"outlinewidth\":0,\"ticks\":\"\"}},\"type\":\"scattermapbox\"}],\"scatterpolargl\":[{\"marker\":{\"colorbar\":{\"outlinewidth\":0,\"ticks\":\"\"}},\"type\":\"scatterpolargl\"}],\"scatterpolar\":[{\"marker\":{\"colorbar\":{\"outlinewidth\":0,\"ticks\":\"\"}},\"type\":\"scatterpolar\"}],\"scatter\":[{\"fillpattern\":{\"fillmode\":\"overlay\",\"size\":10,\"solidity\":0.2},\"type\":\"scatter\"}],\"scatterternary\":[{\"marker\":{\"colorbar\":{\"outlinewidth\":0,\"ticks\":\"\"}},\"type\":\"scatterternary\"}],\"surface\":[{\"colorbar\":{\"outlinewidth\":0,\"ticks\":\"\"},\"colorscale\":[[0.0,\"#0d0887\"],[0.1111111111111111,\"#46039f\"],[0.2222222222222222,\"#7201a8\"],[0.3333333333333333,\"#9c179e\"],[0.4444444444444444,\"#bd3786\"],[0.5555555555555556,\"#d8576b\"],[0.6666666666666666,\"#ed7953\"],[0.7777777777777778,\"#fb9f3a\"],[0.8888888888888888,\"#fdca26\"],[1.0,\"#f0f921\"]],\"type\":\"surface\"}],\"table\":[{\"cells\":{\"fill\":{\"color\":\"#EBF0F8\"},\"line\":{\"color\":\"white\"}},\"header\":{\"fill\":{\"color\":\"#C8D4E3\"},\"line\":{\"color\":\"white\"}},\"type\":\"table\"}]},\"layout\":{\"annotationdefaults\":{\"arrowcolor\":\"#2a3f5f\",\"arrowhead\":0,\"arrowwidth\":1},\"autotypenumbers\":\"strict\",\"coloraxis\":{\"colorbar\":{\"outlinewidth\":0,\"ticks\":\"\"}},\"colorscale\":{\"diverging\":[[0,\"#8e0152\"],[0.1,\"#c51b7d\"],[0.2,\"#de77ae\"],[0.3,\"#f1b6da\"],[0.4,\"#fde0ef\"],[0.5,\"#f7f7f7\"],[0.6,\"#e6f5d0\"],[0.7,\"#b8e186\"],[0.8,\"#7fbc41\"],[0.9,\"#4d9221\"],[1,\"#276419\"]],\"sequential\":[[0.0,\"#0d0887\"],[0.1111111111111111,\"#46039f\"],[0.2222222222222222,\"#7201a8\"],[0.3333333333333333,\"#9c179e\"],[0.4444444444444444,\"#bd3786\"],[0.5555555555555556,\"#d8576b\"],[0.6666666666666666,\"#ed7953\"],[0.7777777777777778,\"#fb9f3a\"],[0.8888888888888888,\"#fdca26\"],[1.0,\"#f0f921\"]],\"sequentialminus\":[[0.0,\"#0d0887\"],[0.1111111111111111,\"#46039f\"],[0.2222222222222222,\"#7201a8\"],[0.3333333333333333,\"#9c179e\"],[0.4444444444444444,\"#bd3786\"],[0.5555555555555556,\"#d8576b\"],[0.6666666666666666,\"#ed7953\"],[0.7777777777777778,\"#fb9f3a\"],[0.8888888888888888,\"#fdca26\"],[1.0,\"#f0f921\"]]},\"colorway\":[\"#636efa\",\"#EF553B\",\"#00cc96\",\"#ab63fa\",\"#FFA15A\",\"#19d3f3\",\"#FF6692\",\"#B6E880\",\"#FF97FF\",\"#FECB52\"],\"font\":{\"color\":\"#2a3f5f\"},\"geo\":{\"bgcolor\":\"white\",\"lakecolor\":\"white\",\"landcolor\":\"#E5ECF6\",\"showlakes\":true,\"showland\":true,\"subunitcolor\":\"white\"},\"hoverlabel\":{\"align\":\"left\"},\"hovermode\":\"closest\",\"mapbox\":{\"style\":\"light\"},\"paper_bgcolor\":\"white\",\"plot_bgcolor\":\"#E5ECF6\",\"polar\":{\"angularaxis\":{\"gridcolor\":\"white\",\"linecolor\":\"white\",\"ticks\":\"\"},\"bgcolor\":\"#E5ECF6\",\"radialaxis\":{\"gridcolor\":\"white\",\"linecolor\":\"white\",\"ticks\":\"\"}},\"scene\":{\"xaxis\":{\"backgroundcolor\":\"#E5ECF6\",\"gridcolor\":\"white\",\"gridwidth\":2,\"linecolor\":\"white\",\"showbackground\":true,\"ticks\":\"\",\"zerolinecolor\":\"white\"},\"yaxis\":{\"backgroundcolor\":\"#E5ECF6\",\"gridcolor\":\"white\",\"gridwidth\":2,\"linecolor\":\"white\",\"showbackground\":true,\"ticks\":\"\",\"zerolinecolor\":\"white\"},\"zaxis\":{\"backgroundcolor\":\"#E5ECF6\",\"gridcolor\":\"white\",\"gridwidth\":2,\"linecolor\":\"white\",\"showbackground\":true,\"ticks\":\"\",\"zerolinecolor\":\"white\"}},\"shapedefaults\":{\"line\":{\"color\":\"#2a3f5f\"}},\"ternary\":{\"aaxis\":{\"gridcolor\":\"white\",\"linecolor\":\"white\",\"ticks\":\"\"},\"baxis\":{\"gridcolor\":\"white\",\"linecolor\":\"white\",\"ticks\":\"\"},\"bgcolor\":\"#E5ECF6\",\"caxis\":{\"gridcolor\":\"white\",\"linecolor\":\"white\",\"ticks\":\"\"}},\"title\":{\"x\":0.05},\"xaxis\":{\"automargin\":true,\"gridcolor\":\"white\",\"linecolor\":\"white\",\"ticks\":\"\",\"title\":{\"standoff\":15},\"zerolinecolor\":\"white\",\"zerolinewidth\":2},\"yaxis\":{\"automargin\":true,\"gridcolor\":\"white\",\"linecolor\":\"white\",\"ticks\":\"\",\"title\":{\"standoff\":15},\"zerolinecolor\":\"white\",\"zerolinewidth\":2}}},\"title\":{\"text\":\"Number of athlets per sport (Winter Olympics)\"},\"width\":800},                        {\"responsive\": true}                    ).then(function(){\n",
       "                            \n",
       "var gd = document.getElementById('41875bf0-a102-454a-85c4-807817432726');\n",
       "var x = new MutationObserver(function (mutations, observer) {{\n",
       "        var display = window.getComputedStyle(gd).display;\n",
       "        if (!display || display === 'none') {{\n",
       "            console.log([gd, 'removed!']);\n",
       "            Plotly.purge(gd);\n",
       "            observer.disconnect();\n",
       "        }}\n",
       "}});\n",
       "\n",
       "// Listen for the removal of the full notebook cells\n",
       "var notebookContainer = gd.closest('#notebook-container');\n",
       "if (notebookContainer) {{\n",
       "    x.observe(notebookContainer, {childList: true});\n",
       "}}\n",
       "\n",
       "// Listen for the clearing of the current output cell\n",
       "var outputEl = gd.closest('.output');\n",
       "if (outputEl) {{\n",
       "    x.observe(outputEl, {childList: true});\n",
       "}}\n",
       "\n",
       "                        })                };                });            </script>        </div>"
      ]
     },
     "metadata": {},
     "output_type": "display_data"
    }
   ],
   "source": [
    "df_S = df[df['Season']=='Winter']\n",
    "\n",
    "trace = go.Pie(labels=df_S['Sport'], \n",
    "               values=df_S['Athlets'],\n",
    "               hoverinfo='label+value+percent', \n",
    "               textinfo='value+percent', \n",
    "               textfont=dict(size=8),\n",
    "               rotation=180,\n",
    "               marker=dict(colors=colors, \n",
    "\n",
    "                           line=dict(color='#000000', width=1)\n",
    "                        )\n",
    "            )\n",
    "\n",
    "data = [trace]\n",
    "layout = dict(title = \"Number of athlets per sport (Winter Olympics)\",\n",
    "                  width=800,\n",
    "                  height=800,\n",
    "              legend=dict(orientation=\"h\")\n",
    "             )\n",
    "fig = dict(data=data,layout=layout)\n",
    "iplot(fig, filename='styled_pie_chart')"
   ]
  }
 ],
 "metadata": {
  "kernelspec": {
   "display_name": "Python 3",
   "language": "python",
   "name": "python3"
  },
  "language_info": {
   "codemirror_mode": {
    "name": "ipython",
    "version": 3
   },
   "file_extension": ".py",
   "mimetype": "text/x-python",
   "name": "python",
   "nbconvert_exporter": "python",
   "pygments_lexer": "ipython3",
   "version": "3.7.12"
  },
  "papermill": {
   "default_parameters": {},
   "duration": 28.251617,
   "end_time": "2022-07-27T20:00:50.662284",
   "environment_variables": {},
   "exception": null,
   "input_path": "__notebook__.ipynb",
   "output_path": "__notebook__.ipynb",
   "parameters": {},
   "start_time": "2022-07-27T20:00:22.410667",
   "version": "2.3.4"
  }
 },
 "nbformat": 4,
 "nbformat_minor": 5
}
